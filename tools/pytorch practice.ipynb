{
 "nbformat": 4,
 "nbformat_minor": 2,
 "metadata": {
  "language_info": {
   "name": "python",
   "codemirror_mode": {
    "name": "ipython",
    "version": 3
   },
   "version": "3.6.8-final"
  },
  "orig_nbformat": 2,
  "file_extension": ".py",
  "mimetype": "text/x-python",
  "name": "python",
  "npconvert_exporter": "python",
  "pygments_lexer": "ipython3",
  "version": 3,
  "kernelspec": {
   "name": "python36864bitpy368venv9eae5ffd70f44f51af3a8f637c7407e2",
   "display_name": "Python 3.6.8 64-bit ('py368': venv)"
  }
 },
 "cells": [
  {
   "cell_type": "code",
   "execution_count": 1,
   "metadata": {},
   "outputs": [],
   "source": [
    "import torch\n",
    "import numpy as np\n",
    "from torch.utils.data import Dataset, DataLoader"
   ]
  },
  {
   "cell_type": "code",
   "execution_count": 2,
   "metadata": {},
   "outputs": [],
   "source": [
    "a = torch.rand(2,4,4)\n",
    "# b = torch.rand(2,2,4,4) > 0.5"
   ]
  },
  {
   "cell_type": "code",
   "execution_count": 3,
   "metadata": {},
   "outputs": [
    {
     "output_type": "execute_result",
     "data": {
      "text/plain": "tensor([[[0.7281, 0.7909, 0.8052, 0.9188],\n         [0.0606, 0.4196, 0.0089, 0.5359],\n         [0.2041, 0.3942, 0.2314, 0.1017],\n         [0.0561, 0.8041, 0.8837, 0.4237]],\n\n        [[0.7281, 0.7909, 0.8052, 0.9188],\n         [0.0606, 0.4196, 0.0089, 0.5359],\n         [0.2041, 0.3942, 0.2314, 0.1017],\n         [0.0561, 0.8041, 0.8837, 0.4237]]])"
     },
     "metadata": {},
     "execution_count": 3
    }
   ],
   "source": [
    "a[[0,0]]"
   ]
  },
  {
   "cell_type": "code",
   "execution_count": 22,
   "metadata": {},
   "outputs": [
    {
     "output_type": "execute_result",
     "data": {
      "text/plain": "torch.Size([4, 4])"
     },
     "metadata": {},
     "execution_count": 22
    }
   ],
   "source": [
    "a.max(0)[0].shape"
   ]
  },
  {
   "cell_type": "code",
   "execution_count": 7,
   "metadata": {},
   "outputs": [
    {
     "output_type": "execute_result",
     "data": {
      "text/plain": "tensor([0., 0., 0., 0., 0.])"
     },
     "metadata": {},
     "execution_count": 7
    }
   ],
   "source": [
    "torch.FloatTensor(5)"
   ]
  },
  {
   "cell_type": "code",
   "execution_count": 4,
   "metadata": {},
   "outputs": [],
   "source": [
    "class TestDataset(Dataset):\n",
    "\n",
    "    def __getitem__(self, index):\n",
    "        a = {}\n",
    "        a['inp'] = np.random.randint(0, 10, 1)\n",
    "        a['label'] = np.random.randint(0, 10, np.random.randint(0, 10, 1))\n",
    "        return a\n",
    "    \n",
    "    def __len__(self):\n",
    "        return 10\n",
    "    \n",
    "def collate_bn(batch):\n",
    "    inps = []\n",
    "    labels = []\n",
    "    for b in batch:\n",
    "        inps.append(b['inp'])\n",
    "        labels.append(b['label'])\n",
    "    inps = torch.stack(inps)\n",
    "    return inps, labels"
   ]
  }
 ]
}