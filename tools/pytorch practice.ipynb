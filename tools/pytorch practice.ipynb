{
 "nbformat": 4,
 "nbformat_minor": 2,
 "metadata": {
  "language_info": {
   "name": "python",
   "codemirror_mode": {
    "name": "ipython",
    "version": 3
   },
   "version": "3.7.6-final"
  },
  "orig_nbformat": 2,
  "file_extension": ".py",
  "mimetype": "text/x-python",
  "name": "python",
  "npconvert_exporter": "python",
  "pygments_lexer": "ipython3",
  "version": 3,
  "kernelspec": {
   "name": "python37664bitebfe11dd887248b89b6aa10862e146c6",
   "display_name": "Python 3.7.6 64-bit"
  }
 },
 "cells": [
  {
   "cell_type": "code",
   "execution_count": 3,
   "metadata": {},
   "outputs": [],
   "source": [
    "import torch\n",
    "import numpy as np\n",
    "from torch.utils.data import Dataset, DataLoader"
   ]
  },
  {
   "cell_type": "code",
   "execution_count": 4,
   "metadata": {},
   "outputs": [],
   "source": [
    "class TestDataset(Dataset):\n",
    "\n",
    "    def __getitem__(self, index):\n",
    "        a = {}\n",
    "        a['inp'] = np.random.randint(0, 10, 1)\n",
    "        a['label'] = np.random.randint(0, 10, np.random.randint(0, 10, 1))\n",
    "        return a\n",
    "    \n",
    "    def __len__(self):\n",
    "        return 10\n",
    "    \n",
    "def collate_bn(batch):\n",
    "    inps = []\n",
    "    labels = []\n",
    "    for b in batch:\n",
    "        inps.append(b['inp'])\n",
    "        labels.append(b['label'])\n",
    "    inps = torch.stack(inps)\n",
    "    return inps, labels"
   ]
  }
 ]
}