{
 "cells": [
  {
   "cell_type": "code",
   "execution_count": 62,
   "metadata": {},
   "outputs": [],
   "source": [
    "import cv2\n",
    "import xml.etree.ElementTree as ET\n",
    "import sys\n",
    "import os\n",
    "import re\n",
    "import os.path as osp\n",
    "from PIL import Image"
   ]
  },
  {
   "cell_type": "code",
   "execution_count": 110,
   "metadata": {},
   "outputs": [],
   "source": [
    "img_paths = [osp.join(root, f) for root, _, files in os.walk('/media/allen/mass/sogo/testing/JPEGImages/') \n",
    "                               for f in files if 'jpg' in f or 'png' in f]\n",
    "anno_paths = [osp.join(root, f) for root, _, files in os.walk('/media/allen/mass/sogo/testing/Annotations/') \n",
    "                               for f in files if 'xml' in f]"
   ]
  },
  {
   "cell_type": "code",
   "execution_count": 111,
   "metadata": {},
   "outputs": [],
   "source": [
    "bboxes = {}\n",
    "for path in img_paths:\n",
    "    filename = osp.basename(path)\n",
    "    anno = osp.splitext(filename)[0] + \".xml\"\n",
    "    anno = osp.join('/media/allen/mass/sogo/testing/Annotations/', anno)\n",
    "    tree = ET.parse(anno)\n",
    "    root = tree.getroot()\n",
    "    temp = []\n",
    "    for x in root.findall('object'):\n",
    "        bbox =x.find('bndbox')\n",
    "        x1 = int(bbox.find('xmin').text)\n",
    "        y1 = int(bbox.find('ymin').text)\n",
    "        x2 = int(bbox.find('xmax').text)\n",
    "        y2 = int(bbox.find('ymax').text)\n",
    "        temp.append((x1, y1, x2, y2))\n",
    "    bboxes[path] = temp"
   ]
  },
  {
   "cell_type": "code",
   "execution_count": 112,
   "metadata": {},
   "outputs": [
    {
     "ename": "FileExistsError",
     "evalue": "[Errno 17] File exists: '/media/allen/mass/reid/sogo/bounding_box_test'",
     "output_type": "error",
     "traceback": [
      "\u001b[0;31m---------------------------------------------------------------------------\u001b[0m",
      "\u001b[0;31mFileExistsError\u001b[0m                           Traceback (most recent call last)",
      "\u001b[0;32m<ipython-input-112-effcda2cda31>\u001b[0m in \u001b[0;36m<module>\u001b[0;34m\u001b[0m\n\u001b[0;32m----> 1\u001b[0;31m \u001b[0mos\u001b[0m\u001b[0;34m.\u001b[0m\u001b[0mmakedirs\u001b[0m\u001b[0;34m(\u001b[0m\u001b[0;34m'/media/allen/mass/reid/sogo/bounding_box_test'\u001b[0m\u001b[0;34m)\u001b[0m\u001b[0;34m\u001b[0m\u001b[0;34m\u001b[0m\u001b[0m\n\u001b[0m",
      "\u001b[0;32m~/.pyenv/versions/3.6.8/lib/python3.6/os.py\u001b[0m in \u001b[0;36mmakedirs\u001b[0;34m(name, mode, exist_ok)\u001b[0m\n\u001b[1;32m    218\u001b[0m             \u001b[0;32mreturn\u001b[0m\u001b[0;34m\u001b[0m\u001b[0;34m\u001b[0m\u001b[0m\n\u001b[1;32m    219\u001b[0m     \u001b[0;32mtry\u001b[0m\u001b[0;34m:\u001b[0m\u001b[0;34m\u001b[0m\u001b[0;34m\u001b[0m\u001b[0m\n\u001b[0;32m--> 220\u001b[0;31m         \u001b[0mmkdir\u001b[0m\u001b[0;34m(\u001b[0m\u001b[0mname\u001b[0m\u001b[0;34m,\u001b[0m \u001b[0mmode\u001b[0m\u001b[0;34m)\u001b[0m\u001b[0;34m\u001b[0m\u001b[0;34m\u001b[0m\u001b[0m\n\u001b[0m\u001b[1;32m    221\u001b[0m     \u001b[0;32mexcept\u001b[0m \u001b[0mOSError\u001b[0m\u001b[0;34m:\u001b[0m\u001b[0;34m\u001b[0m\u001b[0;34m\u001b[0m\u001b[0m\n\u001b[1;32m    222\u001b[0m         \u001b[0;31m# Cannot rely on checking for EEXIST, since the operating system\u001b[0m\u001b[0;34m\u001b[0m\u001b[0;34m\u001b[0m\u001b[0;34m\u001b[0m\u001b[0m\n",
      "\u001b[0;31mFileExistsError\u001b[0m: [Errno 17] File exists: '/media/allen/mass/reid/sogo/bounding_box_test'"
     ]
    }
   ],
   "source": [
    "os.makedirs('/media/allen/mass/reid/sogo/bounding_box_test')"
   ]
  },
  {
   "cell_type": "code",
   "execution_count": 96,
   "metadata": {},
   "outputs": [
    {
     "data": {
      "text/plain": [
       "('E1', '3750')"
      ]
     },
     "execution_count": 96,
     "metadata": {},
     "output_type": "execute_result"
    }
   ],
   "source": [
    "img_paths[0]\n",
    "pattern = re.compile(r'(\\w\\d)_[\\d]+-[\\d]+-[\\d]+_[\\w]+.mp4_(\\d+)_with')\n",
    "pattern.search(img_paths[0]).groups()"
   ]
  },
  {
   "cell_type": "code",
   "execution_count": 113,
   "metadata": {},
   "outputs": [],
   "source": [
    "cams = set()\n",
    "pattern = re.compile(r'(\\w\\d)_[\\d]+-[\\d]+-[\\d]+_[\\w]+.mp4_(\\d+)_with')\n",
    "for path in img_paths:\n",
    "    cam, _ = pattern.search(path).groups()\n",
    "    cams.add(cam)"
   ]
  },
  {
   "cell_type": "code",
   "execution_count": 114,
   "metadata": {},
   "outputs": [],
   "source": [
    "cams = {cam:idx for idx, cam in enumerate(sorted(list(cams)), 1)}"
   ]
  },
  {
   "cell_type": "code",
   "execution_count": 115,
   "metadata": {},
   "outputs": [
    {
     "data": {
      "text/plain": [
       "{'A1': 1,\n",
       " 'B2': 2,\n",
       " 'C3': 3,\n",
       " 'D4': 4,\n",
       " 'E1': 5,\n",
       " 'F2': 6,\n",
       " 'G3': 7,\n",
       " 'H4': 8,\n",
       " 'I5': 9}"
      ]
     },
     "execution_count": 115,
     "metadata": {},
     "output_type": "execute_result"
    }
   ],
   "source": [
    "cams"
   ]
  },
  {
   "cell_type": "code",
   "execution_count": 116,
   "metadata": {},
   "outputs": [],
   "source": [
    "pattern = re.compile(r'(\\w\\d)_[\\d]+-[\\d]+-[\\d]+_[\\w]+.mp4_(\\d+)_with')\n",
    "for path in bboxes.keys():\n",
    "    img = cv2.imread(path)\n",
    "    cam, timestamp = pattern.search(path).groups()\n",
    "    ext = osp.splitext(path)[-1]\n",
    "    for i, bbox in enumerate(bboxes[path], 1):\n",
    "        fname = \"9999_c{}s1_{}_{:02}{}\".format(cams[cam], timestamp, i, ext)\n",
    "        fname = osp.join('/media/allen/mass/reid/sogo/bounding_box_test', fname)\n",
    "        x1, y1, x2, y2 = bbox\n",
    "        img_crop = img[y1:y2, x1:x2, :]\n",
    "        cv2.imwrite(fname, img_crop)"
   ]
  },
  {
   "cell_type": "code",
   "execution_count": 101,
   "metadata": {},
   "outputs": [
    {
     "data": {
      "text/plain": [
       "'/media/allen/mass/reid/sogo/bounding_box_train/9999_cE1s1_3750_07.jpg'"
      ]
     },
     "execution_count": 101,
     "metadata": {},
     "output_type": "execute_result"
    }
   ],
   "source": [
    "fname"
   ]
  }
 ],
 "metadata": {
  "kernelspec": {
   "display_name": "Python 3",
   "language": "python",
   "name": "python3"
  },
  "language_info": {
   "codemirror_mode": {
    "name": "ipython",
    "version": 3
   },
   "file_extension": ".py",
   "mimetype": "text/x-python",
   "name": "python",
   "nbconvert_exporter": "python",
   "pygments_lexer": "ipython3",
   "version": "3.6.8"
  }
 },
 "nbformat": 4,
 "nbformat_minor": 2
}
