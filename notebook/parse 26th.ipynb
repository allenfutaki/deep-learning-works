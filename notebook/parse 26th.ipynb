{
 "cells": [
  {
   "cell_type": "code",
   "execution_count": 59,
   "metadata": {},
   "outputs": [],
   "source": [
    "import os, sys\n",
    "import os.path as osp\n",
    "import shutil\n",
    "import re\n",
    "import cv2\n",
    "from collections import defaultdict\n",
    "import numpy as np"
   ]
  },
  {
   "cell_type": "code",
   "execution_count": 60,
   "metadata": {},
   "outputs": [],
   "source": [
    "img_paths = sorted([osp.join(root, f) for root, _, files in os.walk('/home/allen/26th_people/') \n",
    "                               for f in files if 'jpg' in f or 'png' in f])"
   ]
  },
  {
   "cell_type": "code",
   "execution_count": 62,
   "metadata": {},
   "outputs": [],
   "source": [
    "dets = defaultdict(list)\n",
    "with open('/home/allen/26th_floor_gt_det_bodybbox.txt', 'r') as f:\n",
    "    for line in f.readlines():\n",
    "        f, pid, x1, y1, x2, y2 = line.strip().split(\",\")\n",
    "        dets[f].append((int(pid), (int(x1), int(y1), int(x2), int(y2))))"
   ]
  },
  {
   "cell_type": "code",
   "execution_count": 57,
   "metadata": {},
   "outputs": [],
   "source": [
    "os.makedirs('/media/allen/mass/reid/26th/bounding_box_test')"
   ]
  },
  {
   "cell_type": "code",
   "execution_count": 58,
   "metadata": {},
   "outputs": [],
   "source": [
    "path = img_paths[0]\n",
    "for i, path in enumerate(img_paths):\n",
    "    img = cv2.imread(path)\n",
    "    h, w = img.shape[:2]\n",
    "    path = osp.basename(path)\n",
    "    path, ext = osp.splitext(path)\n",
    "    for j, det in enumerate(dets[path]):\n",
    "        pid, bbox = det\n",
    "        x1, y1, x2, y2 = bbox\n",
    "        x1 = 0 if x1 < 0 else x1\n",
    "        y1 = 0 if y1 < 0 else y1\n",
    "        x2 = w if x2 > w else x2\n",
    "        y2 = h if y2 > h else y2\n",
    "        crop_img = img[y1:y2, x1:x2, :]\n",
    "        fname = \"{:03}_c{}s1_{:06}_{:02}{}\".format(pid, i, int(path), j, ext)\n",
    "        fname = osp.join('/media/allen/mass/reid/26th/bounding_box_test', fname)\n",
    "        \n",
    "        cv2.imwrite(fname, crop_img)\n"
   ]
  },
  {
   "cell_type": "code",
   "execution_count": 39,
   "metadata": {},
   "outputs": [
    {
     "data": {
      "text/plain": [
       "0"
      ]
     },
     "execution_count": 39,
     "metadata": {},
     "output_type": "execute_result"
    }
   ],
   "source": [
    "np.min((0, 839))"
   ]
  },
  {
   "cell_type": "code",
   "execution_count": 54,
   "metadata": {},
   "outputs": [
    {
     "data": {
      "text/plain": [
       "(0, 0, 3)"
      ]
     },
     "execution_count": 54,
     "metadata": {},
     "output_type": "execute_result"
    }
   ],
   "source": [
    "img.shape"
   ]
  },
  {
   "cell_type": "code",
   "execution_count": 33,
   "metadata": {},
   "outputs": [
    {
     "data": {
      "text/plain": [
       "'001_C1S1_000001_05.JPG'"
      ]
     },
     "execution_count": 33,
     "metadata": {},
     "output_type": "execute_result"
    }
   ],
   "source": [
    "\"{:03}_c1s1_{:06}_{:02}{}\".format(1, 1, j, ext).upper()"
   ]
  }
 ],
 "metadata": {
  "kernelspec": {
   "display_name": "Python 3",
   "language": "python",
   "name": "python3"
  },
  "language_info": {
   "codemirror_mode": {
    "name": "ipython",
    "version": 3
   },
   "file_extension": ".py",
   "mimetype": "text/x-python",
   "name": "python",
   "nbconvert_exporter": "python",
   "pygments_lexer": "ipython3",
   "version": "3.6.8"
  }
 },
 "nbformat": 4,
 "nbformat_minor": 2
}
