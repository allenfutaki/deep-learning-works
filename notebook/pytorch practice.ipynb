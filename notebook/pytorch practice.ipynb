{
 "cells": [
  {
   "cell_type": "markdown",
   "metadata": {},
   "source": [
    "# practice"
   ]
  },
  {
   "cell_type": "markdown",
   "metadata": {},
   "source": [
    "### torch"
   ]
  },
  {
   "cell_type": "code",
   "execution_count": 2,
   "metadata": {},
   "outputs": [],
   "source": [
    "import sys\n",
    "sys.path.insert(0, '/media/allen/mass/deep-learning-works/')\n",
    "import os\n",
    "import os.path as osp\n",
    "import numpy as np\n",
    "\n",
    "import torch\n",
    "import torch.nn as nn\n",
    "import torch.nn.functional as F\n",
    "\n",
    "import cv2\n",
    "from PIL import Image \n",
    "\n",
    "def to_pil(cv_img):\n",
    "    img = cv2.cvtColor(cv_img, cv2.COLOR_BGR2RGB)\n",
    "    return Image.fromarray(img)\n"
   ]
  },
  {
   "cell_type": "code",
   "execution_count": 6,
   "metadata": {},
   "outputs": [],
   "source": [
    "a = torch.rand(1,3,4,4)\n",
    "model = nn.ConvTranspose2d(3,3, kernel_size=4, stride=2, padding=1)"
   ]
  },
  {
   "cell_type": "code",
   "execution_count": 1,
   "metadata": {},
   "outputs": [],
   "source": [
    "import os"
   ]
  },
  {
   "cell_type": "code",
   "execution_count": 22,
   "metadata": {},
   "outputs": [],
   "source": [
    "n_folders = len([f for f in os.scandir(\"../result/cifar10/\") if f.is_dir()])"
   ]
  },
  {
   "cell_type": "code",
   "execution_count": 3,
   "metadata": {},
   "outputs": [],
   "source": [
    "from src.factory.config_factory import _C as cfg, build_output"
   ]
  },
  {
   "cell_type": "code",
   "execution_count": 4,
   "metadata": {},
   "outputs": [],
   "source": [
    "os.chdir(\"../\")"
   ]
  },
  {
   "cell_type": "code",
   "execution_count": 5,
   "metadata": {},
   "outputs": [],
   "source": [
    "build_output(cfg)"
   ]
  },
  {
   "cell_type": "code",
   "execution_count": 24,
   "metadata": {},
   "outputs": [
    {
     "name": "stdout",
     "output_type": "stream",
     "text": [
      "../result/cifar10/[OSNet]_[cifar10]_[augmix_ce]_[SGDW_nesterov]_[cosine_0.02_noRestart]_[scratch]\n",
      "../result/cifar10/[OSNet]_[cifar10]_[augmix_aux_ce_]_[SGDW_nesterov]_[cosine_0.02_noRestart]_[scratch]\n",
      "../result/cifar10/[OSNet]_[cifar10]_[augmix_ce]_[SGDW_nesterov]_[cosine_tune_result]_[scratch]\n",
      "../result/cifar10/[OSNet]_[cifar10]_[augmix_ce]_[SGDW]_[cosine_lr_0.1_period_15]_[resume_0.9436]\n",
      "../result/cifar10/[OSNet]_[cifar10]_[ce]_[SGD]_[cosine_lr_0.2]_[scratch]\n",
      "../result/cifar10/[OSNet]_[cifar10]_[augmix_ce]_[SGD]_[cosine_lr_0.1_period_15]_[scratch]\n",
      "../result/cifar10/[OSNet]_[cifar10]_[augmix_ce]_[SGD]_[cosine_lr_0.1]_[scratch]\n",
      "../result/cifar10/[OSNet]_[cifar10]_[augmix_ce]_[SGD]_[cosine_lr_0.0001]_[resume_0.94]\n",
      "../result/cifar10/[OSNet]_[cifar10]_[ce]_[SGD]_[cosine_lr_0.1]_[scratch]\n",
      "../result/cifar10/[ResNet]_[cifar10]_[ce]_[SGD]_[cosine_lr_0.1]_[scratch]\n"
     ]
    }
   ],
   "source": [
    "for f in os.scandir(\"../result/cifar10/\"):\n",
    "    print(f.path)"
   ]
  },
  {
   "cell_type": "code",
   "execution_count": 2,
   "metadata": {},
   "outputs": [],
   "source": [
    "model = nn.BatchNorm2d(2)"
   ]
  },
  {
   "cell_type": "code",
   "execution_count": 3,
   "metadata": {},
   "outputs": [],
   "source": [
    "a = torch.rand(1,2,2,2)"
   ]
  },
  {
   "cell_type": "code",
   "execution_count": 23,
   "metadata": {},
   "outputs": [
    {
     "name": "stdout",
     "output_type": "stream",
     "text": [
      "tensor([0.4240, 0.3544])\n",
      "tensor([0.3137, 0.2147])\n"
     ]
    }
   ],
   "source": [
    "model.train()\n",
    "model(a)\n",
    "print(model.running_mean)\n",
    "print(model.running_var)"
   ]
  },
  {
   "cell_type": "code",
   "execution_count": 24,
   "metadata": {},
   "outputs": [
    {
     "data": {
      "text/plain": [
       "OrderedDict([('weight', tensor([1., 1.])),\n",
       "             ('bias', tensor([0., 0.])),\n",
       "             ('running_mean', tensor([0.4240, 0.3544])),\n",
       "             ('running_var', tensor([0.3137, 0.2147])),\n",
       "             ('num_batches_tracked', tensor(15))])"
      ]
     },
     "execution_count": 24,
     "metadata": {},
     "output_type": "execute_result"
    }
   ],
   "source": [
    "model.state_dict()"
   ]
  },
  {
   "cell_type": "code",
   "execution_count": 27,
   "metadata": {},
   "outputs": [
    {
     "name": "stdout",
     "output_type": "stream",
     "text": [
      "tensor([0.4240, 0.3544])\n",
      "tensor([0.3137, 0.2147])\n"
     ]
    }
   ],
   "source": [
    "model.eval()\n",
    "print(model.running_mean)\n",
    "print(model.running_var)"
   ]
  },
  {
   "cell_type": "code",
   "execution_count": 28,
   "metadata": {},
   "outputs": [
    {
     "data": {
      "text/plain": [
       "OrderedDict([('weight', tensor([1., 1.])),\n",
       "             ('bias', tensor([0., 0.])),\n",
       "             ('running_mean', tensor([0.4240, 0.3544])),\n",
       "             ('running_var', tensor([0.3137, 0.2147])),\n",
       "             ('num_batches_tracked', tensor(15))])"
      ]
     },
     "execution_count": 28,
     "metadata": {},
     "output_type": "execute_result"
    }
   ],
   "source": [
    "model.state_dict()"
   ]
  }
 ],
 "metadata": {
  "kernelspec": {
   "display_name": "Python 3",
   "language": "python",
   "name": "python3"
  },
  "language_info": {
   "codemirror_mode": {
    "name": "ipython",
    "version": 3
   },
   "file_extension": ".py",
   "mimetype": "text/x-python",
   "name": "python",
   "nbconvert_exporter": "python",
   "pygments_lexer": "ipython3",
   "version": "3.6.8"
  }
 },
 "nbformat": 4,
 "nbformat_minor": 2
}
