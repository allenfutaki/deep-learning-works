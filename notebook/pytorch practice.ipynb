{
 "cells": [
  {
   "cell_type": "markdown",
   "metadata": {},
   "source": [
    "# practice"
   ]
  },
  {
   "cell_type": "markdown",
   "metadata": {},
   "source": [
    "### torch"
   ]
  },
  {
   "cell_type": "code",
   "execution_count": 1,
   "metadata": {},
   "outputs": [],
   "source": [
    "import sys\n",
    "sys.path.insert(0, '/media/allen/mass/deep-learning-works/')\n",
    "import os.path as osp\n",
    "import numpy as np\n",
    "\n",
    "import torch\n",
    "import torch.nn as nn\n",
    "import torch.nn.functional as F\n",
    "\n",
    "import cv2\n",
    "from PIL import Image \n",
    "\n",
    "def to_pil(cv_img):\n",
    "    img = cv2.cvtColor(cv_img, cv2.COLOR_BGR2RGB)\n",
    "    return Image.fromarray(img)\n"
   ]
  },
  {
   "cell_type": "code",
   "execution_count": 160,
   "metadata": {},
   "outputs": [],
   "source": [
    "a = torch.zeros(5)"
   ]
  },
  {
   "cell_type": "code",
   "execution_count": 161,
   "metadata": {},
   "outputs": [],
   "source": [
    "a[:2] = 1"
   ]
  },
  {
   "cell_type": "code",
   "execution_count": 162,
   "metadata": {},
   "outputs": [
    {
     "data": {
      "text/plain": [
       "tensor([1., 1., 0., 0., 0.])"
      ]
     },
     "execution_count": 162,
     "metadata": {},
     "output_type": "execute_result"
    }
   ],
   "source": [
    "a"
   ]
  },
  {
   "cell_type": "code",
   "execution_count": 166,
   "metadata": {},
   "outputs": [],
   "source": [
    "b = torch.rand(2,5,3,3)"
   ]
  },
  {
   "cell_type": "code",
   "execution_count": 167,
   "metadata": {},
   "outputs": [
    {
     "data": {
      "text/plain": [
       "tensor([[[[0.6503, 0.6152, 0.4890],\n",
       "          [0.1189, 0.2309, 0.0899],\n",
       "          [0.3494, 0.7865, 0.1823]],\n",
       "\n",
       "         [[0.4616, 0.1415, 0.5507],\n",
       "          [0.9596, 0.1763, 0.4888],\n",
       "          [0.1882, 0.6741, 0.8927]],\n",
       "\n",
       "         [[0.9268, 0.1363, 0.5525],\n",
       "          [0.4181, 0.0297, 0.0133],\n",
       "          [0.4920, 0.5906, 0.6938]],\n",
       "\n",
       "         [[0.1990, 0.3720, 0.4805],\n",
       "          [0.6621, 0.3741, 0.0948],\n",
       "          [0.0486, 0.3189, 0.4798]],\n",
       "\n",
       "         [[0.4911, 0.7329, 0.4378],\n",
       "          [0.2039, 0.1529, 0.1911],\n",
       "          [0.5809, 0.4505, 0.8809]]],\n",
       "\n",
       "\n",
       "        [[[0.1419, 0.2710, 0.2101],\n",
       "          [0.4964, 0.1999, 0.6706],\n",
       "          [0.7238, 0.7500, 0.2556]],\n",
       "\n",
       "         [[0.1978, 0.3311, 0.0759],\n",
       "          [0.5856, 0.0893, 0.7760],\n",
       "          [0.9430, 0.9755, 0.5500]],\n",
       "\n",
       "         [[0.5911, 0.3892, 0.0068],\n",
       "          [0.2641, 0.5770, 0.6128],\n",
       "          [0.3581, 0.0309, 0.0222]],\n",
       "\n",
       "         [[0.4907, 0.1947, 0.5099],\n",
       "          [0.4262, 0.5634, 0.9962],\n",
       "          [0.5116, 0.3693, 0.0088]],\n",
       "\n",
       "         [[0.5114, 0.0632, 0.4761],\n",
       "          [0.3755, 0.8328, 0.4356],\n",
       "          [0.8160, 0.5207, 0.2337]]]])"
      ]
     },
     "execution_count": 167,
     "metadata": {},
     "output_type": "execute_result"
    }
   ],
   "source": [
    "b"
   ]
  },
  {
   "cell_type": "code",
   "execution_count": 168,
   "metadata": {},
   "outputs": [
    {
     "data": {
      "text/plain": [
       "tensor([[[[0.6503, 0.6152, 0.4890],\n",
       "          [0.1189, 0.2309, 0.0899],\n",
       "          [0.3494, 0.7865, 0.1823]],\n",
       "\n",
       "         [[0.4616, 0.1415, 0.5507],\n",
       "          [0.9596, 0.1763, 0.4888],\n",
       "          [0.1882, 0.6741, 0.8927]],\n",
       "\n",
       "         [[0.0000, 0.0000, 0.0000],\n",
       "          [0.0000, 0.0000, 0.0000],\n",
       "          [0.0000, 0.0000, 0.0000]],\n",
       "\n",
       "         [[0.0000, 0.0000, 0.0000],\n",
       "          [0.0000, 0.0000, 0.0000],\n",
       "          [0.0000, 0.0000, 0.0000]],\n",
       "\n",
       "         [[0.0000, 0.0000, 0.0000],\n",
       "          [0.0000, 0.0000, 0.0000],\n",
       "          [0.0000, 0.0000, 0.0000]]],\n",
       "\n",
       "\n",
       "        [[[0.1419, 0.2710, 0.2101],\n",
       "          [0.4964, 0.1999, 0.6706],\n",
       "          [0.7238, 0.7500, 0.2556]],\n",
       "\n",
       "         [[0.1978, 0.3311, 0.0759],\n",
       "          [0.5856, 0.0893, 0.7760],\n",
       "          [0.9430, 0.9755, 0.5500]],\n",
       "\n",
       "         [[0.0000, 0.0000, 0.0000],\n",
       "          [0.0000, 0.0000, 0.0000],\n",
       "          [0.0000, 0.0000, 0.0000]],\n",
       "\n",
       "         [[0.0000, 0.0000, 0.0000],\n",
       "          [0.0000, 0.0000, 0.0000],\n",
       "          [0.0000, 0.0000, 0.0000]],\n",
       "\n",
       "         [[0.0000, 0.0000, 0.0000],\n",
       "          [0.0000, 0.0000, 0.0000],\n",
       "          [0.0000, 0.0000, 0.0000]]]])"
      ]
     },
     "execution_count": 168,
     "metadata": {},
     "output_type": "execute_result"
    }
   ],
   "source": [
    "a.view(1,5,1,1).expand_as(b) * b"
   ]
  },
  {
   "cell_type": "code",
   "execution_count": 20,
   "metadata": {},
   "outputs": [],
   "source": [
    "bn = nn.BatchNorm2d(3, affine=False)"
   ]
  },
  {
   "cell_type": "code",
   "execution_count": 21,
   "metadata": {},
   "outputs": [],
   "source": [
    "a = torch.rand(1,3,4,4)"
   ]
  },
  {
   "cell_type": "code",
   "execution_count": 48,
   "metadata": {},
   "outputs": [
    {
     "data": {
      "text/plain": [
       "tensor([[0.4481, 0.4975, 0.5667]])"
      ]
     },
     "execution_count": 48,
     "metadata": {},
     "output_type": "execute_result"
    }
   ],
   "source": [
    "a.view(1,3,-1).mean(dim=2)"
   ]
  },
  {
   "cell_type": "code",
   "execution_count": 85,
   "metadata": {},
   "outputs": [
    {
     "name": "stdout",
     "output_type": "stream",
     "text": [
      "tensor([0.4470, 0.4963, 0.5653])\n",
      "tensor([0.0669, 0.1172, 0.0811])\n",
      "tensor([0.4471, 0.4964, 0.5654])\n",
      "tensor([0.0667, 0.1170, 0.0809])\n"
     ]
    }
   ],
   "source": [
    "print(bn.running_mean)\n",
    "print(bn.running_var)\n",
    "_ = bn(a)\n",
    "print(bn.running_mean)\n",
    "print(bn.running_var)"
   ]
  },
  {
   "cell_type": "code",
   "execution_count": 119,
   "metadata": {},
   "outputs": [],
   "source": [
    "class Conv(nn.Module):\n",
    "    def __init__(self, inc, ouc):\n",
    "        super(Conv, self).__init__()\n",
    "        self.conv = nn.Conv2d(inc, ouc, kernel_size=3, stride=1, padding=1)\n",
    "    def forward(self, x, *args, **kwargs):\n",
    "        return self.conv(x)\n",
    "\n",
    "class ChannelSelector(nn.Module):\n",
    "    \"\"\"\n",
    "    Random channel # selection\n",
    "    \"\"\"\n",
    "    def __init__(self, channel_number):\n",
    "        super(ChannelSelector, self).__init__()\n",
    "        self.channel_number = channel_number\n",
    "\n",
    "    def forward(self, x, block_channel_mask=None, **kwargs):\n",
    "        assert block_channel_mask is not None\n",
    "        assert block_channel_mask.dim() == 2\n",
    "        assert block_channel_mask.size(1) == x.size(1)\n",
    "        n, c = block_channel_mask.shape\n",
    "        block_channel_mask = block_channel_mask.view(n, c, 1, 1)\n",
    "        return x * block_channel_mask.expand_as(x)\n",
    "\n",
    "class test(nn.Module):\n",
    "    def __init__(self, inc, ouc):\n",
    "        super(test, self).__init__()   \n",
    "        self.feat = nn.ModuleList([\n",
    "            Conv(inc, ouc),\n",
    "            ChannelSelector(ouc)\n",
    "        ])\n",
    "    def forward(self, x, block_channel_mask):\n",
    "        for m in self.feat:\n",
    "            if isinstance(m, ChannelSelector):\n",
    "                x = m(x, block_channel_mask)\n",
    "            else:\n",
    "                x = m(x)        \n",
    "        return x\n",
    "    \n",
    "model = test(3, 6)"
   ]
  },
  {
   "cell_type": "code",
   "execution_count": 122,
   "metadata": {},
   "outputs": [],
   "source": [
    "import random"
   ]
  },
  {
   "cell_type": "code",
   "execution_count": 174,
   "metadata": {},
   "outputs": [],
   "source": [
    "upper_flops = 100\n",
    "bottom_flops = 50\n",
    "flops_cuts = 7\n",
    "flops_interval = (upper_flops - bottom_flops) / flops_cuts\n",
    "  \n",
    "flops_ranges = [max(upper_flops - i * flops_interval, 0) for i in range(flops_cuts)] + \\\n",
    "                    [max(upper_flops - i * flops_interval, 0) for i in range(flops_cuts)][::-1]"
   ]
  },
  {
   "cell_type": "code",
   "execution_count": 176,
   "metadata": {},
   "outputs": [],
   "source": [
    "children_size = 10\n",
    "children_pick_interval = 3\n",
    "children_pick_ids = list(range(0, children_size, children_pick_interval)) + \\\n",
    "                         list(reversed(range(0, children_size, children_pick_interval)))"
   ]
  },
  {
   "cell_type": "code",
   "execution_count": 178,
   "metadata": {},
   "outputs": [
    {
     "data": {
      "text/plain": [
       "[6, 6, 6, 9, 9, 6, 6, 6]"
      ]
     },
     "execution_count": 178,
     "metadata": {},
     "output_type": "execute_result"
    }
   ],
   "source": [
    "[6 if idx == 0 or idx == 3 else idx for idx in children_pick_ids]"
   ]
  },
  {
   "cell_type": "code",
   "execution_count": 175,
   "metadata": {},
   "outputs": [
    {
     "data": {
      "text/plain": [
       "[100.0,\n",
       " 92.85714285714286,\n",
       " 85.71428571428571,\n",
       " 78.57142857142857,\n",
       " 71.42857142857143,\n",
       " 64.28571428571428,\n",
       " 57.14285714285714,\n",
       " 57.14285714285714,\n",
       " 64.28571428571428,\n",
       " 71.42857142857143,\n",
       " 78.57142857142857,\n",
       " 85.71428571428571,\n",
       " 92.85714285714286,\n",
       " 100.0]"
      ]
     },
     "execution_count": 175,
     "metadata": {},
     "output_type": "execute_result"
    }
   ],
   "source": [
    "flops_ranges"
   ]
  },
  {
   "cell_type": "code",
   "execution_count": 181,
   "metadata": {},
   "outputs": [],
   "source": [
    "ddd = [Conv(3, 6), ChannelSelector(6)]\n",
    "model = nn.ModuleList(ddd)"
   ]
  },
  {
   "cell_type": "code",
   "execution_count": 180,
   "metadata": {},
   "outputs": [
    {
     "data": {
      "text/plain": [
       "ModuleList(\n",
       "  (0): Conv(\n",
       "    (conv): Conv2d(3, 6, kernel_size=(3, 3), stride=(1, 1), padding=(1, 1))\n",
       "  )\n",
       "  (1): ChannelSelector()\n",
       "  (2): Conv(\n",
       "    (conv): Conv2d(3, 6, kernel_size=(3, 3), stride=(1, 1), padding=(1, 1))\n",
       "  )\n",
       "  (3): ChannelSelector()\n",
       ")"
      ]
     },
     "execution_count": 180,
     "metadata": {},
     "output_type": "execute_result"
    }
   ],
   "source": [
    "model.extend([Conv(3, 6), ChannelSelector(6)])"
   ]
  },
  {
   "cell_type": "code",
   "execution_count": 113,
   "metadata": {},
   "outputs": [
    {
     "data": {
      "text/plain": [
       "Conv(\n",
       "  (conv): Conv2d(3, 6, kernel_size=(3, 3), stride=(1, 1), padding=(1, 1))\n",
       ")"
      ]
     },
     "execution_count": 113,
     "metadata": {},
     "output_type": "execute_result"
    }
   ],
   "source": [
    "model[0]"
   ]
  },
  {
   "cell_type": "code",
   "execution_count": 121,
   "metadata": {},
   "outputs": [
    {
     "data": {
      "text/plain": [
       "tensor([[[[ 0.0467,  0.1172,  0.1571,  0.1464],\n",
       "          [-0.1358,  0.1284,  0.0068,  0.5578],\n",
       "          [-0.0778,  0.1979,  0.0706,  0.3085],\n",
       "          [-0.1943, -0.3655,  0.0188, -0.0087]],\n",
       "\n",
       "         [[-0.1031, -0.1963, -0.3407, -0.3737],\n",
       "          [ 0.0419, -0.2389,  0.0441, -0.2988],\n",
       "          [ 0.0370, -0.0433, -0.3050, -0.2678],\n",
       "          [-0.3274, -0.3901, -0.2171, -0.3513]],\n",
       "\n",
       "         [[ 0.0000, -0.0000, -0.0000, -0.0000],\n",
       "          [ 0.0000,  0.0000, -0.0000, -0.0000],\n",
       "          [ 0.0000,  0.0000,  0.0000, -0.0000],\n",
       "          [ 0.0000, -0.0000, -0.0000, -0.0000]],\n",
       "\n",
       "         [[-0.0000, -0.0000, -0.0000, -0.0000],\n",
       "          [-0.0000, -0.0000, -0.0000, -0.0000],\n",
       "          [-0.0000, -0.0000, -0.0000, -0.0000],\n",
       "          [-0.0000, -0.0000, -0.0000, -0.0000]],\n",
       "\n",
       "         [[-0.0000, -0.0000, -0.0000,  0.0000],\n",
       "          [-0.0000,  0.0000,  0.0000,  0.0000],\n",
       "          [-0.0000, -0.0000, -0.0000,  0.0000],\n",
       "          [-0.0000,  0.0000,  0.0000,  0.0000]],\n",
       "\n",
       "         [[ 0.0000, -0.0000, -0.0000, -0.0000],\n",
       "          [ 0.0000, -0.0000, -0.0000, -0.0000],\n",
       "          [-0.0000, -0.0000, -0.0000, -0.0000],\n",
       "          [ 0.0000, -0.0000, -0.0000, -0.0000]]]], grad_fn=<MulBackward0>)"
      ]
     },
     "execution_count": 121,
     "metadata": {},
     "output_type": "execute_result"
    }
   ],
   "source": [
    "x = torch.rand(1,3,4,4)\n",
    "model(x, a)"
   ]
  }
 ],
 "metadata": {
  "kernelspec": {
   "display_name": "Python 3",
   "language": "python",
   "name": "python3"
  },
  "language_info": {
   "codemirror_mode": {
    "name": "ipython",
    "version": 3
   },
   "file_extension": ".py",
   "mimetype": "text/x-python",
   "name": "python",
   "nbconvert_exporter": "python",
   "pygments_lexer": "ipython3",
   "version": "3.6.8"
  }
 },
 "nbformat": 4,
 "nbformat_minor": 2
}
