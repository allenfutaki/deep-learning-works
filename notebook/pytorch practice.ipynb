{
 "cells": [
  {
   "cell_type": "code",
   "execution_count": null,
   "metadata": {},
   "outputs": [],
   "source": [
    "import torch\n",
    "import numpy as np\n",
    "from torch.utils.data import Dataset, DataLoader"
   ]
  },
  {
   "cell_type": "code",
   "execution_count": null,
   "metadata": {},
   "outputs": [],
   "source": [
    "import os\n",
    "os.chdir(\"..\")\n",
    "from src.factory.graph_factory import GraphFactory\n",
    "from src.factory.config_factory import cfg\n",
    "import logging\n",
    "logger = logging.getLogger(\"\")"
   ]
  },
  {
   "cell_type": "code",
   "execution_count": null,
   "metadata": {},
   "outputs": [],
   "source": [
    "cfg.GRAPH = \"dualnorm_iap_reid\"\n",
    "cfg.MODEL.BACKBONE = \"osnet_deep_reid_ain\"\n",
    "cfg.MODEL.FEATSIZE = 512\n",
    "\n",
    "graph = GraphFactory.produce(cfg)"
   ]
  },
  {
   "cell_type": "code",
   "execution_count": null,
   "metadata": {},
   "outputs": [],
   "source": [
    "from PIL import Image\n",
    "import torchvision.transforms.functional as TF\n",
    "img = Image.open(\"/home/acer/Pictures/person.jpg\")\n",
    "x = TF.resize(img, (256, 128))\n",
    "x = TF.to_tensor(x)"
   ]
  },
  {
   "cell_type": "code",
   "execution_count": null,
   "metadata": {},
   "outputs": [],
   "source": [
    "model = torch.jit.load('external/reid_dn_ain_osnet.zip').half()"
   ]
  },
  {
   "cell_type": "code",
   "execution_count": null,
   "metadata": {},
   "outputs": [],
   "source": [
    "model(x.half()).shape"
   ]
  },
  {
   "cell_type": "code",
   "execution_count": 5,
   "metadata": {},
   "outputs": [],
   "source": [
    "\n",
    "traced_model = torch.jit.trace(graph.torchscript_model.eval(), (x,))"
   ]
  },
  {
   "cell_type": "code",
   "execution_count": 6,
   "metadata": {},
   "outputs": [],
   "source": [
    "traced_model.save('external/reid_dn_ain_osnet.zip')"
   ]
  },
  {
   "cell_type": "code",
   "execution_count": null,
   "metadata": {},
   "outputs": [],
   "source": [
    "a = torch.rand(1,8,2,2)\n",
    "b = a.reshape(2,1,4,2,2)"
   ]
  },
  {
   "cell_type": "code",
   "execution_count": null,
   "metadata": {},
   "outputs": [],
   "source": [
    "a[:, 4:]"
   ]
  },
  {
   "cell_type": "code",
   "execution_count": null,
   "metadata": {},
   "outputs": [],
   "source": [
    "b[1]"
   ]
  },
  {
   "cell_type": "code",
   "execution_count": null,
   "metadata": {},
   "outputs": [],
   "source": [
    "a = torch.rand(2,4,4)\n",
    "# b = torch.rand(2,2,4,4) > 0.5"
   ]
  },
  {
   "cell_type": "code",
   "execution_count": null,
   "metadata": {},
   "outputs": [],
   "source": [
    "a[[0,0]]"
   ]
  },
  {
   "cell_type": "code",
   "execution_count": null,
   "metadata": {},
   "outputs": [],
   "source": [
    "a.max(0)[0].shape"
   ]
  },
  {
   "cell_type": "code",
   "execution_count": null,
   "metadata": {},
   "outputs": [],
   "source": [
    "torch.FloatTensor(5)"
   ]
  },
  {
   "cell_type": "code",
   "execution_count": null,
   "metadata": {},
   "outputs": [],
   "source": [
    "class TestDataset(Dataset):\n",
    "\n",
    "    def __getitem__(self, index):\n",
    "        a = {}\n",
    "        a['inp'] = np.random.randint(0, 10, 1)\n",
    "        a['label'] = np.random.randint(0, 10, np.random.randint(0, 10, 1))\n",
    "        return a\n",
    "    \n",
    "    def __len__(self):\n",
    "        return 10\n",
    "    \n",
    "def collate_bn(batch):\n",
    "    inps = []\n",
    "    labels = []\n",
    "    for b in batch:\n",
    "        inps.append(b['inp'])\n",
    "        labels.append(b['label'])\n",
    "    inps = torch.stack(inps)\n",
    "    return inps, labels"
   ]
  }
 ],
 "metadata": {
  "language_info": {
   "name": "python",
   "codemirror_mode": {
    "name": "ipython",
    "version": 3
   },
   "version": "3.6.8-final"
  },
  "orig_nbformat": 2,
  "file_extension": ".py",
  "mimetype": "text/x-python",
  "name": "python",
  "npconvert_exporter": "python",
  "pygments_lexer": "ipython3",
  "version": 3,
  "kernelspec": {
   "name": "python36864bitpy368venv96aa759879e8443787e614586faca138",
   "display_name": "Python 3.6.8 64-bit ('py368': venv)"
  }
 },
 "nbformat": 4,
 "nbformat_minor": 2
}