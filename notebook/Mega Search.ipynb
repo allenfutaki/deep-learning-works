{
 "cells": [
  {
   "cell_type": "markdown",
   "metadata": {},
   "source": [
    "## Build database and test data"
   ]
  },
  {
   "cell_type": "code",
   "execution_count": 136,
   "metadata": {},
   "outputs": [],
   "source": [
    "num_elements = 10000\n",
    "test_num_elements = 10000\n",
    "\n",
    "dim = 512\n",
    "# embedding_list = get_user_embedding_list(num_elements, dim)\n",
    "# user_embedding_list = get_user_embedding_list(test_num_elements, dim)\n",
    "# data = embedding_list\n",
    "# data_labels = np.arange(len(data))\n",
    "# np.save('../external/train_data_{}' .format(num_elements), embedding_list) \n",
    "# np.save('../external/test_data_{}' .format(test_num_elements), user_embedding_list) \n"
   ]
  },
  {
   "cell_type": "code",
   "execution_count": 1,
   "metadata": {},
   "outputs": [],
   "source": [
    "import puffinn"
   ]
  },
  {
   "cell_type": "code",
   "execution_count": 2,
   "metadata": {},
   "outputs": [
    {
     "data": {
      "text/plain": [
       "puffinn.Index"
      ]
     },
     "execution_count": 2,
     "metadata": {},
     "output_type": "execute_result"
    }
   ],
   "source": [
    "puffinn.Index"
   ]
  },
  {
   "cell_type": "markdown",
   "metadata": {},
   "source": [
    "## Read data"
   ]
  },
  {
   "cell_type": "code",
   "execution_count": 137,
   "metadata": {},
   "outputs": [],
   "source": [
    "embedding_list = np.load('../external/train_data_{}.npy' .format(num_elements)) \n",
    "user_embedding_list = np.load('../external/test_data_{}.npy' .format(test_num_elements)) "
   ]
  },
  {
   "cell_type": "markdown",
   "metadata": {},
   "source": [
    "## Baseline, inner product"
   ]
  },
  {
   "cell_type": "code",
   "execution_count": 138,
   "metadata": {
    "scrolled": true
   },
   "outputs": [
    {
     "name": "stdout",
     "output_type": "stream",
     "text": [
      " dot processed time: 0.002126932144165039\n",
      " dot processed time: 0.002033233642578125\n",
      " dot processed time: 0.0020051002502441406\n",
      " dot processed time: 0.002146482467651367\n",
      " dot processed time: 0.0022573471069335938\n",
      " dot processed time: 0.0022735595703125\n",
      " dot processed time: 0.0021572113037109375\n",
      " dot processed time: 0.002063274383544922\n",
      " dot processed time: 0.004833221435546875\n",
      " dot processed time: 0.0019550323486328125\n",
      "dot avg. time: 0.002475\n"
     ]
    }
   ],
   "source": [
    "dot_total_time = 0.0\n",
    "dot_result = np.zeros(test_num_elements)\n",
    "for i, user_embedding in enumerate(user_embedding_list):\n",
    "    start = time.time()\n",
    "    result = calculate_similarity(user_embedding, embedding_list)\n",
    "    max_id = np.argmax(result)\n",
    "#     max_distance = np.max(result)\n",
    "    dot_time = time.time()-start\n",
    "    dot_total_time += dot_time\n",
    "    if i % 1000 == 0:\n",
    "        print(f\"\\r dot processed time: {dot_time}\")\n",
    "    dot_result[i] = max_id\n",
    "\n",
    "print(f\"dot avg. time: {dot_total_time/test_num_elements:.6f}\")\n",
    "# np.save('dot_result_{}' .format(num_elements), dot_result)"
   ]
  },
  {
   "cell_type": "markdown",
   "metadata": {},
   "source": [
    "## FALCONN"
   ]
  },
  {
   "cell_type": "code",
   "execution_count": 2,
   "metadata": {},
   "outputs": [],
   "source": [
    "import falconn"
   ]
  },
  {
   "cell_type": "code",
   "execution_count": 3,
   "metadata": {},
   "outputs": [
    {
     "data": {
      "text/plain": [
       "DistanceFunction.NegativeInnerProduct"
      ]
     },
     "execution_count": 3,
     "metadata": {},
     "output_type": "execute_result"
    }
   ],
   "source": [
    "falconn.DistanceFunction(1)"
   ]
  },
  {
   "cell_type": "code",
   "execution_count": 141,
   "metadata": {},
   "outputs": [],
   "source": [
    "db_size = num_elements\n",
    "LSHConstructionParameters = falconn.get_default_parameters(\n",
    "    num_points=db_size, dimension=512, distance=falconn.DistanceFunction(2))\n",
    "lsh = falconn.LSHIndex(LSHConstructionParameters)\n",
    "lsh.setup(embedding_list)\n",
    "query_ob = lsh.construct_query_object()\n"
   ]
  },
  {
   "cell_type": "code",
   "execution_count": 145,
   "metadata": {
    "scrolled": true
   },
   "outputs": [
    {
     "name": "stdout",
     "output_type": "stream",
     "text": [
      "avg. time: 0.002206\n",
      "7537\n"
     ]
    }
   ],
   "source": [
    "query_ob.set_num_probes(2000)\n",
    "total_time = 0.0\n",
    "find_result = np.zeros(test_num_elements)\n",
    "for i, user_embedding in enumerate(user_embedding_list):\n",
    "    start = time.time()\n",
    "    max_id = query_ob.find_nearest_neighbor(user_embedding)\n",
    "    duration = time.time()-start\n",
    "    total_time += duration\n",
    "    find_result[i] = max_id\n",
    "\n",
    "print(f\"avg. time: {total_time/test_num_elements:.6f}\")\n",
    "\n",
    "print((find_result == dot_result).sum())"
   ]
  },
  {
   "cell_type": "code",
   "execution_count": null,
   "metadata": {},
   "outputs": [],
   "source": [
    "\n",
    "# from ngt import base as ngt\n",
    "# import random\n",
    "​\n",
    "# objects = embedding_list\n",
    "# query = user_embedding_norm\n",
    "​\n",
    "# start_time = time.time()\n",
    "# index = ngt.Index.create(b\"tmp\", dim)\n",
    "# index.insert(objects)\n",
    "# print 'create model time: {}' .format(time.time()-start_time)\n",
    "# # You can also insert objects from a file like this.\n",
    "# # index.insert_from_tsv('list.tsv') \n",
    "​\n",
    "# index.save()\n",
    "# # You can load saved the index like this.\n",
    "# # index = ngt.Index(b\"tmp\")\n",
    "​\n",
    "# start_time = time.time()\n",
    "# result = index.search(query, 1)\n",
    "# print time.time()-start_time\n",
    "​\n",
    "# for i, o in enumerate(result) :\n",
    "#     print(str(i) + \": \" + str(o.id-1) + \", \" + str(o.distance))\n",
    "#     object = index.get_object(o.id)\n",
    "​\n",
    "​\n",
    "import hnswlib\n",
    "import numpy as np\n",
    "​\n",
    "class _hnswlib:\n",
    "    def __init__(self):\n",
    "        self.model = None\n",
    "    def model_init(self, dim, space, data, data_labels, ef, ef_construction = 200, M = 16):\n",
    "​\n",
    "        max_elements = len(data)\n",
    "        # Declaring index\n",
    "        self.model = hnswlib.Index(space, dim) # possible options are l2, cosine or ip\n",
    "​\n",
    "        # Initing index - the maximum number of elements should be known beforehand\n",
    "        self.model.init_index(max_elements, ef_construction, M)\n",
    "​\n",
    "        # Element insertion (can be called several times):\n",
    "        self.model.add_items(data, data_labels)\n",
    "​\n",
    "        # Controlling the recall by setting ef:\n",
    "        self.model.set_ef(ef) # ef should always be > k\n",
    "    def query_result(self, query, k):\n",
    "        labels, distances = self.model.knn_query(query, k)\n",
    "        return labels[0], distances[0]\n",
    "    def save_model(self, path):\n",
    "        self.model.save_index(\"{}\" .format(path))\n",
    "    def load_model(self, space, dim, path, num_elements):\n",
    "        self.model = hnswlib.Index(space, dim)\n",
    "        self.model.load_index(path, max_elements = num_elements)\n",
    "​\n",
    "​\n",
    "​\n",
    "​\n",
    "​\n",
    "correct = 0\n",
    "error = 0\n",
    "dot_total_time = 0\n",
    "hnswlib_total_time = 0\n",
    "_hnswlib = _hnswlib()\n",
    "​\n",
    "# generate data\n",
    "num_elements = 1000000\n",
    "test_num_elements = 10000\n",
    "​\n",
    "dim = 512\n",
    "########\n",
    "# embedding_list = get_user_embedding_list(num_elements, dim)\n",
    "# user_embedding_list = get_user_embedding_list(test_num_elements, dim)\n",
    "# data = embedding_list\n",
    "# data_labels = np.arange(len(data))\n",
    "​\n",
    "# # user_embedding = np.random.randn(dim)\n",
    "# # user_embedding_norm = np.array(user_embedding/np.linalg.norm(user_embedding, axis=0, keepdims=True))\n",
    "​\n",
    "​\n",
    "# np.save('train_data_{}' .format(num_elements), embedding_list) \n",
    "# user_embedding_list = np.load('test_data_{}.npy' .format(test_num_elements))\n",
    "# # np.save('test_data_{}' .format(test_num_elements), user_embedding_list) \n",
    "​\n",
    "# dot_result = np.zeros(test_num_elements)\n",
    "# for i, user_embedding in enumerate(user_embedding_list):\n",
    "#     start_time = time.time()\n",
    "#     result = calculate_similarity(user_embedding, embedding_list)\n",
    "#     max_id = np.argmax(result)\n",
    "#     max_distance = np.max(result)\n",
    "#     dot_time = time.time()-start_time\n",
    "#     dot_total_time += dot_time\n",
    "#     print 'dot processed time: {}' .format(dot_time)\n",
    "#     dot_result[i] = max_id\n",
    "​\n",
    "# print 'dot avg. time: ', dot_total_time/test_num_elements\n",
    "# np.save('dot_result_{}' .format(num_elements), dot_result)\n",
    "####### \n",
    "​\n",
    "embedding_list = np.load('train_data_{}.npy' .format(num_elements))\n",
    "user_embedding_list = np.load('test_data_{}.npy' .format(test_num_elements))\n",
    "dot_result = np.load('dot_result_{}.npy' .format(num_elements))\n",
    "​\n",
    "data_labels = np.arange(len(embedding_list))\n",
    "​\n",
    "ef = 5000\n",
    "ef_construction = 200\n",
    "M = 64\n",
    "_hnswlib.model_init(dim, 'ip', embedding_list, data_labels, ef, ef_construction, M)\n",
    "_hnswlib.save_model(\"{}_{}_{}_{}_model.bin\" .format(num_elements, ef, ef_construction, M))\n",
    "# _hnswlib.load_model('ip', dim,  \"{}_model.bin\" .format(num_elements), num_elements)\n",
    "​\n",
    "for i, user_embedding in enumerate(user_embedding_list):\n",
    "    start_time = time.time()\n",
    "    labels, distances = _hnswlib.query_result(user_embedding, 100)\n",
    "    # print labels, distances\n",
    "    # print -(distances-1), labels\n",
    "    hnswlib_time = time.time()-start_time\n",
    "    hnswlib_total_time += hnswlib_time\n",
    "    print 'hnswlib processed time: {}' .format(hnswlib_time)\n",
    "    if dot_result[i] in labels:\n",
    "        correct += 1\n",
    "    else:\n",
    "        error += 1\n",
    "    # break\n",
    "​\n",
    "print 'ef = {}, ef_construction = {}, M = {}' .format(ef, ef_construction, M)\n",
    "print ' - recall rate: {}' .format(float(correct)/(test_num_elements/100))\n",
    "print ' - hnswlib avg. time: {}' .format(hnswlib_total_time/test_num_elements)"
   ]
  }
 ],
 "metadata": {
  "kernelspec": {
   "display_name": "Python 3",
   "language": "python",
   "name": "python3"
  },
  "language_info": {
   "codemirror_mode": {
    "name": "ipython",
    "version": 3
   },
   "file_extension": ".py",
   "mimetype": "text/x-python",
   "name": "python",
   "nbconvert_exporter": "python",
   "pygments_lexer": "ipython3",
   "version": "3.6.8"
  }
 },
 "nbformat": 4,
 "nbformat_minor": 2
}
