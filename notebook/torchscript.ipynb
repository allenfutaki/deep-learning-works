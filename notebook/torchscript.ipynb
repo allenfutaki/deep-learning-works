{
 "cells": [
  {
   "cell_type": "code",
   "execution_count": 1,
   "metadata": {},
   "outputs": [],
   "source": [
    "import torch\n",
    "import torch.nn as nn\n",
    "import torch.nn.functional as F"
   ]
  },
  {
   "cell_type": "code",
   "execution_count": 1,
   "metadata": {},
   "outputs": [],
   "source": [
    "import os\n",
    "os.chdir(\"..\")\n",
    "from src.factory.graph_factory import GraphFactory\n",
    "from src.factory.config_factory import cfg\n",
    "from tools.logger import setup_logger\n",
    "logger = setup_logger(\"./external\")"
   ]
  },
  {
   "cell_type": "code",
   "execution_count": null,
   "metadata": {},
   "outputs": [],
   "source": [
    "cfg.GRAPH = \"iap_reid\"\n",
    "cfg.MODEL.BACKBONE = \"osnet_deep_reid_iap\"\n",
    "cfg.MODEL.FEATSIZE = 512\n",
    "cfg.INPUT.SIZE = (128,256)\n",
    "\n",
    "graph = GraphFactory.produce(cfg)"
   ]
  },
  {
   "cell_type": "code",
   "execution_count": null,
   "metadata": {},
   "outputs": [],
   "source": [
    "graph.to_torchscript(shape=(3,256,128), load_path=\"/media/acer/5f45949f-0fc7-4475-965b-e61989afcc10/Downloads/result-200601/msmt duke cuhk03 market market/OSNet_AIN-msmt_duke_cuhk12_market-cels-AdamW_amsgrad_lr_0.0015_freeze_cosine-imagenet/004-2020-05-29_09-34/weights/model_245_0.7197.pth\")"
   ]
  },
  {
   "cell_type": "code",
   "execution_count": null,
   "metadata": {},
   "outputs": [],
   "source": [
    "traced_model = torch.jit.trace(graph.torchscript_model.eval(), (x,))"
   ]
  }
 ],
 "metadata": {
  "language_info": {
   "codemirror_mode": {
    "name": "ipython",
    "version": 3
   },
   "file_extension": ".py",
   "mimetype": "text/x-python",
   "name": "python",
   "nbconvert_exporter": "python",
   "pygments_lexer": "ipython3",
   "version": "3.6.8-final"
  },
  "orig_nbformat": 2,
  "kernelspec": {
   "name": "python36864bitpy368venv96aa759879e8443787e614586faca138",
   "display_name": "Python 3.6.8 64-bit ('py368': venv)"
  }
 },
 "nbformat": 4,
 "nbformat_minor": 2
}