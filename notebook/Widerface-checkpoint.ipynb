{
 "cells": [
  {
   "cell_type": "code",
   "execution_count": 1,
   "metadata": {},
   "outputs": [],
   "source": [
    "import sys\n",
    "import numpy as np\n",
    "import os\n",
    "import os.path as osp\n",
    "import cv2\n",
    "from PIL import Image \n",
    "\n",
    "def to_pil(cv_img):\n",
    "    img = cv2.cvtColor(cv_img, cv2.COLOR_BGR2RGB)\n",
    "    return Image.fromarray(img)\n"
   ]
  },
  {
   "cell_type": "code",
   "execution_count": 2,
   "metadata": {
    "scrolled": true
   },
   "outputs": [
    {
     "ename": "NameError",
     "evalue": "name 'imgs_path' is not defined",
     "output_type": "error",
     "traceback": [
      "\u001b[0;31m---------------------------------------------------------------------------\u001b[0m",
      "\u001b[0;31mNameError\u001b[0m                                 Traceback (most recent call last)",
      "\u001b[0;32m<ipython-input-2-8fff42c13350>\u001b[0m in \u001b[0;36m<module>\u001b[0;34m\u001b[0m\n\u001b[1;32m      1\u001b[0m \u001b[0msrc\u001b[0m \u001b[0;34m=\u001b[0m \u001b[0;34m\"/media/allen/mass/WIDER_train/images\"\u001b[0m\u001b[0;34m\u001b[0m\u001b[0;34m\u001b[0m\u001b[0m\n\u001b[0;32m----> 2\u001b[0;31m \u001b[0mimg\u001b[0m \u001b[0;34m=\u001b[0m \u001b[0mcv2\u001b[0m\u001b[0;34m.\u001b[0m\u001b[0mimread\u001b[0m\u001b[0;34m(\u001b[0m\u001b[0mosp\u001b[0m\u001b[0;34m.\u001b[0m\u001b[0mjoin\u001b[0m\u001b[0;34m(\u001b[0m\u001b[0msrc\u001b[0m\u001b[0;34m,\u001b[0m \u001b[0mimgs_path\u001b[0m\u001b[0;34m[\u001b[0m\u001b[0;36m2\u001b[0m\u001b[0;34m]\u001b[0m\u001b[0;34m)\u001b[0m\u001b[0;34m)\u001b[0m\u001b[0;34m\u001b[0m\u001b[0;34m\u001b[0m\u001b[0m\n\u001b[0m\u001b[1;32m      3\u001b[0m \u001b[0mto_pil\u001b[0m\u001b[0;34m(\u001b[0m\u001b[0mimg\u001b[0m\u001b[0;34m)\u001b[0m\u001b[0;34m\u001b[0m\u001b[0;34m\u001b[0m\u001b[0m\n",
      "\u001b[0;31mNameError\u001b[0m: name 'imgs_path' is not defined"
     ]
    }
   ],
   "source": [
    "src = \"/media/allen/mass/WIDER_train/images\"\n",
    "img = cv2.imread(osp.join(src, imgs_path[2]))\n",
    "to_pil(img)"
   ]
  },
  {
   "cell_type": "code",
   "execution_count": 39,
   "metadata": {},
   "outputs": [],
   "source": [
    "cv2.imread(osp.join(src, imgs_path[2]))"
   ]
  },
  {
   "cell_type": "code",
   "execution_count": 31,
   "metadata": {},
   "outputs": [
    {
     "data": {
      "text/plain": [
       "'/media/allen/mass/retinaface_gt_v1.1/train/images/0--Parade/0_Parade_marchingband_1_799.jpg'"
      ]
     },
     "execution_count": 31,
     "metadata": {},
     "output_type": "execute_result"
    }
   ],
   "source": [
    "imgs_path[2]"
   ]
  },
  {
   "cell_type": "code",
   "execution_count": 12,
   "metadata": {},
   "outputs": [
    {
     "data": {
      "text/plain": [
       "[[361.0,\n",
       "  98.0,\n",
       "  263.0,\n",
       "  339.0,\n",
       "  424.143,\n",
       "  251.656,\n",
       "  0.0,\n",
       "  547.134,\n",
       "  232.571,\n",
       "  0.0,\n",
       "  494.121,\n",
       "  325.875,\n",
       "  0.0,\n",
       "  453.83,\n",
       "  368.286,\n",
       "  0.0,\n",
       "  561.978,\n",
       "  342.839,\n",
       "  0.0,\n",
       "  0.89]]"
      ]
     },
     "execution_count": 12,
     "metadata": {},
     "output_type": "execute_result"
    }
   ],
   "source": [
    "words[1]"
   ]
  },
  {
   "cell_type": "code",
   "execution_count": 13,
   "metadata": {},
   "outputs": [],
   "source": [
    "labels = words[2]"
   ]
  },
  {
   "cell_type": "code",
   "execution_count": 14,
   "metadata": {},
   "outputs": [],
   "source": [
    "\n",
    "annotation = np.zeros((len(labels), 15))\n",
    "\n",
    "for idx, label in enumerate(labels):\n",
    "    # bbox\n",
    "    annotation[idx, 0] = label[0]  # x1\n",
    "    annotation[idx, 1] = label[1]  # y1\n",
    "    annotation[idx, 2] = label[0] + label[2]  # x2\n",
    "    annotation[idx, 3] = label[1] + label[3]  # y2\n",
    "\n",
    "    # landmarks\n",
    "    annotation[idx, 4] = label[4]    # l0_x\n",
    "    annotation[idx, 5] = label[5]    # l0_y\n",
    "    annotation[idx, 6] = label[7]    # l1_x\n",
    "    annotation[idx, 7] = label[8]    # l1_y\n",
    "    annotation[idx, 8] = label[10]   # l2_x\n",
    "    annotation[idx, 9] = label[11]   # l2_y\n",
    "    annotation[idx, 10] = label[13]  # l3_x\n",
    "    annotation[idx, 11] = label[14]  # l3_y\n",
    "    annotation[idx, 12] = label[16]  # l4_x\n",
    "    annotation[idx, 13] = label[17]  # l4_y\n",
    "    if (annotation[idx, 4]<0):\n",
    "        annotation[idx, 14] = -1\n",
    "    else:\n",
    "        annotation[idx, 14] = 1"
   ]
  },
  {
   "cell_type": "code",
   "execution_count": 42,
   "metadata": {},
   "outputs": [],
   "source": [
    "for ann in annotation:\n",
    "    bbox = ann[:4]\n",
    "    landms = ann[4:-1].reshape(-1, 2)\n",
    "    valid = ann[-1]\n",
    "    if valid < 0:\n",
    "        x1, y1, x2, y2 = bbox.astype(int)\n",
    "        cv2.rectangle(img, (x1, y1), (x2, y2), (0,255,0), 1)\n",
    "        for landm in landms:\n",
    "            lx, ly = landm.astype(int)\n",
    "            cv2.circle(img, (lx, ly), 1, (0,0,255), -1)\n",
    "#     else:\n",
    "#         x1, y1, x2, y2 = bbox.astype(int)\n",
    "#         print(x1, y1, x2, y2)\n",
    "#         cv2.rectangle(img, (x1, y1), (x2, y2), (0,0,0), -1)"
   ]
  },
  {
   "cell_type": "code",
   "execution_count": 11,
   "metadata": {},
   "outputs": [
    {
     "data": {
      "text/plain": [
       "[345.0, 211.0, 4.0, 4.0]"
      ]
     },
     "execution_count": 11,
     "metadata": {},
     "output_type": "execute_result"
    }
   ],
   "source": [
    "dataset = {\n",
    "    \"info\": {},\n",
    "    \"licenses\": [],\n",
    "    \"images\": [],\n",
    "    \"annotations\": [],\n",
    "    \"categories\": []\n",
    "}\n",
    "dataset['categories'].append({\n",
    "    'id': 1,\n",
    "    'name': \"face\",\n",
    "    'supercategory': \"people\",\n",
    "    'keypoints': ['1', '2', '3', '4', '5', '6', '7', '8', '9', '10'],\n",
    "    'skeleton': []\n",
    "})"
   ]
  },
  {
   "cell_type": "code",
   "execution_count": 3,
   "metadata": {},
   "outputs": [],
   "source": [
    "txt_path = \"/media/allen/mass/retinaface_gt_v1.1/train/label.txt\"\n",
    "f = open(txt_path,'r')\n",
    "lines = f.readlines()\n",
    "isFirst = True\n",
    "labels = []\n",
    "words = []\n",
    "imgs_path = []\n",
    "for line in lines:\n",
    "    line = line.rstrip()\n",
    "    if line.startswith('#'):\n",
    "        if isFirst is True:\n",
    "            isFirst = False\n",
    "        else:\n",
    "            labels_copy = labels.copy()\n",
    "            words.append(labels_copy)\n",
    "            labels.clear()\n",
    "        path = line[2:]\n",
    "        imgs_path.append(path)\n",
    "    else:\n",
    "        line = line.split(' ')\n",
    "        label = [float(x) for x in line]\n",
    "        labels.append(label)"
   ]
  },
  {
   "cell_type": "code",
   "execution_count": 18,
   "metadata": {},
   "outputs": [
    {
     "data": {
      "text/plain": [
       "['400',\n",
       " '150',\n",
       " '208',\n",
       " '290',\n",
       " '434.455',\n",
       " '252.71',\n",
       " '0.0',\n",
       " '516.219',\n",
       " '263.612',\n",
       " '0.0',\n",
       " '452.625',\n",
       " '301.768',\n",
       " '0.0',\n",
       " '427.188',\n",
       " '352.643',\n",
       " '0.0',\n",
       " '512.585',\n",
       " '365.362',\n",
       " '0.0',\n",
       " '0.89']"
      ]
     },
     "execution_count": 18,
     "metadata": {},
     "output_type": "execute_result"
    }
   ],
   "source": [
    "line"
   ]
  },
  {
   "cell_type": "code",
   "execution_count": null,
   "metadata": {},
   "outputs": [],
   "source": [
    "src = \"/media/allen/mass/WIDER_train/images\"\n",
    "for num, image_name in enumerate(imgs_path):\n",
    "    \n",
    "    imag = Image.open(osp.join(src, image_name))\n",
    "    width, height = imag.size\n",
    "\n",
    "\n",
    "    dataset['images'].append({\n",
    "        'coco_url': '',\n",
    "        'date_captured': '',\n",
    "        'file_name': image_name,\n",
    "        'flickr_url': '',\n",
    "        'id': num,\n",
    "        'license': 0,\n",
    "        'width': width,\n",
    "        'height': height\n",
    "    })\n",
    "    for i in temp:\n",
    "        if i == 'source' or i=='pair_id':\n",
    "            continue\n",
    "        else:\n",
    "            points = np.zeros(294 * 3)\n",
    "            sub_index = sub_index + 1\n",
    "            box = temp[i]['bounding_box']\n",
    "            w = box[2]-box[0]\n",
    "            h = box[3]-box[1]\n",
    "            x_1 = box[0]\n",
    "            y_1 = box[1]\n",
    "            bbox=[x_1,y_1,w,h]\n",
    "            cat = temp[i]['category_id']\n",
    "            style = temp[i]['style']\n",
    "            seg = temp[i]['segmentation']\n",
    "            landmarks = temp[i]['landmarks']\n",
    "\n",
    "            points_x = landmarks[0::3]\n",
    "            points_y = landmarks[1::3]\n",
    "            points_v = landmarks[2::3]\n",
    "            points_x = np.array(points_x)\n",
    "            points_y = np.array(points_y)\n",
    "            points_v = np.array(points_v)\n",
    "\n",
    "            if cat == 1:\n",
    "                for n in range(0, 25):\n",
    "                    points[3 * n] = points_x[n]\n",
    "                    points[3 * n + 1] = points_y[n]\n",
    "                    points[3 * n + 2] = points_v[n]\n",
    "            elif cat ==2:\n",
    "                for n in range(25, 58):\n",
    "                    points[3 * n] = points_x[n - 25]\n",
    "                    points[3 * n + 1] = points_y[n - 25]\n",
    "                    points[3 * n + 2] = points_v[n - 25]\n",
    "            elif cat ==3:\n",
    "                for n in range(58, 89):\n",
    "                    points[3 * n] = points_x[n - 58]\n",
    "                    points[3 * n + 1] = points_y[n - 58]\n",
    "                    points[3 * n + 2] = points_v[n - 58]\n",
    "            elif cat == 4:\n",
    "                for n in range(89, 128):\n",
    "                    points[3 * n] = points_x[n - 89]\n",
    "                    points[3 * n + 1] = points_y[n - 89]\n",
    "                    points[3 * n + 2] = points_v[n - 89]\n",
    "            elif cat == 5:\n",
    "                for n in range(128, 143):\n",
    "                    points[3 * n] = points_x[n - 128]\n",
    "                    points[3 * n + 1] = points_y[n - 128]\n",
    "                    points[3 * n + 2] = points_v[n - 128]\n",
    "            elif cat == 6:\n",
    "                for n in range(143, 158):\n",
    "                    points[3 * n] = points_x[n - 143]\n",
    "                    points[3 * n + 1] = points_y[n - 143]\n",
    "                    points[3 * n + 2] = points_v[n - 143]\n",
    "            elif cat == 7:\n",
    "                for n in range(158, 168):\n",
    "                    points[3 * n] = points_x[n - 158]\n",
    "                    points[3 * n + 1] = points_y[n - 158]\n",
    "                    points[3 * n + 2] = points_v[n - 158]\n",
    "            elif cat == 8:\n",
    "                for n in range(168, 182):\n",
    "                    points[3 * n] = points_x[n - 168]\n",
    "                    points[3 * n + 1] = points_y[n - 168]\n",
    "                    points[3 * n + 2] = points_v[n - 168]\n",
    "            elif cat == 9:\n",
    "                for n in range(182, 190):\n",
    "                    points[3 * n] = points_x[n - 182]\n",
    "                    points[3 * n + 1] = points_y[n - 182]\n",
    "                    points[3 * n + 2] = points_v[n - 182]\n",
    "            elif cat == 10:\n",
    "                for n in range(190, 219):\n",
    "                    points[3 * n] = points_x[n - 190]\n",
    "                    points[3 * n + 1] = points_y[n - 190]\n",
    "                    points[3 * n + 2] = points_v[n - 190]\n",
    "            elif cat == 11:\n",
    "                for n in range(219, 256):\n",
    "                    points[3 * n] = points_x[n - 219]\n",
    "                    points[3 * n + 1] = points_y[n - 219]\n",
    "                    points[3 * n + 2] = points_v[n - 219]\n",
    "            elif cat == 12:\n",
    "                for n in range(256, 275):\n",
    "                    points[3 * n] = points_x[n - 256]\n",
    "                    points[3 * n + 1] = points_y[n - 256]\n",
    "                    points[3 * n + 2] = points_v[n - 256]\n",
    "            elif cat == 13:\n",
    "                for n in range(275, 294):\n",
    "                    points[3 * n] = points_x[n - 275]\n",
    "                    points[3 * n + 1] = points_y[n - 275]\n",
    "                    points[3 * n + 2] = points_v[n - 275]\n",
    "            num_points = len(np.where(points_v > 0)[0])\n",
    "\n",
    "            dataset['annotations'].append({\n",
    "                'area': w*h,\n",
    "                'bbox': bbox,\n",
    "                'category_id': cat,\n",
    "                'id': sub_index,\n",
    "                'pair_id': pair_id,\n",
    "                'image_id': num,\n",
    "                'iscrowd': 0,\n",
    "                'style': style,\n",
    "                'num_keypoints':num_points,\n",
    "                'keypoints':points.tolist(),\n",
    "                'segmentation': seg,\n",
    "            })"
   ]
  }
 ],
 "metadata": {
  "kernelspec": {
   "display_name": "Python 3",
   "language": "python",
   "name": "python3"
  },
  "language_info": {
   "codemirror_mode": {
    "name": "ipython",
    "version": 3
   },
   "file_extension": ".py",
   "mimetype": "text/x-python",
   "name": "python",
   "nbconvert_exporter": "python",
   "pygments_lexer": "ipython3",
   "version": "3.6.8"
  }
 },
 "nbformat": 4,
 "nbformat_minor": 2
}
