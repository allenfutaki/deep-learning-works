{
 "cells": [
  {
   "cell_type": "code",
   "execution_count": 1,
   "metadata": {},
   "outputs": [],
   "source": [
    "import cv2\n",
    "from PIL import Image \n",
    "import time\n",
    "\n",
    "def to_pil(cv_img):\n",
    "    img = cv2.cvtColor(cv_img, cv2.COLOR_BGR2RGB)\n",
    "    return Image.fromarray(img)\n",
    "import numpy as np\n",
    "import math\n",
    "import os\n",
    "os.chdir(\"../\")\n",
    "from tools.image import draw_umich_gaussian"
   ]
  },
  {
   "cell_type": "code",
   "execution_count": 12,
   "metadata": {},
   "outputs": [
    {
     "output_type": "execute_result",
     "data": {
      "text/plain": "True"
     },
     "metadata": {},
     "execution_count": 12
    }
   ],
   "source": [
    "cap = cv2.VideoCapture(-1)\n",
    "cap.open(\"/media/acer/5f45949f-0fc7-4475-965b-e61989afcc10/2019_06_20___08_00_02.CUT.1_46_10-1_50_45.mkv\")"
   ]
  },
  {
   "cell_type": "code",
   "execution_count": 13,
   "metadata": {},
   "outputs": [],
   "source": [
    "frame_idx = 0\n",
    "folder_idx = 0\n",
    "if not os.path.exists(f\"/media/acer/5f45949f-0fc7-4475-965b-e61989afcc10/rong_zong/{folder_idx:04}\"):\n",
    "    os.mkdir(f\"/media/acer/5f45949f-0fc7-4475-965b-e61989afcc10/rong_zong/{folder_idx:04}\")\n",
    "while True:\n",
    "    ret, frame = cap.read()\n",
    "    if not ret:\n",
    "        break\n",
    "    cv2.imwrite(os.path.join(\"/media/acer/5f45949f-0fc7-4475-965b-e61989afcc10/rong_zong\", f\"{folder_idx:04}\", f\"{frame_idx:08}.jpg\"), frame)\n",
    "    frame_idx += 1\n",
    "    "
   ]
  },
  {
   "cell_type": "code",
   "execution_count": 10,
   "metadata": {},
   "outputs": [],
   "source": [
    "src = \"/media/acer/5f45949f-0fc7-4475-965b-e61989afcc10/rong_zong/a_report_update\"\n",
    "txt_list = sorted([os.path.join(root, f) for root, _, files in os.walk(src) for f in files if '.txt' in f])"
   ]
  },
  {
   "cell_type": "code",
   "execution_count": 11,
   "metadata": {},
   "outputs": [],
   "source": [
    "f = open(\"/media/acer/5f45949f-0fc7-4475-965b-e61989afcc10/rong_zong/rong_zong.txt\", 'w')\n",
    "for txt in txt_list:\n",
    "    img_path = os.path.basename(txt)\n",
    "    img_path = f\"{os.path.splitext(img_path)[0]}\"\n",
    "    with open(txt, 'r') as bbox_f:\n",
    "        for line in bbox_f:\n",
    "            x1, y1, x2, y2 = line.strip().split(\",\")\n",
    "            f.write(f\"{img_path} -1 {int(float(x1))} {int(float(y1))} {int(float(x2))} {int(float(y2))} 0 0\\n\")\n",
    "        # break\n",
    "    # break\n",
    "f.close()\n"
   ]
  },
  {
   "cell_type": "code",
   "execution_count": 5,
   "metadata": {},
   "outputs": [
    {
     "output_type": "error",
     "ename": "ValueError",
     "evalue": "invalid literal for int() with base 10: '1459.4461669921875'",
     "traceback": [
      "\u001b[0;31m---------------------------------------------------------------------------\u001b[0m",
      "\u001b[0;31mValueError\u001b[0m                                Traceback (most recent call last)",
      "\u001b[0;32m<ipython-input-5-62ad386ec6db>\u001b[0m in \u001b[0;36m<module>\u001b[0;34m\u001b[0m\n\u001b[0;32m----> 1\u001b[0;31m \u001b[0mint\u001b[0m\u001b[0;34m(\u001b[0m\u001b[0mx1\u001b[0m\u001b[0;34m)\u001b[0m\u001b[0;34m\u001b[0m\u001b[0;34m\u001b[0m\u001b[0m\n\u001b[0m",
      "\u001b[0;31mValueError\u001b[0m: invalid literal for int() with base 10: '1459.4461669921875'"
     ]
    }
   ],
   "source": [
    "int(x1)"
   ]
  },
  {
   "cell_type": "code",
   "execution_count": 21,
   "metadata": {},
   "outputs": [
    {
     "output_type": "execute_result",
     "data": {
      "text/plain": "'895.18310546875,135.52978515625,1072.4298095703125,352.4954833984375\\n'"
     },
     "metadata": {},
     "execution_count": 21
    }
   ],
   "source": [
    "line"
   ]
  },
  {
   "cell_type": "code",
   "execution_count": null,
   "metadata": {},
   "outputs": [],
   "source": [
    "A = np.array([\n",
    "            [1 ,0, 1, 0], \n",
    "            [0, 1, 0, 1], \n",
    "            [0, 0, 1, 0],  \n",
    "            [0, 0, 0, 1]\n",
    "        ])"
   ]
  },
  {
   "cell_type": "code",
   "execution_count": null,
   "metadata": {},
   "outputs": [],
   "source": [
    "a = np.array([2,3,1,1])"
   ]
  },
  {
   "cell_type": "code",
   "execution_count": null,
   "metadata": {},
   "outputs": [],
   "source": [
    "np.dot(a, A.T)"
   ]
  },
  {
   "cell_type": "code",
   "execution_count": null,
   "metadata": {},
   "outputs": [],
   "source": [
    "b"
   ]
  },
  {
   "cell_type": "code",
   "execution_count": null,
   "metadata": {},
   "outputs": [],
   "source": [
    "np.dot(a, b)"
   ]
  },
  {
   "cell_type": "code",
   "execution_count": null,
   "metadata": {},
   "outputs": [],
   "source": [
    "a = -90\n",
    "(q <= a).sum()-1"
   ]
  },
  {
   "cell_type": "code",
   "execution_count": null,
   "metadata": {},
   "outputs": [],
   "source": [
    "a = np.array([0.762,0.601,0.0009,])"
   ]
  },
  {
   "cell_type": "code",
   "execution_count": null,
   "metadata": {},
   "outputs": [],
   "source": [
    "a = np.array([1920,1920])"
   ]
  },
  {
   "cell_type": "code",
   "execution_count": null,
   "metadata": {},
   "outputs": [],
   "source": [
    "np.sqrt((a**2).sum())\n"
   ]
  },
  {
   "cell_type": "code",
   "execution_count": null,
   "metadata": {},
   "outputs": [],
   "source": [
    "a[a>0.5] = np.inf"
   ]
  },
  {
   "cell_type": "code",
   "execution_count": null,
   "metadata": {},
   "outputs": [],
   "source": [
    "a"
   ]
  },
  {
   "cell_type": "code",
   "execution_count": null,
   "metadata": {},
   "outputs": [],
   "source": [
    "data = np.load(\"/media/acer/5f45949f-0fc7-4475-965b-e61989afcc10/Downloads/record_time_drift.npy\")[0]\n",
    "rests = np.load(\"/media/acer/5f45949f-0fc7-4475-965b-e61989afcc10/Downloads/record_time_drift.npy\")[1]"
   ]
  },
  {
   "cell_type": "code",
   "execution_count": null,
   "metadata": {},
   "outputs": [],
   "source": [
    "rest_times = np.unique(rests)\n",
    "drift = []\n",
    "for rest_time in rest_times:\n",
    "    drift.append(data[rests==rest_time].mean())\n",
    "drift = np.array(drift)"
   ]
  },
  {
   "cell_type": "code",
   "execution_count": null,
   "metadata": {},
   "outputs": [],
   "source": [
    "iterations = np.arange(len(data))\n",
    "start = 0\n",
    "gap = 10000\n",
    "fig, ax = plt.subplots(figsize=(15,5))\n",
    "sns.lineplot(x=rest_times, y=drift, ax=ax)\n",
    "ax.set_ylim(0,0.020)\n",
    "ax.set_xlabel(\"rest time\")\n",
    "ax.set_ylabel(\"latency\")\n",
    "# ax.set_xticks(rest_times)\n",
    "# for rest_time, latency in zip(rest_times, drift):\n",
    "#     ax.text(rest_time, latency, f'{latency:.4f}')\n",
    "fig.savefig(os.path.join(dst, f\"drift.jpg\"))"
   ]
  },
  {
   "cell_type": "code",
   "execution_count": null,
   "metadata": {},
   "outputs": [],
   "source": [
    "import seaborn as sns\n",
    "import matplotlib.pyplot as plt\n",
    "sns.set_style(style=\"whitegrid\")"
   ]
  },
  {
   "cell_type": "code",
   "execution_count": null,
   "metadata": {},
   "outputs": [],
   "source": [
    "dst = \"/media/acer/5f45949f-0fc7-4475-965b-e61989afcc10/Downloads/Mega_Search_material/latency\"\n",
    "if not os.path.exists(dst):\n",
    "    os.mkdir(dst)"
   ]
  },
  {
   "cell_type": "code",
   "execution_count": null,
   "metadata": {},
   "outputs": [],
   "source": [
    "data = np.load(\"/media/acer/5f45949f-0fc7-4475-965b-e61989afcc10/Downloads/record_310.npy\")"
   ]
  },
  {
   "cell_type": "code",
   "execution_count": null,
   "metadata": {},
   "outputs": [],
   "source": [
    "data[-1000:].mean()"
   ]
  },
  {
   "cell_type": "code",
   "execution_count": null,
   "metadata": {},
   "outputs": [],
   "source": [
    "# start = 1000000\n",
    "fig, axes = plt.subplots(ncols=6, nrows=5, figsize=(40,20))\n",
    "gap = 1000\n",
    "iterations = np.arange(len(data))\n",
    "for start in range(30):\n",
    "    i = start // 6\n",
    "    j = start % 6\n",
    "    start *= 10000\n",
    "    sns.lineplot(x=iterations[start:(start+gap)], y=data[start:(start+gap)], ax=axes[i, j])\n",
    "    axes[i, j].set_ylim(0,0.025)\n",
    "\n",
    "fig.savefig(os.path.join(dst, f\"long_run.jpg\"))"
   ]
  },
  {
   "cell_type": "code",
   "execution_count": null,
   "metadata": {},
   "outputs": [],
   "source": [
    "axes[7,3]"
   ]
  },
  {
   "cell_type": "code",
   "execution_count": null,
   "metadata": {},
   "outputs": [],
   "source": [
    "f = open(\"/media/acer/5f45949f-0fc7-4475-965b-e61989afcc10/Downloads/gpu_014.txt\", 'r')"
   ]
  },
  {
   "cell_type": "code",
   "execution_count": null,
   "metadata": {},
   "outputs": [],
   "source": [
    "data[3]"
   ]
  },
  {
   "cell_type": "code",
   "execution_count": null,
   "metadata": {},
   "outputs": [],
   "source": [
    "gpu_load = []\n",
    "for line in f:\n",
    "    idx = line.find(\"gpu_load\")+9\n",
    "    gpu_load.append(float(line[idx:(idx+4)]))"
   ]
  },
  {
   "cell_type": "code",
   "execution_count": null,
   "metadata": {},
   "outputs": [],
   "source": [
    "gpu_load = np.load(\"/media/acer/5f45949f-0fc7-4475-965b-e61989afcc10/Downloads/gpu_load_usage_drift.npy\")[-200:]"
   ]
  },
  {
   "cell_type": "code",
   "execution_count": null,
   "metadata": {},
   "outputs": [],
   "source": [
    "gpu_load.shape"
   ]
  },
  {
   "cell_type": "code",
   "execution_count": null,
   "metadata": {},
   "outputs": [],
   "source": [
    "np.unique(gpu_load)"
   ]
  },
  {
   "cell_type": "code",
   "execution_count": null,
   "metadata": {},
   "outputs": [],
   "source": [
    "gap = 10000\n",
    "iterations = np.arange(len(gpu_load))\n",
    "for i, start in enumerate(range(21)):\n",
    "    start *= 10000\n",
    "    fig, ax = plt.subplots()\n",
    "    sns.lineplot(x=iterations[start:(start+gap)], y=gpu_load[start:(start+gap)], ax=ax)\n",
    "    ax.set_ylim(0.1, 1)\n",
    "    fig.savefig(os.path.join(dst, f\"gpu_load_{i:03}.jpg\"))"
   ]
  },
  {
   "cell_type": "code",
   "execution_count": null,
   "metadata": {},
   "outputs": [],
   "source": [
    "fig, ax = plt.subplots()\n",
    "sns.lineplot(x=np.arange(len(gpu_load)), y=gpu_load, ax=ax)\n",
    "ax.set_ylim(0,1.1)\n",
    "ax.set_title(\"GPU Usage\")\n",
    "fig.savefig(os.path.join(dst, f\"gpu_load.jpg\"))"
   ]
  },
  {
   "cell_type": "code",
   "execution_count": null,
   "metadata": {},
   "outputs": [],
   "source": [
    "idx = line.find(\"gpu_load\")+9\n",
    "float(line[idx:(idx+4)])"
   ]
  },
  {
   "cell_type": "code",
   "execution_count": null,
   "metadata": {},
   "outputs": [],
   "source": [
    "data.shape"
   ]
  },
  {
   "cell_type": "code",
   "execution_count": null,
   "metadata": {},
   "outputs": [],
   "source": [
    "data.mean()"
   ]
  },
  {
   "cell_type": "code",
   "execution_count": null,
   "metadata": {},
   "outputs": [],
   "source": [
    "/home/agent/deep-learning-works/result/msmt duke cuhk01 cuhk02 cuhk03"
   ]
  },
  {
   "cell_type": "code",
   "execution_count": null,
   "metadata": {},
   "outputs": [],
   "source": [
    "root = \"/home/agent/deep-learning-works/result/msmt duke cuhk01 cuhk02 cuhk03/OSNet_IAP-msmt_duke_cuhk123-amsoftmax-AdamW_amsgrad_lr_0.0015_freeze_step-imagenet\"\n",
    "n_folders = len([f for f in os.scandir(root) if f.is_dir()])"
   ]
  },
  {
   "cell_type": "code",
   "execution_count": null,
   "metadata": {},
   "outputs": [],
   "source": [
    "os.path.join(root, sorted(os.listdir(root))[-1])"
   ]
  },
  {
   "cell_type": "code",
   "execution_count": null,
   "metadata": {},
   "outputs": [],
   "source": [
    "a / np.linalg.norm(a, axis=1, keepdims=True).repeat(2, axis=1)"
   ]
  },
  {
   "cell_type": "code",
   "execution_count": null,
   "metadata": {},
   "outputs": [],
   "source": [
    "\n",
    "num_pts = 6\n",
    "w, h = 1920, 1080\n",
    "is_ploygon = True\n",
    "heat = np.zeros((h, w))\n",
    "gaussian = draw_umich_gaussian(heat, (w//2-1,h//2-1), int(w)).T\n",
    "max_radius = h//4\n",
    "r = np.random.randint(0,h//2, num_pts)\n",
    "r = np.repeat(r.reshape(-1,1), repeats=2, axis=1)\n",
    "theta = np.random.randint(0, 360, num_pts) / 180 * math.pi\n",
    "theta.sort()\n",
    "if not is_ploygon:\n",
    "    pts = (r * np.vstack([np.cos(theta), np.sin(theta)]).T + np.repeat(np.array([[w//2-1], [h//2-1]]), num_pts, axis=1).T).astype(int)\n",
    "else:\n",
    "    pts = (r * np.vstack([np.cos(theta), np.sin(theta)]).T + np.repeat(np.array([[w//2-1], [h//2-1]]), num_pts, axis=1).T).astype(int)"
   ]
  },
  {
   "cell_type": "code",
   "execution_count": null,
   "metadata": {},
   "outputs": [],
   "source": [
    "def generate_pts(w, h, num_pts, is_ploygon, r=None, theta=None):\n",
    "    assert num_pts > 1\n",
    "\n",
    "    if r is None:\n",
    "        r = np.random.randint(0,h//2, num_pts)\n",
    "    else:\n",
    "        r = np.array(r)\n",
    "    r = np.repeat(r.reshape(-1,1), repeats=2, axis=1)\n",
    "    if theta is None:\n",
    "        theta = np.random.randint(0, 360, num_pts) / 180 * math.pi\n",
    "    else:\n",
    "        theta = np.array(theta) / 180 * math.pi\n",
    "    theta.sort()\n",
    "    if not is_ploygon:\n",
    "        pts = (r * np.vstack([np.cos(theta), np.sin(theta)]).T + np.repeat(np.array([[w//2-1], [h//2-1]]), num_pts, axis=1).T).astype(int)\n",
    "    else:\n",
    "        assert num_pts > 2\n",
    "        pts = (r * np.vstack([np.cos(theta), np.sin(theta)]).T + np.repeat(np.array([[w//2-1], [h//2-1]]), num_pts, axis=1).T).astype(int)\n",
    "    return pts\n",
    "\n",
    "def get_ellipse_angle(vec):\n",
    "    vec = vec / (np.linalg.norm(vec, axis=0, keepdims=True) + 1e-6)\n",
    "    quadrant_x, quadrant_y = vec > 0\n",
    "    phi = (np.arccos(-vec[0]) / math.pi * 180).astype(int)\n",
    "    phi = np.clip(phi, 0, 360)\n",
    "    if quadrant_x > 0:\n",
    "        if quadrant_y > 0:  \n",
    "            angle = 360 - phi\n",
    "        else:\n",
    "            angle = phi\n",
    "    else:\n",
    "        if quadrant_y > 0:  \n",
    "            angle = -phi\n",
    "        else:\n",
    "            angle = phi\n",
    "    return angle\n",
    "\n",
    "def get_ellipse_end_angle(end, vec1, vec2):\n",
    "    vec1 = vec1 / (np.linalg.norm(vec1, axis=0, keepdims=True) + 1e-6)\n",
    "    vec2 = vec2 / (np.linalg.norm(vec2, axis=0, keepdims=True) + 1e-6) \n",
    "    theta = (np.arccos(np.dot(vec1, vec2)) / math.pi * 180).astype(int) \n",
    "    theat = np.clip(theta, 0, 360)\n",
    "    det = np.linalg.det(np.vstack([vec1, vec2]))\n",
    "    if det > 0:\n",
    "        end_angle = 180 + theta\n",
    "    elif det < 0:\n",
    "        end_angle = 180 - theta\n",
    "    else:\n",
    "        end_angle = 180\n",
    "    return end_angle\n",
    "\n",
    "def get_gaussian_weight(w, h, radius):\n",
    "    heat = np.zeros((h, w))\n",
    "    gaussian = draw_umich_gaussian(heat, (w//2-1,h//2-1), int(radius)).T\n",
    "    return gaussian\n",
    "\n",
    "def build_lines(pts, is_ploygon):\n",
    "    assert pts.ndim == 2\n",
    "    assert pts.shape[1] == 2\n",
    "    assert pts.shape[0] > 1\n",
    "    lines = np.hstack([pts, np.vstack([pts[1:], pts[0]])]).reshape((-1,2,2))\n",
    "    if not is_ploygon:\n",
    "        return lines[:-1]\n",
    "    return lines\n",
    "\n",
    "def build_polygon(lines, w, h, gaussian_weight, max_radius):\n",
    "    regions = []\n",
    "    # planks = []\n",
    "    for line_idx, line_pt in enumerate(lines):\n",
    "        region = np.ones((w,h)) * -1\n",
    "        plank = np.ones((h,w)).astype(np.uint8) * 255\n",
    "        start, end = line_pt\n",
    "        vec1 = end-start\n",
    "        trace = np.linspace(start, end, 50).astype(int)\n",
    "        for pt in trace:\n",
    "            x, y = pt\n",
    "            weight = gaussian_weight[x, y]\n",
    "            radius = max_radius * weight\n",
    "            cv2.circle(plank, (x, y), int(radius), (1), -1)    \n",
    "        y_pts, x_pts = np.where(plank[...,:]==1)\n",
    "        for x, y in zip(x_pts, y_pts):\n",
    "            vec2 = np.array([x, y]) - start\n",
    "            det = np.linalg.det(np.vstack([vec1, vec2]))\n",
    "            if det > 0:\n",
    "                region[x,y] = 0\n",
    "            elif det < 0:\n",
    "                region[x,y] = 2\n",
    "            else:\n",
    "                region[x,y] = 2\n",
    "        regions.append(region)\n",
    "    \n",
    "    regions = np.array(regions)\n",
    "    assert len(regions) > 2\n",
    "    w, h = regions.shape[1:]\n",
    "    num = len(regions)\n",
    "    closed = np.ones((h,w)).astype(np.uint8) * 255\n",
    "    closed = cv2.resize(closed, (w, h))\n",
    "    pts = lines[:,0].astype(np.int32)\n",
    "    cv2.fillPoly(closed, [pts], (1,1,1))\n",
    "    closed = np.transpose(closed, (1,0))\n",
    "    overlap = regions.sum(axis=0)\n",
    "    # outer region\n",
    "    total = np.zeros((w,h))\n",
    "    # ignore region\n",
    "    total[overlap==-num] = -1\n",
    "    # inner region\n",
    "    total[closed==1] = 1\n",
    "    return total\n",
    "\n",
    "\n",
    "def build_segments(pts, lines, w, h, gaussian_weight, max_radius):\n",
    "    traces = []\n",
    "    # planks = []\n",
    "    for line_idx, line_pt in enumerate(lines):\n",
    "        start, end = line_pt\n",
    "        num_pt = np.linalg.norm(end-start, axis=0).astype(int)\n",
    "        traces.append(np.linspace(start, end, num_pt))\n",
    "    traces = np.vstack(traces)\n",
    "    traces = np.concatenate([traces[:-2], traces[1:-1], traces[2:]], axis=1).reshape(-1, 3, 2)\n",
    "    plank = np.ones((h,w)).astype(np.uint8) * 255\n",
    "    for start, middle, end in traces:\n",
    "        x, y = middle.astype(int)\n",
    "        vec1 = middle - start\n",
    "        vec2 = end - middle\n",
    "        angle = get_ellipse_angle(vec1)\n",
    "        end_angle = get_ellipse_end_angle(end, vec1, vec2)          \n",
    "        weight = gaussian_weight[x, y]\n",
    "        radius = max_radius * weight\n",
    "        cv2.ellipse(plank, (int(middle[0]), int(middle[1])), (int(radius), int(radius)), angle, 0, end_angle, 0, -1)\n",
    "        cv2.ellipse(plank, (int(middle[0]), int(middle[1])), (int(radius), int(radius)), angle+end_angle, 0, 360-end_angle, 1, -1)\n",
    "    if len(pts) == 2:\n",
    "        return plank.T\n",
    "    assert len(pts) > 2\n",
    "    traces = np.concatenate([pts[:-2], pts[1:-1], pts[2:]], axis=1).reshape(-1, 3, 2)\n",
    "    for start, middle, end in traces:\n",
    "        x, y = middle.astype(int)\n",
    "        vec1 = middle - start\n",
    "        vec2 = end - middle\n",
    "        if np.abs(vec1).sum() == 2 or np.abs(vec2).sum() == 2:\n",
    "            continue\n",
    "        angle = get_ellipse_angle(vec1)\n",
    "        end_angle = get_ellipse_end_angle(end, vec1, vec2)          \n",
    "        weight = gaussian_weight[x, y]\n",
    "        radius = max_radius * weight + 5\n",
    "        cv2.ellipse(plank, (int(middle[0]), int(middle[1])), (int(radius), int(radius)), angle, 0, end_angle, 0, -1)\n",
    "        cv2.ellipse(plank, (int(middle[0]), int(middle[1])), (int(radius), int(radius)), angle+end_angle, 0, 360-end_angle, 1, -1)\n",
    "    return plank.T\n",
    "       \n",
    "    \n",
    "def visualize_region(region_map):\n",
    "    w, h = region_map.shape\n",
    "    plain = np.ones((w,h,3))*255\n",
    "    plain[region_map==-1,:] = 0 #np.array([0,255,255])\n",
    "    plain[region_map==0,:] = np.array([255,255,0])\n",
    "    plain[region_map==1,:] = np.array([0,0,255])\n",
    "    dist = np.transpose(plain, (1,0,2)).astype(np.uint8)\n",
    "    return to_pil(dist)\n",
    ""
   ]
  },
  {
   "cell_type": "code",
   "execution_count": null,
   "metadata": {},
   "outputs": [],
   "source": [
    "np.ones((3,4)).sum(axis=1)"
   ]
  },
  {
   "cell_type": "code",
   "execution_count": null,
   "metadata": {
    "tags": [
     "outputPrepend",
     "outputPrepend",
     "outputPrepend",
     "outputPrepend"
    ]
   },
   "outputs": [],
   "source": [
    "pts = np.array([\n",
    "    [1000,200],\n",
    "    [700,600],\n",
    "    [500,160],\n",
    "    [100,1000],\n",
    "    [500,900]\n",
    "])\n",
    "w, h = 1920, 1080\n",
    "pts = generate_pts(w, h, num_pts=6, is_ploygon=False)\n",
    "# gaussian = get_gaussian_weight(w=w, h=h, radius=h)\n",
    "lines = build_lines(pts, is_ploygon=False)\n",
    "img = build_segments(pts, lines, w, h, gaussian, h//4)\n",
    "# img  = build_regions(lines, w, h, gaussian, h//4)\n",
    "visualize_region(img)"
   ]
  },
  {
   "cell_type": "code",
   "execution_count": null,
   "metadata": {},
   "outputs": [],
   "source": [
    "img = np.array(img).reshape(-1, 2)\n",
    "np.concatenate([img[1:][::2][:-1], img[::2][1:], img[1:][::2][1:]], axis=1).reshape(-1, 3, 2)"
   ]
  },
  {
   "cell_type": "code",
   "execution_count": null,
   "metadata": {},
   "outputs": [],
   "source": [
    "img"
   ]
  },
  {
   "cell_type": "code",
   "execution_count": null,
   "metadata": {},
   "outputs": [],
   "source": [
    "img[1:][::2]"
   ]
  },
  {
   "cell_type": "code",
   "execution_count": null,
   "metadata": {},
   "outputs": [],
   "source": [
    "traces = np.concatenate([pts[:-2], pts[1:-1], pts[2:]], axis=1).reshape(-1, 3, 2)"
   ]
  },
  {
   "cell_type": "code",
   "execution_count": null,
   "metadata": {},
   "outputs": [],
   "source": [
    "middle"
   ]
  },
  {
   "cell_type": "code",
   "execution_count": null,
   "metadata": {},
   "outputs": [],
   "source": [
    "plank = np.ones((h,w)).astype(np.uint8) * 255\n",
    "plank = cv2.resize(plank, (w, h))\n",
    "for start, middle, end in img[1]:\n",
    "    x, y = start\n",
    "    vec1 = middle - start\n",
    "    vec2 = end - middle\n",
    "    angle = get_ellipse_angle(vec1)\n",
    "    end_angle = get_ellipse_end_angle(end, vec1, vec2)     \n",
    "    radius = 100\n",
    "    cv2.ellipse(plank, (int(middle[0]), int(middle[1])), (int(radius), int(radius)), angle, 0, end_angle, 0, -1)\n",
    "    # cv2.ellipse(plank, (int(middle[0]), int(middle[1])), (int(radius), int(radius)), angle+end_angle, 0, 360-end_angle, 1, -1)\n",
    "    cv2.circle(plank, (int(middle[0]), int(middle[1])), int(10), (100), -1)\n",
    "    cv2.line(plank, (int(start[0]), int(start[1])), (int(middle[0]), int(middle[1])), 1, 2)\n",
    "    cv2.line(plank, (int(middle[0]), int(middle[1])), (int(end[0]), int(end[1])), 1, 2)\n",
    "to_pil(plank)"
   ]
  },
  {
   "cell_type": "code",
   "execution_count": null,
   "metadata": {},
   "outputs": [],
   "source": [
    "normalized_vec1, normalized_vec2"
   ]
  },
  {
   "cell_type": "code",
   "execution_count": null,
   "metadata": {},
   "outputs": [],
   "source": []
  },
  {
   "cell_type": "code",
   "execution_count": null,
   "metadata": {},
   "outputs": [],
   "source": [
    "\n",
    "a, b = traces[:2]\n",
    "vec = b - a\n",
    "normalized_vec = vec / np.linalg.norm(vec, axis=0, keepdims=True)"
   ]
  },
  {
   "cell_type": "code",
   "execution_count": null,
   "metadata": {},
   "outputs": [],
   "source": [
    "traces = np.concatenate([traces[:-2], traces[1:-1], traces[2:]], axis=1).reshape(-1, 3, 2)\n",
    "start, middle, end = traces[1]"
   ]
  },
  {
   "cell_type": "code",
   "execution_count": null,
   "metadata": {},
   "outputs": [],
   "source": [
    "x, y = start\n",
    "vec1 = middle - start\n",
    "vec2 = end - middle\n",
    "normalized_vec1 = vec1 / np.linalg.norm(vec, axis=0, keepdims=True)\n",
    "normalized_vec2 = vec2 / np.linalg.norm(vec, axis=0, keepdims=True) "
   ]
  },
  {
   "cell_type": "code",
   "execution_count": null,
   "metadata": {},
   "outputs": [],
   "source": [
    "traces.dtype"
   ]
  },
  {
   "cell_type": "code",
   "execution_count": null,
   "metadata": {},
   "outputs": [],
   "source": [
    "\n",
    "(np.arccos(np.dot(normalized_vec1, normalized_vec2)) / math.pi * 180).astype(int) + 1"
   ]
  },
  {
   "cell_type": "code",
   "execution_count": null,
   "metadata": {},
   "outputs": [],
   "source": []
  },
  {
   "cell_type": "code",
   "execution_count": null,
   "metadata": {},
   "outputs": [],
   "source": [
    "img=np.ones((400, 600)).astype(np.uint8) * 255\n",
    "start = np.array([299,50])\n",
    "middle = np.array([199,199])\n",
    "end = np.array([450,50])\n",
    "vec1 = middle - start\n",
    "vec2 = end - middle\n",
    "angle = get_ellipse_angle(vec1)\n",
    "end_angle = get_ellipse_end_angle(end, vec1, vec2)\n",
    "radius=100\n",
    "\n",
    "cv2.ellipse(img, (int(middle[0]), int(middle[1])), (int(radius), int(radius)), angle+end_angle, 0, 360-end_angle, 1, -1)\n",
    "cv2.line(img, (int(start[0]), int(start[1])), (int(middle[0]), int(middle[1])), 1, 2)\n",
    "cv2.line(img, (int(middle[0]), int(middle[1])), (int(end[0]), int(end[1])), 100, 2)\n",
    "cv2.circle(img, (int(start[0]), int(start[1])), int(20), (10), -1)\n",
    "to_pil(img)"
   ]
  },
  {
   "cell_type": "code",
   "execution_count": null,
   "metadata": {},
   "outputs": [],
   "source": [
    "end_angle"
   ]
  },
  {
   "cell_type": "code",
   "execution_count": null,
   "metadata": {},
   "outputs": [],
   "source": [
    "\n",
    "plain = np.ones((w,h,3))*255\n",
    "plain[region_map==-1,:] = 0\n",
    "plain[region_map==0,:] = np.array([255,255,0])\n",
    "plain[region_map==1,:] = np.array([0,0,255])\n",
    "dist = np.transpose(plain, (1,0,2)).astype(np.uint8)\n",
    "to_pil(dist)"
   ]
  },
  {
   "cell_type": "code",
   "execution_count": null,
   "metadata": {},
   "outputs": [],
   "source": [
    "\n",
    "\n",
    "\n",
    "for line_idx, line_pt in enumerate(lines):\n",
    "    region = np.ones((w,h)) * -1\n",
    "    plank = np.ones((h,w,3)).astype(np.uint8) * 255\n",
    "    start, end = line_pt[0], line_pt[1]\n",
    "    vec1 = end-start\n",
    "    line = np.linspace(start, end, 50).astype(int)\n",
    "    for pt in line:\n",
    "        x, y = pt\n",
    "        weight = gaussian[x, y]\n",
    "        radius = max_radius * weight\n",
    "        cv2.circle(plank, (x, y), int(radius), (1,1,1), -1)    \n",
    "    y_pts, x_pts, _ = np.where(plank[...,:]==np.array((1,1,1)))\n",
    "    for x, y in zip(x_pts, y_pts):\n",
    "        vec2 = np.array([x, y]) - start\n",
    "        det = np.linalg.det(np.vstack([vec1, vec2]))\n",
    "        if det > 0:\n",
    "            region[x,y] = 0\n",
    "        elif det < 0:\n",
    "            region[x,y] = 1\n",
    "    regions.append(region)\n",
    "    planks.append(plank)"
   ]
  },
  {
   "cell_type": "code",
   "execution_count": null,
   "metadata": {},
   "outputs": [],
   "source": [
    "np.save(\"../external/test_region_5.npy\", np.array(regions))"
   ]
  },
  {
   "cell_type": "code",
   "execution_count": null,
   "metadata": {},
   "outputs": [],
   "source": [
    "regions = np.array(regions)\n",
    "num = len(regions)"
   ]
  },
  {
   "cell_type": "code",
   "execution_count": null,
   "metadata": {},
   "outputs": [],
   "source": [
    "plain1 = np.ones((w,h,3))*255\n",
    "plain1[a==-1,:] = 100"
   ]
  },
  {
   "cell_type": "code",
   "execution_count": null,
   "metadata": {},
   "outputs": [],
   "source": [
    "lines = np.array([\n",
    "    [[480,270],[480,810]],\n",
    "    [[480,810],[1440,810]],\n",
    "    # [[1440,810],[1440,270]],\n",
    "    # [[1440,270],[480,270]],\n",
    "    [[1440,810],[480,270]]\n",
    "])\n",
    "lines[:,0]"
   ]
  },
  {
   "cell_type": "code",
   "execution_count": null,
   "metadata": {},
   "outputs": [],
   "source": [
    "total.shape"
   ]
  },
  {
   "cell_type": "code",
   "execution_count": null,
   "metadata": {},
   "outputs": [],
   "source": [
    "regions = np.load(\"../external/test_region_5.npy\")\n",
    "num = len(regions)\n",
    "w, h = regions.shape[1:]\n",
    "closed = np.ones((h,w,3)).astype(np.uint8) * 255\n",
    "closed = cv2.resize(closed, (w, h))\n",
    "pts = lines[:,0].astype(np.int32)\n",
    "cv2.fillPoly(closed, [pts], (1,1,1))\n",
    "closed = np.transpose(closed, (2,1,0))[0]\n",
    "overlap = regions.sum(axis=0)\n",
    "total = np.zeros((w,h))\n",
    "total[overlap==-num] = -1\n",
    "total[closed==1] = 1\n",
    ""
   ]
  },
  {
   "cell_type": "code",
   "execution_count": null,
   "metadata": {},
   "outputs": [],
   "source": []
  },
  {
   "cell_type": "code",
   "execution_count": null,
   "metadata": {},
   "outputs": [],
   "source": [
    "closed = np.ones((h,w,3)).astype(np.uint8) * 255\n",
    "closed = cv2.resize(closed, (w, h))\n",
    "pts = lines[:,0].astype(np.int32)\n",
    "cv2.fillPoly(closed, [pts], (1,1,1))\n",
    "closed = np.transpose(closed, (2,1,0))[0]\n",
    "total = np.ones((w,h)) * -1\n",
    "plain = np.ones((w,h,3))*255\n",
    "plain[a==-num,:] = 100\n",
    "# plain[closed==1,:] = 50\n",
    "dist = np.transpose(plain, (1,0,2)).astype(np.uint8)\n",
    "to_pil(dist)"
   ]
  },
  {
   "cell_type": "code",
   "execution_count": null,
   "metadata": {},
   "outputs": [],
   "source": [
    "a.shape"
   ]
  },
  {
   "cell_type": "code",
   "execution_count": null,
   "metadata": {},
   "outputs": [],
   "source": [
    "plain = np.ones((w,h,3))*255\n",
    "plain[a==0,:] = 100\n",
    "dist = np.transpose(plain, (1,0,2)).astype(np.uint8)\n",
    "to_pil(dist)"
   ]
  },
  {
   "cell_type": "code",
   "execution_count": null,
   "metadata": {},
   "outputs": [],
   "source": []
  },
  {
   "cell_type": "code",
   "execution_count": null,
   "metadata": {},
   "outputs": [],
   "source": [
    "plank[159,254,1]"
   ]
  },
  {
   "cell_type": "code",
   "execution_count": null,
   "metadata": {},
   "outputs": [],
   "source": [
    "plank = np.zeros((1080, 1920)).astype(np.uint8)\n",
    "plank[:, :1920//2] = 1\n",
    "cv2.rectangle(plank, (0,0), (1919,1079), 2, 300)\n",
    "plank = plank.T\n",
    "region = np.zeros((1920, 1080))\n",
    "region[plank==1] = 1\n",
    "region[plank==2] = -1"
   ]
  },
  {
   "cell_type": "code",
   "execution_count": null,
   "metadata": {},
   "outputs": [],
   "source": [
    "visualize_region(plank)"
   ]
  },
  {
   "cell_type": "code",
   "execution_count": null,
   "metadata": {},
   "outputs": [],
   "source": []
  },
  {
   "cell_type": "code",
   "execution_count": null,
   "metadata": {},
   "outputs": [],
   "source": [
    "np.save(\"/home/allen/test_region.npy\", region[np.newaxis, ...])"
   ]
  },
  {
   "cell_type": "code",
   "execution_count": null,
   "metadata": {},
   "outputs": [],
   "source": [
    "region_map.shape"
   ]
  },
  {
   "cell_type": "code",
   "execution_count": null,
   "metadata": {},
   "outputs": [],
   "source": [
    "from scipy.linalg.blas import dgemm"
   ]
  },
  {
   "cell_type": "code",
   "execution_count": null,
   "metadata": {},
   "outputs": [],
   "source": [
    "a = np.random.random((1,10))\n",
    "b = np.random.random((9,10))"
   ]
  },
  {
   "cell_type": "code",
   "execution_count": null,
   "metadata": {},
   "outputs": [],
   "source": [
    "def dot_py(A,B):\n",
    "    m, n = A.shape\n",
    "    p = B.shape[1]\n",
    "\n",
    "    C = np.zeros((m,p))\n",
    "\n",
    "    for i in range(0,m):\n",
    "        for j in range(0,p):\n",
    "            for k in range(0,n):\n",
    "                C[i,j] += A[i,k]*B[k,j] \n",
    "    return C"
   ]
  },
  {
   "cell_type": "code",
   "execution_count": null,
   "metadata": {},
   "outputs": [],
   "source": [
    "dot_py(a,b.T)"
   ]
  },
  {
   "cell_type": "code",
   "execution_count": null,
   "metadata": {},
   "outputs": [],
   "source": [
    "import numba as nb\n",
    "dot_nb = nb.jit(nb.float64[:,:](nb.float64[:,:], nb.float64[:,:]), nopython = True)(dot_py)"
   ]
  },
  {
   "cell_type": "code",
   "execution_count": null,
   "metadata": {},
   "outputs": [],
   "source": [
    "result = np.load(\"/home/acer/Documents/Counting/demo/counting_result/counting_result_region2_200602-101802.npy\")"
   ]
  },
  {
   "cell_type": "code",
   "execution_count": null,
   "metadata": {},
   "outputs": [],
   "source": [
    "import pandas as pd"
   ]
  },
  {
   "cell_type": "code",
   "execution_count": null,
   "metadata": {},
   "outputs": [],
   "source": [
    "df = pd.DataFrame(data=result, columns=['date', 'timestamp', 'side', 'count'])"
   ]
  },
  {
   "cell_type": "code",
   "execution_count": null,
   "metadata": {},
   "outputs": [],
   "source": [
    "df.head()['count']"
   ]
  },
  {
   "cell_type": "code",
   "execution_count": null,
   "metadata": {},
   "outputs": [],
   "source": [
    "df.to_csv(\"../hello.csv\")"
   ]
  }
 ],
 "metadata": {
  "kernelspec": {
   "display_name": "Python 3",
   "language": "python",
   "name": "python3"
  },
  "language_info": {
   "codemirror_mode": {
    "name": "ipython",
    "version": 3
   },
   "file_extension": ".py",
   "mimetype": "text/x-python",
   "name": "python",
   "nbconvert_exporter": "python",
   "pygments_lexer": "ipython3",
   "version": "3.6.8-final"
  }
 },
 "nbformat": 4,
 "nbformat_minor": 2
}