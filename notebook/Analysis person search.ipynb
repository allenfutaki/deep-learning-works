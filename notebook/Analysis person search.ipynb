{
 "cells": [
  {
   "cell_type": "code",
   "execution_count": null,
   "metadata": {},
   "outputs": [],
   "source": [
    "import torch\n",
    "import torch.nn as nn\n",
    "import torch.nn.functional as F\n",
    "import torchvision.models as models\n",
    "import numpy as np\n",
    "\n",
    "from PIL import Image, ImageOps\n",
    "from collections import defaultdict\n",
    "import sys\n",
    "sys.path.insert(0, '/media/allen/mass/deep-learning-works/')\n",
    "from data import data_manager\n",
    "from config.config_manager import _C as cfg, build_output\n",
    "from tools.logger import setup_logger\n",
    "\n",
    "logger = setup_logger(\".\")\n",
    "cfg.merge_from_file(\"../reid_trick.yml\")\n",
    "cfg.DATASET.TRAIN_PATH = \"/media/allen/mass/reid/\"\n",
    "cfg.DATASET.NAME = 'market1501'"
   ]
  },
  {
   "cell_type": "code",
   "execution_count": null,
   "metadata": {},
   "outputs": [],
   "source": [
    "from data.build_data import build_reid_dataset\n",
    "dataset = data_manager.init_img_dataset(cfg)\n",
    "pil_gallery = build_reid_dataset(dataset.gallery, return_indice=True)\n",
    "pil_query = build_reid_dataset(dataset.query, return_indice=True)"
   ]
  },
  {
   "cell_type": "code",
   "execution_count": null,
   "metadata": {},
   "outputs": [],
   "source": [
    "rs = np.load(\"evaluation/reid/OSNet_merge_cels_triplet_center_Adam_lr_0.00035_warmup_10_0.01_plateau_10_flip_crop_erase_imagenet/2019-11-07_16-46-36/rs.npy\")\n",
    "fg_ = np.load(\"evaluation/reid/OSNet_merge_cels_triplet_center_Adam_lr_0.00035_warmup_10_0.01_plateau_10_flip_crop_erase_imagenet/2019-11-07_16-46-36/last.npy\")"
   ]
  },
  {
   "cell_type": "code",
   "execution_count": null,
   "metadata": {},
   "outputs": [],
   "source": [
    "fg = {}\n",
    "for i in range(rs.shape[0]):\n",
    "    remove = fg_[i] == -1\n",
    "    fg[i] = fg_[i][~remove]"
   ]
  },
  {
   "cell_type": "code",
   "execution_count": null,
   "metadata": {},
   "outputs": [],
   "source": [
    "hard_query = np.arange(len(rs))[rs >= 10000]\n",
    "\n",
    "hard_gallery = last[rs >= 10000]\n",
    "\n",
    "def get_concat_h(im1, im2):\n",
    "    dst = Image.new('RGB', (im1.width + im2.width, im1.height))\n",
    "    dst.paste(im1, (0, 0))\n",
    "    dst.paste(im2, (im1.width, 0))\n",
    "    return dst\n",
    "\n",
    "os.makedirs('/home/allen.jc.lin/market1501/hard_sample')\n",
    "\n",
    "for i, (q, g) in enumerate(zip(hard_query, hard_gallery)):\n",
    "    img = get_concat_h(pil_query[q][0], pil_gallery[g][0])\n",
    "    img.save('/home/allen.jc.lin/market1501/hard_sample/{}.jpg'.format(i))"
   ]
  },
  {
   "cell_type": "code",
   "execution_count": null,
   "metadata": {},
   "outputs": [],
   "source": [
    "for i in range(rs.shape[0]):\n",
    "    img, q_pid, _, _ = pil_query[i]\n",
    "    img = ImageOps.expand(img,border=5,fill='yellow')\n",
    "    for j in range(20):\n",
    "        g_img, g_pid, _, _ = pil_gallery[fg[i][j]]\n",
    "        if g_pid != q_pid:\n",
    "            g_img = ImageOps.expand(g_img,border=5,fill='red')\n",
    "        else:\n",
    "            g_img = ImageOps.expand(g_img,border=5,fill='green')\n",
    "        img = get_concat_h(img, g_img)\n",
    "    break"
   ]
  }
 ],
 "metadata": {
  "kernelspec": {
   "display_name": "Python 3",
   "language": "python",
   "name": "python3"
  },
  "language_info": {
   "codemirror_mode": {
    "name": "ipython",
    "version": 3
   },
   "file_extension": ".py",
   "mimetype": "text/x-python",
   "name": "python",
   "nbconvert_exporter": "python",
   "pygments_lexer": "ipython3",
   "version": "3.6.8"
  }
 },
 "nbformat": 4,
 "nbformat_minor": 2
}
