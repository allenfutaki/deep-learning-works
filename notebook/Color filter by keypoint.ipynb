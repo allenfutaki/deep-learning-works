{
 "cells": [
  {
   "cell_type": "code",
   "execution_count": 1,
   "metadata": {},
   "outputs": [],
   "source": [
    "import torch\n",
    "import torch.nn as nn\n",
    "import torch.nn.functional as F\n",
    "from torchvision import transforms as T\n",
    "trans = T.Compose([T.ToTensor(), T.Normalize(mean=[0.5,0.5,0.5], std=[0.5,0.5,0.5])])\n",
    "\n",
    "import numpy as np\n",
    "from scipy.spatial.distance import cdist\n",
    "from scipy import stats\n",
    "\n",
    "import cv2\n",
    "from PIL import Image\n",
    "from skimage.segmentation import slic\n",
    "from skimage import io\n",
    "from skimage import img_as_float\n",
    "\n",
    "import os\n",
    "from itertools import product\n",
    "import sys\n",
    "sys.path.insert(0, '/media/allen/mass/pytorch_Realtime_Multi-Person_Pose_Estimation/')\n",
    "from network.rtpose_vgg import get_model\n",
    "from network.post import decode_pose, plot_pose\n",
    "from training.datasets.coco_data.preprocessing import (inception_preprocess,\n",
    "                                              rtpose_preprocess,\n",
    "                                              ssd_preprocess, vgg_preprocess)\n",
    "\n"
   ]
  },
  {
   "cell_type": "code",
   "execution_count": null,
   "metadata": {},
   "outputs": [],
   "source": []
  },
  {
   "cell_type": "code",
   "execution_count": null,
   "metadata": {},
   "outputs": [],
   "source": [
    "(0-'nose'\t1-'neck' \n",
    "2-'' 3-'right_elbow' 4-'right_wrist'\n",
    "5-''  6-'left_elbow'  7-'left_wrist'  \n",
    "8-'right_hip'      9-'right_knee'  10-'right_ankle'\t\n",
    "11-'left_hip'      12-'left_knee'  13-'left_ankle'\n",
    "14-'right_eye'\t   15-'left_eye'   \n",
    "16-'right_ear'     17-'left_ear'"
   ]
  },
  {
   "cell_type": "code",
   "execution_count": 2,
   "metadata": {},
   "outputs": [],
   "source": [
    "right_shoulder = 2\n",
    "left_shoulder = 5\n",
    "right_hip = 8\n",
    "left_hip = 11\n",
    "right_knee = 9\n",
    "left_knee = 12\n",
    "UPPER = [2, 5, 8, 11]\n",
    "THIGH1 = [8, 9]\n",
    "THIGH2 = [11, 12]"
   ]
  },
  {
   "cell_type": "code",
   "execution_count": 9,
   "metadata": {},
   "outputs": [
    {
     "ename": "NameError",
     "evalue": "name 'UPPER' is not defined",
     "output_type": "error",
     "traceback": [
      "\u001b[0;31m---------------------------------------------------------------------------\u001b[0m",
      "\u001b[0;31mNameError\u001b[0m                                 Traceback (most recent call last)",
      "\u001b[0;32m<ipython-input-9-fcc552978410>\u001b[0m in \u001b[0;36m<module>\u001b[0;34m\u001b[0m\n\u001b[1;32m     70\u001b[0m     \u001b[0;32mreturn\u001b[0m \u001b[0msubset\u001b[0m\u001b[0;34m,\u001b[0m \u001b[0mcandidate\u001b[0m\u001b[0;34m\u001b[0m\u001b[0;34m\u001b[0m\u001b[0m\n\u001b[1;32m     71\u001b[0m \u001b[0;34m\u001b[0m\u001b[0m\n\u001b[0;32m---> 72\u001b[0;31m \u001b[0;32mdef\u001b[0m \u001b[0mget_sample_points\u001b[0m\u001b[0;34m(\u001b[0m\u001b[0mimg\u001b[0m\u001b[0;34m,\u001b[0m \u001b[0mperson\u001b[0m\u001b[0;34m,\u001b[0m \u001b[0mcandidate\u001b[0m\u001b[0;34m,\u001b[0m \u001b[0mpart\u001b[0m\u001b[0;34m=\u001b[0m\u001b[0mUPPER\u001b[0m\u001b[0;34m)\u001b[0m\u001b[0;34m:\u001b[0m\u001b[0;34m\u001b[0m\u001b[0;34m\u001b[0m\u001b[0m\n\u001b[0m\u001b[1;32m     73\u001b[0m     \u001b[0msamples\u001b[0m \u001b[0;34m=\u001b[0m \u001b[0;34m[\u001b[0m\u001b[0;34m]\u001b[0m\u001b[0;34m\u001b[0m\u001b[0;34m\u001b[0m\u001b[0m\n\u001b[1;32m     74\u001b[0m     \u001b[0mpoints\u001b[0m \u001b[0;34m=\u001b[0m \u001b[0;34m[\u001b[0m\u001b[0;34m]\u001b[0m\u001b[0;34m\u001b[0m\u001b[0;34m\u001b[0m\u001b[0m\n",
      "\u001b[0;31mNameError\u001b[0m: name 'UPPER' is not defined"
     ]
    }
   ],
   "source": [
    "def load_pose_model():\n",
    "    model = get_model('vgg19') \n",
    "    weight_name = '/media/allen/mass/pytorch_Realtime_Multi-Person_Pose_Estimation/network/pose_model_scratch.pth'\n",
    "    checkpoint = torch.load(weight_name)\n",
    "    model_dict = model.state_dict()\n",
    "    ckpt = {k.replace(\"module.\", \"\"): v for k, v in checkpoint.items() if k.replace(\"module.\", \"\") in model_dict and torch.isnan(v).sum() == 0}\n",
    "    model_dict.update(ckpt)\n",
    "    model.load_state_dict(model_dict)\n",
    "    model = model.cuda()\n",
    "    # model.float()\n",
    "    model.eval()\n",
    "    return model\n",
    "\n",
    "class COLORS():\n",
    "    BGR = np.array([[int(b),int(g),int(r)] for b,g,r in product([0,255],repeat = 3)])\n",
    "    H = np.array([[  10000.],\n",
    "                    [  0.],\n",
    "                    [120.],\n",
    "                    [ 60.],\n",
    "                    [240.],\n",
    "                    [ 44.],\n",
    "                    [180.],\n",
    "                    [  10000.],\n",
    "                    [  10000.]])\n",
    "    \n",
    "    def __init__(self):\n",
    "        self.color_names = ['Black',\n",
    "                            'Red',\n",
    "                            'Green',\n",
    "                            'Yellow',\n",
    "                            'Blue',\n",
    "                            'Magenta',\n",
    "                            'Aqua',\n",
    "                            'Gray',\n",
    "                            'White']        \n",
    "        self.color_np = [(int(b),int(g),int(r)) for b,g,r in product([0,255],repeat = 3)]\n",
    "    def get_color(self, c):\n",
    "        return self.color_names[c]\n",
    "    def get_color_value(self, c):\n",
    "        return self.color_np[c]\n",
    "\n",
    "Color = COLORS()\n",
    "\n",
    "def get_pose(model, img):    \n",
    "    pil_img = cv2.cvtColor(img, cv2.COLOR_BGR2RGB)   \n",
    "    pil_img = Image.fromarray(pil_img)    \n",
    "        \n",
    "    batch_var = trans(pil_img).unsqueeze(0).cuda()\n",
    "    with torch.no_grad():\n",
    "        predicted_outputs, _ = model(batch_var)\n",
    "\n",
    "    output1, output2 = predicted_outputs[-2], predicted_outputs[-1]\n",
    "    heatmap = output2.cpu().data.numpy().transpose(0, 2, 3, 1)[0]\n",
    "    paf = output1.cpu().data.numpy().transpose(0, 2, 3, 1)[0]\n",
    "\n",
    "    real_shape = img.shape\n",
    "\n",
    "    heatmap = cv2.resize(heatmap, None, fx=8, fy=8, interpolation=cv2.INTER_CUBIC)\n",
    "    heatmap = heatmap[0:real_shape[0], 0:real_shape[1], :]\n",
    "    heatmap = cv2.resize(heatmap, (img.shape[1], img.shape[0]), interpolation=cv2.INTER_CUBIC)\n",
    "\n",
    "    paf = cv2.resize(paf, None, fx=8, fy=8, interpolation=cv2.INTER_CUBIC)\n",
    "    paf = paf[0:real_shape[0], 0:real_shape[1], :]\n",
    "    paf = cv2.resize(paf, (img.shape[1], img.shape[0]), interpolation=cv2.INTER_CUBIC)\n",
    "\n",
    "    param = {'thre1': 0.1, 'thre2': 0.05, 'thre3': 0.5}\n",
    "    candidate, subset = decode_pose(\n",
    "        img, param, heatmap, paf)  \n",
    "    \n",
    "    return subset, candidate\n",
    "\n",
    "def get_sample_points(img, person, candidate, part=UPPER):\n",
    "    samples = []\n",
    "    points = []\n",
    "    if (person[part] > 0).sum() == len(part):              \n",
    "\n",
    "        x_coord1 = np.linspace(candidate[int(person[right_shoulder])][0], \n",
    "                              candidate[int(person[left_hip])][0], num=10).astype(int)\n",
    "        y_coord1 = np.linspace(candidate[int(person[right_shoulder])][1], \n",
    "                              candidate[int(person[left_hip])][1], num=10).astype(int)\n",
    "        x_coord2 = np.linspace(candidate[int(person[left_shoulder])][0], \n",
    "                              candidate[int(person[right_hip])][0], num=10).astype(int)\n",
    "        y_coord2 = np.linspace(candidate[int(person[left_shoulder])][1], \n",
    "                              candidate[int(person[right_hip])][1], num=10).astype(int)\n",
    "        \n",
    "        for x, y in zip(x_coord1, y_coord1):\n",
    "            samples.append(img[y, x, :])            \n",
    "        for x, y in zip(x_coord2, y_coord2):\n",
    "            samples.append(img[y, x, :])\n",
    "        points = [np.concatenate([x_coord1, x_coord2]), np.concatenate([y_coord1, y_coord2])]\n",
    "    samples = np.array(samples)\n",
    "    points = np.transpose(np.array(points))\n",
    "    \n",
    "    return samples, points\n",
    "\n",
    "def get_color(orig, samples, points, plot=False, use_hsv=False):\n",
    "    h, w = orig.shape[:2]    \n",
    "    to_plot = orig.copy() \n",
    "    \n",
    "    if use_hsv:\n",
    "        n = samples.shape[0]\n",
    "        if (samples[:,2] < 40).sum() > n/2:\n",
    "            mode = 0\n",
    "        else:\n",
    "            if (samples[:,1] > 50).sum() < n/2:\n",
    "                if (samples[:,2] < 90).sum() > n/2:\n",
    "                    mode = 7\n",
    "                else:\n",
    "                    mode = 8\n",
    "            else:\n",
    "                dist = cdist(samples[:,0][:,np.newaxis], Color.H).argmin(axis=1)\n",
    "                mode = stats.mode(dist)[0][0]              \n",
    "    else:\n",
    "        dist = cdist(samples, Color.BGR).argmin(axis=1)\n",
    "        mode = stats.mode(dist)[0][0]    \n",
    "    \n",
    "    color = Color.get_color(mode)\n",
    "    if plot:\n",
    "        for x, y in points:\n",
    "            cv2.circle(to_plot, (x,y), 4, Color.get_color_value(mode), thickness=-1)\n",
    "            \n",
    "    return color, to_plot\n",
    "\n",
    "def superpixelize(img, path, use_hsv=False):\n",
    "    image = io.imread(path)\n",
    "    segments = slic(img_as_float(image), n_segments=150,slic_zero=True)\n",
    "    to_plot = img.copy()\n",
    "    for v in np.unique(segments):\n",
    "        # construct a mask for the segment so we can compute image\n",
    "        # statistics for *only* the masked region\n",
    "        if use_hsv:\n",
    "            temp = to_plot[:,:,0]\n",
    "            avg = temp[segments == v].mean()\n",
    "            temp[segments == v] = avg\n",
    "            to_plot[:,:,0] = temp\n",
    "        else:\n",
    "            for i in range(3):\n",
    "                temp = to_plot[:,:,i]\n",
    "                avg = temp[segments == v].mean()\n",
    "                temp[segments == v] = avg\n",
    "                to_plot[:,:,i] = temp\n",
    "    return to_plot\n",
    "\n",
    "def to_normal_hsv(cv_HSV):\n",
    "    cv_HSV[...,0] *= 2 \n",
    "    cv_HSV[...,1] = cv_HSV[...,1] / 2.55 \n",
    "    cv_HSV[...,2] = cv_HSV[...,2] / 2.55 \n",
    "    \n",
    "def get_concat_h(im1, im2):\n",
    "    dst = Image.new('RGB', (im1.width + im2.width, im1.height))\n",
    "    dst.paste(im1, (0, 0))\n",
    "    dst.paste(im2, (im1.width, 0))\n",
    "    return dst"
   ]
  },
  {
   "cell_type": "code",
   "execution_count": 4,
   "metadata": {},
   "outputs": [
    {
     "name": "stdout",
     "output_type": "stream",
     "text": [
      "Bulding VGG19\n"
     ]
    }
   ],
   "source": [
    "model = load_pose_model()"
   ]
  },
  {
   "cell_type": "code",
   "execution_count": 54,
   "metadata": {},
   "outputs": [
    {
     "data": {
      "text/plain": [
       "array([ 76., 255.,  85.])"
      ]
     },
     "execution_count": 54,
     "metadata": {},
     "output_type": "execute_result"
    }
   ],
   "source": [
    "test = np.zeros_like(img)\n",
    "test[...,0] = 0\n",
    "test[...,1] = 0\n",
    "test[...,2] = 255\n",
    "test = test.astype(np.uint8)\n",
    "ycc_img = cv2.cvtColor(test, cv2.COLOR_BGR2YCR_CB)\n",
    "ycc_img[0].mean(axis=0)"
   ]
  },
  {
   "cell_type": "code",
   "execution_count": 16,
   "metadata": {
    "scrolled": true
   },
   "outputs": [
    {
     "data": {
      "text/plain": [
       "array([[[0.43921569, 0.44313725, 0.19215686],\n",
       "        [0.42745098, 0.43137255, 0.18039216],\n",
       "        [0.4627451 , 0.4745098 , 0.23137255],\n",
       "        ...,\n",
       "        [0.83921569, 0.92156863, 0.90980392],\n",
       "        [0.83921569, 0.92156863, 0.90980392],\n",
       "        [0.83921569, 0.92156863, 0.90980392]],\n",
       "\n",
       "       [[0.40392157, 0.37647059, 0.12941176],\n",
       "        [0.40784314, 0.38823529, 0.14117647],\n",
       "        [0.40784314, 0.38823529, 0.14901961],\n",
       "        ...,\n",
       "        [0.83921569, 0.92156863, 0.90980392],\n",
       "        [0.83529412, 0.91764706, 0.90588235],\n",
       "        [0.83529412, 0.91764706, 0.90588235]],\n",
       "\n",
       "       [[0.52156863, 0.43529412, 0.20784314],\n",
       "        [0.49411765, 0.41568627, 0.18823529],\n",
       "        [0.49803922, 0.41960784, 0.19215686],\n",
       "        ...,\n",
       "        [0.84313725, 0.9254902 , 0.91372549],\n",
       "        [0.84313725, 0.9254902 , 0.91372549],\n",
       "        [0.83921569, 0.92156863, 0.90980392]],\n",
       "\n",
       "       ...,\n",
       "\n",
       "       [[0.56470588, 0.49411765, 0.46666667],\n",
       "        [0.56470588, 0.49411765, 0.46666667],\n",
       "        [0.56078431, 0.49803922, 0.47058824],\n",
       "        ...,\n",
       "        [0.61568627, 0.64705882, 0.60784314],\n",
       "        [0.61568627, 0.64705882, 0.60784314],\n",
       "        [0.61176471, 0.64705882, 0.60784314]],\n",
       "\n",
       "       [[0.57254902, 0.50588235, 0.47058824],\n",
       "        [0.57647059, 0.50980392, 0.4745098 ],\n",
       "        [0.58431373, 0.51764706, 0.48235294],\n",
       "        ...,\n",
       "        [0.6       , 0.63529412, 0.59607843],\n",
       "        [0.60392157, 0.63921569, 0.6       ],\n",
       "        [0.60392157, 0.63921569, 0.6       ]],\n",
       "\n",
       "       [[0.58431373, 0.51764706, 0.48235294],\n",
       "        [0.58823529, 0.52156863, 0.48627451],\n",
       "        [0.59215686, 0.5254902 , 0.49019608],\n",
       "        ...,\n",
       "        [0.60784314, 0.64313725, 0.60392157],\n",
       "        [0.61176471, 0.64705882, 0.60784314],\n",
       "        [0.61176471, 0.64705882, 0.60784314]]])"
      ]
     },
     "execution_count": 16,
     "metadata": {},
     "output_type": "execute_result"
    }
   ],
   "source": [
    "img_as_float(img)"
   ]
  },
  {
   "cell_type": "code",
   "execution_count": 14,
   "metadata": {
    "scrolled": true
   },
   "outputs": [
    {
     "data": {
      "text/plain": [
       "(450, 173, 3)"
      ]
     },
     "execution_count": 14,
     "metadata": {},
     "output_type": "execute_result"
    }
   ],
   "source": [
    "io.imread(path).shape"
   ]
  },
  {
   "cell_type": "code",
   "execution_count": 10,
   "metadata": {},
   "outputs": [
    {
     "ename": "NameError",
     "evalue": "name 'model' is not defined",
     "output_type": "error",
     "traceback": [
      "\u001b[0;31m---------------------------------------------------------------------------\u001b[0m",
      "\u001b[0;31mNameError\u001b[0m                                 Traceback (most recent call last)",
      "\u001b[0;32m<ipython-input-10-0813cbcd92b4>\u001b[0m in \u001b[0;36m<module>\u001b[0;34m\u001b[0m\n\u001b[1;32m      5\u001b[0m \u001b[0;34m\u001b[0m\u001b[0m\n\u001b[1;32m      6\u001b[0m \u001b[0mhsv\u001b[0m \u001b[0;34m=\u001b[0m \u001b[0;32mTrue\u001b[0m\u001b[0;34m\u001b[0m\u001b[0;34m\u001b[0m\u001b[0m\n\u001b[0;32m----> 7\u001b[0;31m \u001b[0msubset\u001b[0m\u001b[0;34m,\u001b[0m \u001b[0mcandidate\u001b[0m \u001b[0;34m=\u001b[0m \u001b[0mget_pose\u001b[0m\u001b[0;34m(\u001b[0m\u001b[0mmodel\u001b[0m\u001b[0;34m,\u001b[0m \u001b[0mimg\u001b[0m\u001b[0;34m)\u001b[0m\u001b[0;34m\u001b[0m\u001b[0;34m\u001b[0m\u001b[0m\n\u001b[0m\u001b[1;32m      8\u001b[0m \u001b[0mto_normal_hsv\u001b[0m\u001b[0;34m(\u001b[0m\u001b[0mhsv_img\u001b[0m\u001b[0;34m)\u001b[0m\u001b[0;34m\u001b[0m\u001b[0;34m\u001b[0m\u001b[0m\n",
      "\u001b[0;31mNameError\u001b[0m: name 'model' is not defined"
     ]
    }
   ],
   "source": [
    "# path = \"/media/allen/mass/reid/26th/bounding_box_test/001_c103s1_000269_04.jpg\"\n",
    "path = \"/media/allen/mass/reid/sogo/bounding_box_train/9999_c1s1_0_01.jpg\"\n",
    "img = cv2.imread(path)\n",
    "hsv_img = cv2.cvtColor(img, cv2.COLOR_BGR2HSV)\n",
    "\n",
    "hsv = True\n",
    "subset, candidate = get_pose(model, img)\n",
    "to_normal_hsv(hsv_img)"
   ]
  },
  {
   "cell_type": "code",
   "execution_count": 39,
   "metadata": {},
   "outputs": [],
   "source": [
    "sample_img = superpixelize(hsv_img, path)\n",
    "usamples, upoints = get_sample_points(sample_img, subset[0], candidate, part=UPPER)\n",
    "l1samples, l1points = get_sample_points(sample_img, subset[0], candidate, part=THIGH1)\n",
    "l2samples, l2points = get_sample_points(sample_img, subset[0], candidate, part=THIGH2)\n",
    "lsamples = np.concatenate([l1samples, l2samples])\n",
    "lpoints = np.concatenate([l1points, l2points])"
   ]
  },
  {
   "cell_type": "code",
   "execution_count": 40,
   "metadata": {},
   "outputs": [
    {
     "data": {
      "text/plain": [
       "array([[204,  56,  45],\n",
       "       [235,  77,  36],\n",
       "       [237,  77,  36],\n",
       "       [237,  77,  36],\n",
       "       [235,  77,  35],\n",
       "       [235,  77,  35],\n",
       "       [238,  74,  34],\n",
       "       [238,  74,  34],\n",
       "       [239,  73,  34],\n",
       "       [237,  73,  34],\n",
       "       [225,  64,  32],\n",
       "       [236,  75,  35],\n",
       "       [236,  75,  35],\n",
       "       [237,  74,  34],\n",
       "       [237,  75,  34],\n",
       "       [237,  75,  34],\n",
       "       [238,  74,  34],\n",
       "       [237,  74,  34],\n",
       "       [237,  74,  34],\n",
       "       [238,  72,  34]], dtype=uint8)"
      ]
     },
     "execution_count": 40,
     "metadata": {},
     "output_type": "execute_result"
    }
   ],
   "source": [
    "usamples"
   ]
  },
  {
   "cell_type": "code",
   "execution_count": 34,
   "metadata": {},
   "outputs": [
    {
     "data": {
      "text/plain": [
       "array([[204,  56,  45],\n",
       "       [235,  77,  36],\n",
       "       [237,  77,  36],\n",
       "       [237,  77,  36],\n",
       "       [235,  77,  35],\n",
       "       [235,  77,  35],\n",
       "       [238,  74,  34],\n",
       "       [238,  74,  34],\n",
       "       [239,  73,  34],\n",
       "       [237,  73,  34],\n",
       "       [225,  64,  32],\n",
       "       [236,  75,  35],\n",
       "       [236,  75,  35],\n",
       "       [237,  74,  34],\n",
       "       [237,  75,  34],\n",
       "       [237,  75,  34],\n",
       "       [238,  74,  34],\n",
       "       [237,  74,  34],\n",
       "       [237,  74,  34],\n",
       "       [238,  72,  34]], dtype=uint8)"
      ]
     },
     "execution_count": 34,
     "metadata": {},
     "output_type": "execute_result"
    }
   ],
   "source": [
    "l1samples"
   ]
  },
  {
   "cell_type": "code",
   "execution_count": 43,
   "metadata": {},
   "outputs": [
    {
     "name": "stdout",
     "output_type": "stream",
     "text": [
      "Black Black\n"
     ]
    }
   ],
   "source": [
    "ucolor, uto_plot = get_color(img, usamples, upoints, plot=True, use_hsv=True)\n",
    "lcolor, lto_plot = get_color(img, lsamples, lpoints, plot=True, use_hsv=True)\n",
    "print(ucolor, lcolor)"
   ]
  },
  {
   "cell_type": "code",
   "execution_count": 31,
   "metadata": {
    "scrolled": false
   },
   "outputs": [
    {
     "data": {
      "image/png": "[encoded data removed]",
      "text/plain": [
       "<PIL.Image.Image image mode=RGB size=346x450 at 0x7F7859526EB8>"
      ]
     },
     "execution_count": 31,
     "metadata": {},
     "output_type": "execute_result"
    }
   ],
   "source": [
    "temp = cv2.cvtColor(uto_plot, cv2.COLOR_BGR2RGB)    \n",
    "upil_img = Image.fromarray(temp)\n",
    "temp = cv2.cvtColor(lto_plot, cv2.COLOR_BGR2RGB)    \n",
    "lpil_img = Image.fromarray(temp)\n",
    "pil_img = get_concat_h(upil_img, lpil_img)\n",
    "pil_img"
   ]
  },
  {
   "cell_type": "code",
   "execution_count": null,
   "metadata": {},
   "outputs": [],
   "source": []
  },
  {
   "cell_type": "code",
   "execution_count": 27,
   "metadata": {},
   "outputs": [
    {
     "data": {
      "text/plain": [
       "array([ 9., 10.])"
      ]
     },
     "execution_count": 27,
     "metadata": {},
     "output_type": "execute_result"
    }
   ],
   "source": [
    "subset[0][THIGH1]"
   ]
  },
  {
   "cell_type": "code",
   "execution_count": 201,
   "metadata": {},
   "outputs": [],
   "source": [
    "import os.path as osp"
   ]
  },
  {
   "cell_type": "code",
   "execution_count": 373,
   "metadata": {},
   "outputs": [],
   "source": [
    "src = \"/media/allen/mass/reid/sogo/bounding_box_train/\"\n",
    "dst = \"/media/allen/mass/sogo_color_superpixel\"\n",
    "imgs_path = sorted([os.path.join(root, f) for root, _, files in os.walk(src) for f in files if '.jpg' in f or '.png' in f])"
   ]
  },
  {
   "cell_type": "code",
   "execution_count": 374,
   "metadata": {},
   "outputs": [],
   "source": [
    "for path in imgs_path:\n",
    "    img = cv2.imread(path)    \n",
    "    subset, candidate = get_pose(model, img)\n",
    "    to_plot = superpixelize(img, path)        \n",
    "    l, u, plot = get_upper_color(img, to_plot, subset[0], candidate, plot=True)    \n",
    "    path = osp.basename(path)\n",
    "    if l is not None:\n",
    "        if not osp.exists(osp.join(dst, 'lower', l)):\n",
    "            os.makedirs(osp.join(dst, 'lower', l))\n",
    "        cv2.imwrite(osp.join(dst, 'lower', l, path), plot)\n",
    "    if u is not None:\n",
    "        if not osp.exists(osp.join(dst, 'upper', u)):\n",
    "            os.makedirs(osp.join(dst, 'upper', u))\n",
    "        cv2.imwrite(osp.join(dst, 'upper', u, path), plot)\n",
    "#     break"
   ]
  },
  {
   "cell_type": "code",
   "execution_count": 176,
   "metadata": {},
   "outputs": [
    {
     "data": {
      "text/plain": [
       "array([0, 0, 0, 0, 4, 0, 0, 0, 0, 0, 0, 0, 0, 3, 4, 0, 0, 0, 0, 4])"
      ]
     },
     "execution_count": 176,
     "metadata": {},
     "output_type": "execute_result"
    }
   ],
   "source": [
    "get_upper_color(img, subset[0], candidate, plot=True)"
   ]
  },
  {
   "cell_type": "code",
   "execution_count": 387,
   "metadata": {},
   "outputs": [],
   "source": [
    "image = io.imread(path)\n",
    "segments = slic(img_as_float(image), n_segments=150,slic_zero=True)\n",
    "to_plot = img.copy()\n",
    "for v in np.unique(segments):\n",
    "    # construct a mask for the segment so we can compute image\n",
    "    # statistics for *only* the masked region\n",
    "    for i in range(3):\n",
    "        temp = to_plot[:,:,i]\n",
    "        avg = temp[segments == v].mean()\n",
    "        temp[segments == v] = avg\n",
    "        to_plot[:,:,i] = temp\n",
    "    "
   ]
  },
  {
   "cell_type": "code",
   "execution_count": 280,
   "metadata": {},
   "outputs": [],
   "source": [
    "subset, candidate = get_pose(model, img)\n",
    "l, u, plot = get_upper_color(to_plot, subset[0], candidate, plot=True)"
   ]
  },
  {
   "cell_type": "code",
   "execution_count": 282,
   "metadata": {},
   "outputs": [
    {
     "data": {
      "text/plain": [
       "'blue'"
      ]
     },
     "execution_count": 282,
     "metadata": {},
     "output_type": "execute_result"
    }
   ],
   "source": []
  },
  {
   "cell_type": "code",
   "execution_count": 388,
   "metadata": {},
   "outputs": [
    {
     "data": {
      "image/png": "[encoded data removed]",
      "text/plain": [
       "<PIL.Image.Image image mode=RGB size=213x334 at 0x7F4A4E47F6D8>"
      ]
     },
     "execution_count": 388,
     "metadata": {},
     "output_type": "execute_result"
    }
   ],
   "source": [
    "temp = cv2.cvtColor(to_plot, cv2.COLOR_BGR2RGB)    \n",
    "pil_img = Image.fromarray(temp)\n",
    "pil_img"
   ]
  },
  {
   "cell_type": "code",
   "execution_count": 1,
   "metadata": {},
   "outputs": [
    {
     "name": "stdout",
     "output_type": "stream",
     "text": [
      "Loading network files:\n",
      "\t/home/allen/R5/intel/computer_vision_sdk_2018.5.445/deployment_tools/intel_models/person-detection-retail-0013/FP32/person-detection-retail-0013.xml\n",
      "\t/home/allen/R5/intel/computer_vision_sdk_2018.5.445/deployment_tools/intel_models/person-detection-retail-0013/FP32/person-detection-retail-0013.bin\n",
      "1 3 320 544\n"
     ]
    }
   ],
   "source": [
    "import sys\n",
    "sys.path.insert(0, '/media/allen/mass/deep-learning-works/')\n",
    "from app.Person_Search import App\n",
    "from config.config_manager import _C as model_config\n",
    "from config.config_manager import _A as app_config\n",
    "from app.load_pose import *\n",
    "import re\n",
    "from PIL import Image\n",
    "from skimage.segmentation import slic\n",
    "def to_pil(cv_img):\n",
    "    img = cv2.cvtColor(cv_img, cv2.COLOR_BGR2RGB)\n",
    "    return Image.fromarray(img)\n",
    "\n",
    "model_config.merge_from_file(\"/media/allen/mass/deep-learning-works/reid_app.yml\")\n",
    "app_config.merge_from_file(\"/media/allen/mass/deep-learning-works/app.yml\")"
   ]
  },
  {
   "cell_type": "code",
   "execution_count": 2,
   "metadata": {},
   "outputs": [
    {
     "name": "stdout",
     "output_type": "stream",
     "text": [
      "2019-11-22 15:11:34,870 logger INFO: Using GPU: \u001b[m\u001b[92m1\u001b[m\n",
      "2019-11-22 15:11:37,479 logger INFO: Resuming model from /media/allen/mass/deep-learning-works/caffe_models/OSNet_merge_cels_triplet_center_Adam_lr_0.003_warmup_10_0.01_plateau_10_flip_crop_erase_imagenet_0.7096.pth\n",
      "2019-11-22 15:11:37,529 logger INFO: opt_0 is skipped\n",
      "2019-11-22 15:11:37,530 logger INFO: opt_1 is skipped\n",
      "2019-11-22 15:11:37,553 logger INFO: \u001b[mmodel backbone.conv1.conv.weight                              ...... \u001b[92mloaded\u001b[m\n",
      "2019-11-22 15:11:37,555 logger INFO: \u001b[mmodel backbone.conv1.bn.weight                                ...... \u001b[92mloaded\u001b[m\n",
      "2019-11-22 15:11:37,557 logger INFO: \u001b[mmodel backbone.conv1.bn.bias                                  ...... \u001b[92mloaded\u001b[m\n",
      "2019-11-22 15:11:37,558 logger INFO: \u001b[mmodel backbone.conv1.bn.running_mean                          ...... \u001b[92mloaded\u001b[m\n",
      "2019-11-22 15:11:37,560 logger INFO: \u001b[mmodel backbone.conv1.bn.running_var                           ...... \u001b[92mloaded\u001b[m\n",
      "2019-11-22 15:11:37,561 logger INFO: \u001b[mmodel backbone.conv2.0.conv1.conv.weight                      ...... \u001b[92mloaded\u001b[m\n",
      "2019-11-22 15:11:37,562 logger INFO: \u001b[mmodel backbone.conv2.0.conv1.bn.weight                        ...... \u001b[92mloaded\u001b[m\n",
      "2019-11-22 15:11:37,564 logger INFO: \u001b[mmodel backbone.conv2.0.conv1.bn.bias                          ...... \u001b[92mloaded\u001b[m\n",
      "2019-11-22 15:11:37,565 logger INFO: \u001b[mmodel backbone.conv2.0.conv1.bn.running_mean                  ...... \u001b[92mloaded\u001b[m\n",
      "2019-11-22 15:11:37,567 logger INFO: \u001b[mmodel backbone.conv2.0.conv1.bn.running_var                   ...... \u001b[92mloaded\u001b[m\n",
      "2019-11-22 15:11:37,568 logger INFO: \u001b[mmodel backbone.conv2.0.conv2a.conv1.weight                    ...... \u001b[92mloaded\u001b[m\n",
      "2019-11-22 15:11:37,569 logger INFO: \u001b[mmodel backbone.conv2.0.conv2a.conv2.weight                    ...... \u001b[92mloaded\u001b[m\n",
      "2019-11-22 15:11:37,571 logger INFO: \u001b[mmodel backbone.conv2.0.conv2a.bn.weight                       ...... \u001b[92mloaded\u001b[m\n",
      "2019-11-22 15:11:37,572 logger INFO: \u001b[mmodel backbone.conv2.0.conv2a.bn.bias                         ...... \u001b[92mloaded\u001b[m\n",
      "2019-11-22 15:11:37,574 logger INFO: \u001b[mmodel backbone.conv2.0.conv2a.bn.running_mean                 ...... \u001b[92mloaded\u001b[m\n",
      "2019-11-22 15:11:37,575 logger INFO: \u001b[mmodel backbone.conv2.0.conv2a.bn.running_var                  ...... \u001b[92mloaded\u001b[m\n",
      "2019-11-22 15:11:37,576 logger INFO: \u001b[mmodel backbone.conv2.0.conv2b.0.conv1.weight                  ...... \u001b[92mloaded\u001b[m\n",
      "2019-11-22 15:11:37,577 logger INFO: \u001b[mmodel backbone.conv2.0.conv2b.0.conv2.weight                  ...... \u001b[92mloaded\u001b[m\n",
      "2019-11-22 15:11:37,579 logger INFO: \u001b[mmodel backbone.conv2.0.conv2b.0.bn.weight                     ...... \u001b[92mloaded\u001b[m\n",
      "2019-11-22 15:11:37,580 logger INFO: \u001b[mmodel backbone.conv2.0.conv2b.0.bn.bias                       ...... \u001b[92mloaded\u001b[m\n",
      "2019-11-22 15:11:37,582 logger INFO: \u001b[mmodel backbone.conv2.0.conv2b.0.bn.running_mean               ...... \u001b[92mloaded\u001b[m\n",
      "2019-11-22 15:11:37,583 logger INFO: \u001b[mmodel backbone.conv2.0.conv2b.0.bn.running_var                ...... \u001b[92mloaded\u001b[m\n",
      "2019-11-22 15:11:37,584 logger INFO: \u001b[mmodel backbone.conv2.0.conv2b.1.conv1.weight                  ...... \u001b[92mloaded\u001b[m\n",
      "2019-11-22 15:11:37,585 logger INFO: \u001b[mmodel backbone.conv2.0.conv2b.1.conv2.weight                  ...... \u001b[92mloaded\u001b[m\n",
      "2019-11-22 15:11:37,587 logger INFO: \u001b[mmodel backbone.conv2.0.conv2b.1.bn.weight                     ...... \u001b[92mloaded\u001b[m\n",
      "2019-11-22 15:11:37,588 logger INFO: \u001b[mmodel backbone.conv2.0.conv2b.1.bn.bias                       ...... \u001b[92mloaded\u001b[m\n",
      "2019-11-22 15:11:37,589 logger INFO: \u001b[mmodel backbone.conv2.0.conv2b.1.bn.running_mean               ...... \u001b[92mloaded\u001b[m\n",
      "2019-11-22 15:11:37,590 logger INFO: \u001b[mmodel backbone.conv2.0.conv2b.1.bn.running_var                ...... \u001b[92mloaded\u001b[m\n",
      "2019-11-22 15:11:37,591 logger INFO: \u001b[mmodel backbone.conv2.0.conv2c.0.conv1.weight                  ...... \u001b[92mloaded\u001b[m\n",
      "2019-11-22 15:11:37,592 logger INFO: \u001b[mmodel backbone.conv2.0.conv2c.0.conv2.weight                  ...... \u001b[92mloaded\u001b[m\n",
      "2019-11-22 15:11:37,592 logger INFO: \u001b[mmodel backbone.conv2.0.conv2c.0.bn.weight                     ...... \u001b[92mloaded\u001b[m\n",
      "2019-11-22 15:11:37,593 logger INFO: \u001b[mmodel backbone.conv2.0.conv2c.0.bn.bias                       ...... \u001b[92mloaded\u001b[m\n",
      "2019-11-22 15:11:37,594 logger INFO: \u001b[mmodel backbone.conv2.0.conv2c.0.bn.running_mean               ...... \u001b[92mloaded\u001b[m\n",
      "2019-11-22 15:11:37,594 logger INFO: \u001b[mmodel backbone.conv2.0.conv2c.0.bn.running_var                ...... \u001b[92mloaded\u001b[m\n",
      "2019-11-22 15:11:37,595 logger INFO: \u001b[mmodel backbone.conv2.0.conv2c.1.conv1.weight                  ...... \u001b[92mloaded\u001b[m\n",
      "2019-11-22 15:11:37,596 logger INFO: \u001b[mmodel backbone.conv2.0.conv2c.1.conv2.weight                  ...... \u001b[92mloaded\u001b[m\n",
      "2019-11-22 15:11:37,597 logger INFO: \u001b[mmodel backbone.conv2.0.conv2c.1.bn.weight                     ...... \u001b[92mloaded\u001b[m\n",
      "2019-11-22 15:11:37,598 logger INFO: \u001b[mmodel backbone.conv2.0.conv2c.1.bn.bias                       ...... \u001b[92mloaded\u001b[m\n",
      "2019-11-22 15:11:37,599 logger INFO: \u001b[mmodel backbone.conv2.0.conv2c.1.bn.running_mean               ...... \u001b[92mloaded\u001b[m\n",
      "2019-11-22 15:11:37,599 logger INFO: \u001b[mmodel backbone.conv2.0.conv2c.1.bn.running_var                ...... \u001b[92mloaded\u001b[m\n",
      "2019-11-22 15:11:37,600 logger INFO: \u001b[mmodel backbone.conv2.0.conv2c.2.conv1.weight                  ...... \u001b[92mloaded\u001b[m\n",
      "2019-11-22 15:11:37,601 logger INFO: \u001b[mmodel backbone.conv2.0.conv2c.2.conv2.weight                  ...... \u001b[92mloaded\u001b[m\n",
      "2019-11-22 15:11:37,601 logger INFO: \u001b[mmodel backbone.conv2.0.conv2c.2.bn.weight                     ...... \u001b[92mloaded\u001b[m\n",
      "2019-11-22 15:11:37,602 logger INFO: \u001b[mmodel backbone.conv2.0.conv2c.2.bn.bias                       ...... \u001b[92mloaded\u001b[m\n",
      "2019-11-22 15:11:37,602 logger INFO: \u001b[mmodel backbone.conv2.0.conv2c.2.bn.running_mean               ...... \u001b[92mloaded\u001b[m\n",
      "2019-11-22 15:11:37,603 logger INFO: \u001b[mmodel backbone.conv2.0.conv2c.2.bn.running_var                ...... \u001b[92mloaded\u001b[m\n",
      "2019-11-22 15:11:37,604 logger INFO: \u001b[mmodel backbone.conv2.0.conv2d.0.conv1.weight                  ...... \u001b[92mloaded\u001b[m\n",
      "2019-11-22 15:11:37,605 logger INFO: \u001b[mmodel backbone.conv2.0.conv2d.0.conv2.weight                  ...... \u001b[92mloaded\u001b[m\n",
      "2019-11-22 15:11:37,606 logger INFO: \u001b[mmodel backbone.conv2.0.conv2d.0.bn.weight                     ...... \u001b[92mloaded\u001b[m\n",
      "2019-11-22 15:11:37,607 logger INFO: \u001b[mmodel backbone.conv2.0.conv2d.0.bn.bias                       ...... \u001b[92mloaded\u001b[m\n",
      "2019-11-22 15:11:37,608 logger INFO: \u001b[mmodel backbone.conv2.0.conv2d.0.bn.running_mean               ...... \u001b[92mloaded\u001b[m\n",
      "2019-11-22 15:11:37,609 logger INFO: \u001b[mmodel backbone.conv2.0.conv2d.0.bn.running_var                ...... \u001b[92mloaded\u001b[m\n",
      "2019-11-22 15:11:37,610 logger INFO: \u001b[mmodel backbone.conv2.0.conv2d.1.conv1.weight                  ...... \u001b[92mloaded\u001b[m\n",
      "2019-11-22 15:11:37,611 logger INFO: \u001b[mmodel backbone.conv2.0.conv2d.1.conv2.weight                  ...... \u001b[92mloaded\u001b[m\n",
      "2019-11-22 15:11:37,613 logger INFO: \u001b[mmodel backbone.conv2.0.conv2d.1.bn.weight                     ...... \u001b[92mloaded\u001b[m\n",
      "2019-11-22 15:11:37,614 logger INFO: \u001b[mmodel backbone.conv2.0.conv2d.1.bn.bias                       ...... \u001b[92mloaded\u001b[m\n",
      "2019-11-22 15:11:37,615 logger INFO: \u001b[mmodel backbone.conv2.0.conv2d.1.bn.running_mean               ...... \u001b[92mloaded\u001b[m\n",
      "2019-11-22 15:11:37,616 logger INFO: \u001b[mmodel backbone.conv2.0.conv2d.1.bn.running_var                ...... \u001b[92mloaded\u001b[m\n",
      "2019-11-22 15:11:37,617 logger INFO: \u001b[mmodel backbone.conv2.0.conv2d.2.conv1.weight                  ...... \u001b[92mloaded\u001b[m\n",
      "2019-11-22 15:11:37,618 logger INFO: \u001b[mmodel backbone.conv2.0.conv2d.2.conv2.weight                  ...... \u001b[92mloaded\u001b[m\n",
      "2019-11-22 15:11:37,619 logger INFO: \u001b[mmodel backbone.conv2.0.conv2d.2.bn.weight                     ...... \u001b[92mloaded\u001b[m\n",
      "2019-11-22 15:11:37,619 logger INFO: \u001b[mmodel backbone.conv2.0.conv2d.2.bn.bias                       ...... \u001b[92mloaded\u001b[m\n",
      "2019-11-22 15:11:37,620 logger INFO: \u001b[mmodel backbone.conv2.0.conv2d.2.bn.running_mean               ...... \u001b[92mloaded\u001b[m\n"
     ]
    },
    {
     "name": "stdout",
     "output_type": "stream",
     "text": [
      "2019-11-22 15:11:37,621 logger INFO: \u001b[mmodel backbone.conv2.0.conv2d.2.bn.running_var                ...... \u001b[92mloaded\u001b[m\n",
      "2019-11-22 15:11:37,622 logger INFO: \u001b[mmodel backbone.conv2.0.conv2d.3.conv1.weight                  ...... \u001b[92mloaded\u001b[m\n",
      "2019-11-22 15:11:37,622 logger INFO: \u001b[mmodel backbone.conv2.0.conv2d.3.conv2.weight                  ...... \u001b[92mloaded\u001b[m\n",
      "2019-11-22 15:11:37,623 logger INFO: \u001b[mmodel backbone.conv2.0.conv2d.3.bn.weight                     ...... \u001b[92mloaded\u001b[m\n",
      "2019-11-22 15:11:37,623 logger INFO: \u001b[mmodel backbone.conv2.0.conv2d.3.bn.bias                       ...... \u001b[92mloaded\u001b[m\n",
      "2019-11-22 15:11:37,624 logger INFO: \u001b[mmodel backbone.conv2.0.conv2d.3.bn.running_mean               ...... \u001b[92mloaded\u001b[m\n",
      "2019-11-22 15:11:37,625 logger INFO: \u001b[mmodel backbone.conv2.0.conv2d.3.bn.running_var                ...... \u001b[92mloaded\u001b[m\n",
      "2019-11-22 15:11:37,625 logger INFO: \u001b[mmodel backbone.conv2.0.gate.fc1.weight                        ...... \u001b[92mloaded\u001b[m\n",
      "2019-11-22 15:11:37,626 logger INFO: \u001b[mmodel backbone.conv2.0.gate.fc1.bias                          ...... \u001b[92mloaded\u001b[m\n",
      "2019-11-22 15:11:37,626 logger INFO: \u001b[mmodel backbone.conv2.0.gate.fc2.weight                        ...... \u001b[92mloaded\u001b[m\n",
      "2019-11-22 15:11:37,627 logger INFO: \u001b[mmodel backbone.conv2.0.gate.fc2.bias                          ...... \u001b[92mloaded\u001b[m\n",
      "2019-11-22 15:11:37,628 logger INFO: \u001b[mmodel backbone.conv2.0.conv3.conv.weight                      ...... \u001b[92mloaded\u001b[m\n",
      "2019-11-22 15:11:37,628 logger INFO: \u001b[mmodel backbone.conv2.0.conv3.bn.weight                        ...... \u001b[92mloaded\u001b[m\n",
      "2019-11-22 15:11:37,629 logger INFO: \u001b[mmodel backbone.conv2.0.conv3.bn.bias                          ...... \u001b[92mloaded\u001b[m\n",
      "2019-11-22 15:11:37,630 logger INFO: \u001b[mmodel backbone.conv2.0.conv3.bn.running_mean                  ...... \u001b[92mloaded\u001b[m\n",
      "2019-11-22 15:11:37,630 logger INFO: \u001b[mmodel backbone.conv2.0.conv3.bn.running_var                   ...... \u001b[92mloaded\u001b[m\n",
      "2019-11-22 15:11:37,631 logger INFO: \u001b[mmodel backbone.conv2.0.downsample.conv.weight                 ...... \u001b[92mloaded\u001b[m\n",
      "2019-11-22 15:11:37,632 logger INFO: \u001b[mmodel backbone.conv2.0.downsample.bn.weight                   ...... \u001b[92mloaded\u001b[m\n",
      "2019-11-22 15:11:37,632 logger INFO: \u001b[mmodel backbone.conv2.0.downsample.bn.bias                     ...... \u001b[92mloaded\u001b[m\n",
      "2019-11-22 15:11:37,633 logger INFO: \u001b[mmodel backbone.conv2.0.downsample.bn.running_mean             ...... \u001b[92mloaded\u001b[m\n",
      "2019-11-22 15:11:37,633 logger INFO: \u001b[mmodel backbone.conv2.0.downsample.bn.running_var              ...... \u001b[92mloaded\u001b[m\n",
      "2019-11-22 15:11:37,634 logger INFO: \u001b[mmodel backbone.conv2.1.conv1.conv.weight                      ...... \u001b[92mloaded\u001b[m\n",
      "2019-11-22 15:11:37,634 logger INFO: \u001b[mmodel backbone.conv2.1.conv1.bn.weight                        ...... \u001b[92mloaded\u001b[m\n",
      "2019-11-22 15:11:37,635 logger INFO: \u001b[mmodel backbone.conv2.1.conv1.bn.bias                          ...... \u001b[92mloaded\u001b[m\n",
      "2019-11-22 15:11:37,636 logger INFO: \u001b[mmodel backbone.conv2.1.conv1.bn.running_mean                  ...... \u001b[92mloaded\u001b[m\n",
      "2019-11-22 15:11:37,636 logger INFO: \u001b[mmodel backbone.conv2.1.conv1.bn.running_var                   ...... \u001b[92mloaded\u001b[m\n",
      "2019-11-22 15:11:37,637 logger INFO: \u001b[mmodel backbone.conv2.1.conv2a.conv1.weight                    ...... \u001b[92mloaded\u001b[m\n",
      "2019-11-22 15:11:37,638 logger INFO: \u001b[mmodel backbone.conv2.1.conv2a.conv2.weight                    ...... \u001b[92mloaded\u001b[m\n",
      "2019-11-22 15:11:37,639 logger INFO: \u001b[mmodel backbone.conv2.1.conv2a.bn.weight                       ...... \u001b[92mloaded\u001b[m\n",
      "2019-11-22 15:11:37,640 logger INFO: \u001b[mmodel backbone.conv2.1.conv2a.bn.bias                         ...... \u001b[92mloaded\u001b[m\n",
      "2019-11-22 15:11:37,640 logger INFO: \u001b[mmodel backbone.conv2.1.conv2a.bn.running_mean                 ...... \u001b[92mloaded\u001b[m\n",
      "2019-11-22 15:11:37,641 logger INFO: \u001b[mmodel backbone.conv2.1.conv2a.bn.running_var                  ...... \u001b[92mloaded\u001b[m\n",
      "2019-11-22 15:11:37,642 logger INFO: \u001b[mmodel backbone.conv2.1.conv2b.0.conv1.weight                  ...... \u001b[92mloaded\u001b[m\n",
      "2019-11-22 15:11:37,643 logger INFO: \u001b[mmodel backbone.conv2.1.conv2b.0.conv2.weight                  ...... \u001b[92mloaded\u001b[m\n",
      "2019-11-22 15:11:37,643 logger INFO: \u001b[mmodel backbone.conv2.1.conv2b.0.bn.weight                     ...... \u001b[92mloaded\u001b[m\n",
      "2019-11-22 15:11:37,644 logger INFO: \u001b[mmodel backbone.conv2.1.conv2b.0.bn.bias                       ...... \u001b[92mloaded\u001b[m\n",
      "2019-11-22 15:11:37,645 logger INFO: \u001b[mmodel backbone.conv2.1.conv2b.0.bn.running_mean               ...... \u001b[92mloaded\u001b[m\n",
      "2019-11-22 15:11:37,646 logger INFO: \u001b[mmodel backbone.conv2.1.conv2b.0.bn.running_var                ...... \u001b[92mloaded\u001b[m\n",
      "2019-11-22 15:11:37,646 logger INFO: \u001b[mmodel backbone.conv2.1.conv2b.1.conv1.weight                  ...... \u001b[92mloaded\u001b[m\n",
      "2019-11-22 15:11:37,647 logger INFO: \u001b[mmodel backbone.conv2.1.conv2b.1.conv2.weight                  ...... \u001b[92mloaded\u001b[m\n",
      "2019-11-22 15:11:37,648 logger INFO: \u001b[mmodel backbone.conv2.1.conv2b.1.bn.weight                     ...... \u001b[92mloaded\u001b[m\n",
      "2019-11-22 15:11:37,649 logger INFO: \u001b[mmodel backbone.conv2.1.conv2b.1.bn.bias                       ...... \u001b[92mloaded\u001b[m\n",
      "2019-11-22 15:11:37,649 logger INFO: \u001b[mmodel backbone.conv2.1.conv2b.1.bn.running_mean               ...... \u001b[92mloaded\u001b[m\n",
      "2019-11-22 15:11:37,650 logger INFO: \u001b[mmodel backbone.conv2.1.conv2b.1.bn.running_var                ...... \u001b[92mloaded\u001b[m\n",
      "2019-11-22 15:11:37,651 logger INFO: \u001b[mmodel backbone.conv2.1.conv2c.0.conv1.weight                  ...... \u001b[92mloaded\u001b[m\n",
      "2019-11-22 15:11:37,651 logger INFO: \u001b[mmodel backbone.conv2.1.conv2c.0.conv2.weight                  ...... \u001b[92mloaded\u001b[m\n",
      "2019-11-22 15:11:37,652 logger INFO: \u001b[mmodel backbone.conv2.1.conv2c.0.bn.weight                     ...... \u001b[92mloaded\u001b[m\n",
      "2019-11-22 15:11:37,653 logger INFO: \u001b[mmodel backbone.conv2.1.conv2c.0.bn.bias                       ...... \u001b[92mloaded\u001b[m\n",
      "2019-11-22 15:11:37,654 logger INFO: \u001b[mmodel backbone.conv2.1.conv2c.0.bn.running_mean               ...... \u001b[92mloaded\u001b[m\n",
      "2019-11-22 15:11:37,655 logger INFO: \u001b[mmodel backbone.conv2.1.conv2c.0.bn.running_var                ...... \u001b[92mloaded\u001b[m\n",
      "2019-11-22 15:11:37,656 logger INFO: \u001b[mmodel backbone.conv2.1.conv2c.1.conv1.weight                  ...... \u001b[92mloaded\u001b[m\n",
      "2019-11-22 15:11:37,657 logger INFO: \u001b[mmodel backbone.conv2.1.conv2c.1.conv2.weight                  ...... \u001b[92mloaded\u001b[m\n",
      "2019-11-22 15:11:37,658 logger INFO: \u001b[mmodel backbone.conv2.1.conv2c.1.bn.weight                     ...... \u001b[92mloaded\u001b[m\n",
      "2019-11-22 15:11:37,658 logger INFO: \u001b[mmodel backbone.conv2.1.conv2c.1.bn.bias                       ...... \u001b[92mloaded\u001b[m\n",
      "2019-11-22 15:11:37,659 logger INFO: \u001b[mmodel backbone.conv2.1.conv2c.1.bn.running_mean               ...... \u001b[92mloaded\u001b[m\n",
      "2019-11-22 15:11:37,660 logger INFO: \u001b[mmodel backbone.conv2.1.conv2c.1.bn.running_var                ...... \u001b[92mloaded\u001b[m\n",
      "2019-11-22 15:11:37,662 logger INFO: \u001b[mmodel backbone.conv2.1.conv2c.2.conv1.weight                  ...... \u001b[92mloaded\u001b[m\n",
      "2019-11-22 15:11:37,663 logger INFO: \u001b[mmodel backbone.conv2.1.conv2c.2.conv2.weight                  ...... \u001b[92mloaded\u001b[m\n",
      "2019-11-22 15:11:37,664 logger INFO: \u001b[mmodel backbone.conv2.1.conv2c.2.bn.weight                     ...... \u001b[92mloaded\u001b[m\n",
      "2019-11-22 15:11:37,665 logger INFO: \u001b[mmodel backbone.conv2.1.conv2c.2.bn.bias                       ...... \u001b[92mloaded\u001b[m\n",
      "2019-11-22 15:11:37,665 logger INFO: \u001b[mmodel backbone.conv2.1.conv2c.2.bn.running_mean               ...... \u001b[92mloaded\u001b[m\n",
      "2019-11-22 15:11:37,666 logger INFO: \u001b[mmodel backbone.conv2.1.conv2c.2.bn.running_var                ...... \u001b[92mloaded\u001b[m\n",
      "2019-11-22 15:11:37,667 logger INFO: \u001b[mmodel backbone.conv2.1.conv2d.0.conv1.weight                  ...... \u001b[92mloaded\u001b[m\n",
      "2019-11-22 15:11:37,668 logger INFO: \u001b[mmodel backbone.conv2.1.conv2d.0.conv2.weight                  ...... \u001b[92mloaded\u001b[m\n",
      "2019-11-22 15:11:37,669 logger INFO: \u001b[mmodel backbone.conv2.1.conv2d.0.bn.weight                     ...... \u001b[92mloaded\u001b[m\n",
      "2019-11-22 15:11:37,670 logger INFO: \u001b[mmodel backbone.conv2.1.conv2d.0.bn.bias                       ...... \u001b[92mloaded\u001b[m\n",
      "2019-11-22 15:11:37,670 logger INFO: \u001b[mmodel backbone.conv2.1.conv2d.0.bn.running_mean               ...... \u001b[92mloaded\u001b[m\n"
     ]
    },
    {
     "name": "stdout",
     "output_type": "stream",
     "text": [
      "2019-11-22 15:11:37,671 logger INFO: \u001b[mmodel backbone.conv2.1.conv2d.0.bn.running_var                ...... \u001b[92mloaded\u001b[m\n",
      "2019-11-22 15:11:37,672 logger INFO: \u001b[mmodel backbone.conv2.1.conv2d.1.conv1.weight                  ...... \u001b[92mloaded\u001b[m\n",
      "2019-11-22 15:11:37,673 logger INFO: \u001b[mmodel backbone.conv2.1.conv2d.1.conv2.weight                  ...... \u001b[92mloaded\u001b[m\n",
      "2019-11-22 15:11:37,674 logger INFO: \u001b[mmodel backbone.conv2.1.conv2d.1.bn.weight                     ...... \u001b[92mloaded\u001b[m\n",
      "2019-11-22 15:11:37,675 logger INFO: \u001b[mmodel backbone.conv2.1.conv2d.1.bn.bias                       ...... \u001b[92mloaded\u001b[m\n",
      "2019-11-22 15:11:37,676 logger INFO: \u001b[mmodel backbone.conv2.1.conv2d.1.bn.running_mean               ...... \u001b[92mloaded\u001b[m\n",
      "2019-11-22 15:11:37,677 logger INFO: \u001b[mmodel backbone.conv2.1.conv2d.1.bn.running_var                ...... \u001b[92mloaded\u001b[m\n",
      "2019-11-22 15:11:37,678 logger INFO: \u001b[mmodel backbone.conv2.1.conv2d.2.conv1.weight                  ...... \u001b[92mloaded\u001b[m\n",
      "2019-11-22 15:11:37,679 logger INFO: \u001b[mmodel backbone.conv2.1.conv2d.2.conv2.weight                  ...... \u001b[92mloaded\u001b[m\n",
      "2019-11-22 15:11:37,680 logger INFO: \u001b[mmodel backbone.conv2.1.conv2d.2.bn.weight                     ...... \u001b[92mloaded\u001b[m\n",
      "2019-11-22 15:11:37,681 logger INFO: \u001b[mmodel backbone.conv2.1.conv2d.2.bn.bias                       ...... \u001b[92mloaded\u001b[m\n",
      "2019-11-22 15:11:37,682 logger INFO: \u001b[mmodel backbone.conv2.1.conv2d.2.bn.running_mean               ...... \u001b[92mloaded\u001b[m\n",
      "2019-11-22 15:11:37,683 logger INFO: \u001b[mmodel backbone.conv2.1.conv2d.2.bn.running_var                ...... \u001b[92mloaded\u001b[m\n",
      "2019-11-22 15:11:37,684 logger INFO: \u001b[mmodel backbone.conv2.1.conv2d.3.conv1.weight                  ...... \u001b[92mloaded\u001b[m\n",
      "2019-11-22 15:11:37,685 logger INFO: \u001b[mmodel backbone.conv2.1.conv2d.3.conv2.weight                  ...... \u001b[92mloaded\u001b[m\n",
      "2019-11-22 15:11:37,686 logger INFO: \u001b[mmodel backbone.conv2.1.conv2d.3.bn.weight                     ...... \u001b[92mloaded\u001b[m\n",
      "2019-11-22 15:11:37,687 logger INFO: \u001b[mmodel backbone.conv2.1.conv2d.3.bn.bias                       ...... \u001b[92mloaded\u001b[m\n",
      "2019-11-22 15:11:37,688 logger INFO: \u001b[mmodel backbone.conv2.1.conv2d.3.bn.running_mean               ...... \u001b[92mloaded\u001b[m\n",
      "2019-11-22 15:11:37,689 logger INFO: \u001b[mmodel backbone.conv2.1.conv2d.3.bn.running_var                ...... \u001b[92mloaded\u001b[m\n",
      "2019-11-22 15:11:37,689 logger INFO: \u001b[mmodel backbone.conv2.1.gate.fc1.weight                        ...... \u001b[92mloaded\u001b[m\n",
      "2019-11-22 15:11:37,690 logger INFO: \u001b[mmodel backbone.conv2.1.gate.fc1.bias                          ...... \u001b[92mloaded\u001b[m\n",
      "2019-11-22 15:11:37,691 logger INFO: \u001b[mmodel backbone.conv2.1.gate.fc2.weight                        ...... \u001b[92mloaded\u001b[m\n",
      "2019-11-22 15:11:37,691 logger INFO: \u001b[mmodel backbone.conv2.1.gate.fc2.bias                          ...... \u001b[92mloaded\u001b[m\n",
      "2019-11-22 15:11:37,692 logger INFO: \u001b[mmodel backbone.conv2.1.conv3.conv.weight                      ...... \u001b[92mloaded\u001b[m\n",
      "2019-11-22 15:11:37,693 logger INFO: \u001b[mmodel backbone.conv2.1.conv3.bn.weight                        ...... \u001b[92mloaded\u001b[m\n",
      "2019-11-22 15:11:37,693 logger INFO: \u001b[mmodel backbone.conv2.1.conv3.bn.bias                          ...... \u001b[92mloaded\u001b[m\n",
      "2019-11-22 15:11:37,694 logger INFO: \u001b[mmodel backbone.conv2.1.conv3.bn.running_mean                  ...... \u001b[92mloaded\u001b[m\n",
      "2019-11-22 15:11:37,695 logger INFO: \u001b[mmodel backbone.conv2.1.conv3.bn.running_var                   ...... \u001b[92mloaded\u001b[m\n",
      "2019-11-22 15:11:37,696 logger INFO: \u001b[mmodel backbone.conv2.2.0.conv.weight                          ...... \u001b[92mloaded\u001b[m\n",
      "2019-11-22 15:11:37,696 logger INFO: \u001b[mmodel backbone.conv2.2.0.bn.weight                            ...... \u001b[92mloaded\u001b[m\n",
      "2019-11-22 15:11:37,697 logger INFO: \u001b[mmodel backbone.conv2.2.0.bn.bias                              ...... \u001b[92mloaded\u001b[m\n",
      "2019-11-22 15:11:37,698 logger INFO: \u001b[mmodel backbone.conv2.2.0.bn.running_mean                      ...... \u001b[92mloaded\u001b[m\n",
      "2019-11-22 15:11:37,699 logger INFO: \u001b[mmodel backbone.conv2.2.0.bn.running_var                       ...... \u001b[92mloaded\u001b[m\n",
      "2019-11-22 15:11:37,699 logger INFO: \u001b[mmodel backbone.conv3.0.conv1.conv.weight                      ...... \u001b[92mloaded\u001b[m\n",
      "2019-11-22 15:11:37,700 logger INFO: \u001b[mmodel backbone.conv3.0.conv1.bn.weight                        ...... \u001b[92mloaded\u001b[m\n",
      "2019-11-22 15:11:37,701 logger INFO: \u001b[mmodel backbone.conv3.0.conv1.bn.bias                          ...... \u001b[92mloaded\u001b[m\n",
      "2019-11-22 15:11:37,701 logger INFO: \u001b[mmodel backbone.conv3.0.conv1.bn.running_mean                  ...... \u001b[92mloaded\u001b[m\n",
      "2019-11-22 15:11:37,702 logger INFO: \u001b[mmodel backbone.conv3.0.conv1.bn.running_var                   ...... \u001b[92mloaded\u001b[m\n",
      "2019-11-22 15:11:37,703 logger INFO: \u001b[mmodel backbone.conv3.0.conv2a.conv1.weight                    ...... \u001b[92mloaded\u001b[m\n",
      "2019-11-22 15:11:37,704 logger INFO: \u001b[mmodel backbone.conv3.0.conv2a.conv2.weight                    ...... \u001b[92mloaded\u001b[m\n",
      "2019-11-22 15:11:37,704 logger INFO: \u001b[mmodel backbone.conv3.0.conv2a.bn.weight                       ...... \u001b[92mloaded\u001b[m\n",
      "2019-11-22 15:11:37,705 logger INFO: \u001b[mmodel backbone.conv3.0.conv2a.bn.bias                         ...... \u001b[92mloaded\u001b[m\n",
      "2019-11-22 15:11:37,706 logger INFO: \u001b[mmodel backbone.conv3.0.conv2a.bn.running_mean                 ...... \u001b[92mloaded\u001b[m\n",
      "2019-11-22 15:11:37,707 logger INFO: \u001b[mmodel backbone.conv3.0.conv2a.bn.running_var                  ...... \u001b[92mloaded\u001b[m\n",
      "2019-11-22 15:11:37,707 logger INFO: \u001b[mmodel backbone.conv3.0.conv2b.0.conv1.weight                  ...... \u001b[92mloaded\u001b[m\n",
      "2019-11-22 15:11:37,708 logger INFO: \u001b[mmodel backbone.conv3.0.conv2b.0.conv2.weight                  ...... \u001b[92mloaded\u001b[m\n",
      "2019-11-22 15:11:37,709 logger INFO: \u001b[mmodel backbone.conv3.0.conv2b.0.bn.weight                     ...... \u001b[92mloaded\u001b[m\n",
      "2019-11-22 15:11:37,709 logger INFO: \u001b[mmodel backbone.conv3.0.conv2b.0.bn.bias                       ...... \u001b[92mloaded\u001b[m\n",
      "2019-11-22 15:11:37,710 logger INFO: \u001b[mmodel backbone.conv3.0.conv2b.0.bn.running_mean               ...... \u001b[92mloaded\u001b[m\n",
      "2019-11-22 15:11:37,711 logger INFO: \u001b[mmodel backbone.conv3.0.conv2b.0.bn.running_var                ...... \u001b[92mloaded\u001b[m\n",
      "2019-11-22 15:11:37,712 logger INFO: \u001b[mmodel backbone.conv3.0.conv2b.1.conv1.weight                  ...... \u001b[92mloaded\u001b[m\n",
      "2019-11-22 15:11:37,712 logger INFO: \u001b[mmodel backbone.conv3.0.conv2b.1.conv2.weight                  ...... \u001b[92mloaded\u001b[m\n",
      "2019-11-22 15:11:37,713 logger INFO: \u001b[mmodel backbone.conv3.0.conv2b.1.bn.weight                     ...... \u001b[92mloaded\u001b[m\n",
      "2019-11-22 15:11:37,714 logger INFO: \u001b[mmodel backbone.conv3.0.conv2b.1.bn.bias                       ...... \u001b[92mloaded\u001b[m\n",
      "2019-11-22 15:11:37,714 logger INFO: \u001b[mmodel backbone.conv3.0.conv2b.1.bn.running_mean               ...... \u001b[92mloaded\u001b[m\n",
      "2019-11-22 15:11:37,715 logger INFO: \u001b[mmodel backbone.conv3.0.conv2b.1.bn.running_var                ...... \u001b[92mloaded\u001b[m\n",
      "2019-11-22 15:11:37,715 logger INFO: \u001b[mmodel backbone.conv3.0.conv2c.0.conv1.weight                  ...... \u001b[92mloaded\u001b[m\n",
      "2019-11-22 15:11:37,716 logger INFO: \u001b[mmodel backbone.conv3.0.conv2c.0.conv2.weight                  ...... \u001b[92mloaded\u001b[m\n",
      "2019-11-22 15:11:37,717 logger INFO: \u001b[mmodel backbone.conv3.0.conv2c.0.bn.weight                     ...... \u001b[92mloaded\u001b[m\n",
      "2019-11-22 15:11:37,718 logger INFO: \u001b[mmodel backbone.conv3.0.conv2c.0.bn.bias                       ...... \u001b[92mloaded\u001b[m\n",
      "2019-11-22 15:11:37,719 logger INFO: \u001b[mmodel backbone.conv3.0.conv2c.0.bn.running_mean               ...... \u001b[92mloaded\u001b[m\n",
      "2019-11-22 15:11:37,720 logger INFO: \u001b[mmodel backbone.conv3.0.conv2c.0.bn.running_var                ...... \u001b[92mloaded\u001b[m\n",
      "2019-11-22 15:11:37,720 logger INFO: \u001b[mmodel backbone.conv3.0.conv2c.1.conv1.weight                  ...... \u001b[92mloaded\u001b[m\n",
      "2019-11-22 15:11:37,721 logger INFO: \u001b[mmodel backbone.conv3.0.conv2c.1.conv2.weight                  ...... \u001b[92mloaded\u001b[m\n",
      "2019-11-22 15:11:37,721 logger INFO: \u001b[mmodel backbone.conv3.0.conv2c.1.bn.weight                     ...... \u001b[92mloaded\u001b[m\n",
      "2019-11-22 15:11:37,722 logger INFO: \u001b[mmodel backbone.conv3.0.conv2c.1.bn.bias                       ...... \u001b[92mloaded\u001b[m\n",
      "2019-11-22 15:11:37,723 logger INFO: \u001b[mmodel backbone.conv3.0.conv2c.1.bn.running_mean               ...... \u001b[92mloaded\u001b[m\n"
     ]
    },
    {
     "name": "stdout",
     "output_type": "stream",
     "text": [
      "2019-11-22 15:11:37,724 logger INFO: \u001b[mmodel backbone.conv3.0.conv2c.1.bn.running_var                ...... \u001b[92mloaded\u001b[m\n",
      "2019-11-22 15:11:37,724 logger INFO: \u001b[mmodel backbone.conv3.0.conv2c.2.conv1.weight                  ...... \u001b[92mloaded\u001b[m\n",
      "2019-11-22 15:11:37,725 logger INFO: \u001b[mmodel backbone.conv3.0.conv2c.2.conv2.weight                  ...... \u001b[92mloaded\u001b[m\n",
      "2019-11-22 15:11:37,726 logger INFO: \u001b[mmodel backbone.conv3.0.conv2c.2.bn.weight                     ...... \u001b[92mloaded\u001b[m\n",
      "2019-11-22 15:11:37,727 logger INFO: \u001b[mmodel backbone.conv3.0.conv2c.2.bn.bias                       ...... \u001b[92mloaded\u001b[m\n",
      "2019-11-22 15:11:37,728 logger INFO: \u001b[mmodel backbone.conv3.0.conv2c.2.bn.running_mean               ...... \u001b[92mloaded\u001b[m\n",
      "2019-11-22 15:11:37,729 logger INFO: \u001b[mmodel backbone.conv3.0.conv2c.2.bn.running_var                ...... \u001b[92mloaded\u001b[m\n",
      "2019-11-22 15:11:37,730 logger INFO: \u001b[mmodel backbone.conv3.0.conv2d.0.conv1.weight                  ...... \u001b[92mloaded\u001b[m\n",
      "2019-11-22 15:11:37,731 logger INFO: \u001b[mmodel backbone.conv3.0.conv2d.0.conv2.weight                  ...... \u001b[92mloaded\u001b[m\n",
      "2019-11-22 15:11:37,732 logger INFO: \u001b[mmodel backbone.conv3.0.conv2d.0.bn.weight                     ...... \u001b[92mloaded\u001b[m\n",
      "2019-11-22 15:11:37,733 logger INFO: \u001b[mmodel backbone.conv3.0.conv2d.0.bn.bias                       ...... \u001b[92mloaded\u001b[m\n",
      "2019-11-22 15:11:37,733 logger INFO: \u001b[mmodel backbone.conv3.0.conv2d.0.bn.running_mean               ...... \u001b[92mloaded\u001b[m\n",
      "2019-11-22 15:11:37,734 logger INFO: \u001b[mmodel backbone.conv3.0.conv2d.0.bn.running_var                ...... \u001b[92mloaded\u001b[m\n",
      "2019-11-22 15:11:37,735 logger INFO: \u001b[mmodel backbone.conv3.0.conv2d.1.conv1.weight                  ...... \u001b[92mloaded\u001b[m\n",
      "2019-11-22 15:11:37,737 logger INFO: \u001b[mmodel backbone.conv3.0.conv2d.1.conv2.weight                  ...... \u001b[92mloaded\u001b[m\n",
      "2019-11-22 15:11:37,738 logger INFO: \u001b[mmodel backbone.conv3.0.conv2d.1.bn.weight                     ...... \u001b[92mloaded\u001b[m\n",
      "2019-11-22 15:11:37,739 logger INFO: \u001b[mmodel backbone.conv3.0.conv2d.1.bn.bias                       ...... \u001b[92mloaded\u001b[m\n",
      "2019-11-22 15:11:37,740 logger INFO: \u001b[mmodel backbone.conv3.0.conv2d.1.bn.running_mean               ...... \u001b[92mloaded\u001b[m\n",
      "2019-11-22 15:11:37,740 logger INFO: \u001b[mmodel backbone.conv3.0.conv2d.1.bn.running_var                ...... \u001b[92mloaded\u001b[m\n",
      "2019-11-22 15:11:37,741 logger INFO: \u001b[mmodel backbone.conv3.0.conv2d.2.conv1.weight                  ...... \u001b[92mloaded\u001b[m\n",
      "2019-11-22 15:11:37,742 logger INFO: \u001b[mmodel backbone.conv3.0.conv2d.2.conv2.weight                  ...... \u001b[92mloaded\u001b[m\n",
      "2019-11-22 15:11:37,743 logger INFO: \u001b[mmodel backbone.conv3.0.conv2d.2.bn.weight                     ...... \u001b[92mloaded\u001b[m\n",
      "2019-11-22 15:11:37,744 logger INFO: \u001b[mmodel backbone.conv3.0.conv2d.2.bn.bias                       ...... \u001b[92mloaded\u001b[m\n",
      "2019-11-22 15:11:37,745 logger INFO: \u001b[mmodel backbone.conv3.0.conv2d.2.bn.running_mean               ...... \u001b[92mloaded\u001b[m\n",
      "2019-11-22 15:11:37,746 logger INFO: \u001b[mmodel backbone.conv3.0.conv2d.2.bn.running_var                ...... \u001b[92mloaded\u001b[m\n",
      "2019-11-22 15:11:37,747 logger INFO: \u001b[mmodel backbone.conv3.0.conv2d.3.conv1.weight                  ...... \u001b[92mloaded\u001b[m\n",
      "2019-11-22 15:11:37,748 logger INFO: \u001b[mmodel backbone.conv3.0.conv2d.3.conv2.weight                  ...... \u001b[92mloaded\u001b[m\n",
      "2019-11-22 15:11:37,749 logger INFO: \u001b[mmodel backbone.conv3.0.conv2d.3.bn.weight                     ...... \u001b[92mloaded\u001b[m\n",
      "2019-11-22 15:11:37,750 logger INFO: \u001b[mmodel backbone.conv3.0.conv2d.3.bn.bias                       ...... \u001b[92mloaded\u001b[m\n",
      "2019-11-22 15:11:37,750 logger INFO: \u001b[mmodel backbone.conv3.0.conv2d.3.bn.running_mean               ...... \u001b[92mloaded\u001b[m\n",
      "2019-11-22 15:11:37,751 logger INFO: \u001b[mmodel backbone.conv3.0.conv2d.3.bn.running_var                ...... \u001b[92mloaded\u001b[m\n",
      "2019-11-22 15:11:37,752 logger INFO: \u001b[mmodel backbone.conv3.0.gate.fc1.weight                        ...... \u001b[92mloaded\u001b[m\n",
      "2019-11-22 15:11:37,753 logger INFO: \u001b[mmodel backbone.conv3.0.gate.fc1.bias                          ...... \u001b[92mloaded\u001b[m\n",
      "2019-11-22 15:11:37,753 logger INFO: \u001b[mmodel backbone.conv3.0.gate.fc2.weight                        ...... \u001b[92mloaded\u001b[m\n",
      "2019-11-22 15:11:37,754 logger INFO: \u001b[mmodel backbone.conv3.0.gate.fc2.bias                          ...... \u001b[92mloaded\u001b[m\n",
      "2019-11-22 15:11:37,755 logger INFO: \u001b[mmodel backbone.conv3.0.conv3.conv.weight                      ...... \u001b[92mloaded\u001b[m\n",
      "2019-11-22 15:11:37,756 logger INFO: \u001b[mmodel backbone.conv3.0.conv3.bn.weight                        ...... \u001b[92mloaded\u001b[m\n",
      "2019-11-22 15:11:37,757 logger INFO: \u001b[mmodel backbone.conv3.0.conv3.bn.bias                          ...... \u001b[92mloaded\u001b[m\n",
      "2019-11-22 15:11:37,757 logger INFO: \u001b[mmodel backbone.conv3.0.conv3.bn.running_mean                  ...... \u001b[92mloaded\u001b[m\n",
      "2019-11-22 15:11:37,758 logger INFO: \u001b[mmodel backbone.conv3.0.conv3.bn.running_var                   ...... \u001b[92mloaded\u001b[m\n",
      "2019-11-22 15:11:37,759 logger INFO: \u001b[mmodel backbone.conv3.0.downsample.conv.weight                 ...... \u001b[92mloaded\u001b[m\n",
      "2019-11-22 15:11:37,760 logger INFO: \u001b[mmodel backbone.conv3.0.downsample.bn.weight                   ...... \u001b[92mloaded\u001b[m\n",
      "2019-11-22 15:11:37,761 logger INFO: \u001b[mmodel backbone.conv3.0.downsample.bn.bias                     ...... \u001b[92mloaded\u001b[m\n",
      "2019-11-22 15:11:37,762 logger INFO: \u001b[mmodel backbone.conv3.0.downsample.bn.running_mean             ...... \u001b[92mloaded\u001b[m\n",
      "2019-11-22 15:11:37,762 logger INFO: \u001b[mmodel backbone.conv3.0.downsample.bn.running_var              ...... \u001b[92mloaded\u001b[m\n",
      "2019-11-22 15:11:37,763 logger INFO: \u001b[mmodel backbone.conv3.1.conv1.conv.weight                      ...... \u001b[92mloaded\u001b[m\n",
      "2019-11-22 15:11:37,764 logger INFO: \u001b[mmodel backbone.conv3.1.conv1.bn.weight                        ...... \u001b[92mloaded\u001b[m\n",
      "2019-11-22 15:11:37,765 logger INFO: \u001b[mmodel backbone.conv3.1.conv1.bn.bias                          ...... \u001b[92mloaded\u001b[m\n",
      "2019-11-22 15:11:37,766 logger INFO: \u001b[mmodel backbone.conv3.1.conv1.bn.running_mean                  ...... \u001b[92mloaded\u001b[m\n",
      "2019-11-22 15:11:37,767 logger INFO: \u001b[mmodel backbone.conv3.1.conv1.bn.running_var                   ...... \u001b[92mloaded\u001b[m\n",
      "2019-11-22 15:11:37,767 logger INFO: \u001b[mmodel backbone.conv3.1.conv2a.conv1.weight                    ...... \u001b[92mloaded\u001b[m\n",
      "2019-11-22 15:11:37,768 logger INFO: \u001b[mmodel backbone.conv3.1.conv2a.conv2.weight                    ...... \u001b[92mloaded\u001b[m\n",
      "2019-11-22 15:11:37,769 logger INFO: \u001b[mmodel backbone.conv3.1.conv2a.bn.weight                       ...... \u001b[92mloaded\u001b[m\n",
      "2019-11-22 15:11:37,770 logger INFO: \u001b[mmodel backbone.conv3.1.conv2a.bn.bias                         ...... \u001b[92mloaded\u001b[m\n",
      "2019-11-22 15:11:37,771 logger INFO: \u001b[mmodel backbone.conv3.1.conv2a.bn.running_mean                 ...... \u001b[92mloaded\u001b[m\n",
      "2019-11-22 15:11:37,772 logger INFO: \u001b[mmodel backbone.conv3.1.conv2a.bn.running_var                  ...... \u001b[92mloaded\u001b[m\n",
      "2019-11-22 15:11:37,772 logger INFO: \u001b[mmodel backbone.conv3.1.conv2b.0.conv1.weight                  ...... \u001b[92mloaded\u001b[m\n",
      "2019-11-22 15:11:37,773 logger INFO: \u001b[mmodel backbone.conv3.1.conv2b.0.conv2.weight                  ...... \u001b[92mloaded\u001b[m\n",
      "2019-11-22 15:11:37,774 logger INFO: \u001b[mmodel backbone.conv3.1.conv2b.0.bn.weight                     ...... \u001b[92mloaded\u001b[m\n",
      "2019-11-22 15:11:37,775 logger INFO: \u001b[mmodel backbone.conv3.1.conv2b.0.bn.bias                       ...... \u001b[92mloaded\u001b[m\n",
      "2019-11-22 15:11:37,776 logger INFO: \u001b[mmodel backbone.conv3.1.conv2b.0.bn.running_mean               ...... \u001b[92mloaded\u001b[m\n",
      "2019-11-22 15:11:37,776 logger INFO: \u001b[mmodel backbone.conv3.1.conv2b.0.bn.running_var                ...... \u001b[92mloaded\u001b[m\n",
      "2019-11-22 15:11:37,777 logger INFO: \u001b[mmodel backbone.conv3.1.conv2b.1.conv1.weight                  ...... \u001b[92mloaded\u001b[m\n",
      "2019-11-22 15:11:37,778 logger INFO: \u001b[mmodel backbone.conv3.1.conv2b.1.conv2.weight                  ...... \u001b[92mloaded\u001b[m\n",
      "2019-11-22 15:11:37,779 logger INFO: \u001b[mmodel backbone.conv3.1.conv2b.1.bn.weight                     ...... \u001b[92mloaded\u001b[m\n",
      "2019-11-22 15:11:37,780 logger INFO: \u001b[mmodel backbone.conv3.1.conv2b.1.bn.bias                       ...... \u001b[92mloaded\u001b[m\n",
      "2019-11-22 15:11:37,780 logger INFO: \u001b[mmodel backbone.conv3.1.conv2b.1.bn.running_mean               ...... \u001b[92mloaded\u001b[m\n"
     ]
    },
    {
     "name": "stdout",
     "output_type": "stream",
     "text": [
      "2019-11-22 15:11:37,781 logger INFO: \u001b[mmodel backbone.conv3.1.conv2b.1.bn.running_var                ...... \u001b[92mloaded\u001b[m\n",
      "2019-11-22 15:11:37,782 logger INFO: \u001b[mmodel backbone.conv3.1.conv2c.0.conv1.weight                  ...... \u001b[92mloaded\u001b[m\n",
      "2019-11-22 15:11:37,783 logger INFO: \u001b[mmodel backbone.conv3.1.conv2c.0.conv2.weight                  ...... \u001b[92mloaded\u001b[m\n",
      "2019-11-22 15:11:37,783 logger INFO: \u001b[mmodel backbone.conv3.1.conv2c.0.bn.weight                     ...... \u001b[92mloaded\u001b[m\n",
      "2019-11-22 15:11:37,784 logger INFO: \u001b[mmodel backbone.conv3.1.conv2c.0.bn.bias                       ...... \u001b[92mloaded\u001b[m\n",
      "2019-11-22 15:11:37,785 logger INFO: \u001b[mmodel backbone.conv3.1.conv2c.0.bn.running_mean               ...... \u001b[92mloaded\u001b[m\n",
      "2019-11-22 15:11:37,785 logger INFO: \u001b[mmodel backbone.conv3.1.conv2c.0.bn.running_var                ...... \u001b[92mloaded\u001b[m\n",
      "2019-11-22 15:11:37,786 logger INFO: \u001b[mmodel backbone.conv3.1.conv2c.1.conv1.weight                  ...... \u001b[92mloaded\u001b[m\n",
      "2019-11-22 15:11:37,787 logger INFO: \u001b[mmodel backbone.conv3.1.conv2c.1.conv2.weight                  ...... \u001b[92mloaded\u001b[m\n",
      "2019-11-22 15:11:37,787 logger INFO: \u001b[mmodel backbone.conv3.1.conv2c.1.bn.weight                     ...... \u001b[92mloaded\u001b[m\n",
      "2019-11-22 15:11:37,788 logger INFO: \u001b[mmodel backbone.conv3.1.conv2c.1.bn.bias                       ...... \u001b[92mloaded\u001b[m\n",
      "2019-11-22 15:11:37,789 logger INFO: \u001b[mmodel backbone.conv3.1.conv2c.1.bn.running_mean               ...... \u001b[92mloaded\u001b[m\n",
      "2019-11-22 15:11:37,790 logger INFO: \u001b[mmodel backbone.conv3.1.conv2c.1.bn.running_var                ...... \u001b[92mloaded\u001b[m\n",
      "2019-11-22 15:11:37,791 logger INFO: \u001b[mmodel backbone.conv3.1.conv2c.2.conv1.weight                  ...... \u001b[92mloaded\u001b[m\n",
      "2019-11-22 15:11:37,791 logger INFO: \u001b[mmodel backbone.conv3.1.conv2c.2.conv2.weight                  ...... \u001b[92mloaded\u001b[m\n",
      "2019-11-22 15:11:37,792 logger INFO: \u001b[mmodel backbone.conv3.1.conv2c.2.bn.weight                     ...... \u001b[92mloaded\u001b[m\n",
      "2019-11-22 15:11:37,793 logger INFO: \u001b[mmodel backbone.conv3.1.conv2c.2.bn.bias                       ...... \u001b[92mloaded\u001b[m\n",
      "2019-11-22 15:11:37,793 logger INFO: \u001b[mmodel backbone.conv3.1.conv2c.2.bn.running_mean               ...... \u001b[92mloaded\u001b[m\n",
      "2019-11-22 15:11:37,794 logger INFO: \u001b[mmodel backbone.conv3.1.conv2c.2.bn.running_var                ...... \u001b[92mloaded\u001b[m\n",
      "2019-11-22 15:11:37,795 logger INFO: \u001b[mmodel backbone.conv3.1.conv2d.0.conv1.weight                  ...... \u001b[92mloaded\u001b[m\n",
      "2019-11-22 15:11:37,795 logger INFO: \u001b[mmodel backbone.conv3.1.conv2d.0.conv2.weight                  ...... \u001b[92mloaded\u001b[m\n",
      "2019-11-22 15:11:37,796 logger INFO: \u001b[mmodel backbone.conv3.1.conv2d.0.bn.weight                     ...... \u001b[92mloaded\u001b[m\n",
      "2019-11-22 15:11:37,797 logger INFO: \u001b[mmodel backbone.conv3.1.conv2d.0.bn.bias                       ...... \u001b[92mloaded\u001b[m\n",
      "2019-11-22 15:11:37,797 logger INFO: \u001b[mmodel backbone.conv3.1.conv2d.0.bn.running_mean               ...... \u001b[92mloaded\u001b[m\n",
      "2019-11-22 15:11:37,798 logger INFO: \u001b[mmodel backbone.conv3.1.conv2d.0.bn.running_var                ...... \u001b[92mloaded\u001b[m\n",
      "2019-11-22 15:11:37,799 logger INFO: \u001b[mmodel backbone.conv3.1.conv2d.1.conv1.weight                  ...... \u001b[92mloaded\u001b[m\n",
      "2019-11-22 15:11:37,800 logger INFO: \u001b[mmodel backbone.conv3.1.conv2d.1.conv2.weight                  ...... \u001b[92mloaded\u001b[m\n",
      "2019-11-22 15:11:37,800 logger INFO: \u001b[mmodel backbone.conv3.1.conv2d.1.bn.weight                     ...... \u001b[92mloaded\u001b[m\n",
      "2019-11-22 15:11:37,801 logger INFO: \u001b[mmodel backbone.conv3.1.conv2d.1.bn.bias                       ...... \u001b[92mloaded\u001b[m\n",
      "2019-11-22 15:11:37,802 logger INFO: \u001b[mmodel backbone.conv3.1.conv2d.1.bn.running_mean               ...... \u001b[92mloaded\u001b[m\n",
      "2019-11-22 15:11:37,803 logger INFO: \u001b[mmodel backbone.conv3.1.conv2d.1.bn.running_var                ...... \u001b[92mloaded\u001b[m\n",
      "2019-11-22 15:11:37,804 logger INFO: \u001b[mmodel backbone.conv3.1.conv2d.2.conv1.weight                  ...... \u001b[92mloaded\u001b[m\n",
      "2019-11-22 15:11:37,805 logger INFO: \u001b[mmodel backbone.conv3.1.conv2d.2.conv2.weight                  ...... \u001b[92mloaded\u001b[m\n",
      "2019-11-22 15:11:37,807 logger INFO: \u001b[mmodel backbone.conv3.1.conv2d.2.bn.weight                     ...... \u001b[92mloaded\u001b[m\n",
      "2019-11-22 15:11:37,808 logger INFO: \u001b[mmodel backbone.conv3.1.conv2d.2.bn.bias                       ...... \u001b[92mloaded\u001b[m\n",
      "2019-11-22 15:11:37,809 logger INFO: \u001b[mmodel backbone.conv3.1.conv2d.2.bn.running_mean               ...... \u001b[92mloaded\u001b[m\n",
      "2019-11-22 15:11:37,810 logger INFO: \u001b[mmodel backbone.conv3.1.conv2d.2.bn.running_var                ...... \u001b[92mloaded\u001b[m\n",
      "2019-11-22 15:11:37,811 logger INFO: \u001b[mmodel backbone.conv3.1.conv2d.3.conv1.weight                  ...... \u001b[92mloaded\u001b[m\n",
      "2019-11-22 15:11:37,812 logger INFO: \u001b[mmodel backbone.conv3.1.conv2d.3.conv2.weight                  ...... \u001b[92mloaded\u001b[m\n",
      "2019-11-22 15:11:37,813 logger INFO: \u001b[mmodel backbone.conv3.1.conv2d.3.bn.weight                     ...... \u001b[92mloaded\u001b[m\n",
      "2019-11-22 15:11:37,813 logger INFO: \u001b[mmodel backbone.conv3.1.conv2d.3.bn.bias                       ...... \u001b[92mloaded\u001b[m\n",
      "2019-11-22 15:11:37,814 logger INFO: \u001b[mmodel backbone.conv3.1.conv2d.3.bn.running_mean               ...... \u001b[92mloaded\u001b[m\n",
      "2019-11-22 15:11:37,815 logger INFO: \u001b[mmodel backbone.conv3.1.conv2d.3.bn.running_var                ...... \u001b[92mloaded\u001b[m\n",
      "2019-11-22 15:11:37,815 logger INFO: \u001b[mmodel backbone.conv3.1.gate.fc1.weight                        ...... \u001b[92mloaded\u001b[m\n",
      "2019-11-22 15:11:37,816 logger INFO: \u001b[mmodel backbone.conv3.1.gate.fc1.bias                          ...... \u001b[92mloaded\u001b[m\n",
      "2019-11-22 15:11:37,817 logger INFO: \u001b[mmodel backbone.conv3.1.gate.fc2.weight                        ...... \u001b[92mloaded\u001b[m\n",
      "2019-11-22 15:11:37,818 logger INFO: \u001b[mmodel backbone.conv3.1.gate.fc2.bias                          ...... \u001b[92mloaded\u001b[m\n",
      "2019-11-22 15:11:37,819 logger INFO: \u001b[mmodel backbone.conv3.1.conv3.conv.weight                      ...... \u001b[92mloaded\u001b[m\n",
      "2019-11-22 15:11:37,821 logger INFO: \u001b[mmodel backbone.conv3.1.conv3.bn.weight                        ...... \u001b[92mloaded\u001b[m\n",
      "2019-11-22 15:11:37,822 logger INFO: \u001b[mmodel backbone.conv3.1.conv3.bn.bias                          ...... \u001b[92mloaded\u001b[m\n",
      "2019-11-22 15:11:37,824 logger INFO: \u001b[mmodel backbone.conv3.1.conv3.bn.running_mean                  ...... \u001b[92mloaded\u001b[m\n",
      "2019-11-22 15:11:37,825 logger INFO: \u001b[mmodel backbone.conv3.1.conv3.bn.running_var                   ...... \u001b[92mloaded\u001b[m\n",
      "2019-11-22 15:11:37,826 logger INFO: \u001b[mmodel backbone.conv3.2.0.conv.weight                          ...... \u001b[92mloaded\u001b[m\n",
      "2019-11-22 15:11:37,827 logger INFO: \u001b[mmodel backbone.conv3.2.0.bn.weight                            ...... \u001b[92mloaded\u001b[m\n",
      "2019-11-22 15:11:37,828 logger INFO: \u001b[mmodel backbone.conv3.2.0.bn.bias                              ...... \u001b[92mloaded\u001b[m\n",
      "2019-11-22 15:11:37,829 logger INFO: \u001b[mmodel backbone.conv3.2.0.bn.running_mean                      ...... \u001b[92mloaded\u001b[m\n",
      "2019-11-22 15:11:37,830 logger INFO: \u001b[mmodel backbone.conv3.2.0.bn.running_var                       ...... \u001b[92mloaded\u001b[m\n",
      "2019-11-22 15:11:37,831 logger INFO: \u001b[mmodel backbone.conv4.0.conv1.conv.weight                      ...... \u001b[92mloaded\u001b[m\n",
      "2019-11-22 15:11:37,832 logger INFO: \u001b[mmodel backbone.conv4.0.conv1.bn.weight                        ...... \u001b[92mloaded\u001b[m\n",
      "2019-11-22 15:11:37,835 logger INFO: \u001b[mmodel backbone.conv4.0.conv1.bn.bias                          ...... \u001b[92mloaded\u001b[m\n",
      "2019-11-22 15:11:37,836 logger INFO: \u001b[mmodel backbone.conv4.0.conv1.bn.running_mean                  ...... \u001b[92mloaded\u001b[m\n",
      "2019-11-22 15:11:37,837 logger INFO: \u001b[mmodel backbone.conv4.0.conv1.bn.running_var                   ...... \u001b[92mloaded\u001b[m\n",
      "2019-11-22 15:11:37,838 logger INFO: \u001b[mmodel backbone.conv4.0.conv2a.conv1.weight                    ...... \u001b[92mloaded\u001b[m\n",
      "2019-11-22 15:11:37,839 logger INFO: \u001b[mmodel backbone.conv4.0.conv2a.conv2.weight                    ...... \u001b[92mloaded\u001b[m\n",
      "2019-11-22 15:11:37,840 logger INFO: \u001b[mmodel backbone.conv4.0.conv2a.bn.weight                       ...... \u001b[92mloaded\u001b[m\n",
      "2019-11-22 15:11:37,841 logger INFO: \u001b[mmodel backbone.conv4.0.conv2a.bn.bias                         ...... \u001b[92mloaded\u001b[m\n",
      "2019-11-22 15:11:37,842 logger INFO: \u001b[mmodel backbone.conv4.0.conv2a.bn.running_mean                 ...... \u001b[92mloaded\u001b[m\n"
     ]
    },
    {
     "name": "stdout",
     "output_type": "stream",
     "text": [
      "2019-11-22 15:11:37,842 logger INFO: \u001b[mmodel backbone.conv4.0.conv2a.bn.running_var                  ...... \u001b[92mloaded\u001b[m\n",
      "2019-11-22 15:11:37,843 logger INFO: \u001b[mmodel backbone.conv4.0.conv2b.0.conv1.weight                  ...... \u001b[92mloaded\u001b[m\n",
      "2019-11-22 15:11:37,844 logger INFO: \u001b[mmodel backbone.conv4.0.conv2b.0.conv2.weight                  ...... \u001b[92mloaded\u001b[m\n",
      "2019-11-22 15:11:37,845 logger INFO: \u001b[mmodel backbone.conv4.0.conv2b.0.bn.weight                     ...... \u001b[92mloaded\u001b[m\n",
      "2019-11-22 15:11:37,846 logger INFO: \u001b[mmodel backbone.conv4.0.conv2b.0.bn.bias                       ...... \u001b[92mloaded\u001b[m\n",
      "2019-11-22 15:11:37,846 logger INFO: \u001b[mmodel backbone.conv4.0.conv2b.0.bn.running_mean               ...... \u001b[92mloaded\u001b[m\n",
      "2019-11-22 15:11:37,847 logger INFO: \u001b[mmodel backbone.conv4.0.conv2b.0.bn.running_var                ...... \u001b[92mloaded\u001b[m\n",
      "2019-11-22 15:11:37,848 logger INFO: \u001b[mmodel backbone.conv4.0.conv2b.1.conv1.weight                  ...... \u001b[92mloaded\u001b[m\n",
      "2019-11-22 15:11:37,849 logger INFO: \u001b[mmodel backbone.conv4.0.conv2b.1.conv2.weight                  ...... \u001b[92mloaded\u001b[m\n",
      "2019-11-22 15:11:37,849 logger INFO: \u001b[mmodel backbone.conv4.0.conv2b.1.bn.weight                     ...... \u001b[92mloaded\u001b[m\n",
      "2019-11-22 15:11:37,850 logger INFO: \u001b[mmodel backbone.conv4.0.conv2b.1.bn.bias                       ...... \u001b[92mloaded\u001b[m\n",
      "2019-11-22 15:11:37,850 logger INFO: \u001b[mmodel backbone.conv4.0.conv2b.1.bn.running_mean               ...... \u001b[92mloaded\u001b[m\n",
      "2019-11-22 15:11:37,851 logger INFO: \u001b[mmodel backbone.conv4.0.conv2b.1.bn.running_var                ...... \u001b[92mloaded\u001b[m\n",
      "2019-11-22 15:11:37,852 logger INFO: \u001b[mmodel backbone.conv4.0.conv2c.0.conv1.weight                  ...... \u001b[92mloaded\u001b[m\n",
      "2019-11-22 15:11:37,853 logger INFO: \u001b[mmodel backbone.conv4.0.conv2c.0.conv2.weight                  ...... \u001b[92mloaded\u001b[m\n",
      "2019-11-22 15:11:37,853 logger INFO: \u001b[mmodel backbone.conv4.0.conv2c.0.bn.weight                     ...... \u001b[92mloaded\u001b[m\n",
      "2019-11-22 15:11:37,854 logger INFO: \u001b[mmodel backbone.conv4.0.conv2c.0.bn.bias                       ...... \u001b[92mloaded\u001b[m\n",
      "2019-11-22 15:11:37,855 logger INFO: \u001b[mmodel backbone.conv4.0.conv2c.0.bn.running_mean               ...... \u001b[92mloaded\u001b[m\n",
      "2019-11-22 15:11:37,856 logger INFO: \u001b[mmodel backbone.conv4.0.conv2c.0.bn.running_var                ...... \u001b[92mloaded\u001b[m\n",
      "2019-11-22 15:11:37,857 logger INFO: \u001b[mmodel backbone.conv4.0.conv2c.1.conv1.weight                  ...... \u001b[92mloaded\u001b[m\n",
      "2019-11-22 15:11:37,857 logger INFO: \u001b[mmodel backbone.conv4.0.conv2c.1.conv2.weight                  ...... \u001b[92mloaded\u001b[m\n",
      "2019-11-22 15:11:37,858 logger INFO: \u001b[mmodel backbone.conv4.0.conv2c.1.bn.weight                     ...... \u001b[92mloaded\u001b[m\n",
      "2019-11-22 15:11:37,859 logger INFO: \u001b[mmodel backbone.conv4.0.conv2c.1.bn.bias                       ...... \u001b[92mloaded\u001b[m\n",
      "2019-11-22 15:11:37,860 logger INFO: \u001b[mmodel backbone.conv4.0.conv2c.1.bn.running_mean               ...... \u001b[92mloaded\u001b[m\n",
      "2019-11-22 15:11:37,861 logger INFO: \u001b[mmodel backbone.conv4.0.conv2c.1.bn.running_var                ...... \u001b[92mloaded\u001b[m\n",
      "2019-11-22 15:11:37,861 logger INFO: \u001b[mmodel backbone.conv4.0.conv2c.2.conv1.weight                  ...... \u001b[92mloaded\u001b[m\n",
      "2019-11-22 15:11:37,862 logger INFO: \u001b[mmodel backbone.conv4.0.conv2c.2.conv2.weight                  ...... \u001b[92mloaded\u001b[m\n",
      "2019-11-22 15:11:37,863 logger INFO: \u001b[mmodel backbone.conv4.0.conv2c.2.bn.weight                     ...... \u001b[92mloaded\u001b[m\n",
      "2019-11-22 15:11:37,864 logger INFO: \u001b[mmodel backbone.conv4.0.conv2c.2.bn.bias                       ...... \u001b[92mloaded\u001b[m\n",
      "2019-11-22 15:11:37,864 logger INFO: \u001b[mmodel backbone.conv4.0.conv2c.2.bn.running_mean               ...... \u001b[92mloaded\u001b[m\n",
      "2019-11-22 15:11:37,865 logger INFO: \u001b[mmodel backbone.conv4.0.conv2c.2.bn.running_var                ...... \u001b[92mloaded\u001b[m\n",
      "2019-11-22 15:11:37,866 logger INFO: \u001b[mmodel backbone.conv4.0.conv2d.0.conv1.weight                  ...... \u001b[92mloaded\u001b[m\n",
      "2019-11-22 15:11:37,866 logger INFO: \u001b[mmodel backbone.conv4.0.conv2d.0.conv2.weight                  ...... \u001b[92mloaded\u001b[m\n",
      "2019-11-22 15:11:37,867 logger INFO: \u001b[mmodel backbone.conv4.0.conv2d.0.bn.weight                     ...... \u001b[92mloaded\u001b[m\n",
      "2019-11-22 15:11:37,868 logger INFO: \u001b[mmodel backbone.conv4.0.conv2d.0.bn.bias                       ...... \u001b[92mloaded\u001b[m\n",
      "2019-11-22 15:11:37,869 logger INFO: \u001b[mmodel backbone.conv4.0.conv2d.0.bn.running_mean               ...... \u001b[92mloaded\u001b[m\n",
      "2019-11-22 15:11:37,870 logger INFO: \u001b[mmodel backbone.conv4.0.conv2d.0.bn.running_var                ...... \u001b[92mloaded\u001b[m\n",
      "2019-11-22 15:11:37,871 logger INFO: \u001b[mmodel backbone.conv4.0.conv2d.1.conv1.weight                  ...... \u001b[92mloaded\u001b[m\n",
      "2019-11-22 15:11:37,872 logger INFO: \u001b[mmodel backbone.conv4.0.conv2d.1.conv2.weight                  ...... \u001b[92mloaded\u001b[m\n",
      "2019-11-22 15:11:37,873 logger INFO: \u001b[mmodel backbone.conv4.0.conv2d.1.bn.weight                     ...... \u001b[92mloaded\u001b[m\n",
      "2019-11-22 15:11:37,874 logger INFO: \u001b[mmodel backbone.conv4.0.conv2d.1.bn.bias                       ...... \u001b[92mloaded\u001b[m\n",
      "2019-11-22 15:11:37,875 logger INFO: \u001b[mmodel backbone.conv4.0.conv2d.1.bn.running_mean               ...... \u001b[92mloaded\u001b[m\n",
      "2019-11-22 15:11:37,876 logger INFO: \u001b[mmodel backbone.conv4.0.conv2d.1.bn.running_var                ...... \u001b[92mloaded\u001b[m\n",
      "2019-11-22 15:11:37,877 logger INFO: \u001b[mmodel backbone.conv4.0.conv2d.2.conv1.weight                  ...... \u001b[92mloaded\u001b[m\n",
      "2019-11-22 15:11:37,878 logger INFO: \u001b[mmodel backbone.conv4.0.conv2d.2.conv2.weight                  ...... \u001b[92mloaded\u001b[m\n",
      "2019-11-22 15:11:37,879 logger INFO: \u001b[mmodel backbone.conv4.0.conv2d.2.bn.weight                     ...... \u001b[92mloaded\u001b[m\n",
      "2019-11-22 15:11:37,880 logger INFO: \u001b[mmodel backbone.conv4.0.conv2d.2.bn.bias                       ...... \u001b[92mloaded\u001b[m\n",
      "2019-11-22 15:11:37,881 logger INFO: \u001b[mmodel backbone.conv4.0.conv2d.2.bn.running_mean               ...... \u001b[92mloaded\u001b[m\n",
      "2019-11-22 15:11:37,882 logger INFO: \u001b[mmodel backbone.conv4.0.conv2d.2.bn.running_var                ...... \u001b[92mloaded\u001b[m\n",
      "2019-11-22 15:11:37,883 logger INFO: \u001b[mmodel backbone.conv4.0.conv2d.3.conv1.weight                  ...... \u001b[92mloaded\u001b[m\n",
      "2019-11-22 15:11:37,884 logger INFO: \u001b[mmodel backbone.conv4.0.conv2d.3.conv2.weight                  ...... \u001b[92mloaded\u001b[m\n",
      "2019-11-22 15:11:37,885 logger INFO: \u001b[mmodel backbone.conv4.0.conv2d.3.bn.weight                     ...... \u001b[92mloaded\u001b[m\n",
      "2019-11-22 15:11:37,886 logger INFO: \u001b[mmodel backbone.conv4.0.conv2d.3.bn.bias                       ...... \u001b[92mloaded\u001b[m\n",
      "2019-11-22 15:11:37,887 logger INFO: \u001b[mmodel backbone.conv4.0.conv2d.3.bn.running_mean               ...... \u001b[92mloaded\u001b[m\n",
      "2019-11-22 15:11:37,888 logger INFO: \u001b[mmodel backbone.conv4.0.conv2d.3.bn.running_var                ...... \u001b[92mloaded\u001b[m\n",
      "2019-11-22 15:11:37,889 logger INFO: \u001b[mmodel backbone.conv4.0.gate.fc1.weight                        ...... \u001b[92mloaded\u001b[m\n",
      "2019-11-22 15:11:37,890 logger INFO: \u001b[mmodel backbone.conv4.0.gate.fc1.bias                          ...... \u001b[92mloaded\u001b[m\n",
      "2019-11-22 15:11:37,891 logger INFO: \u001b[mmodel backbone.conv4.0.gate.fc2.weight                        ...... \u001b[92mloaded\u001b[m\n",
      "2019-11-22 15:11:37,892 logger INFO: \u001b[mmodel backbone.conv4.0.gate.fc2.bias                          ...... \u001b[92mloaded\u001b[m\n",
      "2019-11-22 15:11:37,894 logger INFO: \u001b[mmodel backbone.conv4.0.conv3.conv.weight                      ...... \u001b[92mloaded\u001b[m\n",
      "2019-11-22 15:11:37,895 logger INFO: \u001b[mmodel backbone.conv4.0.conv3.bn.weight                        ...... \u001b[92mloaded\u001b[m\n",
      "2019-11-22 15:11:37,896 logger INFO: \u001b[mmodel backbone.conv4.0.conv3.bn.bias                          ...... \u001b[92mloaded\u001b[m\n",
      "2019-11-22 15:11:37,897 logger INFO: \u001b[mmodel backbone.conv4.0.conv3.bn.running_mean                  ...... \u001b[92mloaded\u001b[m\n",
      "2019-11-22 15:11:37,898 logger INFO: \u001b[mmodel backbone.conv4.0.conv3.bn.running_var                   ...... \u001b[92mloaded\u001b[m\n",
      "2019-11-22 15:11:37,900 logger INFO: \u001b[mmodel backbone.conv4.0.downsample.conv.weight                 ...... \u001b[92mloaded\u001b[m\n",
      "2019-11-22 15:11:37,901 logger INFO: \u001b[mmodel backbone.conv4.0.downsample.bn.weight                   ...... \u001b[92mloaded\u001b[m\n"
     ]
    },
    {
     "name": "stdout",
     "output_type": "stream",
     "text": [
      "2019-11-22 15:11:37,902 logger INFO: \u001b[mmodel backbone.conv4.0.downsample.bn.bias                     ...... \u001b[92mloaded\u001b[m\n",
      "2019-11-22 15:11:37,903 logger INFO: \u001b[mmodel backbone.conv4.0.downsample.bn.running_mean             ...... \u001b[92mloaded\u001b[m\n",
      "2019-11-22 15:11:37,904 logger INFO: \u001b[mmodel backbone.conv4.0.downsample.bn.running_var              ...... \u001b[92mloaded\u001b[m\n",
      "2019-11-22 15:11:37,904 logger INFO: \u001b[mmodel backbone.conv4.1.conv1.conv.weight                      ...... \u001b[92mloaded\u001b[m\n",
      "2019-11-22 15:11:37,905 logger INFO: \u001b[mmodel backbone.conv4.1.conv1.bn.weight                        ...... \u001b[92mloaded\u001b[m\n",
      "2019-11-22 15:11:37,906 logger INFO: \u001b[mmodel backbone.conv4.1.conv1.bn.bias                          ...... \u001b[92mloaded\u001b[m\n",
      "2019-11-22 15:11:37,906 logger INFO: \u001b[mmodel backbone.conv4.1.conv1.bn.running_mean                  ...... \u001b[92mloaded\u001b[m\n",
      "2019-11-22 15:11:37,907 logger INFO: \u001b[mmodel backbone.conv4.1.conv1.bn.running_var                   ...... \u001b[92mloaded\u001b[m\n",
      "2019-11-22 15:11:37,908 logger INFO: \u001b[mmodel backbone.conv4.1.conv2a.conv1.weight                    ...... \u001b[92mloaded\u001b[m\n",
      "2019-11-22 15:11:37,909 logger INFO: \u001b[mmodel backbone.conv4.1.conv2a.conv2.weight                    ...... \u001b[92mloaded\u001b[m\n",
      "2019-11-22 15:11:37,911 logger INFO: \u001b[mmodel backbone.conv4.1.conv2a.bn.weight                       ...... \u001b[92mloaded\u001b[m\n",
      "2019-11-22 15:11:37,912 logger INFO: \u001b[mmodel backbone.conv4.1.conv2a.bn.bias                         ...... \u001b[92mloaded\u001b[m\n",
      "2019-11-22 15:11:37,913 logger INFO: \u001b[mmodel backbone.conv4.1.conv2a.bn.running_mean                 ...... \u001b[92mloaded\u001b[m\n",
      "2019-11-22 15:11:37,916 logger INFO: \u001b[mmodel backbone.conv4.1.conv2a.bn.running_var                  ...... \u001b[92mloaded\u001b[m\n",
      "2019-11-22 15:11:37,917 logger INFO: \u001b[mmodel backbone.conv4.1.conv2b.0.conv1.weight                  ...... \u001b[92mloaded\u001b[m\n",
      "2019-11-22 15:11:37,918 logger INFO: \u001b[mmodel backbone.conv4.1.conv2b.0.conv2.weight                  ...... \u001b[92mloaded\u001b[m\n",
      "2019-11-22 15:11:37,919 logger INFO: \u001b[mmodel backbone.conv4.1.conv2b.0.bn.weight                     ...... \u001b[92mloaded\u001b[m\n",
      "2019-11-22 15:11:37,919 logger INFO: \u001b[mmodel backbone.conv4.1.conv2b.0.bn.bias                       ...... \u001b[92mloaded\u001b[m\n",
      "2019-11-22 15:11:37,920 logger INFO: \u001b[mmodel backbone.conv4.1.conv2b.0.bn.running_mean               ...... \u001b[92mloaded\u001b[m\n",
      "2019-11-22 15:11:37,921 logger INFO: \u001b[mmodel backbone.conv4.1.conv2b.0.bn.running_var                ...... \u001b[92mloaded\u001b[m\n",
      "2019-11-22 15:11:37,921 logger INFO: \u001b[mmodel backbone.conv4.1.conv2b.1.conv1.weight                  ...... \u001b[92mloaded\u001b[m\n",
      "2019-11-22 15:11:37,922 logger INFO: \u001b[mmodel backbone.conv4.1.conv2b.1.conv2.weight                  ...... \u001b[92mloaded\u001b[m\n",
      "2019-11-22 15:11:37,923 logger INFO: \u001b[mmodel backbone.conv4.1.conv2b.1.bn.weight                     ...... \u001b[92mloaded\u001b[m\n",
      "2019-11-22 15:11:37,923 logger INFO: \u001b[mmodel backbone.conv4.1.conv2b.1.bn.bias                       ...... \u001b[92mloaded\u001b[m\n",
      "2019-11-22 15:11:37,924 logger INFO: \u001b[mmodel backbone.conv4.1.conv2b.1.bn.running_mean               ...... \u001b[92mloaded\u001b[m\n",
      "2019-11-22 15:11:37,925 logger INFO: \u001b[mmodel backbone.conv4.1.conv2b.1.bn.running_var                ...... \u001b[92mloaded\u001b[m\n",
      "2019-11-22 15:11:37,926 logger INFO: \u001b[mmodel backbone.conv4.1.conv2c.0.conv1.weight                  ...... \u001b[92mloaded\u001b[m\n",
      "2019-11-22 15:11:37,927 logger INFO: \u001b[mmodel backbone.conv4.1.conv2c.0.conv2.weight                  ...... \u001b[92mloaded\u001b[m\n",
      "2019-11-22 15:11:37,927 logger INFO: \u001b[mmodel backbone.conv4.1.conv2c.0.bn.weight                     ...... \u001b[92mloaded\u001b[m\n",
      "2019-11-22 15:11:37,928 logger INFO: \u001b[mmodel backbone.conv4.1.conv2c.0.bn.bias                       ...... \u001b[92mloaded\u001b[m\n",
      "2019-11-22 15:11:37,929 logger INFO: \u001b[mmodel backbone.conv4.1.conv2c.0.bn.running_mean               ...... \u001b[92mloaded\u001b[m\n",
      "2019-11-22 15:11:37,929 logger INFO: \u001b[mmodel backbone.conv4.1.conv2c.0.bn.running_var                ...... \u001b[92mloaded\u001b[m\n",
      "2019-11-22 15:11:37,930 logger INFO: \u001b[mmodel backbone.conv4.1.conv2c.1.conv1.weight                  ...... \u001b[92mloaded\u001b[m\n",
      "2019-11-22 15:11:37,931 logger INFO: \u001b[mmodel backbone.conv4.1.conv2c.1.conv2.weight                  ...... \u001b[92mloaded\u001b[m\n",
      "2019-11-22 15:11:37,931 logger INFO: \u001b[mmodel backbone.conv4.1.conv2c.1.bn.weight                     ...... \u001b[92mloaded\u001b[m\n",
      "2019-11-22 15:11:37,932 logger INFO: \u001b[mmodel backbone.conv4.1.conv2c.1.bn.bias                       ...... \u001b[92mloaded\u001b[m\n",
      "2019-11-22 15:11:37,933 logger INFO: \u001b[mmodel backbone.conv4.1.conv2c.1.bn.running_mean               ...... \u001b[92mloaded\u001b[m\n",
      "2019-11-22 15:11:37,934 logger INFO: \u001b[mmodel backbone.conv4.1.conv2c.1.bn.running_var                ...... \u001b[92mloaded\u001b[m\n",
      "2019-11-22 15:11:37,934 logger INFO: \u001b[mmodel backbone.conv4.1.conv2c.2.conv1.weight                  ...... \u001b[92mloaded\u001b[m\n",
      "2019-11-22 15:11:37,935 logger INFO: \u001b[mmodel backbone.conv4.1.conv2c.2.conv2.weight                  ...... \u001b[92mloaded\u001b[m\n",
      "2019-11-22 15:11:37,936 logger INFO: \u001b[mmodel backbone.conv4.1.conv2c.2.bn.weight                     ...... \u001b[92mloaded\u001b[m\n",
      "2019-11-22 15:11:37,938 logger INFO: \u001b[mmodel backbone.conv4.1.conv2c.2.bn.bias                       ...... \u001b[92mloaded\u001b[m\n",
      "2019-11-22 15:11:37,939 logger INFO: \u001b[mmodel backbone.conv4.1.conv2c.2.bn.running_mean               ...... \u001b[92mloaded\u001b[m\n",
      "2019-11-22 15:11:37,939 logger INFO: \u001b[mmodel backbone.conv4.1.conv2c.2.bn.running_var                ...... \u001b[92mloaded\u001b[m\n",
      "2019-11-22 15:11:37,940 logger INFO: \u001b[mmodel backbone.conv4.1.conv2d.0.conv1.weight                  ...... \u001b[92mloaded\u001b[m\n",
      "2019-11-22 15:11:37,941 logger INFO: \u001b[mmodel backbone.conv4.1.conv2d.0.conv2.weight                  ...... \u001b[92mloaded\u001b[m\n",
      "2019-11-22 15:11:37,942 logger INFO: \u001b[mmodel backbone.conv4.1.conv2d.0.bn.weight                     ...... \u001b[92mloaded\u001b[m\n",
      "2019-11-22 15:11:37,943 logger INFO: \u001b[mmodel backbone.conv4.1.conv2d.0.bn.bias                       ...... \u001b[92mloaded\u001b[m\n",
      "2019-11-22 15:11:37,943 logger INFO: \u001b[mmodel backbone.conv4.1.conv2d.0.bn.running_mean               ...... \u001b[92mloaded\u001b[m\n",
      "2019-11-22 15:11:37,944 logger INFO: \u001b[mmodel backbone.conv4.1.conv2d.0.bn.running_var                ...... \u001b[92mloaded\u001b[m\n",
      "2019-11-22 15:11:37,945 logger INFO: \u001b[mmodel backbone.conv4.1.conv2d.1.conv1.weight                  ...... \u001b[92mloaded\u001b[m\n",
      "2019-11-22 15:11:37,946 logger INFO: \u001b[mmodel backbone.conv4.1.conv2d.1.conv2.weight                  ...... \u001b[92mloaded\u001b[m\n",
      "2019-11-22 15:11:37,947 logger INFO: \u001b[mmodel backbone.conv4.1.conv2d.1.bn.weight                     ...... \u001b[92mloaded\u001b[m\n",
      "2019-11-22 15:11:37,947 logger INFO: \u001b[mmodel backbone.conv4.1.conv2d.1.bn.bias                       ...... \u001b[92mloaded\u001b[m\n",
      "2019-11-22 15:11:37,948 logger INFO: \u001b[mmodel backbone.conv4.1.conv2d.1.bn.running_mean               ...... \u001b[92mloaded\u001b[m\n",
      "2019-11-22 15:11:37,949 logger INFO: \u001b[mmodel backbone.conv4.1.conv2d.1.bn.running_var                ...... \u001b[92mloaded\u001b[m\n",
      "2019-11-22 15:11:37,950 logger INFO: \u001b[mmodel backbone.conv4.1.conv2d.2.conv1.weight                  ...... \u001b[92mloaded\u001b[m\n",
      "2019-11-22 15:11:37,951 logger INFO: \u001b[mmodel backbone.conv4.1.conv2d.2.conv2.weight                  ...... \u001b[92mloaded\u001b[m\n",
      "2019-11-22 15:11:37,951 logger INFO: \u001b[mmodel backbone.conv4.1.conv2d.2.bn.weight                     ...... \u001b[92mloaded\u001b[m\n",
      "2019-11-22 15:11:37,952 logger INFO: \u001b[mmodel backbone.conv4.1.conv2d.2.bn.bias                       ...... \u001b[92mloaded\u001b[m\n",
      "2019-11-22 15:11:37,953 logger INFO: \u001b[mmodel backbone.conv4.1.conv2d.2.bn.running_mean               ...... \u001b[92mloaded\u001b[m\n",
      "2019-11-22 15:11:37,954 logger INFO: \u001b[mmodel backbone.conv4.1.conv2d.2.bn.running_var                ...... \u001b[92mloaded\u001b[m\n",
      "2019-11-22 15:11:37,955 logger INFO: \u001b[mmodel backbone.conv4.1.conv2d.3.conv1.weight                  ...... \u001b[92mloaded\u001b[m\n",
      "2019-11-22 15:11:37,956 logger INFO: \u001b[mmodel backbone.conv4.1.conv2d.3.conv2.weight                  ...... \u001b[92mloaded\u001b[m\n",
      "2019-11-22 15:11:37,957 logger INFO: \u001b[mmodel backbone.conv4.1.conv2d.3.bn.weight                     ...... \u001b[92mloaded\u001b[m\n",
      "2019-11-22 15:11:37,958 logger INFO: \u001b[mmodel backbone.conv4.1.conv2d.3.bn.bias                       ...... \u001b[92mloaded\u001b[m\n",
      "2019-11-22 15:11:37,959 logger INFO: \u001b[mmodel backbone.conv4.1.conv2d.3.bn.running_mean               ...... \u001b[92mloaded\u001b[m\n"
     ]
    },
    {
     "name": "stdout",
     "output_type": "stream",
     "text": [
      "2019-11-22 15:11:37,960 logger INFO: \u001b[mmodel backbone.conv4.1.conv2d.3.bn.running_var                ...... \u001b[92mloaded\u001b[m\n",
      "2019-11-22 15:11:37,961 logger INFO: \u001b[mmodel backbone.conv4.1.gate.fc1.weight                        ...... \u001b[92mloaded\u001b[m\n",
      "2019-11-22 15:11:37,962 logger INFO: \u001b[mmodel backbone.conv4.1.gate.fc1.bias                          ...... \u001b[92mloaded\u001b[m\n",
      "2019-11-22 15:11:37,963 logger INFO: \u001b[mmodel backbone.conv4.1.gate.fc2.weight                        ...... \u001b[92mloaded\u001b[m\n",
      "2019-11-22 15:11:37,964 logger INFO: \u001b[mmodel backbone.conv4.1.gate.fc2.bias                          ...... \u001b[92mloaded\u001b[m\n",
      "2019-11-22 15:11:37,965 logger INFO: \u001b[mmodel backbone.conv4.1.conv3.conv.weight                      ...... \u001b[92mloaded\u001b[m\n",
      "2019-11-22 15:11:37,966 logger INFO: \u001b[mmodel backbone.conv4.1.conv3.bn.weight                        ...... \u001b[92mloaded\u001b[m\n",
      "2019-11-22 15:11:37,967 logger INFO: \u001b[mmodel backbone.conv4.1.conv3.bn.bias                          ...... \u001b[92mloaded\u001b[m\n",
      "2019-11-22 15:11:37,967 logger INFO: \u001b[mmodel backbone.conv4.1.conv3.bn.running_mean                  ...... \u001b[92mloaded\u001b[m\n",
      "2019-11-22 15:11:37,968 logger INFO: \u001b[mmodel backbone.conv4.1.conv3.bn.running_var                   ...... \u001b[92mloaded\u001b[m\n",
      "2019-11-22 15:11:37,970 logger INFO: \u001b[mmodel backbone.conv5.conv.weight                              ...... \u001b[92mloaded\u001b[m\n",
      "2019-11-22 15:11:37,971 logger INFO: \u001b[mmodel backbone.conv5.bn.weight                                ...... \u001b[92mloaded\u001b[m\n",
      "2019-11-22 15:11:37,972 logger INFO: \u001b[mmodel backbone.conv5.bn.bias                                  ...... \u001b[92mloaded\u001b[m\n",
      "2019-11-22 15:11:37,973 logger INFO: \u001b[mmodel backbone.conv5.bn.running_mean                          ...... \u001b[92mloaded\u001b[m\n",
      "2019-11-22 15:11:37,974 logger INFO: \u001b[mmodel backbone.conv5.bn.running_var                           ...... \u001b[92mloaded\u001b[m\n",
      "2019-11-22 15:11:37,974 logger INFO: \u001b[mmodel BNNeck.weight                                           ...... \u001b[92mloaded\u001b[m\n",
      "2019-11-22 15:11:37,975 logger INFO: \u001b[mmodel BNNeck.bias                                             ...... \u001b[92mloaded\u001b[m\n",
      "2019-11-22 15:11:37,976 logger INFO: \u001b[mmodel BNNeck.running_mean                                     ...... \u001b[92mloaded\u001b[m\n",
      "2019-11-22 15:11:37,977 logger INFO: \u001b[mmodel BNNeck.running_var                                      ...... \u001b[92mloaded\u001b[m\n",
      "2019-11-22 15:11:37,978 logger INFO: \u001b[mmodel BNNeck.num_batches_tracked                              ...... \u001b[92mloaded\u001b[m\n",
      "2019-11-22 15:11:37,989 logger INFO: \u001b[mmodel id_fc.weight                                            ...... \u001b[92mloaded\u001b[m\n",
      "2019-11-22 15:11:38,049 logger INFO: loss_0 is skipped\n",
      "2019-11-22 15:11:38,051 logger INFO: \u001b[m\n",
      "2019-11-22 15:11:38,053 logger INFO: Using GPU: \u001b[m\u001b[92m1\u001b[m\n",
      "2019-11-22 15:11:38,054 logger INFO: Use Single-GPU\n",
      "Bulding VGG19\n"
     ]
    }
   ],
   "source": [
    "app = App(model_config, app_config)"
   ]
  },
  {
   "cell_type": "code",
   "execution_count": 10,
   "metadata": {},
   "outputs": [],
   "source": [
    "import pandas as pd\n",
    "import os.path as osp\n",
    "from tqdm import tqdm\n",
    "import time"
   ]
  },
  {
   "cell_type": "code",
   "execution_count": 9,
   "metadata": {},
   "outputs": [],
   "source": [
    "df = pd.read_csv(\"/media/allen/mass/office_color/office_color.csv\")\n",
    "\n",
    "df = df.drop('Unnamed: 0', axis=1)\n",
    "\n",
    "src = \"/media/allen/mass/office/office/\"\n",
    "dst = \"/media/allen/mass/office/vis_polygon/\"\n",
    "if not osp.exists(dst):\n",
    "    os.mkdir(dst)\n",
    "\n",
    "pattern = re.compile(r'\\[(\\d+), (\\d+), (\\d+), (\\d+)\\]')\n",
    "LAB_Color = LAB(accurate=False)\n",
    "ucs = []\n",
    "lcs = []\n",
    "ucis = []\n",
    "lcis = []\n",
    "for i in [11]:#tqdm(df.index):\n",
    "    uci = -1\n",
    "    lci = -1\n",
    "    uc = 'none'\n",
    "    lc = 'none'\n",
    "\n",
    "    # read and crop image\n",
    "    x1, y1, x2, y2 = [i for i in map(int, pattern.search(df.loc[i, 'bbox']).groups())]    \n",
    "    img = cv2.imread(osp.join(src, df.loc[i, 'img']))\n",
    "    img = img[y1:y2, x1:x2, :]\n",
    "    color_img = get_color_img(img.copy(), 'LAB')\n",
    "\n",
    "    # get pose\n",
    "    subset, candidate = get_pose(app.PoseNet, img)    \n",
    "\n",
    "    # get color\n",
    "    # sup_img = superpixelize(color_img)\n",
    "    usamples, upoints = get_sample_points(color_img, subset, candidate, parts=UPPER)\n",
    "    lsamples, lpoints = get_sample_points(color_img, subset, candidate, parts=THIGH)    \n",
    "\n",
    "    fname, ext = osp.splitext(df.loc[i, 'img'])\n",
    "    fname = \"{}_{}{}\".format(fname, i, ext)\n",
    "\n",
    "    uplot = lplot = False\n",
    "    if usamples.shape[0] > 0:\n",
    "        uci = get_color(usamples, LAB_Color)\n",
    "        uc = LAB_Color.get_color_name(uci)    \n",
    "        app.visualize(img, upoints, (0,0,255))   \n",
    "        uplot = True\n",
    "    if lsamples.shape[0] > 0:                \n",
    "        lci = get_color(lsamples, LAB_Color)     \n",
    "        lc = LAB_Color.get_color_name(lci)     \n",
    "        app.visualize(img, lpoints, (0,255,0)) \n",
    "        lplot = True\n",
    "    if uplot or lplot:\n",
    "        cv2.imwrite(osp.join(dst, fname), img) \n",
    "        time.sleep(1)\n",
    "\n",
    "    ucs.append(uc)\n",
    "    lcs.append(lc)\n",
    "    ucis.append(uci)\n",
    "    lcis.append(lci)\n",
    "    \n",
    "\n",
    "df.uc = ucs\n",
    "df.lc = lcs\n",
    "df.uci = ucis\n",
    "df.lci = lcis\n",
    "df.to_csv(\"/media/allen/mass/office_color/office_color_polygon.csv\")"
   ]
  },
  {
   "cell_type": "code",
   "execution_count": 14,
   "metadata": {},
   "outputs": [
    {
     "data": {
      "text/plain": [
       "[11, 11, 11, 11, 11, 11, 11, 11]"
      ]
     },
     "execution_count": 14,
     "metadata": {},
     "output_type": "execute_result"
    }
   ],
   "source": [
    "[i]*len(upoints)"
   ]
  },
  {
   "cell_type": "code",
   "execution_count": 50,
   "metadata": {},
   "outputs": [
    {
     "data": {
      "text/plain": [
       "True"
      ]
     },
     "execution_count": 50,
     "metadata": {},
     "output_type": "execute_result"
    }
   ],
   "source": [
    "fname, ext = osp.splitext(df.loc[i, 'img'])\n",
    "fname = \"{}_{}{}\".format(fname, i, ext)\n",
    "cv2.imwrite(osp.join(dst, fname), img) "
   ]
  },
  {
   "cell_type": "code",
   "execution_count": 48,
   "metadata": {},
   "outputs": [
    {
     "data": {
      "image/png": "[encoded data removed]",
      "text/plain": [
       "<PIL.Image.Image image mode=RGB size=84x263 at 0x7F0F74B30E48>"
      ]
     },
     "execution_count": 48,
     "metadata": {},
     "output_type": "execute_result"
    }
   ],
   "source": [
    "to_pil(img)"
   ]
  },
  {
   "cell_type": "code",
   "execution_count": 18,
   "metadata": {},
   "outputs": [],
   "source": [
    "upts = np.load(osp.join(dst, 'upts.npy'))\n",
    "uptsi = np.load(osp.join(dst, 'uptsi.npy'))"
   ]
  },
  {
   "cell_type": "code",
   "execution_count": 20,
   "metadata": {},
   "outputs": [],
   "source": [
    "mask = uptsi == 0"
   ]
  },
  {
   "cell_type": "code",
   "execution_count": 21,
   "metadata": {},
   "outputs": [
    {
     "data": {
      "text/plain": [
       "array([ 68,  69,  34, 155,  13,  55,  66, 151])"
      ]
     },
     "execution_count": 21,
     "metadata": {},
     "output_type": "execute_result"
    }
   ],
   "source": [
    "upts[mask]"
   ]
  },
  {
   "cell_type": "code",
   "execution_count": 15,
   "metadata": {},
   "outputs": [
    {
     "data": {
      "text/plain": [
       "array([[26.4399093 ,  0.46938776, -6.16326531],\n",
       "       [26.4399093 ,  0.46938776, -6.16326531],\n",
       "       [26.4399093 ,  0.46938776, -6.16326531],\n",
       "       ...,\n",
       "       [45.85827313, -6.5877193 ,  3.48245614],\n",
       "       [45.85827313, -6.5877193 ,  3.48245614],\n",
       "       [35.07836024, -2.57678356, -6.72914148]])"
      ]
     },
     "execution_count": 15,
     "metadata": {},
     "output_type": "execute_result"
    }
   ],
   "source": [
    "usamples"
   ]
  }
 ],
 "metadata": {
  "kernelspec": {
   "display_name": "Python 3",
   "language": "python",
   "name": "python3"
  },
  "language_info": {
   "codemirror_mode": {
    "name": "ipython",
    "version": 3
   },
   "file_extension": ".py",
   "mimetype": "text/x-python",
   "name": "python",
   "nbconvert_exporter": "python",
   "pygments_lexer": "ipython3",
   "version": "3.6.8"
  }
 },
 "nbformat": 4,
 "nbformat_minor": 2
}
