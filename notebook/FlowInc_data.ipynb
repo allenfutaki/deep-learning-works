{
 "cells": [
  {
   "cell_type": "code",
   "execution_count": 2,
   "metadata": {},
   "outputs": [],
   "source": [
    "import os\n",
    "import os.path as osp\n",
    "import numpy as np\n",
    "import math\n",
    "import pandas as pd\n",
    "import cv2\n",
    "import re\n",
    "from datetime import datetime\n",
    "from tqdm import tqdm\n",
    "import shutil\n",
    "import random\n",
    "from PIL import Image, ImageOps\n",
    "def to_pil(cv_img):\n",
    "    img = cv2.cvtColor(cv_img, cv2.COLOR_BGR2RGB)\n",
    "    return Image.fromarray(img)\n",
    "src = \"/media/acer/5f45949f-0fc7-4475-965b-e61989afcc10/FlowInc_data\"\n",
    "branch = \"Kaohsiung_02\"\n",
    "cam = int(branch.split(\"_\")[-1])\n",
    "img_list = [osp.join(root, f) for root, _, files in os.walk(osp.join(src, branch)) for f in files if 'jpg' in f]"
   ]
  },
  {
   "cell_type": "code",
   "execution_count": 2,
   "metadata": {},
   "outputs": [],
   "source": [
    "dst = osp.join(src, f\"images_{cam:02}\")\n",
    "if not osp.exists(dst):\n",
    "    os.mkdir(osp.join(src, f\"images_{cam:02}\"))"
   ]
  },
  {
   "cell_type": "code",
   "execution_count": 2,
   "metadata": {},
   "outputs": [],
   "source": [
    "dst = osp.join(src, f\"sample_images_{cam:02}\")\n",
    "if not osp.exists(dst):\n",
    "    os.mkdir(dst)"
   ]
  },
  {
   "cell_type": "code",
   "execution_count": 3,
   "metadata": {},
   "outputs": [],
   "source": [
    "df = pd.read_csv(osp.join(src, f\"{branch}.csv\"))"
   ]
  },
  {
   "cell_type": "code",
   "execution_count": 4,
   "metadata": {},
   "outputs": [
    {
     "output_type": "execute_result",
     "data": {
      "text/plain": "               file_name  x1_label  y1_label  x2_label  y2_label  \\\n0  02_20200402140000.jpg      1530       554      1711       746   \n1  02_20200402140000.jpg      1626       483      1772       642   \n2  02_20200402140000.jpg       403       707       490       761   \n3  02_20200402140000.jpg       404       701       484       759   \n4  02_20200402140001.jpg      1530       554      1711       746   \n\n   occlude_label tracking_id_label  uniform_label  stand_x  stand_y fname  \n0              0           02_0001              1     1534      728   NaN  \n1              1           02_0002              1     1624      652   NaN  \n2              0           02_0003              0      478      740   NaN  \n3              2           02_0004              0      470      736   NaN  \n4              0           02_0001              1     1534      728   NaN  ",
      "text/html": "<div>\n<style scoped>\n    .dataframe tbody tr th:only-of-type {\n        vertical-align: middle;\n    }\n\n    .dataframe tbody tr th {\n        vertical-align: top;\n    }\n\n    .dataframe thead th {\n        text-align: right;\n    }\n</style>\n<table border=\"1\" class=\"dataframe\">\n  <thead>\n    <tr style=\"text-align: right;\">\n      <th></th>\n      <th>file_name</th>\n      <th>x1_label</th>\n      <th>y1_label</th>\n      <th>x2_label</th>\n      <th>y2_label</th>\n      <th>occlude_label</th>\n      <th>tracking_id_label</th>\n      <th>uniform_label</th>\n      <th>stand_x</th>\n      <th>stand_y</th>\n      <th>fname</th>\n    </tr>\n  </thead>\n  <tbody>\n    <tr>\n      <th>0</th>\n      <td>02_20200402140000.jpg</td>\n      <td>1530</td>\n      <td>554</td>\n      <td>1711</td>\n      <td>746</td>\n      <td>0</td>\n      <td>02_0001</td>\n      <td>1</td>\n      <td>1534</td>\n      <td>728</td>\n      <td>NaN</td>\n    </tr>\n    <tr>\n      <th>1</th>\n      <td>02_20200402140000.jpg</td>\n      <td>1626</td>\n      <td>483</td>\n      <td>1772</td>\n      <td>642</td>\n      <td>1</td>\n      <td>02_0002</td>\n      <td>1</td>\n      <td>1624</td>\n      <td>652</td>\n      <td>NaN</td>\n    </tr>\n    <tr>\n      <th>2</th>\n      <td>02_20200402140000.jpg</td>\n      <td>403</td>\n      <td>707</td>\n      <td>490</td>\n      <td>761</td>\n      <td>0</td>\n      <td>02_0003</td>\n      <td>0</td>\n      <td>478</td>\n      <td>740</td>\n      <td>NaN</td>\n    </tr>\n    <tr>\n      <th>3</th>\n      <td>02_20200402140000.jpg</td>\n      <td>404</td>\n      <td>701</td>\n      <td>484</td>\n      <td>759</td>\n      <td>2</td>\n      <td>02_0004</td>\n      <td>0</td>\n      <td>470</td>\n      <td>736</td>\n      <td>NaN</td>\n    </tr>\n    <tr>\n      <th>4</th>\n      <td>02_20200402140001.jpg</td>\n      <td>1530</td>\n      <td>554</td>\n      <td>1711</td>\n      <td>746</td>\n      <td>0</td>\n      <td>02_0001</td>\n      <td>1</td>\n      <td>1534</td>\n      <td>728</td>\n      <td>NaN</td>\n    </tr>\n  </tbody>\n</table>\n</div>"
     },
     "metadata": {},
     "execution_count": 4
    }
   ],
   "source": [
    "df['fname'] = pd.Series(index=df.index, dtype=str)\n",
    "df.head()"
   ]
  },
  {
   "cell_type": "code",
   "execution_count": 5,
   "metadata": {},
   "outputs": [
    {
     "output_type": "execute_result",
     "data": {
      "text/plain": "                  file_name  x1_label  y1_label  x2_label  y2_label  \\\n0     02_20200402140000.jpg      1530       554      1711       746   \n1     02_20200402140000.jpg      1626       483      1772       642   \n2     02_20200402140000.jpg       403       707       490       761   \n3     02_20200402140000.jpg       404       701       484       759   \n4     02_20200402140001.jpg      1530       554      1711       746   \n...                     ...       ...       ...       ...       ...   \n5328  02_20200402141259.jpg       483       651       598       732   \n5329  02_20200402141259.jpg       414       726       487       766   \n5330  02_20200402141259.jpg       372      1097       427      1125   \n5331  02_20200402141259.jpg       410       744       494       811   \n5332  02_20200402141259.jpg       657       347       779       465   \n\n      occlude_label tracking_id_label  uniform_label  stand_x  stand_y fname  \n0                 0           02_0001              1     1534      728   NaN  \n1                 1           02_0002              1     1624      652   NaN  \n2                 0           02_0003              0      478      740   NaN  \n3                 2           02_0004              0      470      736   NaN  \n4                 0           02_0001              1     1534      728   NaN  \n...             ...               ...            ...      ...      ...   ...  \n5328              0           02_0004              0      583      721   NaN  \n5329              1           02_0012              0      484      761   NaN  \n5330              0           02_0013              0      423     1106   NaN  \n5331              0           02_0016              0      490      782   NaN  \n5332              0           02_0003              1      778      442   NaN  \n\n[5333 rows x 11 columns]",
      "text/html": "<div>\n<style scoped>\n    .dataframe tbody tr th:only-of-type {\n        vertical-align: middle;\n    }\n\n    .dataframe tbody tr th {\n        vertical-align: top;\n    }\n\n    .dataframe thead th {\n        text-align: right;\n    }\n</style>\n<table border=\"1\" class=\"dataframe\">\n  <thead>\n    <tr style=\"text-align: right;\">\n      <th></th>\n      <th>file_name</th>\n      <th>x1_label</th>\n      <th>y1_label</th>\n      <th>x2_label</th>\n      <th>y2_label</th>\n      <th>occlude_label</th>\n      <th>tracking_id_label</th>\n      <th>uniform_label</th>\n      <th>stand_x</th>\n      <th>stand_y</th>\n      <th>fname</th>\n    </tr>\n  </thead>\n  <tbody>\n    <tr>\n      <th>0</th>\n      <td>02_20200402140000.jpg</td>\n      <td>1530</td>\n      <td>554</td>\n      <td>1711</td>\n      <td>746</td>\n      <td>0</td>\n      <td>02_0001</td>\n      <td>1</td>\n      <td>1534</td>\n      <td>728</td>\n      <td>NaN</td>\n    </tr>\n    <tr>\n      <th>1</th>\n      <td>02_20200402140000.jpg</td>\n      <td>1626</td>\n      <td>483</td>\n      <td>1772</td>\n      <td>642</td>\n      <td>1</td>\n      <td>02_0002</td>\n      <td>1</td>\n      <td>1624</td>\n      <td>652</td>\n      <td>NaN</td>\n    </tr>\n    <tr>\n      <th>2</th>\n      <td>02_20200402140000.jpg</td>\n      <td>403</td>\n      <td>707</td>\n      <td>490</td>\n      <td>761</td>\n      <td>0</td>\n      <td>02_0003</td>\n      <td>0</td>\n      <td>478</td>\n      <td>740</td>\n      <td>NaN</td>\n    </tr>\n    <tr>\n      <th>3</th>\n      <td>02_20200402140000.jpg</td>\n      <td>404</td>\n      <td>701</td>\n      <td>484</td>\n      <td>759</td>\n      <td>2</td>\n      <td>02_0004</td>\n      <td>0</td>\n      <td>470</td>\n      <td>736</td>\n      <td>NaN</td>\n    </tr>\n    <tr>\n      <th>4</th>\n      <td>02_20200402140001.jpg</td>\n      <td>1530</td>\n      <td>554</td>\n      <td>1711</td>\n      <td>746</td>\n      <td>0</td>\n      <td>02_0001</td>\n      <td>1</td>\n      <td>1534</td>\n      <td>728</td>\n      <td>NaN</td>\n    </tr>\n    <tr>\n      <th>...</th>\n      <td>...</td>\n      <td>...</td>\n      <td>...</td>\n      <td>...</td>\n      <td>...</td>\n      <td>...</td>\n      <td>...</td>\n      <td>...</td>\n      <td>...</td>\n      <td>...</td>\n      <td>...</td>\n    </tr>\n    <tr>\n      <th>5328</th>\n      <td>02_20200402141259.jpg</td>\n      <td>483</td>\n      <td>651</td>\n      <td>598</td>\n      <td>732</td>\n      <td>0</td>\n      <td>02_0004</td>\n      <td>0</td>\n      <td>583</td>\n      <td>721</td>\n      <td>NaN</td>\n    </tr>\n    <tr>\n      <th>5329</th>\n      <td>02_20200402141259.jpg</td>\n      <td>414</td>\n      <td>726</td>\n      <td>487</td>\n      <td>766</td>\n      <td>1</td>\n      <td>02_0012</td>\n      <td>0</td>\n      <td>484</td>\n      <td>761</td>\n      <td>NaN</td>\n    </tr>\n    <tr>\n      <th>5330</th>\n      <td>02_20200402141259.jpg</td>\n      <td>372</td>\n      <td>1097</td>\n      <td>427</td>\n      <td>1125</td>\n      <td>0</td>\n      <td>02_0013</td>\n      <td>0</td>\n      <td>423</td>\n      <td>1106</td>\n      <td>NaN</td>\n    </tr>\n    <tr>\n      <th>5331</th>\n      <td>02_20200402141259.jpg</td>\n      <td>410</td>\n      <td>744</td>\n      <td>494</td>\n      <td>811</td>\n      <td>0</td>\n      <td>02_0016</td>\n      <td>0</td>\n      <td>490</td>\n      <td>782</td>\n      <td>NaN</td>\n    </tr>\n    <tr>\n      <th>5332</th>\n      <td>02_20200402141259.jpg</td>\n      <td>657</td>\n      <td>347</td>\n      <td>779</td>\n      <td>465</td>\n      <td>0</td>\n      <td>02_0003</td>\n      <td>1</td>\n      <td>778</td>\n      <td>442</td>\n      <td>NaN</td>\n    </tr>\n  </tbody>\n</table>\n<p>5333 rows × 11 columns</p>\n</div>"
     },
     "metadata": {},
     "execution_count": 5
    }
   ],
   "source": [
    "df[df.isna().any(axis=1)]"
   ]
  },
  {
   "cell_type": "code",
   "execution_count": 6,
   "metadata": {},
   "outputs": [],
   "source": [
    "df = df.dropna()"
   ]
  },
  {
   "cell_type": "code",
   "execution_count": 7,
   "metadata": {},
   "outputs": [],
   "source": [
    "np.random.seed(0)\n",
    "sample = np.random.randint(0, len(df), 264)\n",
    "df = df.loc[sample]"
   ]
  },
  {
   "cell_type": "code",
   "execution_count": 5,
   "metadata": {},
   "outputs": [],
   "source": [
    "def get_rotate_angle(dx, dy):\n",
    "    if dy == 0:\n",
    "        return 0\n",
    "    angle = np.arctan(np.abs(dx/dy)) / math.pi * 180\n",
    "    if dx > 0 and dy < 0:\n",
    "        return angle\n",
    "    elif dx < 0 and dy < 0:\n",
    "        return -1 * angle\n",
    "    elif dx > 0 and dy > 0:\n",
    "        return 180 - angle\n",
    "    else:\n",
    "        return -1 * (180 - angle)\n",
    "\n",
    "def get_normalized_img(crop, pos):\n",
    "    pil_img = to_pil(crop)\n",
    "    crop_w, crop_h = pil_img.size\n",
    "    x1, y1, x2, y2 = pos\n",
    "    x, y = (x1+x2) / 2, (y1+y2) / 2\n",
    "    diag_len = np.sqrt(crop_w**2 + crop_h**2)\n",
    "    delta_h = diag_len - crop_h\n",
    "    padding = (0, int(delta_h//2), 0, int(delta_h//2))\n",
    "    pil_img = ImageOps.expand(pil_img, padding)\n",
    "    angle = get_rotate_angle(x-cx, y-cy)\n",
    "    pil_img = pil_img.rotate(angle)\n",
    "    return pil_img"
   ]
  },
  {
   "cell_type": "code",
   "execution_count": 6,
   "metadata": {},
   "outputs": [
    {
     "output_type": "execute_result",
     "data": {
      "text/plain": "'/media/acer/5f45949f-0fc7-4475-965b-e61989afcc10/FlowInc_data/images_02'"
     },
     "metadata": {},
     "execution_count": 6
    }
   ],
   "source": [
    "dst"
   ]
  },
  {
   "cell_type": "code",
   "execution_count": 7,
   "metadata": {
    "tags": [
     "outputPrepend",
     "outputPrepend",
     "outputPrepend",
     "outputPrepend",
     "outputPrepend",
     "outputPrepend",
     "outputPrepend",
     "outputPrepend",
     "outputPrepend",
     "outputPrepend",
     "outputPrepend"
    ]
   },
   "outputs": [
    {
     "output_type": "stream",
     "name": "stderr",
     "text": "100%|██████████| 1700/1700 [01:35<00:00, 22.28it/s]\n"
    }
   ],
   "source": [
    "pattern = re.compile(r'(\\d{4})(\\d{2})(\\d{2})(\\d{2})(\\d{2})(\\d{2})')\n",
    "f = open(osp.join(src, f'{branch}.txt'), 'w')\n",
    "normalized_imgs = []\n",
    "temp_timestamp = 0\n",
    "for path in tqdm(sorted(img_list)):\n",
    "    img = cv2.imread(path)\n",
    "    h, w = img.shape[:2]\n",
    "    cx, cy = w * 0.5, h * 0.5\n",
    "    fname = osp.basename(path)\n",
    "    labels = df[df['file_name']==fname]\n",
    "    fname = osp.splitext(fname)[0]\n",
    "    if len(labels) == 0:\n",
    "        # print(fname)\n",
    "        continue\n",
    "\n",
    "    for i in labels.index:\n",
    "        x1 = int(labels.loc[i]['x1_label'])\n",
    "        y1 = int(labels.loc[i]['y1_label'])\n",
    "        x2 = int(labels.loc[i]['x2_label'])\n",
    "        y2 = int(labels.loc[i]['y2_label'])\n",
    "        sx = int(labels.loc[i]['stand_x'])\n",
    "        sy = int(labels.loc[i]['stand_y'])\n",
    "        f.writelines(f\"{fname} -1 {x1} {y1} {x2} {y2} {sx} {sy}\\n\")\n",
    "        uniform = int(labels.loc[i]['uniform_label'])\n",
    "        occlude = int(labels.loc[i]['occlude_label'])\n",
    "        pid = labels.loc[i]['tracking_id_label'].split(\"_\")[-1]\n",
    "        color = (0,255,0)\n",
    "        if uniform:\n",
    "            color = (0,0,255)\n",
    "        if occlude == 2:\n",
    "            color = (0,0,0)\n",
    "        if x2-x1 != 0 and y2-y1 != 0:\n",
    "            normalized_img = get_normalized_img(img[y1:y2, x1:x2, :], (x1, y1, x2, y2))\n",
    "            crop_w, crop_h = normalized_img.size\n",
    "            if crop_w < 50 and crop_h < 100:\n",
    "                df[\"tracking_id_label\"].loc[i] = \"-1\"\n",
    "                continue\n",
    "            if occlude == 2:\n",
    "                df[\"tracking_id_label\"].loc[i] = \"-1\"\n",
    "                continue\n",
    "            date_str = fname.split(\"_\")[-1]\n",
    "            year, month, day, hour, minute, second = map(int, pattern.search(date_str).groups())\n",
    "            date = datetime(year, month, day, hour, minute, second)\n",
    "            timestamp = int(datetime.timestamp(date))\n",
    "            img_name = f\"{pid}_c{cam}s1_{uniform}_{timestamp}_{i:04}.jpg\"\n",
    "            df[\"tracking_id_label\"].loc[i] = f\"01_{pid}\"\n",
    "            df['fname'].loc[i] = img_name\n",
    "            # break\n",
    "            normalized_img.save(osp.join(dst, img_name))\n",
    "        else:\n",
    "            print(fname)\n",
    "f.close()"
   ]
  },
  {
   "cell_type": "code",
   "execution_count": 8,
   "metadata": {},
   "outputs": [],
   "source": [
    "crop_img_list = [osp.join(root, f) for root, _, files in os.walk(dst) for f in files if 'jpg' in f]\n",
    "clean_dst = osp.join(src, f\"images_{cam:02}_1th_clean\")\n",
    "if not osp.exists(clean_dst):\n",
    "    os.mkdir(osp.join(src, f\"images_{cam:02}_1th_clean\"))"
   ]
  },
  {
   "cell_type": "code",
   "execution_count": 9,
   "metadata": {},
   "outputs": [
    {
     "output_type": "execute_result",
     "data": {
      "text/plain": "True"
     },
     "metadata": {},
     "execution_count": 9
    }
   ],
   "source": [
    "len(crop_img_list) == len(df['fname'].dropna())"
   ]
  },
  {
   "cell_type": "code",
   "execution_count": 10,
   "metadata": {
    "tags": [
     "outputPrepend",
     "outputPrepend",
     "outputPrepend",
     "outputPrepend",
     "outputPrepend",
     "outputPrepend",
     "outputPrepend",
     "outputPrepend",
     "outputPrepend",
     "outputPrepend",
     "outputPrepend",
     "outputPrepend"
    ]
   },
   "outputs": [
    {
     "output_type": "stream",
     "name": "stderr",
     "text": "100%|██████████| 3997/3997 [00:03<00:00, 1267.94it/s]\n"
    }
   ],
   "source": [
    "temp_timestamp = -1\n",
    "temp_pid = -1\n",
    "num = 1\n",
    "for path in tqdm(sorted(crop_img_list)):\n",
    "    fname = osp.basename(path)\n",
    "    fname = osp.splitext(fname)[0]\n",
    "    try:\n",
    "        pid, _, uniform, timestamp, index = fname.split(\"_\")\n",
    "        index = int(index)\n",
    "    except:\n",
    "        print(fname)\n",
    "        break\n",
    "    pid = int(pid)\n",
    "    uniform = int(uniform)\n",
    "    timestamp = int(timestamp)\n",
    "    if pid != temp_pid and temp_pid > 0:\n",
    "        num += 1\n",
    "    else:\n",
    "        if np.abs(timestamp - temp_timestamp) > 50 and temp_timestamp > 0:\n",
    "            num += 1\n",
    "    temp_pid = pid\n",
    "    temp_timestamp = timestamp\n",
    "    img_name = f\"{num:04}_c{cam}s1_{uniform}_{timestamp}_{index}.jpg\"\n",
    "    df[\"tracking_id_label\"].loc[index] = f\"01_{num:04}\"\n",
    "    df['fname'].loc[index] = img_name\n",
    "    shutil.copy(path, osp.join(clean_dst, img_name))"
   ]
  },
  {
   "cell_type": "code",
   "execution_count": 11,
   "metadata": {},
   "outputs": [
    {
     "output_type": "execute_result",
     "data": {
      "text/plain": "                file_name  x1_label  y1_label  x2_label  y2_label  \\\n0   02_20200402140000.jpg      1530       554      1711       746   \n1   02_20200402140000.jpg      1626       483      1772       642   \n2   02_20200402140000.jpg       403       707       490       761   \n3   02_20200402140000.jpg       404       701       484       759   \n4   02_20200402140001.jpg      1530       554      1711       746   \n5   02_20200402140001.jpg      1626       483      1772       642   \n6   02_20200402140001.jpg       436       629       514       672   \n7   02_20200402140001.jpg       436       627       511       685   \n8   02_20200402140002.jpg      1530       554      1711       746   \n9   02_20200402140002.jpg      1679       525      1776       642   \n10  02_20200402140002.jpg       473       544       548       583   \n\n    occlude_label tracking_id_label  uniform_label  stand_x  stand_y  \\\n0               0           01_0002              1     1534      728   \n1               1           01_0005              1     1624      652   \n2               0           01_0007              0      478      740   \n3               2                -1              0      470      736   \n4               0           01_0002              1     1534      728   \n5               1           01_0005              1     1624      652   \n6               0           01_0007              0      507      664   \n7               2                -1              0      499      660   \n8               0           01_0002              1     1534      728   \n9               1           01_0005              1     1624      652   \n10              0           01_0007              0      541      579   \n\n                            fname  \n0    0002_c2s1_1_1585807200_0.jpg  \n1    0005_c2s1_1_1585807200_1.jpg  \n2    0007_c2s1_0_1585807200_2.jpg  \n3                             NaN  \n4    0002_c2s1_1_1585807201_4.jpg  \n5    0005_c2s1_1_1585807201_5.jpg  \n6    0007_c2s1_0_1585807201_6.jpg  \n7                             NaN  \n8    0002_c2s1_1_1585807202_8.jpg  \n9    0005_c2s1_1_1585807202_9.jpg  \n10  0007_c2s1_0_1585807202_10.jpg  ",
      "text/html": "<div>\n<style scoped>\n    .dataframe tbody tr th:only-of-type {\n        vertical-align: middle;\n    }\n\n    .dataframe tbody tr th {\n        vertical-align: top;\n    }\n\n    .dataframe thead th {\n        text-align: right;\n    }\n</style>\n<table border=\"1\" class=\"dataframe\">\n  <thead>\n    <tr style=\"text-align: right;\">\n      <th></th>\n      <th>file_name</th>\n      <th>x1_label</th>\n      <th>y1_label</th>\n      <th>x2_label</th>\n      <th>y2_label</th>\n      <th>occlude_label</th>\n      <th>tracking_id_label</th>\n      <th>uniform_label</th>\n      <th>stand_x</th>\n      <th>stand_y</th>\n      <th>fname</th>\n    </tr>\n  </thead>\n  <tbody>\n    <tr>\n      <th>0</th>\n      <td>02_20200402140000.jpg</td>\n      <td>1530</td>\n      <td>554</td>\n      <td>1711</td>\n      <td>746</td>\n      <td>0</td>\n      <td>01_0002</td>\n      <td>1</td>\n      <td>1534</td>\n      <td>728</td>\n      <td>0002_c2s1_1_1585807200_0.jpg</td>\n    </tr>\n    <tr>\n      <th>1</th>\n      <td>02_20200402140000.jpg</td>\n      <td>1626</td>\n      <td>483</td>\n      <td>1772</td>\n      <td>642</td>\n      <td>1</td>\n      <td>01_0005</td>\n      <td>1</td>\n      <td>1624</td>\n      <td>652</td>\n      <td>0005_c2s1_1_1585807200_1.jpg</td>\n    </tr>\n    <tr>\n      <th>2</th>\n      <td>02_20200402140000.jpg</td>\n      <td>403</td>\n      <td>707</td>\n      <td>490</td>\n      <td>761</td>\n      <td>0</td>\n      <td>01_0007</td>\n      <td>0</td>\n      <td>478</td>\n      <td>740</td>\n      <td>0007_c2s1_0_1585807200_2.jpg</td>\n    </tr>\n    <tr>\n      <th>3</th>\n      <td>02_20200402140000.jpg</td>\n      <td>404</td>\n      <td>701</td>\n      <td>484</td>\n      <td>759</td>\n      <td>2</td>\n      <td>-1</td>\n      <td>0</td>\n      <td>470</td>\n      <td>736</td>\n      <td>NaN</td>\n    </tr>\n    <tr>\n      <th>4</th>\n      <td>02_20200402140001.jpg</td>\n      <td>1530</td>\n      <td>554</td>\n      <td>1711</td>\n      <td>746</td>\n      <td>0</td>\n      <td>01_0002</td>\n      <td>1</td>\n      <td>1534</td>\n      <td>728</td>\n      <td>0002_c2s1_1_1585807201_4.jpg</td>\n    </tr>\n    <tr>\n      <th>5</th>\n      <td>02_20200402140001.jpg</td>\n      <td>1626</td>\n      <td>483</td>\n      <td>1772</td>\n      <td>642</td>\n      <td>1</td>\n      <td>01_0005</td>\n      <td>1</td>\n      <td>1624</td>\n      <td>652</td>\n      <td>0005_c2s1_1_1585807201_5.jpg</td>\n    </tr>\n    <tr>\n      <th>6</th>\n      <td>02_20200402140001.jpg</td>\n      <td>436</td>\n      <td>629</td>\n      <td>514</td>\n      <td>672</td>\n      <td>0</td>\n      <td>01_0007</td>\n      <td>0</td>\n      <td>507</td>\n      <td>664</td>\n      <td>0007_c2s1_0_1585807201_6.jpg</td>\n    </tr>\n    <tr>\n      <th>7</th>\n      <td>02_20200402140001.jpg</td>\n      <td>436</td>\n      <td>627</td>\n      <td>511</td>\n      <td>685</td>\n      <td>2</td>\n      <td>-1</td>\n      <td>0</td>\n      <td>499</td>\n      <td>660</td>\n      <td>NaN</td>\n    </tr>\n    <tr>\n      <th>8</th>\n      <td>02_20200402140002.jpg</td>\n      <td>1530</td>\n      <td>554</td>\n      <td>1711</td>\n      <td>746</td>\n      <td>0</td>\n      <td>01_0002</td>\n      <td>1</td>\n      <td>1534</td>\n      <td>728</td>\n      <td>0002_c2s1_1_1585807202_8.jpg</td>\n    </tr>\n    <tr>\n      <th>9</th>\n      <td>02_20200402140002.jpg</td>\n      <td>1679</td>\n      <td>525</td>\n      <td>1776</td>\n      <td>642</td>\n      <td>1</td>\n      <td>01_0005</td>\n      <td>1</td>\n      <td>1624</td>\n      <td>652</td>\n      <td>0005_c2s1_1_1585807202_9.jpg</td>\n    </tr>\n    <tr>\n      <th>10</th>\n      <td>02_20200402140002.jpg</td>\n      <td>473</td>\n      <td>544</td>\n      <td>548</td>\n      <td>583</td>\n      <td>0</td>\n      <td>01_0007</td>\n      <td>0</td>\n      <td>541</td>\n      <td>579</td>\n      <td>0007_c2s1_0_1585807202_10.jpg</td>\n    </tr>\n  </tbody>\n</table>\n</div>"
     },
     "metadata": {},
     "execution_count": 11
    }
   ],
   "source": [
    "df.loc[:10]"
   ]
  },
  {
   "cell_type": "code",
   "execution_count": 10,
   "metadata": {},
   "outputs": [],
   "source": [
    "pids = {\n",
    "    1:[18,6,81],\n",
    "    2:[31,78],\n",
    "    4:[15,36,69],\n",
    "    5:[14,26,59,70],\n",
    "    7:[13,27,39,65,75],\n",
    "    8:[11,42,72],\n",
    "    9:[19,32,62,73],\n",
    "    10:[12],\n",
    "    16:[23,24,66,74],\n",
    "    }\n",
    "pid_map = {}\n",
    "for pid in pids:\n",
    "    for copy in pids[pid]:\n",
    "        pid_map[copy] = pid"
   ]
  },
  {
   "cell_type": "code",
   "execution_count": 12,
   "metadata": {},
   "outputs": [],
   "source": [
    "pids = {\n",
    "    1:[4,12,21,22,37],\n",
    "    2:[3,13],\n",
    "    5:[6,17],\n",
    "    8:[29],\n",
    "    38:[74]\n",
    "    }\n",
    "pid_map = {}\n",
    "for pid in pids:\n",
    "    for copy in pids[pid]:\n",
    "        pid_map[copy] = pid"
   ]
  },
  {
   "cell_type": "code",
   "execution_count": 13,
   "metadata": {},
   "outputs": [],
   "source": [
    "crop_img_list2 = [osp.join(root, f) for root, _, files in os.walk(clean_dst) for f in files if 'jpg' in f]\n",
    "clean_dst2 = osp.join(src, f\"images_{cam:02}_2th_clean\")\n",
    "if not osp.exists(clean_dst2):\n",
    "    os.mkdir(osp.join(src, f\"images_{cam:02}_2th_clean\"))"
   ]
  },
  {
   "cell_type": "code",
   "execution_count": 14,
   "metadata": {},
   "outputs": [
    {
     "output_type": "stream",
     "name": "stderr",
     "text": "100%|██████████| 3997/3997 [00:02<00:00, 1665.75it/s]\n"
    }
   ],
   "source": [
    "# pid_map = {10:3, 18:3, 8:4, 25:5, 11:5, 9:6, 27:13, 22:13, 29:15, 23:15, 24:16, 21:17, 26:7, 20:7}\n",
    "for path in tqdm(sorted(crop_img_list2)):\n",
    "    fname = osp.basename(path)\n",
    "    fname = osp.splitext(fname)[0]\n",
    "    pid, _, uniform, timestamp, index = fname.split(\"_\")\n",
    "    index = int(index)\n",
    "    pid = int(pid)\n",
    "    uniform = int(uniform)\n",
    "    timestamp = int(timestamp)\n",
    "    if pid in pid_map:\n",
    "        pid = pid_map[pid]\n",
    "    img_name = f\"{pid:04}_c{cam}s1_{uniform}_{timestamp}{index}.jpg\"\n",
    "    df[\"tracking_id_label\"].loc[index] = f\"01_{pid:04}\"\n",
    "    df['fname'].loc[index] = img_name\n",
    "    shutil.copy(path, osp.join(clean_dst2, img_name))"
   ]
  },
  {
   "cell_type": "code",
   "execution_count": 15,
   "metadata": {},
   "outputs": [
    {
     "output_type": "execute_result",
     "data": {
      "text/plain": "                file_name  x1_label  y1_label  x2_label  y2_label  \\\n0   02_20200402140000.jpg      1530       554      1711       746   \n1   02_20200402140000.jpg      1626       483      1772       642   \n2   02_20200402140000.jpg       403       707       490       761   \n3   02_20200402140000.jpg       404       701       484       759   \n4   02_20200402140001.jpg      1530       554      1711       746   \n5   02_20200402140001.jpg      1626       483      1772       642   \n6   02_20200402140001.jpg       436       629       514       672   \n7   02_20200402140001.jpg       436       627       511       685   \n8   02_20200402140002.jpg      1530       554      1711       746   \n9   02_20200402140002.jpg      1679       525      1776       642   \n10  02_20200402140002.jpg       473       544       548       583   \n\n    occlude_label tracking_id_label  uniform_label  stand_x  stand_y  \\\n0               0           01_0002              1     1534      728   \n1               1           01_0005              1     1624      652   \n2               0           01_0007              0      478      740   \n3               2                -1              0      470      736   \n4               0           01_0002              1     1534      728   \n5               1           01_0005              1     1624      652   \n6               0           01_0007              0      507      664   \n7               2                -1              0      499      660   \n8               0           01_0002              1     1534      728   \n9               1           01_0005              1     1624      652   \n10              0           01_0007              0      541      579   \n\n                           fname  \n0    0002_c2s1_1_15858072000.jpg  \n1    0005_c2s1_1_15858072001.jpg  \n2    0007_c2s1_0_15858072002.jpg  \n3                            NaN  \n4    0002_c2s1_1_15858072014.jpg  \n5    0005_c2s1_1_15858072015.jpg  \n6    0007_c2s1_0_15858072016.jpg  \n7                            NaN  \n8    0002_c2s1_1_15858072028.jpg  \n9    0005_c2s1_1_15858072029.jpg  \n10  0007_c2s1_0_158580720210.jpg  ",
      "text/html": "<div>\n<style scoped>\n    .dataframe tbody tr th:only-of-type {\n        vertical-align: middle;\n    }\n\n    .dataframe tbody tr th {\n        vertical-align: top;\n    }\n\n    .dataframe thead th {\n        text-align: right;\n    }\n</style>\n<table border=\"1\" class=\"dataframe\">\n  <thead>\n    <tr style=\"text-align: right;\">\n      <th></th>\n      <th>file_name</th>\n      <th>x1_label</th>\n      <th>y1_label</th>\n      <th>x2_label</th>\n      <th>y2_label</th>\n      <th>occlude_label</th>\n      <th>tracking_id_label</th>\n      <th>uniform_label</th>\n      <th>stand_x</th>\n      <th>stand_y</th>\n      <th>fname</th>\n    </tr>\n  </thead>\n  <tbody>\n    <tr>\n      <th>0</th>\n      <td>02_20200402140000.jpg</td>\n      <td>1530</td>\n      <td>554</td>\n      <td>1711</td>\n      <td>746</td>\n      <td>0</td>\n      <td>01_0002</td>\n      <td>1</td>\n      <td>1534</td>\n      <td>728</td>\n      <td>0002_c2s1_1_15858072000.jpg</td>\n    </tr>\n    <tr>\n      <th>1</th>\n      <td>02_20200402140000.jpg</td>\n      <td>1626</td>\n      <td>483</td>\n      <td>1772</td>\n      <td>642</td>\n      <td>1</td>\n      <td>01_0005</td>\n      <td>1</td>\n      <td>1624</td>\n      <td>652</td>\n      <td>0005_c2s1_1_15858072001.jpg</td>\n    </tr>\n    <tr>\n      <th>2</th>\n      <td>02_20200402140000.jpg</td>\n      <td>403</td>\n      <td>707</td>\n      <td>490</td>\n      <td>761</td>\n      <td>0</td>\n      <td>01_0007</td>\n      <td>0</td>\n      <td>478</td>\n      <td>740</td>\n      <td>0007_c2s1_0_15858072002.jpg</td>\n    </tr>\n    <tr>\n      <th>3</th>\n      <td>02_20200402140000.jpg</td>\n      <td>404</td>\n      <td>701</td>\n      <td>484</td>\n      <td>759</td>\n      <td>2</td>\n      <td>-1</td>\n      <td>0</td>\n      <td>470</td>\n      <td>736</td>\n      <td>NaN</td>\n    </tr>\n    <tr>\n      <th>4</th>\n      <td>02_20200402140001.jpg</td>\n      <td>1530</td>\n      <td>554</td>\n      <td>1711</td>\n      <td>746</td>\n      <td>0</td>\n      <td>01_0002</td>\n      <td>1</td>\n      <td>1534</td>\n      <td>728</td>\n      <td>0002_c2s1_1_15858072014.jpg</td>\n    </tr>\n    <tr>\n      <th>5</th>\n      <td>02_20200402140001.jpg</td>\n      <td>1626</td>\n      <td>483</td>\n      <td>1772</td>\n      <td>642</td>\n      <td>1</td>\n      <td>01_0005</td>\n      <td>1</td>\n      <td>1624</td>\n      <td>652</td>\n      <td>0005_c2s1_1_15858072015.jpg</td>\n    </tr>\n    <tr>\n      <th>6</th>\n      <td>02_20200402140001.jpg</td>\n      <td>436</td>\n      <td>629</td>\n      <td>514</td>\n      <td>672</td>\n      <td>0</td>\n      <td>01_0007</td>\n      <td>0</td>\n      <td>507</td>\n      <td>664</td>\n      <td>0007_c2s1_0_15858072016.jpg</td>\n    </tr>\n    <tr>\n      <th>7</th>\n      <td>02_20200402140001.jpg</td>\n      <td>436</td>\n      <td>627</td>\n      <td>511</td>\n      <td>685</td>\n      <td>2</td>\n      <td>-1</td>\n      <td>0</td>\n      <td>499</td>\n      <td>660</td>\n      <td>NaN</td>\n    </tr>\n    <tr>\n      <th>8</th>\n      <td>02_20200402140002.jpg</td>\n      <td>1530</td>\n      <td>554</td>\n      <td>1711</td>\n      <td>746</td>\n      <td>0</td>\n      <td>01_0002</td>\n      <td>1</td>\n      <td>1534</td>\n      <td>728</td>\n      <td>0002_c2s1_1_15858072028.jpg</td>\n    </tr>\n    <tr>\n      <th>9</th>\n      <td>02_20200402140002.jpg</td>\n      <td>1679</td>\n      <td>525</td>\n      <td>1776</td>\n      <td>642</td>\n      <td>1</td>\n      <td>01_0005</td>\n      <td>1</td>\n      <td>1624</td>\n      <td>652</td>\n      <td>0005_c2s1_1_15858072029.jpg</td>\n    </tr>\n    <tr>\n      <th>10</th>\n      <td>02_20200402140002.jpg</td>\n      <td>473</td>\n      <td>544</td>\n      <td>548</td>\n      <td>583</td>\n      <td>0</td>\n      <td>01_0007</td>\n      <td>0</td>\n      <td>541</td>\n      <td>579</td>\n      <td>0007_c2s1_0_158580720210.jpg</td>\n    </tr>\n  </tbody>\n</table>\n</div>"
     },
     "metadata": {},
     "execution_count": 15
    }
   ],
   "source": [
    "df.loc[:10]"
   ]
  },
  {
   "cell_type": "code",
   "execution_count": 16,
   "metadata": {},
   "outputs": [],
   "source": [
    "df.to_csv(osp.join(src, f\"{branch}_clean.csv\"))"
   ]
  },
  {
   "cell_type": "code",
   "execution_count": 17,
   "metadata": {},
   "outputs": [
    {
     "output_type": "execute_result",
     "data": {
      "text/plain": "array(['01_0002', '01_0005', '01_0007', '-1', '01_0010', '01_0014',\n       '01_0018', '01_0001', '01_0025', '01_0008', '01_0030', '01_0032',\n       '01_0035', '01_0038', '01_0047', '01_0042', '01_0051', '01_0053',\n       '01_0056', '01_0033', '01_0043', '01_0039', '01_0058', '01_0054',\n       '01_0048', '01_0061', '01_0063', '01_0065', '01_0068', '01_0071',\n       '01_0088', '01_0090', '01_0101', '01_0102', '01_0105', '01_0094',\n       '01_0112', '01_0114', '01_0126', '01_0125', '01_0124', '01_0129',\n       '01_0130', '01_0131', '01_0128', '01_0127', '01_0132', '01_0133',\n       '01_0118', '01_0119', '01_0120', '01_0019', '01_0015', '01_0011',\n       '01_0059', '01_0036', '01_0026', '01_0040', '01_0044', '01_0024',\n       '01_0136', '01_0075', '01_0072', '01_0077', '01_0079', '01_0083',\n       '01_0085', '01_0086', '01_0081', '01_0087', '01_0092', '01_0091',\n       '01_0093', '01_0137', '01_0135', '01_0095', '01_0134', '01_0097',\n       '01_0098', '01_0100', '01_0099', '01_0031', '01_0045', '01_0049',\n       '01_0073', '01_0069', '01_0096', '01_0082', '01_0084', '01_0089',\n       '01_0103', '01_0104', '01_0138', '01_0106', '01_0107', '01_0108',\n       '01_0109', '01_0110', '01_0111', '01_0113', '01_0115', '01_0116',\n       '01_0117', '01_0122', '01_0121', '01_0123', '01_0016', '01_0020',\n       '01_0023', '01_0027', '01_0028', '01_0034', '01_0041', '01_0046',\n       '01_0050', '01_0052', '01_0055', '01_0064', '01_0057', '01_0060',\n       '01_0067', '01_0062', '01_0066', '01_0076', '01_0078', '01_0080',\n       '01_0070', '01_0009'], dtype=object)"
     },
     "metadata": {},
     "execution_count": 17
    }
   ],
   "source": [
    "df['tracking_id_label'].unique()"
   ]
  },
  {
   "cell_type": "code",
   "execution_count": 40,
   "metadata": {},
   "outputs": [
    {
     "output_type": "execute_result",
     "data": {
      "text/plain": "1911    01_20200405144152.jpg\n3002    01_20200405144453.jpg\n820     01_20200405143904.jpg\n3698    01_20200405144712.jpg\n843     01_20200405143911.jpg\nName: file_name, dtype: object"
     },
     "metadata": {},
     "execution_count": 40
    }
   ],
   "source": [
    "sample_df.head()"
   ]
  },
  {
   "cell_type": "code",
   "execution_count": 18,
   "metadata": {},
   "outputs": [
    {
     "output_type": "execute_result",
     "data": {
      "text/plain": "'/media/acer/5f45949f-0fc7-4475-965b-e61989afcc10/FlowInc_data/sample_images_03/03_20200419172139.jpg'"
     },
     "metadata": {},
     "execution_count": 18
    }
   ],
   "source": [
    "osp.join(dst, f\"{fname}.jpg\")"
   ]
  },
  {
   "cell_type": "code",
   "execution_count": 10,
   "metadata": {
    "tags": [
     "outputPrepend",
     "outputPrepend",
     "outputPrepend",
     "outputPrepend",
     "outputPrepend",
     "outputPrepend",
     "outputPrepend",
     "outputPrepend",
     "outputPrepend",
     "outputPrepend",
     "outputPrepend",
     "outputPrepend",
     "outputPrepend",
     "outputPrepend",
     "outputPrepend",
     "outputPrepend",
     "outputPrepend",
     "outputPrepend",
     "outputPrepend",
     "outputPrepend",
     "outputPrepend",
     "outputPrepend",
     "outputPrepend",
     "outputPrepend",
     "outputPrepend",
     "outputPrepend",
     "outputPrepend",
     "outputPrepend",
     "outputPrepend",
     "outputPrepend",
     "outputPrepend",
     "outputPrepend",
     "outputPrepend",
     "outputPrepend",
     "outputPrepend",
     "outputPrepend",
     "outputPrepend",
     "outputPrepend",
     "outputPrepend",
     "outputPrepend",
     "outputPrepend",
     "outputPrepend",
     "outputPrepend",
     "outputPrepend",
     "outputPrepend",
     "outputPrepend",
     "outputPrepend",
     "outputPrepend",
     "outputPrepend",
     "outputPrepend",
     "outputPrepend",
     "outputPrepend",
     "outputPrepend",
     "outputPrepend",
     "outputPrepend",
     "outputPrepend",
     "outputPrepend",
     "outputPrepend",
     "outputPrepend",
     "outputPrepend",
     "outputPrepend",
     "outputPrepend",
     "outputPrepend",
     "outputPrepend",
     "outputPrepend",
     "outputPrepend",
     "outputPrepend",
     "outputPrepend",
     "outputPrepend",
     "outputPrepend",
     "outputPrepend",
     "outputPrepend",
     "outputPrepend",
     "outputPrepend",
     "outputPrepend",
     "outputPrepend",
     "outputPrepend",
     "outputPrepend",
     "outputPrepend",
     "outputPrepend",
     "outputPrepend",
     "outputPrepend",
     "outputPrepend",
     "outputPrepend",
     "outputPrepend",
     "outputPrepend",
     "outputPrepend",
     "outputPrepend",
     "outputPrepend",
     "outputPrepend",
     "outputPrepend",
     "outputPrepend",
     "outputPrepend",
     "outputPrepend",
     "outputPrepend",
     "outputPrepend",
     "outputPrepend",
     "outputPrepend",
     "outputPrepend",
     "outputPrepend",
     "outputPrepend",
     "outputPrepend",
     "outputPrepend",
     "outputPrepend",
     "outputPrepend",
     "outputPrepend",
     "outputPrepend",
     "outputPrepend",
     "outputPrepend",
     "outputPrepend",
     "outputPrepend",
     "outputPrepend",
     "outputPrepend",
     "outputPrepend",
     "outputPrepend",
     "outputPrepend",
     "outputPrepend",
     "outputPrepend",
     "outputPrepend",
     "outputPrepend",
     "outputPrepend",
     "outputPrepend",
     "outputPrepend",
     "outputPrepend",
     "outputPrepend",
     "outputPrepend",
     "outputPrepend",
     "outputPrepend",
     "outputPrepend",
     "outputPrepend",
     "outputPrepend",
     "outputPrepend",
     "outputPrepend",
     "outputPrepend",
     "outputPrepend",
     "outputPrepend",
     "outputPrepend",
     "outputPrepend",
     "outputPrepend",
     "outputPrepend",
     "outputPrepend",
     "outputPrepend",
     "outputPrepend",
     "outputPrepend",
     "outputPrepend",
     "outputPrepend",
     "outputPrepend",
     "outputPrepend",
     "outputPrepend",
     "outputPrepend",
     "outputPrepend",
     "outputPrepend",
     "outputPrepend",
     "outputPrepend",
     "outputPrepend",
     "outputPrepend",
     "outputPrepend",
     "outputPrepend",
     "outputPrepend",
     "outputPrepend",
     "outputPrepend",
     "outputPrepend",
     "outputPrepend",
     "outputPrepend",
     "outputPrepend",
     "outputPrepend",
     "outputPrepend",
     "outputPrepend",
     "outputPrepend",
     "outputPrepend",
     "outputPrepend",
     "outputPrepend",
     "outputPrepend",
     "outputPrepend",
     "outputPrepend",
     "outputPrepend",
     "outputPrepend",
     "outputPrepend",
     "outputPrepend",
     "outputPrepend",
     "outputPrepend",
     "outputPrepend",
     "outputPrepend",
     "outputPrepend",
     "outputPrepend",
     "outputPrepend",
     "outputPrepend",
     "outputPrepend",
     "outputPrepend",
     "outputPrepend",
     "outputPrepend",
     "outputPrepend",
     "outputPrepend",
     "outputPrepend",
     "outputPrepend",
     "outputPrepend",
     "outputPrepend",
     "outputPrepend",
     "outputPrepend",
     "outputPrepend",
     "outputPrepend",
     "outputPrepend",
     "outputPrepend",
     "outputPrepend",
     "outputPrepend",
     "outputPrepend",
     "outputPrepend",
     "outputPrepend",
     "outputPrepend",
     "outputPrepend",
     "outputPrepend",
     "outputPrepend",
     "outputPrepend",
     "outputPrepend",
     "outputPrepend",
     "outputPrepend",
     "outputPrepend",
     "outputPrepend",
     "outputPrepend",
     "outputPrepend",
     "outputPrepend",
     "outputPrepend",
     "outputPrepend",
     "outputPrepend",
     "outputPrepend",
     "outputPrepend",
     "outputPrepend",
     "outputPrepend",
     "outputPrepend",
     "outputPrepend",
     "outputPrepend",
     "outputPrepend",
     "outputPrepend",
     "outputPrepend",
     "outputPrepend",
     "outputPrepend",
     "outputPrepend",
     "outputPrepend",
     "outputPrepend",
     "outputPrepend",
     "outputPrepend",
     "outputPrepend",
     "outputPrepend",
     "outputPrepend",
     "outputPrepend",
     "outputPrepend",
     "outputPrepend",
     "outputPrepend",
     "outputPrepend",
     "outputPrepend",
     "outputPrepend",
     "outputPrepend",
     "outputPrepend",
     "outputPrepend",
     "outputPrepend",
     "outputPrepend",
     "outputPrepend",
     "outputPrepend",
     "outputPrepend",
     "outputPrepend",
     "outputPrepend",
     "outputPrepend",
     "outputPrepend",
     "outputPrepend",
     "outputPrepend",
     "outputPrepend",
     "outputPrepend",
     "outputPrepend",
     "outputPrepend",
     "outputPrepend"
    ]
   },
   "outputs": [
    {
     "output_type": "stream",
     "name": "stderr",
     "text": "100%|██████████| 1300/1300 [00:50<00:00, 30.44it/s]\n"
    }
   ],
   "source": [
    "pattern = re.compile(r'(\\d{4})(\\d{2})(\\d{2})(\\d{2})(\\d{2})(\\d{2})')\n",
    "for path in tqdm(sorted(img_list)):\n",
    "    img = cv2.imread(path)\n",
    "    h, w = img.shape[:2]\n",
    "    cx, cy = w * 0.5, h * 0.5\n",
    "    fname = osp.basename(path)\n",
    "    labels = df[df['file_name']==fname]\n",
    "    fname = osp.splitext(fname)[0]\n",
    "    if len(labels) == 0:\n",
    "        continue\n",
    "\n",
    "    for i in range(len(labels)):\n",
    "        x1 = int(labels.iloc[i]['x1_label'])\n",
    "        y1 = int(labels.iloc[i]['y1_label'])\n",
    "        x2 = int(labels.iloc[i]['x2_label'])\n",
    "        y2 = int(labels.iloc[i]['y2_label'])\n",
    "        uniform = int(labels.iloc[i]['uniform_label'])\n",
    "        occlude = int(labels.iloc[i]['occlude_label'])\n",
    "        pid = int(labels.iloc[i]['tracking_id_label'].split(\"_\")[-1])\n",
    "        spt_x = int(labels.iloc[i]['stand_x']) \n",
    "        spt_y = int(labels.iloc[i]['stand_y'])\n",
    "        color = (0,255,0)\n",
    "        cv2.rectangle(img, (x1, y1), (x2, y2), color, 2)\n",
    "        cv2.circle(img, (spt_x, spt_y), 7, (255,255,255), -1)\n",
    "        cv2.circle(img, (spt_x, spt_y), 5, (0,0,255), -1)\n",
    "        cv2.putText(img, f\"p[{pid}]\", (x2+5, y1+5), cv2.FONT_HERSHEY_DUPLEX, 0.7, (255,255,255), 2)\n",
    "        cv2.putText(img, f\"u[{uniform}]\", (x2+5, y1+30), cv2.FONT_HERSHEY_DUPLEX, 0.7, (255,255,255), 2)\n",
    "        cv2.putText(img, f\"o[{occlude}]\", (x2+5, y1+55), cv2.FONT_HERSHEY_DUPLEX, 0.7, (255,255,255), 2)\n",
    "        cv2.putText(img, f\"p[{pid}]\", (x2+5, y1+5), cv2.FONT_HERSHEY_DUPLEX, 0.7, (0,0,0), 1)\n",
    "        cv2.putText(img, f\"u[{uniform}]\", (x2+5, y1+30), cv2.FONT_HERSHEY_DUPLEX, 0.7, (0,0,0), 1)\n",
    "        cv2.putText(img, f\"o[{occlude}]\", (x2+5, y1+55), cv2.FONT_HERSHEY_DUPLEX, 0.7, (0,0,0), 1)\n",
    "    cv2.imwrite(osp.join(dst, f\"{fname}.jpg\"), img)\n",
    "    # break"
   ]
  },
  {
   "cell_type": "code",
   "execution_count": 10,
   "metadata": {},
   "outputs": [],
   "source": [
    "import pycocotools.coco as coco\n",
    "import json\n",
    "from collections import defaultdict\n",
    "\n",
    "data_path = \"/media/acer/5f45949f-0fc7-4475-965b-e61989afcc10/FlowInc_data\"\n",
    "coco_branch = 'flow_01'\n",
    "\n",
    "coco_src = osp.join(data_path, coco_branch)\n",
    "train_dst = osp.join(coco_src, 'train2017')\n",
    "val_dst = osp.join(coco_src, 'val2017')\n",
    "if not osp.exists(coco_src):\n",
    "    os.mkdir(coco_src)\n",
    "if not osp.exists(train_dst):\n",
    "    os.mkdir(train_dst)\n",
    "if not osp.exists(val_dst):\n",
    "    os.mkdir(val_dst)\n",
    "label_src = osp.join(src, f\"{branch}.csv\")\n",
    "df = pd.read_csv(label_src)\n",
    "\n",
    "img_paths = [osp.join(root, f) for root, _, files in os.walk(osp.join(src, branch)) for f in files if '.jpg' in f or '.png' in f]"
   ]
  },
  {
   "cell_type": "code",
   "execution_count": 11,
   "metadata": {},
   "outputs": [],
   "source": [
    "reid_train_dst = osp.join(coco_src, f\"bounding_box_train\")\n",
    "if not osp.exists(reid_train_dst):\n",
    "    os.mkdir(reid_train_dst)\n",
    "reid_test_dst = osp.join(coco_src, f\"bounding_box_test\")\n",
    "if not osp.exists(reid_test_dst):\n",
    "    os.mkdir(reid_test_dst)\n",
    "reid_query_dst = osp.join(coco_src, f\"query\")\n",
    "if not osp.exists(reid_query_dst):\n",
    "    os.mkdir(reid_query_dst)\n",
    "\n",
    "cam = 1\n",
    "reid_src = osp.join(data_path, f\"images_{cam:02}_2th_clean\")\n",
    "reid_img_list = [osp.join(root, f) for root, _, files in os.walk(reid_src) for f in files if 'jpg' in f]"
   ]
  },
  {
   "cell_type": "code",
   "execution_count": 9,
   "metadata": {},
   "outputs": [],
   "source": [
    "pids = d\n",
    "for path in reid_img_list:\n",
    "    img = Image.open(path)\n",
    "    w, h = img.size\n",
    "    if w < 80 or h < 80:\n",
    "        continue\n",
    "    fname = osp.basename(path)\n",
    "    pid = int(fname[:4])\n",
    "    fname = f\"{pid:04}\" + fname[4:]\n",
    "    shutil.copy(path, osp.join(reid_train_dst, fname))\n",
    "    # break"
   ]
  },
  {
   "cell_type": "code",
   "execution_count": 3,
   "metadata": {},
   "outputs": [
    {
     "output_type": "execute_result",
     "data": {
      "text/plain": "['/media/acer/5f45949f-0fc7-4475-965b-e61989afcc10/FlowInc_data/Yilan_03/03_20200419170035.jpg',\n '/media/acer/5f45949f-0fc7-4475-965b-e61989afcc10/FlowInc_data/Yilan_03/03_20200419170258.jpg',\n '/media/acer/5f45949f-0fc7-4475-965b-e61989afcc10/FlowInc_data/Yilan_03/03_20200419170329.jpg',\n '/media/acer/5f45949f-0fc7-4475-965b-e61989afcc10/FlowInc_data/Yilan_03/03_20200419171230.jpg',\n '/media/acer/5f45949f-0fc7-4475-965b-e61989afcc10/FlowInc_data/Yilan_03/03_20200419170403.jpg',\n '/media/acer/5f45949f-0fc7-4475-965b-e61989afcc10/FlowInc_data/Yilan_03/03_20200419170208.jpg',\n '/media/acer/5f45949f-0fc7-4475-965b-e61989afcc10/FlowInc_data/Yilan_03/03_20200419170233.jpg',\n '/media/acer/5f45949f-0fc7-4475-965b-e61989afcc10/FlowInc_data/Yilan_03/03_20200419170405.jpg',\n '/media/acer/5f45949f-0fc7-4475-965b-e61989afcc10/FlowInc_data/Yilan_03/03_20200419170802.jpg',\n '/media/acer/5f45949f-0fc7-4475-965b-e61989afcc10/FlowInc_data/Yilan_03/03_20200419171322.jpg']"
     },
     "metadata": {},
     "execution_count": 3
    }
   ],
   "source": [
    "img_paths[:10]"
   ]
  },
  {
   "cell_type": "code",
   "execution_count": 4,
   "metadata": {},
   "outputs": [
    {
     "output_type": "stream",
     "name": "stderr",
     "text": "100%|██████████| 1300/1300 [00:53<00:00, 24.28it/s]\n"
    }
   ],
   "source": [
    "dataset = {\n",
    "    \"info\": {},\n",
    "    \"licenses\": [],\n",
    "    \"images\": [],\n",
    "    \"annotations\": [],\n",
    "    \"categories\": []\n",
    "}\n",
    "dataset['categories'].append({\n",
    "    'id': 1,\n",
    "    'name': \"person\",\n",
    "    'supercategory': \"people\",\n",
    "    'keypoints': [0],\n",
    "    'skeleton': []\n",
    "})\n",
    "\n",
    "# anno_paths = [osp.join(root, f) for root, _, files in os.walk(src) for f in files if '.txt' in f]\n",
    "\n",
    "sub_index = 0\n",
    "idx = 0\n",
    "for path in tqdm(img_paths):\n",
    "    img = cv2.imread(path)\n",
    "    h, w = img.shape[:2]\n",
    "    dst = osp.basename(path)\n",
    "    anns = df[df['file_name']==dst]\n",
    "    dst = osp.join(train_dst, dst)\n",
    "    if len(anns) > 0:\n",
    "        shutil.copy(path, dst)\n",
    "    else:\n",
    "        continue\n",
    "    idx += 1\n",
    "    dataset['images'].append({\n",
    "        'coco_url': '',\n",
    "        'date_captured': '',\n",
    "        'file_name': osp.basename(dst),\n",
    "        'flickr_url': '',\n",
    "        'id': idx,\n",
    "        'license': 0,\n",
    "        'width': w,\n",
    "        'height': h\n",
    "    })\n",
    "\n",
    "    for i in range(len(anns)):\n",
    "        sub_index += 1\n",
    "        x1 = int(anns.iloc[i]['x1_label'])\n",
    "        y1 = int(anns.iloc[i]['y1_label'])\n",
    "        x2 = int(anns.iloc[i]['x2_label'])\n",
    "        y2 = int(anns.iloc[i]['y2_label'])\n",
    "        sx = int(anns.iloc[i]['stand_x'])\n",
    "        sy = int(anns.iloc[i]['stand_y'])\n",
    "        uniform = int(anns.iloc[i]['uniform_label'])\n",
    "        occlude = int(anns.iloc[i]['occlude_label'])\n",
    "        width = x2 - x1\n",
    "        height = y2 - y1\n",
    "        identity = int(anns.iloc[i]['tracking_id_label'].split(\"_\")[-1])\n",
    "        # if width < 50 and height < 100:\n",
    "        #     identity = -1\n",
    "        # if occlude == 2:\n",
    "        #     identity = -1\n",
    "\n",
    "        dataset['annotations'].append({\n",
    "            'area': int(width*height),\n",
    "            'bbox': [int(x1),int(y1),int(width),int(height)],\n",
    "            'category_id': 1,\n",
    "            'pid': identity,\n",
    "            'id': sub_index,\n",
    "            'image_id': idx,\n",
    "            'iscrowd': 0,\n",
    "            'num_keypoints':1,\n",
    "            'keypoints': [[sx, sy]],\n",
    "            'segmentation': [],\n",
    "        })\n",
    "    # shutil.copy(path, osp.join(val_dst, osp.basename(path)))\n",
    "    # break"
   ]
  },
  {
   "cell_type": "code",
   "execution_count": 5,
   "metadata": {},
   "outputs": [],
   "source": [
    "json_dst = osp.join(coco_src, 'original')\n",
    "if not osp.exists(json_dst):\n",
    "    os.mkdir(json_dst)\n",
    "with open(osp.join(json_dst, 'instances_train2017.json'), 'w') as f:\n",
    "    json.dump(dataset, f)"
   ]
  },
  {
   "cell_type": "code",
   "execution_count": 13,
   "metadata": {},
   "outputs": [
    {
     "output_type": "execute_result",
     "data": {
      "text/plain": "'/media/acer/5f45949f-0fc7-4475-965b-e61989afcc10/FlowInc_data/Banqiao_01/original'"
     },
     "metadata": {},
     "execution_count": 13
    }
   ],
   "source": [
    "json_dst"
   ]
  }
 ],
 "metadata": {
  "language_info": {
   "codemirror_mode": {
    "name": "ipython",
    "version": 3
   },
   "file_extension": ".py",
   "mimetype": "text/x-python",
   "name": "python",
   "nbconvert_exporter": "python",
   "pygments_lexer": "ipython3",
   "version": "3.6.8-final"
  },
  "orig_nbformat": 2,
  "kernelspec": {
   "name": "python36864bitpy368venv96aa759879e8443787e614586faca138",
   "display_name": "Python 3.6.8 64-bit ('py368': venv)"
  }
 },
 "nbformat": 4,
 "nbformat_minor": 2
}