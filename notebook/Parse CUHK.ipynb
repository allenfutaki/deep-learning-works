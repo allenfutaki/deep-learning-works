{
 "cells": [
  {
   "cell_type": "code",
   "execution_count": 2,
   "metadata": {},
   "outputs": [],
   "source": [
    "import os, sys\n",
    "import os.path as osp\n",
    "import shutil\n",
    "import re"
   ]
  },
  {
   "cell_type": "code",
   "execution_count": 45,
   "metadata": {},
   "outputs": [],
   "source": [
    "img_paths = [osp.join(root, f) for root, _, files in os.walk('/media/allen/mass/campus/') \n",
    "                               for f in files if 'jpg' in f or 'png' in f]"
   ]
  },
  {
   "cell_type": "code",
   "execution_count": 22,
   "metadata": {},
   "outputs": [],
   "source": [
    "os.makedirs('/media/allen/mass/reid/cuhk02/bounding_box_train')"
   ]
  },
  {
   "cell_type": "code",
   "execution_count": 46,
   "metadata": {},
   "outputs": [],
   "source": [
    "path = img_paths[0]\n",
    "pids = set()\n",
    "for path in img_paths:\n",
    "    ext = osp.splitext(path)[-1]\n",
    "    pattern = re.compile(r'(\\d{4})(\\d{3})')\n",
    "    pid, idx = pattern.search(path).groups()\n",
    "    if int(idx) % 4 == 0 or int(idx) % 4 == 3:\n",
    "        cam = 2\n",
    "    else:\n",
    "        cam = 1\n",
    "    fname = \"{}_c{}s1_{:06}_{:02}{}\".format(pid, cam, int(idx), int(idx), ext)\n",
    "    fname = osp.join('/media/allen/mass/reid/cuhk01/bounding_box_train', fname)\n",
    "    pids.add(pid)\n",
    "#     shutil.copy(path, fname)"
   ]
  },
  {
   "cell_type": "code",
   "execution_count": 23,
   "metadata": {},
   "outputs": [],
   "source": [
    "path = img_paths[0]"
   ]
  },
  {
   "cell_type": "code",
   "execution_count": 24,
   "metadata": {},
   "outputs": [
    {
     "data": {
      "text/plain": [
       "'/media/allen/mass/Dataset/P2/cam1/270_37950.png'"
      ]
     },
     "execution_count": 24,
     "metadata": {},
     "output_type": "execute_result"
    }
   ],
   "source": [
    "path"
   ]
  },
  {
   "cell_type": "code",
   "execution_count": 42,
   "metadata": {},
   "outputs": [],
   "source": [
    "path = img_paths[0]\n",
    "pids = set()\n",
    "for path in img_paths:\n",
    "    ext = osp.splitext(path)[-1]\n",
    "    pattern = re.compile(r'P(\\d)/cam(\\d)/(\\d{3})_(\\d+).')\n",
    "    part, cam, pid, idx = pattern.search(path).groups()\n",
    "\n",
    "    fname = \"{}{}_c{}s1_{:06}_{:02}{}\".format(part, pid, cam, int(idx), int(idx), ext)\n",
    "    fname = osp.join('/media/allen/mass/reid/cuhk02/bounding_box_train', fname)\n",
    "#     shutil.copy(path, fname)\n",
    "    pids.add(part+pid)"
   ]
  },
  {
   "cell_type": "code",
   "execution_count": 48,
   "metadata": {},
   "outputs": [
    {
     "data": {
      "text/plain": [
       "3884"
      ]
     },
     "execution_count": 48,
     "metadata": {},
     "output_type": "execute_result"
    }
   ],
   "source": [
    "len(img_paths)"
   ]
  },
  {
   "cell_type": "code",
   "execution_count": null,
   "metadata": {},
   "outputs": [],
   "source": [
    "from sklearn.metrics import recall_score, precision_score"
   ]
  }
 ],
 "metadata": {
  "kernelspec": {
   "display_name": "Python 3",
   "language": "python",
   "name": "python3"
  },
  "language_info": {
   "codemirror_mode": {
    "name": "ipython",
    "version": 3
   },
   "file_extension": ".py",
   "mimetype": "text/x-python",
   "name": "python",
   "nbconvert_exporter": "python",
   "pygments_lexer": "ipython3",
   "version": "3.6.8"
  }
 },
 "nbformat": 4,
 "nbformat_minor": 2
}
