{
 "cells": [
  {
   "cell_type": "code",
   "execution_count": 1,
   "metadata": {},
   "outputs": [
    {
     "name": "stdout",
     "output_type": "stream",
     "text": [
      "FILE:\n",
      "DEBUG:root:This message should go to the log file\n",
      "\n"
     ]
    }
   ],
   "source": [
    "import logging\n",
    "\n",
    "LOG_FILENAME = '/home/allen/logging_example.out'\n",
    "logging.basicConfig(\n",
    "    filename=LOG_FILENAME,\n",
    "    level=logging.DEBUG,\n",
    ")\n",
    "\n",
    "logging.debug('This message should go to the log file')\n",
    "\n",
    "with open(LOG_FILENAME, 'rt') as f:\n",
    "    body = f.read()\n",
    "\n",
    "print('FILE:')\n",
    "print(body)"
   ]
  },
  {
   "cell_type": "code",
   "execution_count": 2,
   "metadata": {},
   "outputs": [
    {
     "name": "stdout",
     "output_type": "stream",
     "text": [
      "/home/allen/log/logging_rotatingfile_example.out\n",
      "/home/allen/log/logging_rotatingfile_example.out.1\n",
      "/home/allen/log/logging_rotatingfile_example.out.2\n",
      "/home/allen/log/logging_rotatingfile_example.out.3\n",
      "/home/allen/log/logging_rotatingfile_example.out.4\n",
      "/home/allen/log/logging_rotatingfile_example.out.5\n"
     ]
    }
   ],
   "source": [
    "import glob\n",
    "import logging\n",
    "import logging.handlers\n",
    "\n",
    "LOG_FILENAME = '/home/allen/log/logging_rotatingfile_example.out'\n",
    "\n",
    "# Set up a specific logger with our desired output level\n",
    "my_logger = logging.getLogger('MyLogger')\n",
    "my_logger.setLevel(logging.DEBUG)\n",
    "\n",
    "# Add the log message handler to the logger\n",
    "handler = logging.handlers.(\n",
    "    LOG_FILENAME,\n",
    "    maxBytes=20,\n",
    "    backupCount=5,\n",
    ")\n",
    "my_logger.addHandler(handler)\n",
    "\n",
    "# Log some messages\n",
    "for i in range(20):\n",
    "    my_logger.debug('i = %d' % i)\n",
    "\n",
    "# See what files are created\n",
    "logfiles = glob.glob('%s*' % LOG_FILENAME)\n",
    "for filename in sorted(logfiles):\n",
    "    print(filename)"
   ]
  },
  {
   "cell_type": "code",
   "execution_count": 5,
   "metadata": {},
   "outputs": [
    {
     "name": "stdout",
     "output_type": "stream",
     "text": [
      "2019-07-12 12:01:10,702 1 INFO: This is from logger 1\n",
      "2019-07-12 12:01:10,702 1 INFO: This is from logger 1\n",
      "2019-07-12 12:01:10,703 2 INFO: This is from logger 2\n"
     ]
    }
   ],
   "source": [
    "from tools.logger import setup_logger\n",
    "logger1 = setup_logger(\"1\", \"/home/allen/log\",0)\n",
    "logger2 = setup_logger(\"2\", \"/home/allen/log\",0)\n",
    "logger1.info(\"This is from logger 1\")\n",
    "logger2.info(\"This is from logger 2\")"
   ]
  }
 ],
 "metadata": {
  "kernelspec": {
   "display_name": "Python 3",
   "language": "python",
   "name": "python3"
  },
  "language_info": {
   "codemirror_mode": {
    "name": "ipython",
    "version": 3
   },
   "file_extension": ".py",
   "mimetype": "text/x-python",
   "name": "python",
   "nbconvert_exporter": "python",
   "pygments_lexer": "ipython3",
   "version": "3.6.8"
  }
 },
 "nbformat": 4,
 "nbformat_minor": 2
}
