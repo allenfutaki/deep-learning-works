{
 "cells": [
  {
   "cell_type": "code",
   "execution_count": 1,
   "metadata": {},
   "outputs": [],
   "source": [
    "import os\n",
    "os.chdir(\"../\")\n",
    "import numpy as np\n",
    "import torch\n",
    "import torch.nn as nn\n",
    "import torch.nn.functional as F\n",
    "import os.path as osp\n",
    "from PIL import Image\n",
    "import shutil\n",
    "import cv2\n",
    "from tqdm import tqdm\n",
    "\n",
    "from tools.centernet_utils import centernet_det_decode, centernet_det_post_process\n",
    "from tools.scopehead_utils import scopehead_det_decode\n",
    "from tools.fsaf_utils import fsaf_det_decode\n",
    "from src.factory.config_factory import cfg, show_configs, build_output\n",
    "from tools.logger import setup_logger\n",
    "from src.factory.graph_factory import GraphFactory\n",
    "logger = setup_logger(\"./external/\")\n",
    "\n",
    "def to_pil(cv_img):\n",
    "    img = cv2.cvtColor(cv_img, cv2.COLOR_BGR2RGB)\n",
    "    return Image.fromarray(img)"
   ]
  },
  {
   "cell_type": "code",
   "execution_count": null,
   "metadata": {},
   "outputs": [],
   "source": [
    "cfg.merge_from_file(\"/home/acer/Documents/deep-learning-works/configs/shufflenetv2_csp.yml\")\n",
    "cfg.DB.TARGET_FORMAT = \"fsaf\"\n",
    "cfg.APEX = False\n",
    "cfg.DISTRIBUTED = False\n",
    "cfg.IO = False\n",
    "cfg.RESUME = \"/media/acer/5f45949f-0fc7-4475-965b-e61989afcc10/Downloads/model_195_0.0000.pth\""
   ]
  },
  {
   "cell_type": "code",
   "execution_count": null,
   "metadata": {},
   "outputs": [],
   "source": [
    "graph = GraphFactory.produce(cfg)\n",
    "graph.load(cfg.RESUME)"
   ]
  },
  {
   "cell_type": "code",
   "execution_count": null,
   "metadata": {},
   "outputs": [],
   "source": [
    "img_path = \"/home/acer/Pictures/yilan3.jpg\"\n",
    "img = Image.open(img_path)\n",
    "feat = graph.inference(img)[(128,128)]"
   ]
  },
  {
   "cell_type": "code",
   "execution_count": null,
   "metadata": {},
   "outputs": [],
   "source": [
    "w, h = img.size\n",
    "c = np.array([[w / 2., h / 2.]], dtype=np.float32)\n",
    "s = np.array([max(h, w) * 1.0])\n",
    "dets = centernet_det_decode(feat['hm'].sigmoid_(), feat['wh'], reg=feat['reg'], K=100)\n",
    "dets = dets.detach().cpu().numpy().reshape(1, -1, dets.shape[1])\n",
    "dets_out = centernet_det_post_process(\n",
    "    dets.copy(), \n",
    "    c, \n",
    "    s, \n",
    "    feat['hm'].shape[2], \n",
    "    feat['hm'].shape[3], \n",
    "    feat['hm'].shape[1]\n",
    ")\n"
   ]
  },
  {
   "cell_type": "code",
   "execution_count": null,
   "metadata": {},
   "outputs": [],
   "source": [
    "from torchvision.ops import nms\n",
    "dets = torch.Tensor(dets_out[0][1])"
   ]
  },
  {
   "cell_type": "code",
   "execution_count": null,
   "metadata": {},
   "outputs": [],
   "source": [
    "dets = torch.Tensor(dets_out[0][1])\n",
    "keep_ids = nms(dets[:,:4], dets[:,4], 0.3)"
   ]
  },
  {
   "cell_type": "code",
   "execution_count": null,
   "metadata": {},
   "outputs": [],
   "source": [
    "np_img = cv2.imread(img_path)\n",
    "np_img = cv2.resize(np_img, (w, h))\n",
    "num = 0\n",
    "for c in dets_out[0]:\n",
    "    for keep in keep_ids:\n",
    "        x1, y1, x2, y2, score = dets_out[0][c][keep]\n",
    "        if score > 0.5:\n",
    "            num += 1\n",
    "            cv2.rectangle(np_img, (int(x1), int(y1)), (int(x2), int(y2)), (255,255,0), 2)\n",
    "to_pil(np_img)"
   ]
  },
  {
   "cell_type": "code",
   "execution_count": null,
   "metadata": {},
   "outputs": [],
   "source": [
    "a = to_pil(np_img)"
   ]
  },
  {
   "cell_type": "code",
   "execution_count": null,
   "metadata": {},
   "outputs": [],
   "source": [
    "a.rotate(120)"
   ]
  }
 ],
 "metadata": {
  "language_info": {
   "codemirror_mode": {
    "name": "ipython",
    "version": 3
   },
   "file_extension": ".py",
   "mimetype": "text/x-python",
   "name": "python",
   "nbconvert_exporter": "python",
   "pygments_lexer": "ipython3",
   "version": "3.6.8-final"
  },
  "orig_nbformat": 2,
  "kernelspec": {
   "name": "python36864bitpy368venv96aa759879e8443787e614586faca138",
   "display_name": "Python 3.6.8 64-bit ('py368': venv)"
  }
 },
 "nbformat": 4,
 "nbformat_minor": 2
}