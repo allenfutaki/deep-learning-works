{
 "cells": [
  {
   "cell_type": "code",
   "execution_count": 2,
   "metadata": {},
   "outputs": [],
   "source": [
    "import sys\n",
    "sys.path.insert(0, '/media/allen/mass/deep-learning-works/')\n",
    "from src.factory.data_factory import DataFactory\n",
    "from src.factory.config_factory import _C as cfg"
   ]
  },
  {
   "cell_type": "code",
   "execution_count": null,
   "metadata": {},
   "outputs": [],
   "source": [
    "cfg.DB.DATA = 'imagenet'"
   ]
  },
  {
   "cell_type": "code",
   "execution_count": null,
   "metadata": {},
   "outputs": [],
   "source": [
    "data = DataFactory.produce()"
   ]
  },
  {
   "cell_type": "code",
   "execution_count": 1,
   "metadata": {},
   "outputs": [],
   "source": [
    "from PIL import Image\n",
    "import lmdb\n",
    "import io"
   ]
  },
  {
   "cell_type": "code",
   "execution_count": 2,
   "metadata": {},
   "outputs": [],
   "source": [
    "f = open('/home/allen/67.jpg', 'rb')\n",
    "img_str = f.read()"
   ]
  },
  {
   "cell_type": "code",
   "execution_count": 3,
   "metadata": {},
   "outputs": [],
   "source": [
    "lmdb_env = lmdb.open(\"/media/allen/mass/DB/imagenet_lmdb\", map_size=int(1e12))\n",
    "lmdb_txn = lmdb_env.begin(write=True)\n",
    "\n",
    "\n",
    "key = 'two_people.jpg'\n",
    "lmdb_txn.put(key.encode(), img_str)\n",
    "lmdb_txn.commit()"
   ]
  },
  {
   "cell_type": "code",
   "execution_count": 4,
   "metadata": {},
   "outputs": [],
   "source": [
    "test_lmdb_env = lmdb.open(\"/media/allen/mass/DB/imagenet_lmdb\")\n",
    "test_lmdb_txn = test_lmdb_env.begin()\n",
    "\n",
    "key = 'two_people.jpg'\n",
    "raw = test_lmdb_txn.get(key.encode())\n",
    "img_byte = io.BytesIO(raw)\n",
    "# test_img = Image.frombytes('RGB', (1024, 682), raw)\n",
    "# test_img"
   ]
  }
 ],
 "metadata": {
  "kernelspec": {
   "display_name": "Python 3",
   "language": "python",
   "name": "python3"
  },
  "language_info": {
   "codemirror_mode": {
    "name": "ipython",
    "version": 3
   },
   "file_extension": ".py",
   "mimetype": "text/x-python",
   "name": "python",
   "nbconvert_exporter": "python",
   "pygments_lexer": "ipython3",
   "version": "3.6.8"
  }
 },
 "nbformat": 4,
 "nbformat_minor": 2
}
