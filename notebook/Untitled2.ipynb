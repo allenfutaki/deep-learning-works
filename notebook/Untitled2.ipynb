{
 "cells": [
  {
   "cell_type": "code",
   "execution_count": 2,
   "metadata": {},
   "outputs": [],
   "source": [
    "import os, sys\n",
    "import os.path as osp\n",
    "import shutil\n",
    "import re\n",
    "import cv2\n",
    "src = \"/media/allen/mass/RPIfield_v0/Data/\""
   ]
  },
  {
   "cell_type": "code",
   "execution_count": 9,
   "metadata": {},
   "outputs": [
    {
     "data": {
      "text/plain": [
       "0.7851609807852932"
      ]
     },
     "execution_count": 9,
     "metadata": {},
     "output_type": "execute_result"
    }
   ],
   "source": [
    "target_im = cv2.imread(osp.join(src, \"Cam_2/2/Cam_2f_41288.png\"))\n",
    "target_hist = cv2.calcHist([target_im], [0], None, [256], [0, 256])\n",
    "\n",
    "\n",
    "comparing_im = cv2.imread(osp.join(src, \"Cam_2/2/Cam_2f_43046.png\"))\n",
    "comparing_hist = cv2.calcHist([comparing_im], [0], None, [256], [0, 256])\n",
    "diff = cv2.compareHist(target_hist, comparing_hist, 0)\n",
    "diff"
   ]
  },
  {
   "cell_type": "code",
   "execution_count": 6,
   "metadata": {},
   "outputs": [
    {
     "data": {
      "text/plain": [
       "0.6958010136663493"
      ]
     },
     "execution_count": 6,
     "metadata": {},
     "output_type": "execute_result"
    }
   ],
   "source": [
    "diff"
   ]
  }
 ],
 "metadata": {
  "kernelspec": {
   "display_name": "Python 3",
   "language": "python",
   "name": "python3"
  },
  "language_info": {
   "codemirror_mode": {
    "name": "ipython",
    "version": 3
   },
   "file_extension": ".py",
   "mimetype": "text/x-python",
   "name": "python",
   "nbconvert_exporter": "python",
   "pygments_lexer": "ipython3",
   "version": "3.6.8"
  }
 },
 "nbformat": 4,
 "nbformat_minor": 2
}
