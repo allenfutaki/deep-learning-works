{
 "nbformat": 4,
 "nbformat_minor": 2,
 "metadata": {
  "language_info": {
   "name": "python",
   "codemirror_mode": {
    "name": "ipython",
    "version": 3
   },
   "version": "3.6.8-final"
  },
  "orig_nbformat": 2,
  "file_extension": ".py",
  "mimetype": "text/x-python",
  "name": "python",
  "npconvert_exporter": "python",
  "pygments_lexer": "ipython3",
  "version": 3,
  "kernelspec": {
   "name": "python36864bitpy368venv9eae5ffd70f44f51af3a8f637c7407e2",
   "display_name": "Python 3.6.8 64-bit ('py368': venv)"
  }
 },
 "cells": [
  {
   "cell_type": "code",
   "execution_count": 14,
   "metadata": {},
   "outputs": [],
   "source": [
    "import os\n",
    "os.chdir(\"../\")\n",
    "import torch\n",
    "import torch.nn as nn\n",
    "import torch.nn.functional as F\n",
    "from src.factory.config_factory import cfg, show_configs\n",
    "from src.factory.backbone_factory import BackboneFactory\n",
    "from src.model.backbone.shufflenetv2_plus import shufflenetv2\n",
    "from tools.spos_utils import get_flop_params\n",
    "from src.factory.graph_factory import GraphFactory\n",
    "from src.factory.config_factory import cfg\n",
    "from tools.logger import setup_logger\n",
    "logger = setup_logger(\"./external/\")"
   ]
  },
  {
   "cell_type": "code",
   "execution_count": 2,
   "metadata": {},
   "outputs": [
    {
     "output_type": "execute_result",
     "data": {
      "text/plain": "['simple_classifier',\n 'centernet_object_detection',\n 'shufflenetv2plus_classification',\n 'hourglass_object_detection',\n 'shufflenetv2_spos_classification',\n 'trick_reid',\n 'ha_reid',\n 'iap_reid']"
     },
     "metadata": {},
     "execution_count": 2
    }
   ],
   "source": [
    "GraphFactory.get_products()"
   ]
  },
  {
   "cell_type": "code",
   "execution_count": 7,
   "metadata": {},
   "outputs": [],
   "source": [
    "cfg.GRAPH = 'shufflenetv2_spos_classification'\n",
    "cfg.DB.NUM_CLASSES = 200\n",
    "cfg.INPUT.SIZE = (64, 64)\n",
    "cfg.MODEL.FEATSIZE = 464"
   ]
  },
  {
   "cell_type": "code",
   "execution_count": 8,
   "metadata": {},
   "outputs": [],
   "source": [
    "graph = GraphFactory.produce(cfg)"
   ]
  },
  {
   "cell_type": "code",
   "execution_count": 13,
   "metadata": {},
   "outputs": [],
   "source": [
    "model = shufflenetv2(\n",
    "    [1,1,1,1,1,1,1,1,1,1,1,1,1,1,1,1,],\n",
    "    [4,4,4,4,4,4,4,4,4,4,4,4,4,4,4,4,],\n",
    ")"
   ]
  },
  {
   "cell_type": "code",
   "execution_count": 15,
   "metadata": {},
   "outputs": [
    {
     "output_type": "execute_result",
     "data": {
      "text/plain": "(586.991616, 0.7620040000000001)"
     },
     "metadata": {},
     "execution_count": 15
    }
   ],
   "source": [
    "get_flop_params(\n",
    "    [1,1,1,1,1,1,1,1,1,1,1,1,1,1,1,1,],\n",
    "    [4,4,4,4,4,4,4,4,4,4,4,4,4,4,4,4,],\n",
    "    graph.lookup_table\n",
    ")"
   ]
  }
 ]
}