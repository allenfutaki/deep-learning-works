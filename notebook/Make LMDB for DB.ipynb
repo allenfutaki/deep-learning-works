{
 "cells": [
  {
   "cell_type": "code",
   "execution_count": 10,
   "metadata": {},
   "outputs": [
    {
     "name": "stdout",
     "output_type": "stream",
     "text": [
      "7.0.0.post3\n",
      "0.94\n"
     ]
    }
   ],
   "source": [
    "import os\n",
    "import os.path as osp\n",
    "import io\n",
    "import PIL\n",
    "from PIL import Image\n",
    "import lmdb\n",
    "from tqdm import tqdm\n",
    "print(PIL.__version__)\n",
    "print(lmdb.__version__)"
   ]
  },
  {
   "cell_type": "code",
   "execution_count": 37,
   "metadata": {},
   "outputs": [],
   "source": [
    "import sys\n",
    "sys.path.insert(0, '/media/allen/mass/deep-learning-works/')\n",
    "from src.factory.data_factory import DataFactory\n",
    "from src.factory.config_factory import _C as cfg\n",
    "cfg.DB.DATA = 'coco'\n",
    "cfg.DB.PATH = '/media/allen/mass/DB'\n",
    "cfg.DB.USE_TRAIN = True\n",
    "cfg.DB.USE_TEST = True"
   ]
  },
  {
   "cell_type": "markdown",
   "metadata": {},
   "source": [
    "## Build data"
   ]
  },
  {
   "cell_type": "code",
   "execution_count": 38,
   "metadata": {},
   "outputs": [
    {
     "name": "stdout",
     "output_type": "stream",
     "text": [
      "loading annotations into memory...\n",
      "Done (t=15.70s)\n",
      "creating index...\n",
      "index created!\n",
      "loading annotations into memory...\n",
      "Done (t=0.47s)\n",
      "creating index...\n",
      "index created!\n"
     ]
    }
   ],
   "source": [
    "data = DataFactory.produce(cfg)"
   ]
  },
  {
   "cell_type": "markdown",
   "metadata": {},
   "source": [
    "# Make LMDB for Tiny ImageNet"
   ]
  },
  {
   "cell_type": "code",
   "execution_count": 24,
   "metadata": {},
   "outputs": [],
   "source": [
    "SRC = '/media/allen/mass/lmDB'\n",
    "branch = 'tinyimagenet'\n",
    "train_lmdb_path = osp.join(SRC, branch, 'train', 'images')\n",
    "val_lmdb_path = osp.join(SRC, branch, 'val', 'images')\n",
    "if not os.path.exists(osp.join(SRC, branch)):\n",
    "    os.mkdir(osp.join(SRC, branch))\n",
    "if not os.path.exists(train_lmdb_path):\n",
    "    os.mkdir(train_lmdb_path)\n",
    "if not os.path.exists(val_lmdb_path):\n",
    "    os.mkdir(val_lmdb_path)"
   ]
  },
  {
   "cell_type": "markdown",
   "metadata": {},
   "source": [
    "# Make LMDB for COCO"
   ]
  },
  {
   "cell_type": "code",
   "execution_count": 36,
   "metadata": {},
   "outputs": [],
   "source": [
    "SRC = '/media/allen/mass/lmDB'\n",
    "branch = 'coco'\n",
    "train_lmdb_path = osp.join(SRC, branch, 'train2017')\n",
    "val_lmdb_path = osp.join(SRC, branch, 'val2017')\n",
    "if not os.path.exists(osp.join(SRC, branch)):\n",
    "    os.mkdir(osp.join(SRC, branch))\n",
    "if not os.path.exists(train_lmdb_path):\n",
    "    os.mkdir(train_lmdb_path)\n",
    "if not os.path.exists(val_lmdb_path):\n",
    "    os.mkdir(val_lmdb_path)"
   ]
  },
  {
   "cell_type": "markdown",
   "metadata": {},
   "source": [
    "### making lmdb for train"
   ]
  },
  {
   "cell_type": "code",
   "execution_count": 26,
   "metadata": {},
   "outputs": [
    {
     "name": "stderr",
     "output_type": "stream",
     "text": [
      "100%|██████████| 100000/100000 [00:30<00:00, 3254.64it/s]\n"
     ]
    }
   ],
   "source": [
    "lmdb_env = lmdb.open(train_lmdb_path, map_size=int(1e12))\n",
    "lmdb_txn = lmdb_env.begin(write=True)\n",
    "\n",
    "for (img_path, label) in tqdm(data.train['indice']):\n",
    "    f_img = open(img_path, 'rb')\n",
    "    img_str = f_img.read()\n",
    "    key = img_path.split(cfg.DB.DATA+\"/\")[-1]\n",
    "    lmdb_txn.put(key.encode(), img_str)\n",
    "lmdb_txn.commit()"
   ]
  },
  {
   "cell_type": "markdown",
   "metadata": {},
   "source": [
    "### making lmdb for val"
   ]
  },
  {
   "cell_type": "code",
   "execution_count": 27,
   "metadata": {},
   "outputs": [
    {
     "name": "stderr",
     "output_type": "stream",
     "text": [
      "100%|██████████| 10000/10000 [00:42<00:00, 232.69it/s]\n"
     ]
    }
   ],
   "source": [
    "lmdb_env = lmdb.open(val_lmdb_path, map_size=int(1e12))\n",
    "lmdb_txn = lmdb_env.begin(write=True)\n",
    "\n",
    "for (img_path, label) in tqdm(data.val['indice']):\n",
    "    f_img = open(img_path, 'rb')\n",
    "    img_str = f_img.read()\n",
    "    key = img_path.split(cfg.DB.DATA+\"/\")[-1]\n",
    "    lmdb_txn.put(key.encode(), img_str)\n",
    "lmdb_txn.commit()"
   ]
  },
  {
   "cell_type": "markdown",
   "metadata": {},
   "source": [
    "# Test the lmdb data"
   ]
  },
  {
   "cell_type": "code",
   "execution_count": 34,
   "metadata": {},
   "outputs": [
    {
     "name": "stderr",
     "output_type": "stream",
     "text": [
      "  0%|          | 0/10000 [00:00<?, ?it/s]\n"
     ]
    }
   ],
   "source": [
    "test_lmdb_env = lmdb.open(val_lmdb_path)\n",
    "test_lmdb_txn = test_lmdb_env.begin()\n",
    "\n",
    "for (img_path, label) in tqdm(data.val['indice']):\n",
    "    f_img = open(img_path, 'rb')\n",
    "    img_str = f_img.read()\n",
    "    key = img_path.split(cfg.DB.DATA+\"/\")[-1]\n",
    "    raw = test_lmdb_txn.get(key.encode())\n",
    "    img_byte = io.BytesIO(raw)\n",
    "    test_img = Image.open(img_byte)\n",
    "    break"
   ]
  },
  {
   "cell_type": "code",
   "execution_count": 35,
   "metadata": {},
   "outputs": [
    {
     "data": {
      "image/png": "[encoded data removed]",
      "text/plain": [
       "<PIL.JpegImagePlugin.JpegImageFile image mode=RGB size=64x64 at 0x7EF9C94893C8>"
      ]
     },
     "execution_count": 35,
     "metadata": {},
     "output_type": "execute_result"
    }
   ],
   "source": [
    "test_img"
   ]
  },
  {
   "cell_type": "code",
   "execution_count": 6,
   "metadata": {},
   "outputs": [],
   "source": [
    "import random"
   ]
  },
  {
   "cell_type": "code",
   "execution_count": 9,
   "metadata": {},
   "outputs": [
    {
     "data": {
      "text/plain": [
       "3"
      ]
     },
     "execution_count": 9,
     "metadata": {},
     "output_type": "execute_result"
    }
   ],
   "source": [
    "random.choice([0,3])"
   ]
  }
 ],
 "metadata": {
  "kernelspec": {
   "display_name": "Python 3",
   "language": "python",
   "name": "python3"
  },
  "language_info": {
   "codemirror_mode": {
    "name": "ipython",
    "version": 3
   },
   "file_extension": ".py",
   "mimetype": "text/x-python",
   "name": "python",
   "nbconvert_exporter": "python",
   "pygments_lexer": "ipython3",
   "version": "3.6.8"
  }
 },
 "nbformat": 4,
 "nbformat_minor": 2
}
