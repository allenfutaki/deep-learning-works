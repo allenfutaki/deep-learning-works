{
 "cells": [
  {
   "cell_type": "code",
   "execution_count": null,
   "metadata": {},
   "outputs": [],
   "source": [
    "import json\n",
    "import pycocotools.coco as coco\n",
    "anno_path = '/media/allen/mass/COCO/instances_val2017.json'\n",
    "coco_data = coco.COCO(anno_path)\n",
    "\n",
    "person_img_ids = coco_data.getImgIds(catIds=[1])\n",
    "\n",
    "annids = coco_data.getAnnIds(imgIds=person_img_ids)\n",
    "anns = coco_data.loadAnns(ids=annids)\n",
    "\n",
    "person_anns = []\n",
    "for ann in anns:\n",
    "    if ann['category_id'] == 1:\n",
    "        person_anns.append(ann)\n",
    "\n",
    "person_imgs = cocoperson.train_coco.loadImgs(ids=person_img_ids)\n",
    "\n",
    "coco_person = {}\n",
    "coco_person['info'] = coco['info']\n",
    "coco_person['licenses'] = coco['licenses']\n",
    "coco_person['categories'] = [coco['categories'][0]]\n",
    "coco_person['images'] = person_imgs\n",
    "coco_person['annotations'] = person_anns\n",
    "\n",
    "json.dump(coco_person, open('/media/allen/mass/COCO/person_train2017.json', 'w'))"
   ]
  }
 ],
 "metadata": {
  "kernelspec": {
   "display_name": "Python 3",
   "language": "python",
   "name": "python3"
  },
  "language_info": {
   "codemirror_mode": {
    "name": "ipython",
    "version": 3
   },
   "file_extension": ".py",
   "mimetype": "text/x-python",
   "name": "python",
   "nbconvert_exporter": "python",
   "pygments_lexer": "ipython3",
   "version": "3.6.8"
  }
 },
 "nbformat": 4,
 "nbformat_minor": 2
}
