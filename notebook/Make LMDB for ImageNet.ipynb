{
 "cells": [
  {
   "cell_type": "markdown",
   "metadata": {},
   "source": [
    "# Load ImageNet\n",
    "there are train and val subsets, each return a list of tuple with image path and label in integer"
   ]
  },
  {
   "cell_type": "code",
   "execution_count": 3,
   "metadata": {},
   "outputs": [
    {
     "name": "stdout",
     "output_type": "stream",
     "text": [
      "7.0.0.post3\n",
      "0.94\n"
     ]
    }
   ],
   "source": [
    "import os\n",
    "import os.path as osp\n",
    "import io\n",
    "import PIL\n",
    "from PIL import Image\n",
    "import lmdb\n",
    "from tqdm import tqdm\n",
    "print(PIL.__version__)\n",
    "print(lmdb.__version__)"
   ]
  },
  {
   "cell_type": "code",
   "execution_count": 4,
   "metadata": {},
   "outputs": [],
   "source": [
    "dataset_dir = \"/media/allen/mass/DB/imagenet\"\n",
    "train_dir = osp.join(dataset_dir, \"ilsvrc2012_train\")\n",
    "val_dir = osp.join(dataset_dir, \"ilsvrc2012_val\")\n",
    "train_list = osp.join(dataset_dir, \"ilsvrc2012_train.txt\")\n",
    "val_list = osp.join(dataset_dir, \"ilsvrc2012_val.txt\")\n",
    "train_lmdb = osp.join(dataset_dir, \"imagenet_lmdb_train\")\n",
    "val_lmdb = osp.join(dataset_dir, \"imagenet_lmdb_val\")"
   ]
  },
  {
   "cell_type": "markdown",
   "metadata": {},
   "source": [
    "# Make LMDB\n",
    "1. use PIL to load image and turn to byte string\n",
    "2. tqdm to supervise the progress\n",
    "3. use caffe datum as the serialized string to make value of LMDB"
   ]
  },
  {
   "cell_type": "markdown",
   "metadata": {},
   "source": [
    "### making lmdb for train"
   ]
  },
  {
   "cell_type": "code",
   "execution_count": 13,
   "metadata": {},
   "outputs": [
    {
     "name": "stderr",
     "output_type": "stream",
     "text": [
      " 78%|███████▊  | 1002031/1281167 [6:51:31<1:04:12, 72.45it/s]  /home/allen.jc.lin/.pyenv/versions/3.6.8/envs/py368/lib/python3.6/site-packages/PIL/TiffImagePlugin.py:785: UserWarning: Corrupt EXIF data.  Expecting to read 4 bytes but only got 0. \n",
      "  warnings.warn(str(msg))\n",
      "100%|██████████| 1281167/1281167 [8:24:26<00:00, 42.33it/s]   \n"
     ]
    }
   ],
   "source": [
    "lmdb_env = lmdb.open(train_lmdb_file, map_size=int(1e12))\n",
    "lmdb_txn = lmdb_env.begin(write=True)\n",
    "\n",
    "for img_path, label in tqdm(dataset.train):\n",
    "    img = Image.open(img_path)\n",
    "    img = img.convert(\"RGB\")\n",
    "    img = img.resize((w, h), Image.ANTIALIAS)\n",
    "    datum.data = img.tobytes()\n",
    "    datum.label = label\n",
    "    key = pattern.search(img_path).group()\n",
    "    lmdb_txn.put(key.encode(), datum.SerializeToString())\n",
    "lmdb_txn.commit()"
   ]
  },
  {
   "cell_type": "markdown",
   "metadata": {},
   "source": [
    "### making lmdb for val"
   ]
  },
  {
   "cell_type": "code",
   "execution_count": 5,
   "metadata": {},
   "outputs": [
    {
     "name": "stderr",
     "output_type": "stream",
     "text": [
      "  0%|          | 0/50000 [00:00<?, ?it/s]\n"
     ]
    },
    {
     "ename": "FileNotFoundError",
     "evalue": "[Errno 2] No such file or directory: '/media/allen/mass/DB/imagenet/ilsvrc2012_val/ILSVRC2012_val_00000001.JPEG'",
     "output_type": "error",
     "traceback": [
      "\u001b[0;31m---------------------------------------------------------------------------\u001b[0m",
      "\u001b[0;31mFileNotFoundError\u001b[0m                         Traceback (most recent call last)",
      "\u001b[0;32m<ipython-input-5-5125f56be9cc>\u001b[0m in \u001b[0;36m<module>\u001b[0;34m\u001b[0m\n\u001b[1;32m      5\u001b[0m         \u001b[0mimg_path\u001b[0m\u001b[0;34m,\u001b[0m \u001b[0mlabel\u001b[0m \u001b[0;34m=\u001b[0m \u001b[0mline\u001b[0m\u001b[0;34m.\u001b[0m\u001b[0mstrip\u001b[0m\u001b[0;34m(\u001b[0m\u001b[0;34m)\u001b[0m\u001b[0;34m.\u001b[0m\u001b[0msplit\u001b[0m\u001b[0;34m(\u001b[0m\u001b[0;34m\" \"\u001b[0m\u001b[0;34m)\u001b[0m\u001b[0;34m\u001b[0m\u001b[0;34m\u001b[0m\u001b[0m\n\u001b[1;32m      6\u001b[0m         \u001b[0mimg_full_path\u001b[0m \u001b[0;34m=\u001b[0m \u001b[0mosp\u001b[0m\u001b[0;34m.\u001b[0m\u001b[0mjoin\u001b[0m\u001b[0;34m(\u001b[0m\u001b[0mval_dir\u001b[0m\u001b[0;34m,\u001b[0m \u001b[0mimg_path\u001b[0m\u001b[0;34m)\u001b[0m\u001b[0;34m\u001b[0m\u001b[0;34m\u001b[0m\u001b[0m\n\u001b[0;32m----> 7\u001b[0;31m         \u001b[0mf_img\u001b[0m \u001b[0;34m=\u001b[0m \u001b[0mopen\u001b[0m\u001b[0;34m(\u001b[0m\u001b[0mimg_full_path\u001b[0m\u001b[0;34m,\u001b[0m \u001b[0;34m'rb'\u001b[0m\u001b[0;34m)\u001b[0m\u001b[0;34m\u001b[0m\u001b[0;34m\u001b[0m\u001b[0m\n\u001b[0m\u001b[1;32m      8\u001b[0m         \u001b[0mimg_str\u001b[0m \u001b[0;34m=\u001b[0m \u001b[0mf_img\u001b[0m\u001b[0;34m.\u001b[0m\u001b[0mread\u001b[0m\u001b[0;34m(\u001b[0m\u001b[0;34m)\u001b[0m\u001b[0;34m\u001b[0m\u001b[0;34m\u001b[0m\u001b[0m\n\u001b[1;32m      9\u001b[0m         \u001b[0mlmdb_txn\u001b[0m\u001b[0;34m.\u001b[0m\u001b[0mput\u001b[0m\u001b[0;34m(\u001b[0m\u001b[0mimg_path\u001b[0m\u001b[0;34m.\u001b[0m\u001b[0mencode\u001b[0m\u001b[0;34m(\u001b[0m\u001b[0;34m)\u001b[0m\u001b[0;34m,\u001b[0m \u001b[0mimg_str\u001b[0m\u001b[0;34m)\u001b[0m\u001b[0;34m\u001b[0m\u001b[0;34m\u001b[0m\u001b[0m\n",
      "\u001b[0;31mFileNotFoundError\u001b[0m: [Errno 2] No such file or directory: '/media/allen/mass/DB/imagenet/ilsvrc2012_val/ILSVRC2012_val_00000001.JPEG'"
     ]
    }
   ],
   "source": [
    "lmdb_env = lmdb.open(val_lmdb, map_size=int(1e12))\n",
    "lmdb_txn = lmdb_env.begin(write=True)\n",
    "with open(val_list, 'r') as f:\n",
    "    for line in tqdm(f.readlines()):\n",
    "        img_path, label = line.strip().split(\" \")\n",
    "        img_full_path = osp.join(val_dir, img_path)\n",
    "        f_img = open(img_full_path, 'rb')\n",
    "        img_str = f_img.read()\n",
    "        lmdb_txn.put(img_path.encode(), img_str)        \n",
    "#         break\n",
    "lmdb_txn.commit()"
   ]
  },
  {
   "cell_type": "markdown",
   "metadata": {},
   "source": [
    "# Test the lmdb data"
   ]
  },
  {
   "cell_type": "code",
   "execution_count": 21,
   "metadata": {},
   "outputs": [],
   "source": [
    "test_lmdb_env = lmdb.open(val_lmdb)\n",
    "test_lmdb_txn = test_lmdb_env.begin()\n",
    "\n",
    "with open(val_list, 'r') as f:\n",
    "    for line in f.readlines():\n",
    "        img_path, label = line.strip().split(\" \")\n",
    "        raw = test_lmdb_txn.get(img_path.encode())\n",
    "        img_byte = io.BytesIO(raw)\n",
    "        test_img = Image.open(img_byte)\n",
    "        break"
   ]
  },
  {
   "cell_type": "code",
   "execution_count": 6,
   "metadata": {},
   "outputs": [],
   "source": [
    "import random"
   ]
  },
  {
   "cell_type": "code",
   "execution_count": 9,
   "metadata": {},
   "outputs": [
    {
     "data": {
      "text/plain": [
       "3"
      ]
     },
     "execution_count": 9,
     "metadata": {},
     "output_type": "execute_result"
    }
   ],
   "source": [
    "random.choice([0,3])"
   ]
  }
 ],
 "metadata": {
  "kernelspec": {
   "display_name": "Python 3",
   "language": "python",
   "name": "python3"
  },
  "language_info": {
   "codemirror_mode": {
    "name": "ipython",
    "version": 3
   },
   "file_extension": ".py",
   "mimetype": "text/x-python",
   "name": "python",
   "nbconvert_exporter": "python",
   "pygments_lexer": "ipython3",
   "version": "3.6.8"
  }
 },
 "nbformat": 4,
 "nbformat_minor": 2
}
