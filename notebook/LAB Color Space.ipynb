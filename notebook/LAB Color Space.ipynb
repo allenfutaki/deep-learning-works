{
 "cells": [
  {
   "cell_type": "code",
   "execution_count": 1,
   "metadata": {},
   "outputs": [],
   "source": [
    "import sys\n",
    "import csv\n",
    "import bz2\n",
    "\n",
    "import numpy as np\n",
    "import cv2\n",
    "import pickle\n",
    "from PIL import Image\n",
    "\n",
    "from colormath.color_diff_matrix import delta_e_cie2000\n",
    "from colormath.color_objects import LabColor\n",
    "\n",
    "from skimage import img_as_float, img_as_ubyte\n",
    "from skimage.segmentation import felzenszwalb, slic, quickshift, watershed\n",
    "from skimage.filters import sobel\n",
    "from skimage.segmentation import mark_boundaries"
   ]
  },
  {
   "cell_type": "code",
   "execution_count": 2,
   "metadata": {},
   "outputs": [],
   "source": [
    "infile = open('/media/allen/mass/lab-matrix.pk','rb')\n",
    "lab_matrix = pickle.load(infile, encoding='latin1')\n",
    "infile.close()\n",
    "\n",
    "infile = open('/media/allen/mass/lab-colors.pk','rb')\n",
    "lab_colors = pickle.load(infile, encoding='latin1')\n",
    "infile.close()"
   ]
  },
  {
   "cell_type": "code",
   "execution_count": 5,
   "metadata": {},
   "outputs": [
    {
     "data": {
      "text/plain": [
       "197525"
      ]
     },
     "execution_count": 5,
     "metadata": {},
     "output_type": "execute_result"
    }
   ],
   "source": [
    "len(lab_colors)"
   ]
  },
  {
   "cell_type": "code",
   "execution_count": 7,
   "metadata": {},
   "outputs": [],
   "source": [
    "lab_colors = np.array(lab_colors)"
   ]
  },
  {
   "cell_type": "code",
   "execution_count": 51,
   "metadata": {},
   "outputs": [],
   "source": [
    "color_centers = []\n",
    "for color in np.unique(lab_colors):\n",
    "    mask = lab_colors == color\n",
    "    step = mask.sum() / (mask.sum()*0.01)\n",
    "    samples = lab_matrix[mask][::100]\n",
    "    color_centers.append(samples)"
   ]
  },
  {
   "cell_type": "code",
   "execution_count": 60,
   "metadata": {},
   "outputs": [
    {
     "data": {
      "text/plain": [
       "'beige'"
      ]
     },
     "execution_count": 60,
     "metadata": {},
     "output_type": "execute_result"
    }
   ],
   "source": [
    "np.unique(lab_colors)[0]"
   ]
  },
  {
   "cell_type": "code",
   "execution_count": 62,
   "metadata": {},
   "outputs": [
    {
     "data": {
      "text/plain": [
       "<function RandomState.uniform>"
      ]
     },
     "execution_count": 62,
     "metadata": {},
     "output_type": "execute_result"
    }
   ],
   "source": [
    "np.random.uniform(0,)"
   ]
  },
  {
   "cell_type": "code",
   "execution_count": 23,
   "metadata": {},
   "outputs": [],
   "source": [
    "cie_lab = np.array([color_center])\n",
    "cv_lab = np.zeros_like(cie_lab)\n",
    "cv_lab[...,0] = cie_lab[...,0] * 255 / 100\n",
    "cv_lab[...,1] = cie_lab[...,1] - 128\n",
    "cv_lab[...,2] = cie_lab[...,2] - 128\n",
    "cv_lab = cv_lab.astype(np.uint8)"
   ]
  },
  {
   "cell_type": "code",
   "execution_count": 65,
   "metadata": {},
   "outputs": [],
   "source": [
    "delta = delta_e_cie2000(cie_lab[0][0], lab_matrix)"
   ]
  },
  {
   "cell_type": "code",
   "execution_count": 72,
   "metadata": {},
   "outputs": [
    {
     "data": {
      "text/plain": [
       "{'beige', 'yellow'}"
      ]
     },
     "execution_count": 72,
     "metadata": {},
     "output_type": "execute_result"
    }
   ],
   "source": [
    "set(lab_colors[delta < 3])"
   ]
  },
  {
   "cell_type": "code",
   "execution_count": 25,
   "metadata": {},
   "outputs": [],
   "source": [
    "cv_bgr = cv2.cvtColor(cv_lab, cv2.COLOR_LAB2BGR)"
   ]
  },
  {
   "cell_type": "code",
   "execution_count": 30,
   "metadata": {},
   "outputs": [
    {
     "name": "stdout",
     "output_type": "stream",
     "text": [
      "0 24 37\n",
      "9 8 11\n",
      "170 65 41\n",
      "4 61 107\n",
      "219 231 31\n",
      "0 134 174\n",
      "184 187 189\n",
      "37 164 66\n",
      "0 55 57\n",
      "23 1 82\n",
      "0 105 219\n",
      "144 0 224\n",
      "141 0 123\n",
      "21 13 186\n",
      "133 157 15\n",
      "58 66 67\n",
      "1 202 211\n"
     ]
    }
   ],
   "source": [
    "for b, g, r in np.squeeze(cv_bgr):\n",
    "    print(b,g,r)"
   ]
  },
  {
   "cell_type": "code",
   "execution_count": 35,
   "metadata": {},
   "outputs": [],
   "source": [
    "mask = lab_colors == 'blue'"
   ]
  },
  {
   "cell_type": "code",
   "execution_count": 38,
   "metadata": {},
   "outputs": [],
   "source": [
    "from sklearn.cluster import DBSCAN\n"
   ]
  },
  {
   "cell_type": "code",
   "execution_count": 45,
   "metadata": {},
   "outputs": [
    {
     "data": {
      "text/plain": [
       "array([[  8.30566263,  39.85143396, -54.28106616],\n",
       "       [  8.47604225,  40.13078748, -54.66156958],\n",
       "       [  8.64612588,  40.40965569, -55.04141196],\n",
       "       ...,\n",
       "       [ 37.39302572,  81.0878837 , -98.673802  ],\n",
       "       [ 37.50999473,  81.30873314, -99.0397929 ],\n",
       "       [ 71.97153117,  -4.94462472, -42.78225755]])"
      ]
     },
     "execution_count": 45,
     "metadata": {},
     "output_type": "execute_result"
    }
   ],
   "source": [
    "lab_matrix[mask,:]"
   ]
  },
  {
   "cell_type": "code",
   "execution_count": 48,
   "metadata": {},
   "outputs": [
    {
     "data": {
      "text/plain": [
       "array([[   8.30566263,   39.85143396,  -54.28106616],\n",
       "       [  24.22342107,   65.95010525,  -89.82969169],\n",
       "       [   2.85172837,   20.03926306,  -34.84045863],\n",
       "       ...,\n",
       "       [  31.42609893,   77.58016955, -105.38558547],\n",
       "       [  35.28964276,   78.24525784,  -96.00054788],\n",
       "       [  35.69403816,   78.44510764,  -95.3168025 ]])"
      ]
     },
     "execution_count": 48,
     "metadata": {},
     "output_type": "execute_result"
    }
   ],
   "source": [
    "lab_matrix[mask,:][::100]"
   ]
  }
 ],
 "metadata": {
  "kernelspec": {
   "display_name": "Python 3",
   "language": "python",
   "name": "python3"
  },
  "language_info": {
   "codemirror_mode": {
    "name": "ipython",
    "version": 3
   },
   "file_extension": ".py",
   "mimetype": "text/x-python",
   "name": "python",
   "nbconvert_exporter": "python",
   "pygments_lexer": "ipython3",
   "version": "3.6.8"
  }
 },
 "nbformat": 4,
 "nbformat_minor": 2
}
