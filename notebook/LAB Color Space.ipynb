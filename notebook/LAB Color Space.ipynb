{
 "cells": [
  {
   "cell_type": "code",
   "execution_count": 180,
   "metadata": {},
   "outputs": [],
   "source": [
    "import sys\n",
    "import csv\n",
    "import bz2\n",
    "\n",
    "import numpy as np\n",
    "import cv2\n",
    "import pickle\n",
    "from PIL import Image\n",
    "\n",
    "from colormath.color_diff_matrix import delta_e_cie2000\n",
    "from colormath.color_objects import LabColor\n",
    "\n",
    "from skimage import img_as_float, img_as_ubyte\n",
    "from skimage.segmentation import felzenszwalb, slic, quickshift, watershed\n",
    "from skimage.filters import sobel\n",
    "from skimage.segmentation import mark_boundaries\n",
    "from PIL import Image \n",
    "def to_pil(cv_img):\n",
    "    img = cv2.cvtColor(cv_img, cv2.COLOR_BGR2RGB)\n",
    "    return Image.fromarray(img)\n",
    "def lab_cie2cv(cie_lab):\n",
    "    cv_lab = np.zeros_like(cie_lab)\n",
    "    cv_lab[...,0] = cie_lab[...,0] * 255 / 100\n",
    "    cv_lab[...,1] = cie_lab[...,1] + 128\n",
    "    cv_lab[...,2] = cie_lab[...,2] + 128\n",
    "    return cv_lab.astype(np.uint8)\n",
    "def lab_cv2cie(cv_lab):\n",
    "    cv_lab = cv_lab.astype(float)\n",
    "    cie_lab = np.zeros_like(cv_lab)\n",
    "    cie_lab[...,0] = cv_lab[...,0] * 100 / 255\n",
    "    cie_lab[...,1] = cv_lab[...,1] - 128\n",
    "    cie_lab[...,2] = cv_lab[...,2] - 128\n",
    "    return cie_lab\n",
    "def create_bgr(color):\n",
    "    img = np.zeros((50,50,3))\n",
    "    img[...,0] = color[0]\n",
    "    img[...,1] = color[1]\n",
    "    img[...,2] = color[2]\n",
    "    return img.astype(np.uint8)\n"
   ]
  },
  {
   "cell_type": "code",
   "execution_count": 2,
   "metadata": {},
   "outputs": [],
   "source": [
    "infile = open('/media/allen/mass/lab-matrix.pk','rb')\n",
    "lab_matrix = pickle.load(infile, encoding='latin1')\n",
    "infile.close()\n",
    "\n",
    "infile = open('/media/allen/mass/lab-colors.pk','rb')\n",
    "lab_colors = pickle.load(infile, encoding='latin1')\n",
    "infile.close()"
   ]
  },
  {
   "cell_type": "code",
   "execution_count": 33,
   "metadata": {},
   "outputs": [
    {
     "data": {
      "text/plain": [
       "197525"
      ]
     },
     "execution_count": 33,
     "metadata": {},
     "output_type": "execute_result"
    }
   ],
   "source": [
    "len(lab_colors)"
   ]
  },
  {
   "cell_type": "code",
   "execution_count": 3,
   "metadata": {},
   "outputs": [],
   "source": [
    "lab_colors = np.array(lab_colors)"
   ]
  },
  {
   "cell_type": "code",
   "execution_count": 70,
   "metadata": {},
   "outputs": [],
   "source": [
    "mask = lab_colors == 'white'\n",
    "a = lab_matrix[mask]"
   ]
  },
  {
   "cell_type": "code",
   "execution_count": 71,
   "metadata": {},
   "outputs": [
    {
     "data": {
      "text/plain": [
       "(18, 3)"
      ]
     },
     "execution_count": 71,
     "metadata": {},
     "output_type": "execute_result"
    }
   ],
   "source": [
    "a.shape"
   ]
  },
  {
   "cell_type": "code",
   "execution_count": 6,
   "metadata": {
    "collapsed": true
   },
   "outputs": [
    {
     "data": {
      "text/plain": [
       "array([[[18.84307605, 40.30386567, 28.96416096],\n",
       "        [18.85246356, 40.32955458, 28.56771335],\n",
       "        [18.93672456, 40.5596757 , 24.99929415],\n",
       "        ...,\n",
       "        [22.14316283, 44.36763473, 25.38848852],\n",
       "        [22.15511802, 44.40015033, 24.77932023],\n",
       "        [22.00216346, 43.98300818, 32.54327038]],\n",
       "\n",
       "       [[22.16758295, 44.43403639, 24.14560696],\n",
       "        [22.18056284, 44.46930509, 23.50320645],\n",
       "        [22.19406271, 44.50596806, 22.85607602],\n",
       "        ...,\n",
       "        [25.78791982, 41.66014006, 37.80188072],\n",
       "        [25.89931353, 41.34691672, 37.90457631],\n",
       "        [26.01449706, 41.02370706, 38.01026476]],\n",
       "\n",
       "       [[26.13345471, 40.69062137, 38.11888003],\n",
       "        [26.25616805, 40.3477793 , 38.23035192],\n",
       "        [26.38261593, 39.99530947, 38.34460626],\n",
       "        ...,\n",
       "        [28.19669852, 42.33630347, 40.57375598],\n",
       "        [28.32058006, 41.99074248, 40.67616165],\n",
       "        [28.4479342 , 41.63627612, 40.78078817]],\n",
       "\n",
       "       ...,\n",
       "\n",
       "       [[51.40592899, 74.50508781, 64.89651779],\n",
       "        [51.45750569, 74.35689895, 64.91568208],\n",
       "        [51.51079001, 74.20389126, 64.93556757],\n",
       "        ...,\n",
       "        [51.61155018, 78.10771107, 65.60635536],\n",
       "        [51.83318088, 77.4657195 , 65.68329982],\n",
       "        [51.85834263, 77.39293018, 65.69213883]],\n",
       "\n",
       "       [[51.88499612, 77.31584681, 65.70152465],\n",
       "        [51.91310012, 77.23459228, 65.71144654],\n",
       "        [51.94267337, 77.14911622, 65.72191508],\n",
       "        ...,\n",
       "        [52.97911652, 80.35270755, 42.08259584],\n",
       "        [52.99078806, 80.38440419, 41.52415676],\n",
       "        [53.00267538, 80.41667875, 40.96395201]],\n",
       "\n",
       "       [[53.01477942, 80.44953337, 40.4020846 ],\n",
       "        [53.02710112, 80.48297012, 39.83865369],\n",
       "        [53.03964139, 80.51699102, 39.27375475],\n",
       "        ...,\n",
       "        [19.24662788, 38.15310793, 29.37142483],\n",
       "        [19.33730549, 37.89385567, 29.47601818],\n",
       "        [19.4275201 , 37.63641724, 29.57981326]]])"
      ]
     },
     "execution_count": 6,
     "metadata": {},
     "output_type": "execute_result"
    }
   ],
   "source": [
    "a.reshape(-1, 7*79, 3)"
   ]
  },
  {
   "cell_type": "code",
   "execution_count": null,
   "metadata": {},
   "outputs": [],
   "source": []
  },
  {
   "cell_type": "code",
   "execution_count": 184,
   "metadata": {},
   "outputs": [
    {
     "name": "stdout",
     "output_type": "stream",
     "text": [
      "['black' 'black' 'black' ... 'blue' 'blue' 'brown']\n",
      "[[  0.           0.           0.        ]\n",
      " [  0.05830464   0.26148098   0.09213212]\n",
      " [  0.21586875  -0.26148424  -0.09219283]\n",
      " ...\n",
      " [  3.88471858   5.75698055 -20.553542  ]\n",
      " [ 14.03836037  -5.77885965 -14.69831127]\n",
      " [ 11.72996098   4.5952133   17.54786981]]\n"
     ]
    }
   ],
   "source": [
    "dist = delta_e_cie2000(np.array([0,0,0]), lab_matrix)\n",
    "similar_lab = np.sort(dist)\n",
    "indice = dist.argsort()\n",
    "print(lab_colors[indice][similar_lab<15])\n",
    "print(lab_matrix[indice][similar_lab<15])"
   ]
  },
  {
   "cell_type": "code",
   "execution_count": 200,
   "metadata": {},
   "outputs": [
    {
     "data": {
      "text/plain": [
       "'blue'"
      ]
     },
     "execution_count": 200,
     "metadata": {},
     "output_type": "execute_result"
    }
   ],
   "source": [
    "lab_colors[indice[similar_lab<15][-3]]"
   ]
  },
  {
   "cell_type": "code",
   "execution_count": 211,
   "metadata": {},
   "outputs": [
    {
     "data": {
      "text/plain": [
       "array([[11.72996098,  4.5952133 , 17.54786981]])"
      ]
     },
     "execution_count": 211,
     "metadata": {},
     "output_type": "execute_result"
    }
   ],
   "source": [
    "lab_matrix[indice[similar_lab<15][-1:]]"
   ]
  },
  {
   "cell_type": "code",
   "execution_count": 205,
   "metadata": {},
   "outputs": [
    {
     "data": {
      "text/plain": [
       "14.993247657853566"
      ]
     },
     "execution_count": 205,
     "metadata": {},
     "output_type": "execute_result"
    }
   ],
   "source": [
    "similar_lab[similar_lab<15][-3]"
   ]
  },
  {
   "cell_type": "code",
   "execution_count": 212,
   "metadata": {},
   "outputs": [],
   "source": [
    "cie_lab = np.repeat(lab_matrix[similar_lab<15][-1:], repeats=[250000*3], axis=0).reshape(500, -1, 3)\n",
    "cv_lab = lab_cie2cv(cie_lab)\n",
    "cv_bgr = cv2.cvtColor(cv_lab, cv2.COLOR_LAB2BGR)"
   ]
  },
  {
   "cell_type": "code",
   "execution_count": 215,
   "metadata": {},
   "outputs": [],
   "source": [
    "import os\n",
    "import os.path as osp\n"
   ]
  },
  {
   "cell_type": "code",
   "execution_count": 217,
   "metadata": {},
   "outputs": [
    {
     "ename": "KeyboardInterrupt",
     "evalue": "",
     "output_type": "error",
     "traceback": [
      "\u001b[0;31m---------------------------------------------------------------------------\u001b[0m",
      "\u001b[0;31mKeyboardInterrupt\u001b[0m                         Traceback (most recent call last)",
      "\u001b[0;32m<ipython-input-217-ca8ddc1c1fcf>\u001b[0m in \u001b[0;36m<module>\u001b[0;34m\u001b[0m\n\u001b[1;32m      1\u001b[0m \u001b[0;32mfor\u001b[0m \u001b[0mi\u001b[0m\u001b[0;34m,\u001b[0m \u001b[0mcolor\u001b[0m \u001b[0;32min\u001b[0m \u001b[0menumerate\u001b[0m\u001b[0;34m(\u001b[0m\u001b[0mlab_colors\u001b[0m\u001b[0;34m)\u001b[0m\u001b[0;34m:\u001b[0m\u001b[0;34m\u001b[0m\u001b[0;34m\u001b[0m\u001b[0m\n\u001b[1;32m      2\u001b[0m     \u001b[0mcie_lab\u001b[0m \u001b[0;34m=\u001b[0m \u001b[0mnp\u001b[0m\u001b[0;34m.\u001b[0m\u001b[0mrepeat\u001b[0m\u001b[0;34m(\u001b[0m\u001b[0mlab_matrix\u001b[0m\u001b[0;34m[\u001b[0m\u001b[0mi\u001b[0m\u001b[0;34m:\u001b[0m\u001b[0mi\u001b[0m\u001b[0;34m+\u001b[0m\u001b[0;36m1\u001b[0m\u001b[0;34m]\u001b[0m\u001b[0;34m,\u001b[0m \u001b[0mrepeats\u001b[0m\u001b[0;34m=\u001b[0m\u001b[0;34m[\u001b[0m\u001b[0;36m40000\u001b[0m\u001b[0;34m*\u001b[0m\u001b[0;36m3\u001b[0m\u001b[0;34m]\u001b[0m\u001b[0;34m,\u001b[0m \u001b[0maxis\u001b[0m\u001b[0;34m=\u001b[0m\u001b[0;36m0\u001b[0m\u001b[0;34m)\u001b[0m\u001b[0;34m.\u001b[0m\u001b[0mreshape\u001b[0m\u001b[0;34m(\u001b[0m\u001b[0;36m200\u001b[0m\u001b[0;34m,\u001b[0m \u001b[0;34m-\u001b[0m\u001b[0;36m1\u001b[0m\u001b[0;34m,\u001b[0m \u001b[0;36m3\u001b[0m\u001b[0;34m)\u001b[0m\u001b[0;34m\u001b[0m\u001b[0;34m\u001b[0m\u001b[0m\n\u001b[0;32m----> 3\u001b[0;31m     \u001b[0mcv_lab\u001b[0m \u001b[0;34m=\u001b[0m \u001b[0mlab_cie2cv\u001b[0m\u001b[0;34m(\u001b[0m\u001b[0mcie_lab\u001b[0m\u001b[0;34m)\u001b[0m\u001b[0;34m\u001b[0m\u001b[0;34m\u001b[0m\u001b[0m\n\u001b[0m\u001b[1;32m      4\u001b[0m     \u001b[0mcv_bgr\u001b[0m \u001b[0;34m=\u001b[0m \u001b[0mcv2\u001b[0m\u001b[0;34m.\u001b[0m\u001b[0mcvtColor\u001b[0m\u001b[0;34m(\u001b[0m\u001b[0mcv_lab\u001b[0m\u001b[0;34m,\u001b[0m \u001b[0mcv2\u001b[0m\u001b[0;34m.\u001b[0m\u001b[0mCOLOR_LAB2BGR\u001b[0m\u001b[0;34m)\u001b[0m\u001b[0;34m\u001b[0m\u001b[0;34m\u001b[0m\u001b[0m\n\u001b[1;32m      5\u001b[0m     \u001b[0mfname\u001b[0m \u001b[0;34m=\u001b[0m \u001b[0;34m\"/media/allen/mass/CIE_color/{}\"\u001b[0m\u001b[0;34m.\u001b[0m\u001b[0mformat\u001b[0m\u001b[0;34m(\u001b[0m\u001b[0mcolor\u001b[0m\u001b[0;34m)\u001b[0m\u001b[0;34m\u001b[0m\u001b[0;34m\u001b[0m\u001b[0m\n",
      "\u001b[0;32m<ipython-input-180-f04f6c4de57a>\u001b[0m in \u001b[0;36mlab_cie2cv\u001b[0;34m(cie_lab)\u001b[0m\n\u001b[1;32m     23\u001b[0m     \u001b[0mcv_lab\u001b[0m\u001b[0;34m[\u001b[0m\u001b[0;34m...\u001b[0m\u001b[0;34m,\u001b[0m\u001b[0;36m0\u001b[0m\u001b[0;34m]\u001b[0m \u001b[0;34m=\u001b[0m \u001b[0mcie_lab\u001b[0m\u001b[0;34m[\u001b[0m\u001b[0;34m...\u001b[0m\u001b[0;34m,\u001b[0m\u001b[0;36m0\u001b[0m\u001b[0;34m]\u001b[0m \u001b[0;34m*\u001b[0m \u001b[0;36m255\u001b[0m \u001b[0;34m/\u001b[0m \u001b[0;36m100\u001b[0m\u001b[0;34m\u001b[0m\u001b[0;34m\u001b[0m\u001b[0m\n\u001b[1;32m     24\u001b[0m     \u001b[0mcv_lab\u001b[0m\u001b[0;34m[\u001b[0m\u001b[0;34m...\u001b[0m\u001b[0;34m,\u001b[0m\u001b[0;36m1\u001b[0m\u001b[0;34m]\u001b[0m \u001b[0;34m=\u001b[0m \u001b[0mcie_lab\u001b[0m\u001b[0;34m[\u001b[0m\u001b[0;34m...\u001b[0m\u001b[0;34m,\u001b[0m\u001b[0;36m1\u001b[0m\u001b[0;34m]\u001b[0m \u001b[0;34m+\u001b[0m \u001b[0;36m128\u001b[0m\u001b[0;34m\u001b[0m\u001b[0;34m\u001b[0m\u001b[0m\n\u001b[0;32m---> 25\u001b[0;31m     \u001b[0mcv_lab\u001b[0m\u001b[0;34m[\u001b[0m\u001b[0;34m...\u001b[0m\u001b[0;34m,\u001b[0m\u001b[0;36m2\u001b[0m\u001b[0;34m]\u001b[0m \u001b[0;34m=\u001b[0m \u001b[0mcie_lab\u001b[0m\u001b[0;34m[\u001b[0m\u001b[0;34m...\u001b[0m\u001b[0;34m,\u001b[0m\u001b[0;36m2\u001b[0m\u001b[0;34m]\u001b[0m \u001b[0;34m+\u001b[0m \u001b[0;36m128\u001b[0m\u001b[0;34m\u001b[0m\u001b[0;34m\u001b[0m\u001b[0m\n\u001b[0m\u001b[1;32m     26\u001b[0m     \u001b[0;32mreturn\u001b[0m \u001b[0mcv_lab\u001b[0m\u001b[0;34m.\u001b[0m\u001b[0mastype\u001b[0m\u001b[0;34m(\u001b[0m\u001b[0mnp\u001b[0m\u001b[0;34m.\u001b[0m\u001b[0muint8\u001b[0m\u001b[0;34m)\u001b[0m\u001b[0;34m\u001b[0m\u001b[0;34m\u001b[0m\u001b[0m\n\u001b[1;32m     27\u001b[0m \u001b[0;32mdef\u001b[0m \u001b[0mlab_cv2cie\u001b[0m\u001b[0;34m(\u001b[0m\u001b[0mcv_lab\u001b[0m\u001b[0;34m)\u001b[0m\u001b[0;34m:\u001b[0m\u001b[0;34m\u001b[0m\u001b[0;34m\u001b[0m\u001b[0m\n",
      "\u001b[0;31mKeyboardInterrupt\u001b[0m: "
     ]
    }
   ],
   "source": [
    "for i, color in enumerate(lab_colors):\n",
    "    cie_lab = np.repeat(lab_matrix[i:i+1], repeats=[40000*3], axis=0).reshape(200, -1, 3)\n",
    "    cv_lab = lab_cie2cv(cie_lab)\n",
    "    cv_bgr = cv2.cvtColor(cv_lab, cv2.COLOR_LAB2BGR)\n",
    "    fname = \"/media/allen/mass/CIE_color/{}\".format(color)\n",
    "    if not osp.exists(fname):\n",
    "        os.makedirs(fname)\n",
    "    fname = osp.join(fname, \"{}.jpg\".format(i))\n",
    "    cv2.imwrite(fname, cv_bgr)\n",
    "    "
   ]
  },
  {
   "cell_type": "code",
   "execution_count": 24,
   "metadata": {},
   "outputs": [],
   "source": [
    "color_centers = []\n",
    "for color in np.unique(lab_colors):\n",
    "    mask = lab_colors == color\n",
    "    samples = lab_matrix[mask].mean(axis=0)\n",
    "    color_centers.append(samples)"
   ]
  },
  {
   "cell_type": "code",
   "execution_count": 25,
   "metadata": {},
   "outputs": [],
   "source": [
    "color_centers = np.array(color_centers)\n",
    "cie_lab = np.repeat(color_centers, repeats=[10000], axis=0).reshape(17*50, 200, 3)\n",
    "cv_lab = lab_cie2cv(cie_lab)\n",
    "cv_bgr = cv2.cvtColor(cv_lab, cv2.COLOR_LAB2BGR)"
   ]
  },
  {
   "cell_type": "code",
   "execution_count": 27,
   "metadata": {},
   "outputs": [],
   "source": [
    "for i, c in enumerate(np.unique(lab_colors)):\n",
    "    cv2.putText(cv_bgr, c, (0, 50*(i+1)-10), cv2.FONT_HERSHEY_DUPLEX, 1, (255,255,255), 1)"
   ]
  },
  {
   "cell_type": "code",
   "execution_count": 213,
   "metadata": {},
   "outputs": [
    {
     "data": {
      "image/png": "[encoded data removed]",
      "text/plain": [
       "<PIL.Image.Image image mode=RGB size=1500x500 at 0x7FB3887DE160>"
      ]
     },
     "execution_count": 213,
     "metadata": {},
     "output_type": "execute_result"
    }
   ],
   "source": [
    "to_pil(cv_bgr)"
   ]
  },
  {
   "cell_type": "code",
   "execution_count": 127,
   "metadata": {},
   "outputs": [
    {
     "data": {
      "image/png": "[encoded data removed]",
      "text/plain": [
       "<PIL.Image.Image image mode=RGB size=500x500 at 0x7FB388EC25C0>"
      ]
     },
     "execution_count": 127,
     "metadata": {},
     "output_type": "execute_result"
    }
   ],
   "source": [
    "to_pil(cv_bgr)"
   ]
  },
  {
   "cell_type": "code",
   "execution_count": 7,
   "metadata": {},
   "outputs": [
    {
     "data": {
      "text/plain": [
       "array(['beige', 'black', 'blue', 'brown', 'cyan', 'gold', 'gray', 'green',\n",
       "       'khaki', 'maroon', 'orange', 'pink', 'purple', 'red', 'teal',\n",
       "       'white', 'yellow'], dtype='<U6')"
      ]
     },
     "execution_count": 7,
     "metadata": {},
     "output_type": "execute_result"
    }
   ],
   "source": [
    "np.unique(lab_colors)"
   ]
  },
  {
   "cell_type": "code",
   "execution_count": 181,
   "metadata": {},
   "outputs": [],
   "source": [
    "# cv_bgr_black = create_bgr([0,0,0])\n",
    "cv_bgr_black = create_bgr([255,255,255])\n",
    "cv_lab_black = cv2.cvtColor(cv_bgr_black, cv2.COLOR_BGR2LAB)\n",
    "cie_lab_black = lab_cv2cie(cv_lab_black)"
   ]
  },
  {
   "cell_type": "code",
   "execution_count": 182,
   "metadata": {},
   "outputs": [
    {
     "data": {
      "text/plain": [
       "array([[[100.,   0.,   0.],\n",
       "        [100.,   0.,   0.],\n",
       "        [100.,   0.,   0.],\n",
       "        ...,\n",
       "        [100.,   0.,   0.],\n",
       "        [100.,   0.,   0.],\n",
       "        [100.,   0.,   0.]],\n",
       "\n",
       "       [[100.,   0.,   0.],\n",
       "        [100.,   0.,   0.],\n",
       "        [100.,   0.,   0.],\n",
       "        ...,\n",
       "        [100.,   0.,   0.],\n",
       "        [100.,   0.,   0.],\n",
       "        [100.,   0.,   0.]],\n",
       "\n",
       "       [[100.,   0.,   0.],\n",
       "        [100.,   0.,   0.],\n",
       "        [100.,   0.,   0.],\n",
       "        ...,\n",
       "        [100.,   0.,   0.],\n",
       "        [100.,   0.,   0.],\n",
       "        [100.,   0.,   0.]],\n",
       "\n",
       "       ...,\n",
       "\n",
       "       [[100.,   0.,   0.],\n",
       "        [100.,   0.,   0.],\n",
       "        [100.,   0.,   0.],\n",
       "        ...,\n",
       "        [100.,   0.,   0.],\n",
       "        [100.,   0.,   0.],\n",
       "        [100.,   0.,   0.]],\n",
       "\n",
       "       [[100.,   0.,   0.],\n",
       "        [100.,   0.,   0.],\n",
       "        [100.,   0.,   0.],\n",
       "        ...,\n",
       "        [100.,   0.,   0.],\n",
       "        [100.,   0.,   0.],\n",
       "        [100.,   0.,   0.]],\n",
       "\n",
       "       [[100.,   0.,   0.],\n",
       "        [100.,   0.,   0.],\n",
       "        [100.,   0.,   0.],\n",
       "        ...,\n",
       "        [100.,   0.,   0.],\n",
       "        [100.,   0.,   0.],\n",
       "        [100.,   0.,   0.]]])"
      ]
     },
     "execution_count": 182,
     "metadata": {},
     "output_type": "execute_result"
    }
   ],
   "source": [
    "cie_lab_black"
   ]
  },
  {
   "cell_type": "code",
   "execution_count": 173,
   "metadata": {},
   "outputs": [
    {
     "data": {
      "text/plain": [
       "array([[ 9.99999845e+01, -4.59389408e-04, -8.56145792e-03],\n",
       "       [ 1.18237940e+02,  6.59493538e+00, -1.69011435e+01],\n",
       "       [ 1.18612886e+02, -5.33101226e-04, -9.93519579e-03],\n",
       "       [ 1.29027946e+02, -1.41764300e+01,  7.35545045e+00],\n",
       "       [ 1.33022057e+02, -1.03881478e+01,  7.51322431e+00],\n",
       "       [ 1.30124680e+02, -5.78690854e-04, -1.07848316e-02],\n",
       "       [ 1.33794127e+02, -5.92942218e+00,  1.96566294e+00],\n",
       "       [ 1.30603222e+02,  4.52982868e+00, -6.52488742e+00],\n",
       "       [ 1.31988970e+02,  1.66849828e+00, -4.48603114e+00],\n",
       "       [ 1.26445020e+02,  2.41503241e+00,  1.51090712e+01],\n",
       "       [ 1.28517032e+02,  2.20043540e+00,  7.88841934e+00],\n",
       "       [ 1.30500605e+02,  4.82961955e-01,  1.07904762e+01],\n",
       "       [ 1.32829509e+02, -8.90623150e+00,  2.89743567e+01],\n",
       "       [ 1.30980983e+02,  3.27815589e+00,  5.71581644e+00],\n",
       "       [ 1.32640312e+02,  2.69044080e-01,  7.15140572e+00],\n",
       "       [ 1.32957655e+02,  2.48363830e+00,  8.70776144e-01],\n",
       "       [ 1.34495126e+02, -3.49890127e+00,  9.82595478e+00],\n",
       "       [ 1.34988658e+02, -5.97953443e-04, -1.11438208e-02]])"
      ]
     },
     "execution_count": 173,
     "metadata": {},
     "output_type": "execute_result"
    }
   ],
   "source": [
    "lab_matrix[lab_colors=='white']"
   ]
  },
  {
   "cell_type": "code",
   "execution_count": null,
   "metadata": {},
   "outputs": [],
   "source": []
  },
  {
   "cell_type": "code",
   "execution_count": 80,
   "metadata": {},
   "outputs": [],
   "source": [
    "white_lab = lab_matrix[lab_colors == 'white']\n",
    "black_lab = lab_matrix[lab_colors == 'black']"
   ]
  },
  {
   "cell_type": "code",
   "execution_count": 83,
   "metadata": {},
   "outputs": [],
   "source": [
    "max_de = delta_e_cie2000(white_lab[0], black_lab)"
   ]
  },
  {
   "cell_type": "code",
   "execution_count": 85,
   "metadata": {},
   "outputs": [
    {
     "data": {
      "text/plain": [
       "99.99998490203575"
      ]
     },
     "execution_count": 85,
     "metadata": {},
     "output_type": "execute_result"
    }
   ],
   "source": [
    "max_de.max()"
   ]
  },
  {
   "cell_type": "code",
   "execution_count": 31,
   "metadata": {},
   "outputs": [
    {
     "data": {
      "text/plain": [
       "array(['beige', 'black', 'blue', 'brown', 'cyan', 'gold', 'gray', 'green',\n",
       "       'khaki', 'maroon', 'orange', 'pink', 'purple', 'red', 'teal',\n",
       "       'white', 'yellow'], dtype='<U6')"
      ]
     },
     "execution_count": 31,
     "metadata": {},
     "output_type": "execute_result"
    }
   ],
   "source": [
    "np.unique(lab_colors)"
   ]
  },
  {
   "cell_type": "code",
   "execution_count": 30,
   "metadata": {},
   "outputs": [
    {
     "name": "stdout",
     "output_type": "stream",
     "text": [
      "0 24 37\n",
      "9 8 11\n",
      "170 65 41\n",
      "4 61 107\n",
      "219 231 31\n",
      "0 134 174\n",
      "184 187 189\n",
      "37 164 66\n",
      "0 55 57\n",
      "23 1 82\n",
      "0 105 219\n",
      "144 0 224\n",
      "141 0 123\n",
      "21 13 186\n",
      "133 157 15\n",
      "58 66 67\n",
      "1 202 211\n"
     ]
    }
   ],
   "source": [
    "for b, g, r in np.squeeze(cv_bgr):\n",
    "    print(b,g,r)"
   ]
  },
  {
   "cell_type": "code",
   "execution_count": 35,
   "metadata": {},
   "outputs": [],
   "source": [
    "mask = lab_colors == 'blue'"
   ]
  },
  {
   "cell_type": "code",
   "execution_count": 38,
   "metadata": {},
   "outputs": [],
   "source": [
    "from sklearn.cluster import DBSCAN\n"
   ]
  },
  {
   "cell_type": "code",
   "execution_count": 45,
   "metadata": {},
   "outputs": [
    {
     "data": {
      "text/plain": [
       "array([[  8.30566263,  39.85143396, -54.28106616],\n",
       "       [  8.47604225,  40.13078748, -54.66156958],\n",
       "       [  8.64612588,  40.40965569, -55.04141196],\n",
       "       ...,\n",
       "       [ 37.39302572,  81.0878837 , -98.673802  ],\n",
       "       [ 37.50999473,  81.30873314, -99.0397929 ],\n",
       "       [ 71.97153117,  -4.94462472, -42.78225755]])"
      ]
     },
     "execution_count": 45,
     "metadata": {},
     "output_type": "execute_result"
    }
   ],
   "source": [
    "lab_matrix[mask,:]"
   ]
  },
  {
   "cell_type": "code",
   "execution_count": 48,
   "metadata": {},
   "outputs": [
    {
     "data": {
      "text/plain": [
       "array([[   8.30566263,   39.85143396,  -54.28106616],\n",
       "       [  24.22342107,   65.95010525,  -89.82969169],\n",
       "       [   2.85172837,   20.03926306,  -34.84045863],\n",
       "       ...,\n",
       "       [  31.42609893,   77.58016955, -105.38558547],\n",
       "       [  35.28964276,   78.24525784,  -96.00054788],\n",
       "       [  35.69403816,   78.44510764,  -95.3168025 ]])"
      ]
     },
     "execution_count": 48,
     "metadata": {},
     "output_type": "execute_result"
    }
   ],
   "source": [
    "lab_matrix[mask,:][::100]"
   ]
  },
  {
   "cell_type": "code",
   "execution_count": 86,
   "metadata": {},
   "outputs": [],
   "source": []
  },
  {
   "cell_type": "code",
   "execution_count": 105,
   "metadata": {},
   "outputs": [],
   "source": []
  },
  {
   "cell_type": "code",
   "execution_count": null,
   "metadata": {},
   "outputs": [],
   "source": []
  },
  {
   "cell_type": "code",
   "execution_count": 77,
   "metadata": {},
   "outputs": [
    {
     "data": {
      "text/plain": [
       "<matplotlib.axes._subplots.AxesSubplot at 0x7fb389c897b8>"
      ]
     },
     "execution_count": 77,
     "metadata": {},
     "output_type": "execute_result"
    },
    {
     "data": {
      "image/png": "[encoded data removed]",
      "text/plain": [
       "<Figure size 432x288 with 1 Axes>"
      ]
     },
     "metadata": {
      "needs_background": "light"
     },
     "output_type": "display_data"
    }
   ],
   "source": [
    "sns.boxplot(dist)"
   ]
  },
  {
   "cell_type": "code",
   "execution_count": 67,
   "metadata": {},
   "outputs": [
    {
     "data": {
      "text/plain": [
       "<matplotlib.axes._subplots.AxesSubplot at 0x7fb3897dd160>"
      ]
     },
     "execution_count": 67,
     "metadata": {},
     "output_type": "execute_result"
    },
    {
     "data": {
      "image/png": "[encoded data removed]",
      "text/plain": [
       "<Figure size 432x288 with 1 Axes>"
      ]
     },
     "metadata": {
      "needs_background": "light"
     },
     "output_type": "display_data"
    }
   ],
   "source": [
    "import seaborn as sns \n",
    "sns.lineplot(x=range(dist[:1000].shape[0]), y=dist[:1000])"
   ]
  },
  {
   "cell_type": "code",
   "execution_count": null,
   "metadata": {},
   "outputs": [],
   "source": []
  }
 ],
 "metadata": {
  "kernelspec": {
   "display_name": "Python 3",
   "language": "python",
   "name": "python3"
  },
  "language_info": {
   "codemirror_mode": {
    "name": "ipython",
    "version": 3
   },
   "file_extension": ".py",
   "mimetype": "text/x-python",
   "name": "python",
   "nbconvert_exporter": "python",
   "pygments_lexer": "ipython3",
   "version": "3.6.8"
  }
 },
 "nbformat": 4,
 "nbformat_minor": 2
}
