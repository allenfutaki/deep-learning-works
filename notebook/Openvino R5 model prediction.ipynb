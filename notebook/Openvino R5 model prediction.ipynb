{
 "cells": [
  {
   "cell_type": "markdown",
   "metadata": {},
   "source": [
    "# Import packages\n"
   ]
  },
  {
   "cell_type": "code",
   "execution_count": 1,
   "metadata": {},
   "outputs": [],
   "source": [
    "import argparse\n",
    "import numpy as np\n",
    "import os\n",
    "import sys\n",
    "import glog\n",
    "import time"
   ]
  },
  {
   "cell_type": "markdown",
   "metadata": {},
   "source": [
    "# If CPU is used, cpu extension might be needed"
   ]
  },
  {
   "cell_type": "code",
   "execution_count": null,
   "metadata": {},
   "outputs": [],
   "source": [
    "#--cpu_extension /home/allen/R5/intel/computer_vision_sdk_2018.5.445/deployment_tools/inference_engine/lib/ubuntu_16.04/intel64/libcpu_extension_sse4.so "
   ]
  },
  {
   "cell_type": "markdown",
   "metadata": {},
   "source": [
    "# Add library path"
   ]
  },
  {
   "cell_type": "code",
   "execution_count": 2,
   "metadata": {},
   "outputs": [],
   "source": [
    "sys.path.insert(0, \"/home/acer/intel/computer_vision_sdk_2018.5.455/python/python3.6/ubuntu16\")\n",
    "from openvino.inference_engine import IENetwork, IEPlugin"
   ]
  },
  {
   "cell_type": "markdown",
   "metadata": {},
   "source": [
    "# Loading model\n",
    "set the path to model xml file"
   ]
  },
  {
   "cell_type": "code",
   "execution_count": 10,
   "metadata": {},
   "outputs": [
    {
     "name": "stderr",
     "output_type": "stream",
     "text": [
      "I0729 13:08:47.773116 10498 <ipython-input-10-fd935bd8ca8b>:6] Loading network files:\n",
      "\t/home/allen/Documents/FACEID_TEST/FP32/pyramidnet_20190227.xml\n",
      "\t/home/allen/Documents/FACEID_TEST/FP32/pyramidnet_20190227.bin\n"
     ]
    }
   ],
   "source": [
    "model_xml = \"/home/allen/Documents/FACEID_TEST/FP32/pyramidnet_20190227.xml\"\n",
    "model_bin = os.path.splitext(model_xml)[0] + \".bin\"\n",
    "plugin = IEPlugin(device=\"CPU\", plugin_dirs=None)\n",
    "\n",
    "# Read IR\n",
    "glog.info(\"Loading network files:\\n\\t{}\\n\\t{}\".format(model_xml, model_bin))\n",
    "net = IENetwork(model=model_xml, weights=model_bin)"
   ]
  },
  {
   "cell_type": "markdown",
   "metadata": {},
   "source": [
    "# Get model output name\n",
    "Modification is needed if necessary"
   ]
  },
  {
   "cell_type": "code",
   "execution_count": 11,
   "metadata": {},
   "outputs": [
    {
     "name": "stderr",
     "output_type": "stream",
     "text": [
      "I0729 13:08:49.168881 10498 <ipython-input-11-3a1b9b625dfc>:2] fc1\n"
     ]
    }
   ],
   "source": [
    "out_blob = next(iter(net.outputs))\n",
    "glog.info(out_blob)"
   ]
  },
  {
   "cell_type": "markdown",
   "metadata": {},
   "source": [
    "# Get input shape by input name\n",
    "Modification is needed if necessary"
   ]
  },
  {
   "cell_type": "code",
   "execution_count": 15,
   "metadata": {},
   "outputs": [
    {
     "name": "stderr",
     "output_type": "stream",
     "text": [
      "I0729 13:09:26.431843 10498 <ipython-input-15-c5ae25610b0d>:2] 1 3 112 112\n"
     ]
    }
   ],
   "source": [
    "n, c, h, w = net.inputs['data1'].shape\n",
    "glog.info(\"{} {} {} {}\".format(n,c,h,w))"
   ]
  },
  {
   "cell_type": "markdown",
   "metadata": {},
   "source": [
    "# Set dummy input for inference"
   ]
  },
  {
   "cell_type": "code",
   "execution_count": 7,
   "metadata": {},
   "outputs": [],
   "source": [
    "data = np.ones([1, 3, 112, 112])\n",
    "data2 = np.zeros([1, 16, 56, 56])\n",
    "data3 = np.zeros([1, 16, 28, 28])\n",
    "data4 = np.zeros([1, 16, 14, 14])\n",
    "\n",
    "exec_net = plugin.load(network=net)\n",
    "del net"
   ]
  },
  {
   "cell_type": "markdown",
   "metadata": {},
   "source": [
    "# Predict \n",
    "giving the dictionary of input to get the output by output blob name"
   ]
  },
  {
   "cell_type": "code",
   "execution_count": 16,
   "metadata": {},
   "outputs": [
    {
     "name": "stderr",
     "output_type": "stream",
     "text": [
      "I0729 13:09:32.353111 10498 <ipython-input-16-ac6122dd4cb8>:2] (1, 512)\n"
     ]
    }
   ],
   "source": [
    "output = exec_net.infer(inputs={'data1': data, 'data2': data2, 'data3': data3, 'data4': data4})[out_blob]\n",
    "glog.info(output.shape)"
   ]
  },
  {
   "cell_type": "markdown",
   "metadata": {},
   "source": [
    "# Command line version"
   ]
  },
  {
   "cell_type": "code",
   "execution_count": 3,
   "metadata": {},
   "outputs": [
    {
     "name": "stderr",
     "output_type": "stream",
     "text": [
      "usage: ipykernel_launcher.py [-h] -m MODEL [-b BATCH_SIZE] [-l CPU_EXTENSION]\n",
      "                             [-pp PLUGIN_DIR] [-d DEVICE] [--labels LABELS]\n",
      "                             [-nt NUMBER_TOP] [-ni NUMBER_ITER] [-pc]\n",
      "ipykernel_launcher.py: error: the following arguments are required: -m/--model\n"
     ]
    },
    {
     "ename": "SystemExit",
     "evalue": "2",
     "output_type": "error",
     "traceback": [
      "An exception has occurred, use %tb to see the full traceback.\n",
      "\u001b[0;31mSystemExit\u001b[0m\u001b[0;31m:\u001b[0m 2\n"
     ]
    },
    {
     "name": "stderr",
     "output_type": "stream",
     "text": [
      "W0724 15:20:45.290234 14504 warnings.py:99] /home/allen/.pyenv/versions/3.6.8/envs/py368/lib/python3.6/site-packages/IPython/core/interactiveshell.py:3304: UserWarning: To exit: use 'exit', 'quit', or Ctrl-D.\n",
      "  warn(\"To exit: use 'exit', 'quit', or Ctrl-D.\", stacklevel=1)\n",
      "\n"
     ]
    }
   ],
   "source": [
    "import argparse\n",
    "import numpy as np\n",
    "import os\n",
    "import sys\n",
    "import glog\n",
    "import time\n",
    "\n",
    "sys.path.insert(0, \"/home/acer/intel/computer_vision_sdk_2018.5.455/python/python3.6/ubuntu16\")\n",
    "from openvino.inference_engine import IENetwork, IEPlugin\n",
    "def parse_arguments(argv):\n",
    "    parser = argparse.ArgumentParser()\n",
    "    parser.add_argument(\"-m\", \"--model\", help=\"Path to an .xml file with a trained model.\", required=True, type=str)\n",
    "    parser.add_argument(\"-b\", \"--batch_size\", help=\"Path to a folder with images or path to an image files\", \n",
    "                        type=int)\n",
    "    parser.add_argument(\"-l\", \"--cpu_extension\",\n",
    "                        help=\"MKLDNN (CPU)-targeted custom layers.Absolute path to a shared library with the kernels \"\n",
    "                             \"impl.\", type=str, default=None)\n",
    "    parser.add_argument(\"-pp\", \"--plugin_dir\", help=\"Path to a plugin folder\", type=str, default=None)\n",
    "    parser.add_argument(\"-d\", \"--device\",\n",
    "                        help=\"Specify the target device to infer on; CPU, GPU, FPGA or MYRIAD is acceptable. Sample \"\n",
    "                             \"will look for a suitable plugin for device specified (CPU by default)\", default=\"CPU\",\n",
    "                        type=str)\n",
    "    parser.add_argument(\"--labels\", help=\"Labels mapping file\", default=None, type=str)\n",
    "    parser.add_argument(\"-nt\", \"--number_top\", help=\"Number of top results\", default=10, type=int)\n",
    "    parser.add_argument(\"-ni\", \"--number_iter\", help=\"Number of inference iterations\", default=1, type=int)\n",
    "    parser.add_argument(\"-pc\", \"--perf_counts\", help=\"Report performance counters\", default=False, action=\"store_true\")\n",
    "\n",
    "    return parser.parse_args(argv)\n",
    "\n",
    "args = parse_arguments(sys.argv[1:])\n",
    "model_xml = args.model\n",
    "model_bin = os.path.splitext(model_xml)[0] + \".bin\"\n",
    "plugin = IEPlugin(device=args.device, plugin_dirs=args.plugin_dir)\n",
    "\n",
    "# Read IR\n",
    "glog.info(\"Loading network files:\\n\\t{}\\n\\t{}\".format(model_xml, model_bin))\n",
    "net = IENetwork(model=model_xml, weights=model_bin)\n",
    "\n",
    "out_blob = next(iter(net.outputs))\n",
    "net.batch_size = args.batch_size\n",
    "\n",
    "n, c, h, w = net.inputs['data'].shape\n",
    "\n",
    "data = np.ones([1, 3, 112, 112])\n",
    "data2 = np.zeros([1, 16, 56, 56])\n",
    "data3 = np.zeros([1, 16, 28, 28])\n",
    "data4 = np.zeros([1, 16, 14, 14])\n",
    "\n",
    "exec_net = plugin.load(network=net)\n",
    "\n",
    "output = exec_net.infer(inputs={'data': data, 'data2': data2, 'data3': data3, 'data4': data4})[out_blob]\n",
    "\n",
    "glog.info(output.shape)\n",
    "\n",
    "del net"
   ]
  }
 ],
 "metadata": {
  "kernelspec": {
   "display_name": "Python 2",
   "language": "python",
   "name": "python2"
  },
  "language_info": {
   "codemirror_mode": {
    "name": "ipython",
    "version": 3
   },
   "file_extension": ".py",
   "mimetype": "text/x-python",
   "name": "python",
   "nbconvert_exporter": "python",
   "pygments_lexer": "ipython3",
   "version": "3.6.8"
  }
 },
 "nbformat": 4,
 "nbformat_minor": 2
}
