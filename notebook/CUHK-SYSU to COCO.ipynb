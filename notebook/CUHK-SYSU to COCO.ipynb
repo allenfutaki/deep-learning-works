{
 "cells": [
  {
   "cell_type": "code",
   "execution_count": 1,
   "metadata": {},
   "outputs": [],
   "source": [
    "import pycocotools.coco as coco\n",
    "import json\n",
    "import os\n",
    "import os.path as osp\n",
    "from PIL import Image\n",
    "from tqdm import tqdm\n",
    "import numpy as np\n",
    "import shutil\n",
    "# data = np.array(data)"
   ]
  },
  {
   "cell_type": "code",
   "execution_count": 2,
   "metadata": {},
   "outputs": [],
   "source": [
    "data_path = '/media/allen/mass/DB'\n",
    "branch = 'cuhksysu'\n",
    "\n",
    "src = osp.join(data_path, branch)\n",
    "train_dst = osp.join(src, 'train2017')\n",
    "val_dst = osp.join(src, 'val2017')\n",
    "if not osp.exists(train_dst):\n",
    "    os.mkdir(train_dst)\n",
    "if not osp.exists(val_dst):\n",
    "    os.mkdir(val_dst)\n",
    "label_src = osp.join(src, \"labels_with_ids\")\n",
    "# img_list = \"/media/allen/mass/Towards-Realtime-MOT/data/cuhksysu.val\"\n",
    "# img_paths = []\n",
    "# with open(img_list, 'r') as f:\n",
    "#     for line in f.readlines() :\n",
    "#         line = line.strip()\n",
    "#         img_paths.append(osp.join(data_path, line))\n",
    "        # break\n",
    "img_paths = [osp.join(root, f) for root, _, files in os.walk(src) for f in files if '.jpg' in f or '.png' in f]"
   ]
  },
  {
   "cell_type": "code",
   "execution_count": 3,
   "metadata": {},
   "outputs": [
    {
     "output_type": "stream",
     "name": "stderr",
     "text": "100%|██████████| 18184/18184 [04:37<00:00, 65.54it/s]\n"
    }
   ],
   "source": [
    "dataset = {\n",
    "    \"info\": {},\n",
    "    \"licenses\": [],\n",
    "    \"images\": [],\n",
    "    \"annotations\": [],\n",
    "    \"categories\": []\n",
    "}\n",
    "dataset['categories'].append({\n",
    "    'id': 1,\n",
    "    'name': \"person\",\n",
    "    'supercategory': \"people\",\n",
    "    'keypoints': [],\n",
    "    'skeleton': []\n",
    "})\n",
    "\n",
    "# anno_paths = [osp.join(root, f) for root, _, files in os.walk(src) for f in files if '.txt' in f]\n",
    "\n",
    "sub_index = 0\n",
    "idx = 0\n",
    "for path in tqdm(img_paths):\n",
    "    anns = osp.join(label_src, f\"{osp.splitext(osp.basename(path))[0]}.txt\")\n",
    "    img = Image.open(path)\n",
    "    dst = path.replace(\"images\", \"train2017\")\n",
    "    w, h = img.size\n",
    "    idx += 1\n",
    "    dataset['images'].append({\n",
    "        'coco_url': '',\n",
    "        'date_captured': '',\n",
    "        'file_name': osp.basename(dst),\n",
    "        'flickr_url': '',\n",
    "        'id': idx,\n",
    "        'license': 0,\n",
    "        'width': w,\n",
    "        'height': h\n",
    "    })\n",
    "    with open(anns, 'r') as f:\n",
    "        for line in f.readlines():\n",
    "            sub_index += 1\n",
    "            _class, identity, x_center, y_center, width, height = line.strip().replace(\"  \", \" \").split(\" \")\n",
    "            x1 = (float(x_center) - float(width)/2) * w\n",
    "            y1 = (float(y_center) - float(height)/2) * h\n",
    "            width = float(width) * w\n",
    "            height = float(height) * h\n",
    "            dataset['annotations'].append({\n",
    "                'area': int(width*height),\n",
    "                'bbox': [int(x1),int(y1),int(width),int(height)],\n",
    "                'category_id': 1,\n",
    "                'pid': identity,\n",
    "                'id': sub_index,\n",
    "                'image_id': idx,\n",
    "                'iscrowd': 0,\n",
    "                'segmentation': [],\n",
    "            })\n",
    "    # shutil.copy(path, osp.join(val_dst, osp.basename(path)))\n",
    "    # break"
   ]
  },
  {
   "cell_type": "code",
   "execution_count": 4,
   "metadata": {},
   "outputs": [],
   "source": [
    "with open(osp.join(src, 'instances_train2017.json'), 'w') as f:\n",
    "    json.dump(dataset, f)"
   ]
  },
  {
   "cell_type": "code",
   "execution_count": 14,
   "metadata": {},
   "outputs": [],
   "source": [
    "dataset = {\n",
    "    \"info\": {},\n",
    "    \"licenses\": [],\n",
    "    \"images\": [],\n",
    "    \"annotations\": [],\n",
    "    \"categories\": []\n",
    "}\n",
    "dataset['categories'].append({\n",
    "    'id': 1,\n",
    "    'name': \"person\",\n",
    "    'supercategory': \"people\",\n",
    "    'keypoints': [],\n",
    "    'skeleton': []\n",
    "})\n",
    "with open(osp.join(src, 'instances_val2017.json'), 'w') as f:\n",
    "    json.dump(dataset, f)"
   ]
  },
  {
   "cell_type": "code",
   "execution_count": 11,
   "metadata": {},
   "outputs": [],
   "source": [
    "import cv2"
   ]
  },
  {
   "cell_type": "code",
   "execution_count": 15,
   "metadata": {},
   "outputs": [],
   "source": [
    "for bb in l_bbs:\n",
    "    x1, y1, w, h = bb\n",
    "    cv2.rectangle(l_img, (int(x1), int(y1)), (int(x1+w), int(y1+h)), (255,255,255), 2)"
   ]
  },
  {
   "cell_type": "code",
   "execution_count": 5,
   "metadata": {},
   "outputs": [
    {
     "output_type": "stream",
     "name": "stdout",
     "text": "loading annotations into memory...\nDone (t=0.59s)\ncreating index...\nindex created!\n"
    }
   ],
   "source": [
    "co = coco.COCO(osp.join(src, 'instances_train2017.json'))"
   ]
  },
  {
   "cell_type": "code",
   "execution_count": 6,
   "metadata": {},
   "outputs": [],
   "source": [
    "image_ids = co.getImgIds()\n",
    "img_id = image_ids[150]\n",
    "idxs = co.getAnnIds(imgIds=[img_id])\n",
    "fname = co.loadImgs(ids=[img_id])[0]['file_name']"
   ]
  },
  {
   "cell_type": "code",
   "execution_count": 7,
   "metadata": {},
   "outputs": [
    {
     "output_type": "execute_result",
     "data": {
      "text/plain": "'CUHK-SYSU/train2017/s9870.jpg'"
     },
     "metadata": {},
     "execution_count": 7
    }
   ],
   "source": [
    "fname"
   ]
  },
  {
   "cell_type": "code",
   "execution_count": 9,
   "metadata": {},
   "outputs": [],
   "source": [
    "img = Image.open(os.path.join(data_path, fname))\n",
    "anns = co.loadAnns(idxs)"
   ]
  },
  {
   "cell_type": "code",
   "execution_count": 10,
   "metadata": {},
   "outputs": [
    {
     "output_type": "error",
     "ename": "NameError",
     "evalue": "name 'cv2' is not defined",
     "traceback": [
      "\u001b[0;31m---------------------------------------------------------------------------\u001b[0m",
      "\u001b[0;31mNameError\u001b[0m                                 Traceback (most recent call last)",
      "\u001b[0;32m<ipython-input-10-54c193eac055>\u001b[0m in \u001b[0;36m<module>\u001b[0;34m\u001b[0m\n\u001b[1;32m      2\u001b[0m \u001b[0;32mfor\u001b[0m \u001b[0mann\u001b[0m \u001b[0;32min\u001b[0m \u001b[0manns\u001b[0m\u001b[0;34m:\u001b[0m\u001b[0;34m\u001b[0m\u001b[0;34m\u001b[0m\u001b[0m\n\u001b[1;32m      3\u001b[0m     \u001b[0mx1\u001b[0m\u001b[0;34m,\u001b[0m \u001b[0my1\u001b[0m\u001b[0;34m,\u001b[0m \u001b[0mw\u001b[0m\u001b[0;34m,\u001b[0m \u001b[0mh\u001b[0m \u001b[0;34m=\u001b[0m \u001b[0mann\u001b[0m\u001b[0;34m[\u001b[0m\u001b[0;34m'bbox'\u001b[0m\u001b[0;34m]\u001b[0m\u001b[0;34m\u001b[0m\u001b[0;34m\u001b[0m\u001b[0m\n\u001b[0;32m----> 4\u001b[0;31m     \u001b[0mcv2\u001b[0m\u001b[0;34m.\u001b[0m\u001b[0mrectangle\u001b[0m\u001b[0;34m(\u001b[0m\u001b[0mnp_img\u001b[0m\u001b[0;34m,\u001b[0m \u001b[0;34m(\u001b[0m\u001b[0mint\u001b[0m\u001b[0;34m(\u001b[0m\u001b[0mx1\u001b[0m\u001b[0;34m)\u001b[0m\u001b[0;34m,\u001b[0m \u001b[0mint\u001b[0m\u001b[0;34m(\u001b[0m\u001b[0my1\u001b[0m\u001b[0;34m)\u001b[0m\u001b[0;34m)\u001b[0m\u001b[0;34m,\u001b[0m \u001b[0;34m(\u001b[0m\u001b[0mint\u001b[0m\u001b[0;34m(\u001b[0m\u001b[0mx1\u001b[0m\u001b[0;34m+\u001b[0m\u001b[0mw\u001b[0m\u001b[0;34m)\u001b[0m\u001b[0;34m,\u001b[0m \u001b[0mint\u001b[0m\u001b[0;34m(\u001b[0m\u001b[0my1\u001b[0m\u001b[0;34m+\u001b[0m\u001b[0mh\u001b[0m\u001b[0;34m)\u001b[0m\u001b[0;34m)\u001b[0m\u001b[0;34m,\u001b[0m \u001b[0;34m(\u001b[0m\u001b[0;36m255\u001b[0m\u001b[0;34m,\u001b[0m\u001b[0;36m255\u001b[0m\u001b[0;34m,\u001b[0m\u001b[0;36m255\u001b[0m\u001b[0;34m)\u001b[0m\u001b[0;34m,\u001b[0m \u001b[0;36m2\u001b[0m\u001b[0;34m)\u001b[0m\u001b[0;34m\u001b[0m\u001b[0;34m\u001b[0m\u001b[0m\n\u001b[0m\u001b[1;32m      5\u001b[0m \u001b[0mImage\u001b[0m\u001b[0;34m.\u001b[0m\u001b[0mfromarray\u001b[0m\u001b[0;34m(\u001b[0m\u001b[0mnp_img\u001b[0m\u001b[0;34m)\u001b[0m\u001b[0;34m\u001b[0m\u001b[0;34m\u001b[0m\u001b[0m\n",
      "\u001b[0;31mNameError\u001b[0m: name 'cv2' is not defined"
     ]
    }
   ],
   "source": [
    "np_img = np.array(img)\n",
    "for ann in anns:\n",
    "    x1, y1, w, h = ann['bbox']\n",
    "    cv2.rectangle(np_img, (int(x1), int(y1)), (int(x1+w), int(y1+h)), (255,255,255), 2)\n",
    "Image.fromarray(np_img)"
   ]
  },
  {
   "cell_type": "code",
   "execution_count": 15,
   "metadata": {},
   "outputs": [
    {
     "output_type": "execute_result",
     "data": {
      "text/plain": "[{'area': 12060,\n  'bbox': [324, 196, 67, 180],\n  'category_id': 1,\n  'pid': '7427',\n  'id': 759,\n  'image_id': 151,\n  'iscrowd': 0,\n  'segmentation': []},\n {'area': 13896,\n  'bbox': [226, 169, 72, 193],\n  'category_id': 1,\n  'pid': '7428',\n  'id': 760,\n  'image_id': 151,\n  'iscrowd': 0,\n  'segmentation': []},\n {'area': 18778,\n  'bbox': [281, 143, 82, 229],\n  'category_id': 1,\n  'pid': '7429',\n  'id': 761,\n  'image_id': 151,\n  'iscrowd': 0,\n  'segmentation': []},\n {'area': 15524,\n  'bbox': [522, 209, 75, 206],\n  'category_id': 1,\n  'pid': '7430',\n  'id': 762,\n  'image_id': 151,\n  'iscrowd': 0,\n  'segmentation': []},\n {'area': 7280,\n  'bbox': [386, 229, 52, 140],\n  'category_id': 1,\n  'pid': '-1',\n  'id': 763,\n  'image_id': 151,\n  'iscrowd': 0,\n  'segmentation': []},\n {'area': 20169,\n  'bbox': [469, 171, 81, 249],\n  'category_id': 1,\n  'pid': '-1',\n  'id': 764,\n  'image_id': 151,\n  'iscrowd': 0,\n  'segmentation': []}]"
     },
     "metadata": {},
     "execution_count": 15
    }
   ],
   "source": [
    "anns"
   ]
  }
 ],
 "metadata": {
  "kernelspec": {
   "display_name": "Python 3",
   "language": "python",
   "name": "python3"
  },
  "language_info": {
   "codemirror_mode": {
    "name": "ipython",
    "version": 3
   },
   "file_extension": ".py",
   "mimetype": "text/x-python",
   "name": "python",
   "nbconvert_exporter": "python",
   "pygments_lexer": "ipython3",
   "version": "3.6.8-final"
  }
 },
 "nbformat": 4,
 "nbformat_minor": 2
}