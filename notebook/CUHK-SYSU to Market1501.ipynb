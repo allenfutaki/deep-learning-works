{
 "cells": [
  {
   "cell_type": "code",
   "execution_count": 1,
   "metadata": {},
   "outputs": [],
   "source": [
    "import pycocotools.coco as coco\n",
    "import json\n",
    "import os\n",
    "import os.path as osp\n",
    "from PIL import Image\n",
    "import cv2\n",
    "from tqdm import tqdm\n",
    "import numpy as np\n",
    "import shutil\n",
    "# data = np.array(data)"
   ]
  },
  {
   "cell_type": "code",
   "execution_count": 2,
   "metadata": {},
   "outputs": [],
   "source": [
    "data_path = '/media/allen/mass/DB'\n",
    "branch = 'cuhksysu'\n",
    "src = osp.join(data_path, branch)\n",
    "dst = osp.join(data_path, 'psearch')\n",
    "train_dst = osp.join(dst, 'bounding_box_train')\n",
    "val_dst = osp.join(dst, 'bounding_box_test')\n",
    "query_dst = osp.join(dst, 'query')\n",
    "if not osp.exists(dst):\n",
    "    os.mkdir(dst)\n",
    "if not osp.exists(train_dst):\n",
    "    os.mkdir(train_dst)\n",
    "if not osp.exists(val_dst):\n",
    "    os.mkdir(val_dst)\n",
    "if not osp.exists(query_dst):\n",
    "    os.mkdir(query_dst)"
   ]
  },
  {
   "cell_type": "code",
   "execution_count": 5,
   "metadata": {},
   "outputs": [
    {
     "output_type": "stream",
     "name": "stdout",
     "text": "loading annotations into memory...\nDone (t=0.59s)\ncreating index...\nindex created!\n"
    }
   ],
   "source": [
    "co = coco.COCO(osp.join(src, 'instances_train2017.json'))"
   ]
  },
  {
   "cell_type": "code",
   "execution_count": 6,
   "metadata": {},
   "outputs": [],
   "source": [
    "image_ids = co.getImgIds()\n",
    "img_id = image_ids[150]\n",
    "idxs = co.getAnnIds(imgIds=[img_id])\n",
    "fname = co.loadImgs(ids=[img_id])[0]['file_name']"
   ]
  },
  {
   "cell_type": "code",
   "execution_count": 7,
   "metadata": {},
   "outputs": [
    {
     "output_type": "execute_result",
     "data": {
      "text/plain": "'CUHK-SYSU/train2017/s9870.jpg'"
     },
     "metadata": {},
     "execution_count": 7
    }
   ],
   "source": [
    "for img_id in image_ids:\n",
    "    idxs = co.getAnnIds(imgIds=[img_id])\n",
    "    fname = co.loadImgs(ids=[img_id])[0]['file_name']\n",
    "    img = cv2.imread(os.path.join(data_path, fname))\n",
    "    anns = co.loadAnns(idxs)\n",
    "    for ann in anns:\n",
    "        id = ann['id']\n",
    "        if id < 0:\n",
    "            continue\n",
    "        x1, y1, w, h = ann['bbox']\n",
    "\n",
    "        crop = img[y1:(y1+h), x1:(x1+w), :]\n",
    "        dst_fname = f\"{id:04}_c1s1_{img_id}.jpg\"\n",
    "        cv2.imwrite(osp.join(train_dst, dst_fname), crop)"
   ]
  },
  {
   "cell_type": "code",
   "execution_count": 9,
   "metadata": {},
   "outputs": [],
   "source": [
    "img = Image.open(os.path.join(data_path, fname))\n",
    "anns = co.loadAnns(idxs)"
   ]
  },
  {
   "cell_type": "code",
   "execution_count": 10,
   "metadata": {},
   "outputs": [
    {
     "output_type": "error",
     "ename": "NameError",
     "evalue": "name 'cv2' is not defined",
     "traceback": [
      "\u001b[0;31m---------------------------------------------------------------------------\u001b[0m",
      "\u001b[0;31mNameError\u001b[0m                                 Traceback (most recent call last)",
      "\u001b[0;32m<ipython-input-10-54c193eac055>\u001b[0m in \u001b[0;36m<module>\u001b[0;34m\u001b[0m\n\u001b[1;32m      2\u001b[0m \u001b[0;32mfor\u001b[0m \u001b[0mann\u001b[0m \u001b[0;32min\u001b[0m \u001b[0manns\u001b[0m\u001b[0;34m:\u001b[0m\u001b[0;34m\u001b[0m\u001b[0;34m\u001b[0m\u001b[0m\n\u001b[1;32m      3\u001b[0m     \u001b[0mx1\u001b[0m\u001b[0;34m,\u001b[0m \u001b[0my1\u001b[0m\u001b[0;34m,\u001b[0m \u001b[0mw\u001b[0m\u001b[0;34m,\u001b[0m \u001b[0mh\u001b[0m \u001b[0;34m=\u001b[0m \u001b[0mann\u001b[0m\u001b[0;34m[\u001b[0m\u001b[0;34m'bbox'\u001b[0m\u001b[0;34m]\u001b[0m\u001b[0;34m\u001b[0m\u001b[0;34m\u001b[0m\u001b[0m\n\u001b[0;32m----> 4\u001b[0;31m     \u001b[0mcv2\u001b[0m\u001b[0;34m.\u001b[0m\u001b[0mrectangle\u001b[0m\u001b[0;34m(\u001b[0m\u001b[0mnp_img\u001b[0m\u001b[0;34m,\u001b[0m \u001b[0;34m(\u001b[0m\u001b[0mint\u001b[0m\u001b[0;34m(\u001b[0m\u001b[0mx1\u001b[0m\u001b[0;34m)\u001b[0m\u001b[0;34m,\u001b[0m \u001b[0mint\u001b[0m\u001b[0;34m(\u001b[0m\u001b[0my1\u001b[0m\u001b[0;34m)\u001b[0m\u001b[0;34m)\u001b[0m\u001b[0;34m,\u001b[0m \u001b[0;34m(\u001b[0m\u001b[0mint\u001b[0m\u001b[0;34m(\u001b[0m\u001b[0mx1\u001b[0m\u001b[0;34m+\u001b[0m\u001b[0mw\u001b[0m\u001b[0;34m)\u001b[0m\u001b[0;34m,\u001b[0m \u001b[0mint\u001b[0m\u001b[0;34m(\u001b[0m\u001b[0my1\u001b[0m\u001b[0;34m+\u001b[0m\u001b[0mh\u001b[0m\u001b[0;34m)\u001b[0m\u001b[0;34m)\u001b[0m\u001b[0;34m,\u001b[0m \u001b[0;34m(\u001b[0m\u001b[0;36m255\u001b[0m\u001b[0;34m,\u001b[0m\u001b[0;36m255\u001b[0m\u001b[0;34m,\u001b[0m\u001b[0;36m255\u001b[0m\u001b[0;34m)\u001b[0m\u001b[0;34m,\u001b[0m \u001b[0;36m2\u001b[0m\u001b[0;34m)\u001b[0m\u001b[0;34m\u001b[0m\u001b[0;34m\u001b[0m\u001b[0m\n\u001b[0m\u001b[1;32m      5\u001b[0m \u001b[0mImage\u001b[0m\u001b[0;34m.\u001b[0m\u001b[0mfromarray\u001b[0m\u001b[0;34m(\u001b[0m\u001b[0mnp_img\u001b[0m\u001b[0;34m)\u001b[0m\u001b[0;34m\u001b[0m\u001b[0;34m\u001b[0m\u001b[0m\n",
      "\u001b[0;31mNameError\u001b[0m: name 'cv2' is not defined"
     ]
    }
   ],
   "source": [
    "np_img = np.array(img)\n",
    "for ann in anns:\n",
    "    x1, y1, w, h = ann['bbox']\n",
    "    cv2.rectangle(np_img, (int(x1), int(y1)), (int(x1+w), int(y1+h)), (255,255,255), 2)\n",
    "Image.fromarray(np_img)"
   ]
  },
  {
   "cell_type": "code",
   "execution_count": 15,
   "metadata": {},
   "outputs": [
    {
     "output_type": "execute_result",
     "data": {
      "text/plain": "[{'area': 12060,\n  'bbox': [324, 196, 67, 180],\n  'category_id': 1,\n  'pid': '7427',\n  'id': 759,\n  'image_id': 151,\n  'iscrowd': 0,\n  'segmentation': []},\n {'area': 13896,\n  'bbox': [226, 169, 72, 193],\n  'category_id': 1,\n  'pid': '7428',\n  'id': 760,\n  'image_id': 151,\n  'iscrowd': 0,\n  'segmentation': []},\n {'area': 18778,\n  'bbox': [281, 143, 82, 229],\n  'category_id': 1,\n  'pid': '7429',\n  'id': 761,\n  'image_id': 151,\n  'iscrowd': 0,\n  'segmentation': []},\n {'area': 15524,\n  'bbox': [522, 209, 75, 206],\n  'category_id': 1,\n  'pid': '7430',\n  'id': 762,\n  'image_id': 151,\n  'iscrowd': 0,\n  'segmentation': []},\n {'area': 7280,\n  'bbox': [386, 229, 52, 140],\n  'category_id': 1,\n  'pid': '-1',\n  'id': 763,\n  'image_id': 151,\n  'iscrowd': 0,\n  'segmentation': []},\n {'area': 20169,\n  'bbox': [469, 171, 81, 249],\n  'category_id': 1,\n  'pid': '-1',\n  'id': 764,\n  'image_id': 151,\n  'iscrowd': 0,\n  'segmentation': []}]"
     },
     "metadata": {},
     "execution_count": 15
    }
   ],
   "source": [
    "anns"
   ]
  }
 ],
 "metadata": {
  "kernelspec": {
   "display_name": "Python 3",
   "language": "python",
   "name": "python3"
  },
  "language_info": {
   "codemirror_mode": {
    "name": "ipython",
    "version": 3
   },
   "file_extension": ".py",
   "mimetype": "text/x-python",
   "name": "python",
   "nbconvert_exporter": "python",
   "pygments_lexer": "ipython3",
   "version": "3.6.8-final"
  }
 },
 "nbformat": 4,
 "nbformat_minor": 2
}