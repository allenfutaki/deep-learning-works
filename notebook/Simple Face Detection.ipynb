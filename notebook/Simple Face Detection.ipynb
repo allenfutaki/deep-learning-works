{
 "cells": [
  {
   "cell_type": "code",
   "execution_count": 1,
   "metadata": {},
   "outputs": [
    {
     "name": "stdout",
     "output_type": "stream",
     "text": [
      "Collecting dlib\n",
      "\u001b[?25l  Downloading https://files.pythonhosted.org/packages/1e/62/aacb236d21fbd08148b1d517d58a9d80ea31bdcd386d26f21f8b23b1eb28/dlib-19.18.0.tar.gz (3.1MB)\n",
      "\u001b[K    100% |████████████████████████████████| 3.1MB 2.6MB/s ta 0:00:011\n",
      "\u001b[?25hBuilding wheels for collected packages: dlib\n",
      "  Running setup.py bdist_wheel for dlib ... \u001b[?25ldone\n",
      "\u001b[?25h  Stored in directory: /home/allen/.cache/pip/wheels/ab/e9/6b/5206171e6a24d8cb6653936ccfd656b7d6f6c631c1b5f93970\n",
      "Successfully built dlib\n",
      "Installing collected packages: dlib\n",
      "Successfully installed dlib-19.18.0\n",
      "\u001b[33mYou are using pip version 18.1, however version 19.3.1 is available.\n",
      "You should consider upgrading via the 'pip install --upgrade pip' command.\u001b[0m\n"
     ]
    }
   ],
   "source": [
    "!pip install dlib"
   ]
  },
  {
   "cell_type": "code",
   "execution_count": 26,
   "metadata": {},
   "outputs": [],
   "source": [
    "import dlib\n",
    "import cv2\n",
    "from PIL import Image \n",
    "def to_pil(cv_img):\n",
    "    img = cv2.cvtColor(cv_img, cv2.COLOR_BGR2RGB)\n",
    "    return Image.fromarray(img)\n",
    "\n",
    "detector = dlib.get_frontal_face_detector()"
   ]
  },
  {
   "cell_type": "code",
   "execution_count": 31,
   "metadata": {},
   "outputs": [],
   "source": [
    "def get_bbox(img):\n",
    "    img = cv2.cvtColor(img, cv2.COLOR_BGR2RGB)\n",
    "    dets = detector(img, 1)\n",
    "    bboxes = []\n",
    "    for i in range(len(dets)):\n",
    "        tl = dets[i].tl_corner()\n",
    "        br = dets[i].br_corner()\n",
    "        x1, y1 = tl.x, tl.y\n",
    "        x2, y2 = br.x, br.y\n",
    "        bboxes.append((x1, y1, x2, y2))\n",
    "    return bboxes"
   ]
  },
  {
   "cell_type": "code",
   "execution_count": 32,
   "metadata": {},
   "outputs": [],
   "source": [
    "img = cv2.imread('/home/allen/two_people.jpg')\n",
    "bboxes = get_bbox(img)"
   ]
  },
  {
   "cell_type": "code",
   "execution_count": 33,
   "metadata": {},
   "outputs": [],
   "source": [
    "for box in bboxes:\n",
    "    x1, y1, x2, y2 = box\n",
    "    img = cv2.rectangle(img, (x1, y1), (x2, y2), (255,255,255), 2)"
   ]
  },
  {
   "cell_type": "code",
   "execution_count": 3,
   "metadata": {
    "scrolled": true
   },
   "outputs": [
    {
     "name": "stdout",
     "output_type": "stream",
     "text": [
      "Collecting psutil\n",
      "\u001b[?25l  Downloading https://files.pythonhosted.org/packages/73/93/4f8213fbe66fc20cb904f35e6e04e20b47b85bee39845cc66a0bcf5ccdcb/psutil-5.6.7.tar.gz (448kB)\n",
      "\u001b[K    100% |████████████████████████████████| 450kB 3.5MB/s ta 0:00:011\n",
      "\u001b[?25hBuilding wheels for collected packages: psutil\n",
      "  Running setup.py bdist_wheel for psutil ... \u001b[?25ldone\n",
      "\u001b[?25h  Stored in directory: /home/allen/.cache/pip/wheels/52/41/b0/bf50409fe2b1d3b79afa3eed71b54b3e30fe5b695db2c7ba2e\n",
      "Successfully built psutil\n",
      "Installing collected packages: psutil\n",
      "Successfully installed psutil-5.6.7\n",
      "\u001b[33mYou are using pip version 18.1, however version 19.3.1 is available.\n",
      "You should consider upgrading via the 'pip install --upgrade pip' command.\u001b[0m\n",
      "Note: you may need to restart the kernel to use updated packages.\n"
     ]
    }
   ],
   "source": [
    "pip install psutil"
   ]
  },
  {
   "cell_type": "code",
   "execution_count": null,
   "metadata": {},
   "outputs": [],
   "source": [
    "import ray\n",
    "import cv2\n",
    "import time\n",
    "\n",
    "# Start Ray.\n",
    "ray.init()\n",
    "\n",
    "@ray.remote\n",
    "def f(x):\n",
    "    time.sleep(1)\n",
    "    return x"
   ]
  },
  {
   "cell_type": "code",
   "execution_count": null,
   "metadata": {},
   "outputs": [],
   "source": [
    "def detection(img):\n",
    "    h, w = img.shape[:2]\n",
    "    gray = cv2.cvtColor(img, cv2.COLOR_BGR2GRAY)\n",
    "    det_start = time.time()\n",
    "    faces = face_cascade.detectMultiScale(gray, 1.1, 4)\n",
    "    det_time = time.time() - det_start\n",
    "    render_start = time.time()\n",
    "    for (x, y, w, h) in faces:\n",
    "        cv2.rectangle(img, (x, y), (x+w, y+h), (255, 0, 0), 2)\n",
    "    render_time = time.time() - render_start\n",
    "    \n",
    "    cv2.putText(img, 'Size   : {}x{}'.format(w,h)              , (10,30), cv2.FONT_HERSHEY_COMPLEX, 0.6, (255,255,255), 4)\n",
    "    cv2.putText(img, 'Render : {:.2f}ms'.format(render_time*1000), (10,50), cv2.FONT_HERSHEY_COMPLEX, 0.6, (255,255,255), 4)\n",
    "    cv2.putText(img, 'Det    : {:.2f}ms'.format(det_time*1000)   , (10,70), cv2.FONT_HERSHEY_COMPLEX, 0.6, (255,255,255), 4)\n",
    "    cv2.putText(img, 'Size   : {}x{}'.format(w,h)              , (10,30), cv2.FONT_HERSHEY_COMPLEX, 0.6, (0,0,0), 2)\n",
    "    cv2.putText(img, 'Render : {:.2f}ms'.format(render_time*1000), (10,50), cv2.FONT_HERSHEY_COMPLEX, 0.6, (0,0,0), 2)\n",
    "    cv2.putText(img, 'Det    : {:.2f}ms'.format(det_time*1000)   , (10,70), cv2.FONT_HERSHEY_COMPLEX, 0.6, (0,0,0), 2)\n",
    "    \n",
    "    return img"
   ]
  },
  {
   "cell_type": "code",
   "execution_count": null,
   "metadata": {},
   "outputs": [],
   "source": [
    "import ray\n",
    "import cv2\n",
    "import time\n",
    "\n",
    "# Start Ray.\n",
    "ray.init()\n",
    "\n",
    "@ray.remote\n",
    "def detection(img):\n",
    "    h, w = img.shape[:2]\n",
    "    gray = cv2.cvtColor(img, cv2.COLOR_BGR2GRAY)\n",
    "    det_start = time.time()\n",
    "    faces = face_cascade.detectMultiScale(gray, 1.1, 4)\n",
    "    det_time = time.time() - det_start\n",
    "    render_start = time.time()\n",
    "    for (x, y, w, h) in faces:\n",
    "        cv2.rectangle(img, (x, y), (x+w, y+h), (255, 0, 0), 2)\n",
    "    render_time = time.time() - render_start\n",
    "    \n",
    "    cv2.putText(img, 'Size   : {}x{}'.format(w,h)              , (10,30), cv2.FONT_HERSHEY_COMPLEX, 0.6, (255,255,255), 4)\n",
    "    cv2.putText(img, 'Render : {:.2f}ms'.format(render_time*1000), (10,50), cv2.FONT_HERSHEY_COMPLEX, 0.6, (255,255,255), 4)\n",
    "    cv2.putText(img, 'Det    : {:.2f}ms'.format(det_time*1000)   , (10,70), cv2.FONT_HERSHEY_COMPLEX, 0.6, (255,255,255), 4)\n",
    "    cv2.putText(img, 'Size   : {}x{}'.format(w,h)              , (10,30), cv2.FONT_HERSHEY_COMPLEX, 0.6, (0,0,0), 2)\n",
    "    cv2.putText(img, 'Render : {:.2f}ms'.format(render_time*1000), (10,50), cv2.FONT_HERSHEY_COMPLEX, 0.6, (0,0,0), 2)\n",
    "    cv2.putText(img, 'Det    : {:.2f}ms'.format(det_time*1000)   , (10,70), cv2.FONT_HERSHEY_COMPLEX, 0.6, (0,0,0), 2)\n",
    "    \n",
    "    return img\n",
    "\n",
    "# Load the cascade\n",
    "face_cascade = cv2.CascadeClassifier('haarcascade_frontalface_default.xml')\n",
    "\n",
    "# To capture video from webcam. \n",
    "cap = cv2.VideoCapture(0)\n",
    "# To use a video file as input \n",
    "# cap = cv2.VideoCapture('filename.mp4')\n",
    "\n",
    "while True:\n",
    "    # Read the frame\n",
    "    _, img = cap.read()\n",
    "    \n",
    "    r_img = None\n",
    "    \n",
    "    render_img = detection.remote(img)\n",
    "    \n",
    "    r_img = ray.get(render_img)\n",
    "    \n",
    "    # Display\n",
    "    if r_img is not None:\n",
    "        cv2.imshow('img', r_img)\n",
    "    else:\n",
    "        cv2.imshow('img', img)\n",
    "\n",
    "    # Stop if escape key is pressed\n",
    "    k = cv2.waitKey(30) & 0xff\n",
    "    if k==27:\n",
    "        break\n",
    "        \n",
    "# Release the VideoCapture object\n",
    "cap.release()"
   ]
  }
 ],
 "metadata": {
  "kernelspec": {
   "display_name": "Python 3",
   "language": "python",
   "name": "python3"
  },
  "language_info": {
   "codemirror_mode": {
    "name": "ipython",
    "version": 3
   },
   "file_extension": ".py",
   "mimetype": "text/x-python",
   "name": "python",
   "nbconvert_exporter": "python",
   "pygments_lexer": "ipython3",
   "version": "3.6.8"
  }
 },
 "nbformat": 4,
 "nbformat_minor": 2
}
