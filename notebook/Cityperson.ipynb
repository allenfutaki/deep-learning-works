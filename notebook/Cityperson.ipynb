{
 "cells": [
  {
   "cell_type": "code",
   "execution_count": 27,
   "metadata": {},
   "outputs": [],
   "source": [
    "import numpy as np\n",
    "import scipy.io\n",
    "mat = scipy.io.loadmat(\"/media/allen/mass/shanshanzhang-citypersons-dec0e5b2f30a/annotations/anno_val.mat\")\n",
    "# data = np.array(data)"
   ]
  },
  {
   "cell_type": "code",
   "execution_count": 83,
   "metadata": {},
   "outputs": [
    {
     "name": "stderr",
     "output_type": "stream",
     "text": [
      "/home/allen/.pyenv/versions/3.6.8/envs/py368/lib/python3.6/site-packages/ipykernel_launcher.py:37: RuntimeWarning: overflow encountered in ushort_scalars\n",
      "/home/allen/.pyenv/versions/3.6.8/envs/py368/lib/python3.6/site-packages/ipykernel_launcher.py:37: RuntimeWarning: overflow encountered in short_scalars\n"
     ]
    }
   ],
   "source": [
    "dataset = {\n",
    "    \"info\": {},\n",
    "    \"licenses\": [],\n",
    "    \"images\": [],\n",
    "    \"annotations\": [],\n",
    "    \"categories\": []\n",
    "}\n",
    "dataset['categories'].append({\n",
    "    'id': 1,\n",
    "    'name': \"person\",\n",
    "    'supercategory': \"people\",\n",
    "    'keypoints': [],\n",
    "    'skeleton': []\n",
    "})\n",
    "\n",
    "# city_name; im_name; bbs\n",
    "sub_index = 0\n",
    "for idx, anns in enumerate(mat['anno_val_aligned'][0]):\n",
    "    city, im_name, bbs = anns[0][0]\n",
    "      \n",
    "    dataset['images'].append({\n",
    "        'coco_url': '',\n",
    "        'date_captured': '',\n",
    "        'file_name': str(city) + \"/\" + str(im_name[0]),\n",
    "        'flickr_url': '',\n",
    "        'id': idx,\n",
    "        'license': 0,\n",
    "        'width': 2048,\n",
    "        'height': 1024\n",
    "    })\n",
    "    for bb in bbs:\n",
    "        sub_index = sub_index + 1\n",
    "        class_label, x1, y1, w, h, instance_id, x1_vis, y1_vis, w_vis, h_vis = bb \n",
    "        if class_label == 0:\n",
    "            continue\n",
    "        dataset['annotations'].append({\n",
    "            'area': int(w*h),\n",
    "            'bbox': [int(x1),int(y1),int(w),int(h)],\n",
    "            'category_id': 1,\n",
    "            'id': sub_index,\n",
    "            'image_id': idx,\n",
    "            'iscrowd': 0,\n",
    "            'segmentation': [],\n",
    "        })"
   ]
  },
  {
   "cell_type": "code",
   "execution_count": 79,
   "metadata": {},
   "outputs": [
    {
     "data": {
      "text/plain": [
       "numpy.uint16"
      ]
     },
     "execution_count": 79,
     "metadata": {},
     "output_type": "execute_result"
    }
   ],
   "source": [
    "type(x1)"
   ]
  },
  {
   "cell_type": "code",
   "execution_count": 51,
   "metadata": {},
   "outputs": [],
   "source": [
    "import pycocotools.coco as coco\n",
    "import json"
   ]
  },
  {
   "cell_type": "code",
   "execution_count": 84,
   "metadata": {},
   "outputs": [],
   "source": [
    "with open('/media/allen/mass/DB/cityperson/original/instances_val2017.json', 'w') as f:\n",
    "    json.dump(dataset, f)"
   ]
  },
  {
   "cell_type": "code",
   "execution_count": 85,
   "metadata": {},
   "outputs": [
    {
     "name": "stdout",
     "output_type": "stream",
     "text": [
      "loading annotations into memory...\n",
      "Done (t=0.02s)\n",
      "creating index...\n",
      "index created!\n"
     ]
    }
   ],
   "source": [
    "co = coco.COCO('/media/allen/mass/DB/cityperson/original/instances_val2017.json')"
   ]
  },
  {
   "cell_type": "code",
   "execution_count": 89,
   "metadata": {},
   "outputs": [],
   "source": [
    "image_ids = co.getImgIds()\n",
    "img_id = image_ids[0]\n",
    "idxs = co.getAnnIds(imgIds=[img_id])\n",
    "fname = co.loadImgs(ids=[img_id])[0]['file_name']"
   ]
  },
  {
   "cell_type": "code",
   "execution_count": 90,
   "metadata": {},
   "outputs": [
    {
     "data": {
      "text/plain": [
       "[1, 2, 3, 4]"
      ]
     },
     "execution_count": 90,
     "metadata": {},
     "output_type": "execute_result"
    }
   ],
   "source": [
    "idxs"
   ]
  }
 ],
 "metadata": {
  "kernelspec": {
   "display_name": "Python 3",
   "language": "python",
   "name": "python3"
  },
  "language_info": {
   "codemirror_mode": {
    "name": "ipython",
    "version": 3
   },
   "file_extension": ".py",
   "mimetype": "text/x-python",
   "name": "python",
   "nbconvert_exporter": "python",
   "pygments_lexer": "ipython3",
   "version": "3.6.8"
  }
 },
 "nbformat": 4,
 "nbformat_minor": 2
}
