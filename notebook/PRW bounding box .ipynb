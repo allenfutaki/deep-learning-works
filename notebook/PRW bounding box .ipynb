{
 "cells": [
  {
   "cell_type": "markdown",
   "metadata": {},
   "source": [
    "# Access PRW bounding box\n",
    "src is images folders where is grouped by camera, e.g c1s1, c2s1, etc.\n",
    "Read bbox.txt file"
   ]
  },
  {
   "cell_type": "markdown",
   "metadata": {},
   "source": [
    "-src <br>\n",
    "----c1s1 <br>\n",
    "----c2s1 <br>\n",
    ".\n",
    ".\n",
    "."
   ]
  },
  {
   "cell_type": "code",
   "execution_count": null,
   "metadata": {},
   "outputs": [],
   "source": [
    "import os\n",
    "import re\n",
    "import pandas as pd\n",
    "import numpy as np\n",
    "import os.path as osp\n",
    "import shutil\n",
    "pattern = re.compile(r\"c(\\d)s\\d/bbox\")\n",
    "src = \"/media/allen/mass/PRW_ReID/ClassSeries(person_id)/\"\n",
    "img_paths = [os.path.join(root, f) for root, _, files in os.walk(src) for f in files if \".txt\" in f]"
   ]
  },
  {
   "cell_type": "markdown",
   "metadata": {},
   "source": [
    "# Read bbox by pandas\n",
    "Each line in bbox.txt is formated as"
   ]
  },
  {
   "cell_type": "markdown",
   "metadata": {},
   "source": [
    "1. image file name\n",
    "2. id\n",
    "3. top left\n",
    "4. left top\n",
    "5. bottom right\n",
    "6. right bottom "
   ]
  },
  {
   "cell_type": "code",
   "execution_count": null,
   "metadata": {},
   "outputs": [],
   "source": [
    "reid_info = {}\n",
    "for path in img_paths:\n",
    "    cam = \"cam\" + pattern.search(path).groups()[0]\n",
    "    data = pd.read_csv(path, header=None, dtype={0:str, 1:str, 2:int, 3:int, 4:int, 5:int})\n",
    "    for row in data.index:\n",
    "        img, pid, x1, y1, x2, y2 = data.loc[row]\n",
    "        if pid == '-2':\n",
    "            continue\n",
    "        if pid not in reid_info:\n",
    "            reid_info[pid] = {}\n",
    "            reid_info[pid][cam] = [[\"{}/image/{}.jpg\".format(path.split(\"/bbox.txt\")[0],img), [x1,y1,x2,y2]]]\n",
    "        else:\n",
    "            if cam not in reid_info[pid]:\n",
    "                reid_info[pid][cam] = [[\"{}/image/{}.jpg\".format(path.split(\"/bbox.txt\")[0],img), [x1,y1,x2,y2]]]\n",
    "            else:\n",
    "                reid_info[pid][cam].append([\"{}/image/{}.jpg\".format(path.split(\"/bbox.txt\")[0],img), [x1,y1,x2,y2]])"
   ]
  },
  {
   "cell_type": "markdown",
   "metadata": {},
   "source": [
    "# Extract identity by camera\n",
    "Making folder with identity then grouped by camera id as follow:"
   ]
  },
  {
   "cell_type": "markdown",
   "metadata": {},
   "source": [
    "-$IDENTITY <br>\n",
    "----cam1 <br>\n",
    "&emsp;|\n",
    "------images <br>\n",
    "----cam2 <br>\n",
    "&emsp;|\n",
    "------images <br>\n",
    "----cam3 <br>\n",
    "&emsp;|\n",
    "------images <br>\n",
    ".\n",
    ".\n",
    "."
   ]
  },
  {
   "cell_type": "code",
   "execution_count": null,
   "metadata": {},
   "outputs": [],
   "source": [
    "target = np.random.choice(list(reid_info.keys()), size=10, replace=False)\n",
    "for person in target:\n",
    "    person_dst = osp.join(\"/media/allen/mass/PRW_ReID/reid_target\", person)\n",
    "    if not os.path.exists(person_dst):\n",
    "        os.mkdir(person_dst)\n",
    "    for cam in reid_info[person].keys():\n",
    "        cam_dst = osp.join(person_dst, cam)\n",
    "        if not os.path.exists(cam_dst):\n",
    "            os.mkdir(cam_dst)\n",
    "        for img_path, bbox in reid_info[person][cam]:\n",
    "            shutil.copy(img_path, osp.join(cam_dst, img_path.split(\"/\")[-1]))"
   ]
  }
 ],
 "metadata": {
  "kernelspec": {
   "display_name": "Python 3",
   "language": "python",
   "name": "python3"
  },
  "language_info": {
   "codemirror_mode": {
    "name": "ipython",
    "version": 3
   },
   "file_extension": ".py",
   "mimetype": "text/x-python",
   "name": "python",
   "nbconvert_exporter": "python",
   "pygments_lexer": "ipython3",
   "version": "3.6.8"
  }
 },
 "nbformat": 4,
 "nbformat_minor": 2
}
