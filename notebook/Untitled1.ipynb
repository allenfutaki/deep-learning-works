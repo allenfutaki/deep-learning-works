{
 "cells": [
  {
   "cell_type": "code",
   "execution_count": 29,
   "metadata": {},
   "outputs": [],
   "source": [
    "import multiprocessing as mp\n",
    "import datetime\n",
    "import time\n",
    "import sys\n",
    "\n",
    "def worker():\n",
    "    name = mp.current_process().name\n",
    "    print(name, \"start\", datetime.datetime.now().strftime(\"%Y-%m-%d_%H-%M-%S\"))\n",
    "    time.sleep(2)\n",
    "    print(name, \"exit\", datetime.datetime.now().strftime(\"%Y-%m-%d_%H-%M-%S\"))\n",
    "\n",
    "def boss():\n",
    "    name = mp.current_process().name\n",
    "    print(name, \"start\", datetime.datetime.now().strftime(\"%Y-%m-%d_%H-%M-%S\"))\n",
    "    time.sleep(2)\n",
    "    print(name, \"exit\", datetime.datetime.now().strftime(\"%Y-%m-%d_%H-%M-%S\"))\n",
    "\n",
    "def daemon():\n",
    "    p = mp.current_process()\n",
    "    print('Starting:', p.name, p.pid)\n",
    "    sys.stdout.flush()\n",
    "    time.sleep(2)\n",
    "    print('Exiting:', p.name, p.pid)\n",
    "    sys.stdout.flush()    \n",
    "    \n",
    "def non_daemon():\n",
    "    p = mp.current_process()\n",
    "    print('Starting:', p.name, p.pid)\n",
    "    sys.stdout.flush()\n",
    "    print('Exiting:', p.name, p.pid)\n",
    "    sys.stdout.flush() "
   ]
  },
  {
   "cell_type": "code",
   "execution_count": 23,
   "metadata": {},
   "outputs": [
    {
     "name": "stdout",
     "output_type": "stream",
     "text": [
      "Worker 1 start 2019-10-21_15-34-56\n",
      "Worker 2 start 2019-10-21_15-34-56\n",
      "Boss start 2019-10-21_15-34-56\n",
      "Worker 1 exit 2019-10-21_15-34-58\n",
      "Worker 2 exit 2019-10-21_15-34-58\n",
      "Boss exit 2019-10-21_15-34-58\n"
     ]
    }
   ],
   "source": [
    "if __name__ == '__main__':\n",
    "    boss_p = mp.Process(target=boss, name=\"Boss\")\n",
    "    worker_1 = mp.Process(target=worker, name=\"Worker 1\")\n",
    "    worker_2 = mp.Process(target=worker, name=\"Worker 2\")\n",
    "    worker_1.start()\n",
    "    worker_2.start()\n",
    "    boss_p.start()"
   ]
  },
  {
   "cell_type": "code",
   "execution_count": 30,
   "metadata": {},
   "outputs": [
    {
     "name": "stdout",
     "output_type": "stream",
     "text": [
      "Starting: daemon 7438\n",
      "Starting: non-daemon 7441\n",
      "Exiting: non-daemon 7441\n",
      "Exiting: daemon 7438\n"
     ]
    }
   ],
   "source": [
    "if __name__ == '__main__':\n",
    "    d = mp.Process(target=daemon, name=\"daemon\")\n",
    "    d.daemon = True\n",
    "    n = mp.Process(target=non_daemon, name=\"non-daemon\")\n",
    "    n.daemon = False\n",
    "    \n",
    "    d.start()\n",
    "    time.sleep(1)\n",
    "    n.start()"
   ]
  },
  {
   "cell_type": "code",
   "execution_count": 16,
   "metadata": {},
   "outputs": [
    {
     "ename": "TypeError",
     "evalue": "Required argument 'format' (pos 1) not found",
     "output_type": "error",
     "traceback": [
      "\u001b[0;31m---------------------------------------------------------------------------\u001b[0m",
      "\u001b[0;31mTypeError\u001b[0m                                 Traceback (most recent call last)",
      "\u001b[0;32m<ipython-input-16-4fab0c423434>\u001b[0m in \u001b[0;36m<module>\u001b[0;34m\u001b[0m\n\u001b[0;32m----> 1\u001b[0;31m \u001b[0mdatetime\u001b[0m\u001b[0;34m.\u001b[0m\u001b[0mdatetime\u001b[0m\u001b[0;34m.\u001b[0m\u001b[0mnow\u001b[0m\u001b[0;34m(\u001b[0m\u001b[0;34m)\u001b[0m\u001b[0;34m.\u001b[0m\u001b[0mstrftime\u001b[0m\u001b[0;34m(\u001b[0m\u001b[0;34m)\u001b[0m\u001b[0;34m\u001b[0m\u001b[0;34m\u001b[0m\u001b[0m\n\u001b[0m",
      "\u001b[0;31mTypeError\u001b[0m: Required argument 'format' (pos 1) not found"
     ]
    }
   ],
   "source": []
  }
 ],
 "metadata": {
  "kernelspec": {
   "display_name": "Python 3",
   "language": "python",
   "name": "python3"
  },
  "language_info": {
   "codemirror_mode": {
    "name": "ipython",
    "version": 3
   },
   "file_extension": ".py",
   "mimetype": "text/x-python",
   "name": "python",
   "nbconvert_exporter": "python",
   "pygments_lexer": "ipython3",
   "version": "3.6.8"
  }
 },
 "nbformat": 4,
 "nbformat_minor": 2
}
