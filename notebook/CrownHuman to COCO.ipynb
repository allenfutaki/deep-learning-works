{
 "cells": [
  {
   "cell_type": "code",
   "execution_count": 1,
   "metadata": {},
   "outputs": [],
   "source": [
    "import pycocotools.coco as coco\n",
    "import json\n",
    "import os\n",
    "import os.path as osp\n",
    "from PIL import Image\n",
    "from tqdm import tqdm\n",
    "import numpy as np\n",
    "import shutil\n",
    "import cv2\n",
    "import yaml\n",
    "\n",
    "from PIL import Image \n",
    "import time\n",
    "\n",
    "def to_pil(cv_img):\n",
    "    img = cv2.cvtColor(cv_img, cv2.COLOR_BGR2RGB)\n",
    "    return Image.fromarray(img)"
   ]
  },
  {
   "cell_type": "code",
   "execution_count": 2,
   "metadata": {},
   "outputs": [],
   "source": [
    "src = \"/media/allen/mass\"\n",
    "train_label_path = osp.join(src, \"annotation_train.odgt\")\n",
    "train_img_src = osp.join(src, \"DB/crowdhuman/train2017\")\n",
    "val_label_path = osp.join(src, \"annotation_val.odgt\")\n",
    "val_img_src = osp.join(src, \"DB/crowdhuman/val2017\")"
   ]
  },
  {
   "cell_type": "code",
   "execution_count": 3,
   "metadata": {},
   "outputs": [],
   "source": [
    "dataset = {\n",
    "    \"info\": {},\n",
    "    \"licenses\": [],\n",
    "    \"images\": [],\n",
    "    \"annotations\": [],\n",
    "    \"categories\": []\n",
    "}\n",
    "dataset['categories'].append({\n",
    "    'id': 1,\n",
    "    'name': \"person\",\n",
    "    'supercategory': \"people\",\n",
    "    'keypoints': [],\n",
    "    'skeleton': []\n",
    "})"
   ]
  },
  {
   "cell_type": "code",
   "execution_count": 5,
   "metadata": {},
   "outputs": [
    {
     "output_type": "stream",
     "name": "stderr",
     "text": "15000it [22:16, 12.74it/s]\n"
    }
   ],
   "source": [
    "sub_index = 0\n",
    "idx = 0\n",
    "with open(train_label_path, 'r') as f:\n",
    "    for line in tqdm(f):\n",
    "        anns = yaml.load(line)\n",
    "        fname = osp.join(train_img_src, f\"{anns['ID']}.jpg\")\n",
    "        img = Image.open(fname)\n",
    "        img_w, img_h = img.size\n",
    "        idx += 1\n",
    "        dataset['images'].append({\n",
    "            'coco_url': '',\n",
    "            'date_captured': '',\n",
    "            'file_name': osp.basename(fname),\n",
    "            'flickr_url': '',\n",
    "            'id': idx,\n",
    "            'license': 0,\n",
    "            'width': img_w,\n",
    "            'height': img_h\n",
    "        })\n",
    "        for bbox in anns['gtboxes']:\n",
    "            if 'extra' in bbox and 'ignore' in bbox['extra'] and bbox['extra']['ignore'] == 1:\n",
    "                continue\n",
    "            if 'extra' in bbox and 'unsure' in bbox['extra'] and bbox['extra']['unsure'] == 1:\n",
    "                continue \n",
    "            sub_index += 1\n",
    "            x, y, w, h = bbox['fbox']\n",
    "            if h/w < 1.2:\n",
    "                continue\n",
    "            dataset['annotations'].append({\n",
    "                'area': w*h,\n",
    "                'bbox': [max(x,0), max(y,0), w, h],\n",
    "                'category_id': 1,\n",
    "                'id': sub_index,\n",
    "                'image_id': idx,\n",
    "                'iscrowd': 0,\n",
    "                'segmentation': [],\n",
    "            })"
   ]
  },
  {
   "cell_type": "code",
   "execution_count": 42,
   "metadata": {},
   "outputs": [],
   "source": [
    "img = cv2.imread(osp.join(train_img_src, f\"{labels[2]['ID']}.jpg\"))\n",
    "anns = labels[2]\n",
    "for bbox in anns['gtboxes']:\n",
    "    x, y, w, h = bbox['fbox']\n",
    "    cv2.rectangle(img, (max(x, 0), max(y, 0)), (max(x+w, 0), max(y+h, 0)), (0,255,0), 2)"
   ]
  },
  {
   "cell_type": "code",
   "execution_count": 6,
   "metadata": {},
   "outputs": [],
   "source": [
    "label_path = osp.join(src, \"DB/crowdhuman/original\")\n",
    "with open(osp.join(label_path, 'instances_train2017.json'), 'w') as f:\n",
    "    json.dump(dataset, f)"
   ]
  },
  {
   "cell_type": "code",
   "execution_count": 4,
   "metadata": {},
   "outputs": [
    {
     "output_type": "stream",
     "name": "stderr",
     "text": "4370it [05:05, 14.29it/s]\n"
    }
   ],
   "source": [
    "sub_index = 0\n",
    "idx = 0\n",
    "with open(val_label_path, 'r') as f:\n",
    "    for line in tqdm(f):\n",
    "        anns = yaml.load(line)\n",
    "        fname = osp.join(val_img_src, f\"{anns['ID']}.jpg\")\n",
    "        img = Image.open(fname)\n",
    "        img_w, img_h = img.size\n",
    "        idx += 1\n",
    "        dataset['images'].append({\n",
    "            'coco_url': '',\n",
    "            'date_captured': '',\n",
    "            'file_name': osp.basename(fname),\n",
    "            'flickr_url': '',\n",
    "            'id': idx,\n",
    "            'license': 0,\n",
    "            'width': img_w,\n",
    "            'height': img_h\n",
    "        })\n",
    "        for bbox in anns['gtboxes']:\n",
    "            if 'extra' in bbox and 'ignore' in bbox['extra'] and bbox['extra']['ignore'] == 1:\n",
    "                continue\n",
    "            if 'extra' in bbox and 'unsure' in bbox['extra'] and bbox['extra']['unsure'] == 1:\n",
    "                continue \n",
    "            sub_index += 1\n",
    "            x, y, w, h = bbox['fbox']\n",
    "            if h/w < 1.2:\n",
    "                continue\n",
    "            dataset['annotations'].append({\n",
    "                'area': w*h,\n",
    "                'bbox': [max(x,0), max(y,0), w, h],\n",
    "                'category_id': 1,\n",
    "                'id': sub_index,\n",
    "                'image_id': idx,\n",
    "                'iscrowd': 0,\n",
    "                'segmentation': [],\n",
    "            })"
   ]
  },
  {
   "cell_type": "code",
   "execution_count": 5,
   "metadata": {},
   "outputs": [],
   "source": [
    "label_path = osp.join(src, \"DB/crowdhuman/original\")\n",
    "with open(osp.join(label_path, 'instances_val2017.json'), 'w') as f:\n",
    "    json.dump(dataset, f)"
   ]
  },
  {
   "cell_type": "code",
   "execution_count": 6,
   "metadata": {},
   "outputs": [
    {
     "output_type": "stream",
     "name": "stdout",
     "text": "loading annotations into memory...\nDone (t=0.65s)\ncreating index...\nindex created!\n"
    }
   ],
   "source": [
    "co = coco.COCO(osp.join(label_path, 'instances_val2017.json'))"
   ]
  },
  {
   "cell_type": "code",
   "execution_count": 10,
   "metadata": {},
   "outputs": [],
   "source": [
    "image_ids = co.getImgIds()\n",
    "img_id = image_ids[139]\n",
    "idxs = co.getAnnIds(imgIds=[img_id])\n",
    "fname = co.loadImgs(ids=[img_id])[0]['file_name']"
   ]
  },
  {
   "cell_type": "code",
   "execution_count": 11,
   "metadata": {},
   "outputs": [],
   "source": [
    "img = Image.open(os.path.join(val_img_src, fname))\n",
    "anns = co.loadAnns(idxs)"
   ]
  },
  {
   "cell_type": "code",
   "execution_count": 13,
   "metadata": {},
   "outputs": [
    {
     "output_type": "error",
     "ename": "SyntaxError",
     "evalue": "invalid syntax (<ipython-input-13-38b985e264d0>, line 5)",
     "traceback": [
      "\u001b[0;36m  File \u001b[0;32m\"<ipython-input-13-38b985e264d0>\"\u001b[0;36m, line \u001b[0;32m5\u001b[0m\n\u001b[0;31m    Image.fromarray(np_img))\u001b[0m\n\u001b[0m                           ^\u001b[0m\n\u001b[0;31mSyntaxError\u001b[0m\u001b[0;31m:\u001b[0m invalid syntax\n"
     ]
    }
   ],
   "source": [
    "np_img = np.array(img)\n",
    "for ann in anns:\n",
    "    x1, y1, w, h = ann['bbox']\n",
    "    cv2.rectangle(np_img, (int(x1), int(y1)), (int(x1+w), int(y1+h)), (255,255,255), 2)\n",
    "Image.fromarray(np_img))"
   ]
  },
  {
   "cell_type": "code",
   "execution_count": null,
   "metadata": {},
   "outputs": [],
   "source": []
  }
 ],
 "metadata": {
  "language_info": {
   "codemirror_mode": {
    "name": "ipython",
    "version": 3
   },
   "file_extension": ".py",
   "mimetype": "text/x-python",
   "name": "python",
   "nbconvert_exporter": "python",
   "pygments_lexer": "ipython3",
   "version": "3.6.8-final"
  },
  "orig_nbformat": 2,
  "kernelspec": {
   "name": "python36864bitpy368venv9eae5ffd70f44f51af3a8f637c7407e2",
   "display_name": "Python 3.6.8 64-bit ('py368': venv)"
  }
 },
 "nbformat": 4,
 "nbformat_minor": 2
}